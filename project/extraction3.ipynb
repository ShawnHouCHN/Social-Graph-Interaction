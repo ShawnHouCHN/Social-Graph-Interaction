{
 "cells": [
  {
   "cell_type": "markdown",
   "metadata": {},
   "source": [
    "** 02805 Social graphs and interactions **\n",
    "\n",
    "# Data Extraction Part 3"
   ]
  },
  {
   "cell_type": "markdown",
   "metadata": {},
   "source": [
    "## Explanation\n",
    "\n",
    "First this was the method planned for the extraction of company data before the \"Infobox company\" template was detected. Unfortunately, the site where to different so there were always links appearing that were no companies. The articles could have been verified with the method in part 2 but not with the API limitiations,\n",
    "\n",
    "Nevertheless, the documented steps are shown below."
   ]
  },
  {
   "cell_type": "code",
   "execution_count": 1,
   "metadata": {
    "collapsed": false
   },
   "outputs": [
    {
     "name": "stdout",
     "output_type": "stream",
     "text": [
      "Once deleted, variables cannot be recovered. Proceed (y/[n])? y\n"
     ]
    }
   ],
   "source": [
    "# IPython global cell magic\n",
    "%reset\n",
    "%matplotlib inline"
   ]
  },
  {
   "cell_type": "code",
   "execution_count": 2,
   "metadata": {
    "collapsed": false
   },
   "outputs": [],
   "source": [
    "# import all necessary packages\n",
    "import bs4 # HTML parser\n",
    "from collections import Counter, OrderedDict # counting elements and ordering keys in dictionaries\n",
    "import community # python-louvain package\n",
    "import datetime # handle date objects\n",
    "import dateparser # parse any (also foreign) date format to object: https://pypi.python.org/pypi/dateparser\n",
    "from __future__ import division # all numbers are float\n",
    "import gc # garbage collector\n",
    "import geoplotlib # plot points on tiled maps\n",
    "from geoplotlib.utils import BoundingBox\n",
    "import geopy # get geo location according to addresses\n",
    "from geopy.exc import GeocoderServiceError\n",
    "from infomap import infomap # python infomap algorithm, needs to be in same directory\n",
    "import itertools # iterators for efficient looping\n",
    "import json # JSON parser\n",
    "import math # math operations\n",
    "from matplotlib import pyplot as plt # plotting figures\n",
    "import mwparserfromhell # parse MediaWiki syntax: https://github.com/earwig/mwparserfromhell\n",
    "from nameparser import HumanName # parse a human name\n",
    "import networkx as nx # networks creation library\n",
    "import nltk # natural language processing\n",
    "from nltk.stem import WordNetLemmatizer\n",
    "from nltk.tokenize import RegexpTokenizer\n",
    "import numpy as np # powerful calculation library\n",
    "import operator # efficient operator functions\n",
    "import os # operating system operations, e.g.: with files and folders\n",
    "import pandas as pd # use easy-to-use data frames for data analysis\n",
    "import pickle # python data structures as files\n",
    "from pprint import pprint # print data structures prettier\n",
    "import random as rand # pick thing at random\n",
    "import re # regex\n",
    "import requests # request URL content\n",
    "import sys # system operations\n",
    "import time # sleep timer\n",
    "from tqdm import tqdm_notebook # make a nice progressbar\n",
    "import urllib # handle special URL chars"
   ]
  },
  {
   "cell_type": "code",
   "execution_count": 3,
   "metadata": {
    "collapsed": true
   },
   "outputs": [],
   "source": [
    "# make working directory\n",
    "directory = os.getcwd() + '/companies'\n",
    "if not os.path.exists(directory):\n",
    "    os.makedirs(directory)\n",
    "\n",
    "# files from data crawling\n",
    "ex1_fdat = directory + '/extraction1_data.pkl'\n",
    "ex2_fdat = directory + '/extraction2_data.pkl'\n",
    "ex3_tmp_fdat = directory + '/tmp_extraction3_data.pkl'\n",
    "ex3_fdat = directory + '/extraction3_data.pkl'\n",
    "merged = directory + '/merged_data.pkl'\n",
    "# network files\n",
    "network_f = directory + '/network.pkl'\n",
    "network_red_f = directory + '/reduced_network.pkl'\n",
    "gephi_f = directory + '/gehpi.gexf'\n",
    "\n",
    "# specify nltk data dir, otherwise LookupError\n",
    "nltk.data.path.append(os.getcwd() + '/../nltk_data')\n",
    "from nltk.corpus import names"
   ]
  },
  {
   "cell_type": "markdown",
   "metadata": {},
   "source": [
    "## 1. Investigate Country Lists for Companies\n",
    "\n",
    "The Page with lists for companies by country is divided in two sections. The main interest is in pages in the category \"Lists of companies by country\" under the second heading. These links lead directly to a list of companies. The links under the first heading, however, contain links to subsections. Thus it can happen that some countries don't have a direct list. These links must be parsed individually."
   ]
  },
  {
   "cell_type": "code",
   "execution_count": 4,
   "metadata": {
    "collapsed": false,
    "scrolled": true
   },
   "outputs": [],
   "source": [
    "# parse HTML\n",
    "wiki_cat_url = 'https://en.wikipedia.org/wiki/Category:Lists_of_companies_by_country'\n",
    "r = requests.get(wiki_cat_url)\n",
    "wiki_soup = bs4.BeautifulSoup(r.text, 'lxml')\n",
    "\n",
    "# first heading\n",
    "wiki_subcats = wiki_soup.find(\"div\", attrs={\"id\": \"mw-subcategories\"})\n",
    "\n",
    "# second heading\n",
    "wiki_countries = wiki_soup.find(\"div\", attrs={\"id\": \"mw-pages\"})"
   ]
  },
  {
   "cell_type": "code",
   "execution_count": 5,
   "metadata": {
    "collapsed": false
   },
   "outputs": [],
   "source": [
    "def get_c_names(wiki_section):\n",
    "    # each letter has new unordered list\n",
    "    links2d = [l.find_all('a') for l in wiki_section.find_all('ul')]\n",
    "    # combine all links from each list\n",
    "    links = list(itertools.chain.from_iterable(links2d))\n",
    "\n",
    "    c_list = list()\n",
    "    for l in links:\n",
    "        if 'Lists of companies of' in l.text:\n",
    "            country = l.text.split('Lists of companies of ')[-1]\n",
    "        elif 'List of' in l.text:\n",
    "            country = l.text.split('List of companies of ')[-1]\n",
    "        else:\n",
    "            # ignore lists like airlines by country\n",
    "            continue\n",
    "        if country.startswith('the '):\n",
    "            country = country[len('the '):]\n",
    "        c_list.append(country)\n",
    "    return c_list"
   ]
  },
  {
   "cell_type": "code",
   "execution_count": 6,
   "metadata": {
    "collapsed": false,
    "scrolled": true
   },
   "outputs": [
    {
     "name": "stdout",
     "output_type": "stream",
     "text": [
      "Country list extracted from \"Subcategory\" section:\n",
      "[u'Afghanistan', u'Albania', u'Algeria', u'Andorra', u'Angola', u'Argentina', u'Armenia', u'Australia', u'Austria', u'Azerbaijan', u'Bahamas', u'Bahrain', u'Bangladesh', u'Barbados', u'Belarus', u'Belgium', u'Belize', u'Benin', u'Bermuda', u'Bhutan', u'Bolivia', u'Bosnia and Herzegovina', u'Botswana', u'Brazil', u'Brunei', u'Bulgaria', u'Burkina Faso', u'Burundi', u'Cambodia', u'Cameroon', u'Canada', u'Cape Verde', u'Central African Republic', u'Chad', u'Chile', u'China', u'Colombia', u'Comoros', u'Democratic Republic of the Congo', u'Republic of the Congo', u'Costa Rica', u'Croatia', u'Cuba', u'Cyprus', u'Czech Republic', u'Denmark', u'Djibouti', u'Dominica', u'Dominican Republic', u'Ecuador', u'Egypt', u'El Salvador', u'Equatorial Guinea', u'Estonia', u'Ethiopia', u'Faroe Islands', u'Fiji', u'Finland', u'France', u'Gabon', u'Gambia', u'Georgia (country)', u'Germany', u'Ghana', u'Greece', u'Guatemala', u'Guinea', u'Guyana', u'Haiti', u'Honduras', u'Hong Kong', u'Hungary', u'Iceland', u'India', u'Indonesia', u'Iran', u'Iraq', u'Ireland', u'Israel', u'Italy', u'Ivory Coast', u'Jamaica', u'Japan', u'Jordan', u'Kazakhstan', u'Kenya', u'North Korea', u'South Korea', u'Kuwait', u'Kyrgyzstan', u'Laos', u'Latvia', u'Lebanon', u'Lesotho', u'Liberia', u'Libya', u'Lithuania', u'Luxembourg', u'Republic of Macedonia', u'Madadascar', u'Malawi', u'Malaysia', u'Maldives', u'Mali', u'Malta', u'Mauritania', u'Mauritius', u'Mexico', u'Moldova', u'Mongolia', u'Montenegro', u'Morocco', u'Mozambique', u'Myanmar', u'Namibia', u'Nepal', u'Netherlands', u'New Zealand', u'Nicaragua', u'Niger', u'Nigeria', u'Norway', u'Oman', u'Pakistan', u'Panama', u'Paraguay', u'Peru', u'Philippines', u'Poland', u'Portugal', u'Qatar', u'Romania', u'Russia', u'Rwanda', u'Samoa', u'S\\xe3o Tom\\xe9 and Pr\\xedncipe', u'Saudi Arabia', u'Senegal', u'Serbia', u'Seychelles', u'Sierra Leone', u'Singapore', u'Slovakia', u'Slovenia', u'Solomon Islands', u'Somalia', u'South Africa', u'South Sudan', u'Spain', u'Sri Lanka', u'Sudan', u'Suriname', u'Swaziland', u'Sweden', u'Switzerland', u'Syria', u'Tajikistan', u'Tanzania', u'Thailand', u'Togo', u'Tonga', u'Trinidad and Tobago', u'Tunisia', u'Turkey', u'Uganda', u'Ukraine', u'United Arab Emirates', u'United Kingdom', u'United States', u'Uruguay', u'Uzbekistan', u'Venezuela', u'Vietnam', u'Yemen', u'Zambia', u'Zimbabwe']\n",
      "\n",
      "Country list extracted from \"Lists of companies by country\":\n",
      "[u'Abkhazia', u'Afghanistan', u'Albania', u'Algeria', u'Andorra', u'Angola', u'Anguilla', u'Antigua and Barbuda', u'Argentina', u'Armenia', u'Australia', u'Austria', u'Azerbaijan', u'Bahamas', u'Bahrain', u'Bangladesh', u'Barbados', u'Belarus', u'Belgium', u'Belize', u'Benin', u'Bermuda', u'Bhutan', u'Bosnia and Herzegovina', u'Botswana', u'Brazil', u'Brunei', u'Bulgaria', u'Burkina Faso', u'Burundi', u'Cambodia', u'Cameroon', u'Canada', u'Cape Verde', u'Central African Republic', u'Chad', u'Chile', u'China', u'Colombia', u'Comoros', u'Democratic Republic of the Congo', u'Republic of the Congo', u'Costa Rica', u'Croatia', u'Cuba', u'Cyprus', u'Czech Republic', u'Denmark', u'Djibouti', u'Dominica', u'Dominican Republic', u'Egypt', u'El Salvador', u'Equatorial Guinea', u'Estonia', u'Ethiopia', u'Faroe Islands', u'Finland', u'France', u'Gabon', u'Georgia (country)', u'Germany', u'Ghana', u'Greece', u'Greenland', u'Guatemala', u'Guinea', u'Guinea-Bissau', u'Guyana', u'Haiti', u'Honduras', u'Hong Kong', u'Hungary', u'Iceland', u'India', u'Indonesia', u'Iran', u'Iraq', u'Ireland', u'Isle of Man', u'Israel', u'Italy', u'Ivory Coast', u'Jamaica', u'Japan', u'Jordan', u'Kazakhstan', u'Kenya', u'North Korea', u'South Korea', u'Kuwait', u'Laos', u'Latvia', u'Lebanon', u'Lesotho', u'Liberia', u'Libya', u'Lithuania', u'Luxembourg', u'Macau', u'Republic of Macedonia', u'Madagascar', u'Malawi', u'Malaysia', u'Mali', u'Malta', u'Mauritania', u'Mauritius', u'Mexico', u'Mongolia', u'Montenegro', u'Morocco', u'Mozambique', u'Myanmar', u'Nagorno-Karabakh Republic', u'Namibia', u'Nepal', u'Netherlands', u'New Zealand', u'Nicaragua', u'Niger', u'Nigeria', u'Norway', u'Oman', u'Pakistan', u'Panama', u'Peru', u'Philippines', u'Poland', u'Portugal', u'Puerto Rico', u'Qatar', u'Romania', u'Russia', u'Rwanda', u'Saint Kitts and Nevis', u'Saint Lucia', u'S\\xe3o Tom\\xe9 and Pr\\xedncipe', u'Saudi Arabia', u'Scotland', u'Senegal', u'Serbia', u'Seychelles', u'Sierra Leone', u'Singapore', u'Slovakia', u'Slovenia', u'Somalia', u'South Africa', u'South Sudan', u'Spain', u'Sri Lanka', u'Sudan', u'Swaziland', u'Sweden', u'Switzerland', u'Syria', u'Taiwan', u'Tanzania', u'Thailand', u'Togo', u'Trinidad and Tobago', u'Tunisia', u'Turkey', u'Uganda', u'Ukraine', u'United Arab Emirates', u'United States', u'Uzbekistan', u'Venezuela', u'Vietnam', u'Wales', u'Zambia', u'Zimbabwe']\n"
     ]
    }
   ],
   "source": [
    "country_list_subcat = get_c_names(wiki_subcats)\n",
    "country_list_page = get_c_names(wiki_countries)\n",
    "\n",
    "print 'Country list extracted from \"Subcategory\" section:'\n",
    "print country_list_subcat\n",
    "\n",
    "print '\\nCountry list extracted from \"Lists of companies by country\":'\n",
    "print country_list_page"
   ]
  },
  {
   "cell_type": "code",
   "execution_count": 7,
   "metadata": {
    "collapsed": false
   },
   "outputs": [
    {
     "name": "stdout",
     "output_type": "stream",
     "text": [
      "Countries that do not have a direct wiki pages of all registerd companies:\n",
      "set([u'Bolivia', u'Tonga', u'Maldives', u'Samoa', u'Uruguay', u'Solomon Islands', u'Gambia', u'Madadascar', u'Kyrgyzstan', u'Moldova', u'United Kingdom', u'Suriname', u'Paraguay', u'Fiji', u'Yemen', u'Tajikistan', u'Ecuador'])\n"
     ]
    }
   ],
   "source": [
    "print \"Countries that do not have a direct wiki pages of all registerd companies:\"\n",
    "# only elements that are in first list but not second\n",
    "print set(country_list_subcat) - set(country_list_page)"
   ]
  },
  {
   "cell_type": "code",
   "execution_count": 8,
   "metadata": {
    "collapsed": false,
    "scrolled": true
   },
   "outputs": [],
   "source": [
    "# now construct link list for API query\n",
    "links2d = [l.find_all('a') for l in wiki_countries.find_all('ul')]\n",
    "links = list(itertools.chain.from_iterable(links2d))\n",
    "\n",
    "# key: country, value: wikipedia link\n",
    "country_extend_urls = dict()\n",
    "for l in links:\n",
    "    country = l.text.split('List of companies of ')[-1]\n",
    "    country_extend_urls[country] = l.get('href').split('/wiki/')[-1]\n",
    "\n",
    "# manually insert links of important wiki pages\n",
    "country_extend_urls['Moldova'] = 'List_of_banks_in_Moldova'\n",
    "country_extend_urls['United Kingdom'] = [\n",
    "    'List_of_banks_in_Guernsey',\n",
    "    'List_of_banks_in_Jersey',\n",
    "    'List_of_companies_of_the_Isle_of_Man',\n",
    "    'List_of_companies_based_in_Bradford',\n",
    "    'List_of_companies_in_Sheffield',\n",
    "    'List_of_companies_in_Harrogate',\n",
    "    'List_of_companies_based_in_Greater_Manchester',\n",
    "    'List_of_companies_based_in_Newcastle_upon_Tyne',\n",
    "    'List_of_companies_in_Lincolnshire',\n",
    "    'List_of_companies_in_the_City_of_Sunderland',\n",
    "    'List_of_largest_private_companies_in_the_United_Kingdom',\n",
    "    'List_of_companies_based_in_London']"
   ]
  },
  {
   "cell_type": "code",
   "execution_count": 9,
   "metadata": {
    "collapsed": false
   },
   "outputs": [
    {
     "name": "stdout",
     "output_type": "stream",
     "text": [
      "Counries with wiki pages for companies total: 176\n"
     ]
    }
   ],
   "source": [
    "print \"Counries with wiki pages for companies total:\", len(country_extend_urls)"
   ]
  },
  {
   "cell_type": "markdown",
   "metadata": {},
   "source": [
    "## 2. Retrieve Links from Country Lists"
   ]
  },
  {
   "cell_type": "markdown",
   "metadata": {},
   "source": [
    "Query for links on each page that will represent the companies and their nodes. There are some special cases like in Japan where there is a table of links and each table cell also references to the Tokyo Stock Exchange. However, these notes will become isolated and not be part of the major company network."
   ]
  },
  {
   "cell_type": "code",
   "execution_count": 10,
   "metadata": {
    "collapsed": false
   },
   "outputs": [],
   "source": [
    "# wikipedia API parameters to parse sections and the all links in wanted sections\n",
    "# https://en.wikipedia.org/w/api.php?action=help&modules=parse\n",
    "baseurl = u'https://en.wikipedia.org/w/api.php'\n",
    "action = u'action=parse'\n",
    "dataformat = u'format=json'\n",
    "\n",
    "# exclude these sections\n",
    "exclude_sec = set(['External links', 'See also', 'References'])"
   ]
  },
  {
   "cell_type": "code",
   "execution_count": 11,
   "metadata": {
    "collapsed": true
   },
   "outputs": [],
   "source": [
    "def get_json_from_url(url):\n",
    "    r = requests.get(url)\n",
    "    \n",
    "    # on HTML error codes\n",
    "    if r.status_code != 200:\n",
    "        return None\n",
    "\n",
    "    # try converting into JSON\n",
    "    try:\n",
    "        sec = r.json()\n",
    "        return sec\n",
    "    except ValueError:  # includes simplejson.decoder.JSONDecodeError\n",
    "        print 'WARN: Decoding JSON has failed on:', url\n",
    "    return None"
   ]
  },
  {
   "cell_type": "code",
   "execution_count": 17,
   "metadata": {
    "collapsed": false
   },
   "outputs": [],
   "source": [
    "def get_link_list(link_url, industry, country, comp):\n",
    "    \n",
    "    link_content = get_json_from_url(link_url)\n",
    "    if not link_content or 'parse' not in link_content:\n",
    "        comp.update({\n",
    "            c: {\n",
    "                'is_company': False,\n",
    "                'industry': [industry],\n",
    "                'countries': set([country]),\n",
    "                'wiki_page_id':  link_content['parse']['pageid']}\n",
    "            })\n",
    "\n",
    "    # list of links per section\n",
    "    company_names = [\n",
    "        x['*'] for x in link_content['parse']['links'] \\\n",
    "        if x['ns'] == 0 and \\\n",
    "        'List of' not in x['*']]\n",
    "\n",
    "    # check in original wikitext to exclude additional links that aren't companies\n",
    "    w_text = link_content['parse']['wikitext']['*']\n",
    "    \n",
    "    for c in company_names:\n",
    "        # if company inside table, only column beginning\n",
    "        table = re.compile(r'\\n\\|\\s*\\[\\[' + re.escape(c))\n",
    "        # if company inside list, only bullet items\n",
    "        bullet = re.compile(r'\\n\\*\\s*\\[\\[' + re.escape(c))\n",
    "\n",
    "        if table.search(w_text) or bullet.search(w_text):\n",
    "            comp.update({\n",
    "                c: {\n",
    "                    'is_company': True,\n",
    "                    'industry': [industry],\n",
    "                    'countries': set([country]),\n",
    "                    'wiki_page_id':  link_content['parse']['pageid']\n",
    "                }})\n",
    "    return comp"
   ]
  },
  {
   "cell_type": "code",
   "execution_count": 18,
   "metadata": {
    "collapsed": false
   },
   "outputs": [],
   "source": [
    "# method to build link list with 2 requests to API\n",
    "### examples:\n",
    "# https://en.wikipedia.org/w/api.php?action=parse&page=List_of_companies_of_Australia&prop=sections\n",
    "# https://en.wikipedia.org/w/api.php?action=parse&page=List_of_companies_of_Australia&section=4&prop=links|wikitext\n",
    "\n",
    "def get_c_sec_and_links(title, country):\n",
    "    comp = dict()\n",
    "    # title already url encoded\n",
    "    page = u'page={0}'.format(title)\n",
    "    # concatenate wikipedia query\n",
    "    sec_url = u'{0}?{1}&{2}&{3}&prop=sections'.format(baseurl, action, page, dataformat)\n",
    "    r = requests.get(sec_url)\n",
    "    try:\n",
    "        sec = r.json()\n",
    "    except ValueError:  # includes simplejson.decoder.JSONDecodeError\n",
    "        print 'Decoding JSON has failed on:', url\n",
    "\n",
    "    # for each section get a list of links\n",
    "    if 'parse' not in sec:\n",
    "        print 'No parsable sections in:', sec_url\n",
    "        return comp\n",
    "    for s in sec['parse']['sections']:\n",
    "        # do not take excluded heading sections or TOCs in first order\n",
    "        if s['line'] in exclude_sec or s['toclevel'] != 1:          \n",
    "            continue\n",
    "\n",
    "        # industry is headline when not sorted after A-Z, alphabetic and nor containing \"firms\"\n",
    "        if len(s['line']) > 1 and s['line'].isalpha() and 'firms' not in s['line']:\n",
    "            industry = s['line']\n",
    "        else:\n",
    "            industry = 'unknown'\n",
    "\n",
    "        # new request for links and wikitext\n",
    "        link_url = u'{0}?{1}&{2}&section={3}&{4}&prop=links|wikitext'.format(\n",
    "            baseurl, action, page, s['index'], dataformat)\n",
    "        comp.update(get_link_list(link_url, industry, country, comp))\n",
    "\n",
    "    # show empty country lists\n",
    "    if not comp:\n",
    "        # some countries have no sections, the links and wikitext is requested\n",
    "        # the wikitext is useful to make sure links are in a bullet list or table\n",
    "        link_url = u'{0}?{1}&{2}&{3}&prop=links|wikitext'.format(\n",
    "            baseurl, action, page, dataformat)\n",
    "        print country, \"without any sections:\", sec_url, \"Requesting:\", link_url\n",
    "        comp.update(get_link_list(link_url, 'unknown', country, comp))\n",
    "    return comp"
   ]
  },
  {
   "cell_type": "code",
   "execution_count": 19,
   "metadata": {
    "collapsed": false
   },
   "outputs": [],
   "source": [
    "# if there are any companies/industries found in multiple countries combine values\n",
    "def combine_dict_vals(companies, new_companies):\n",
    "    if new_companies:\n",
    "        equal_companies = set(new_companies).intersection(companies)\n",
    "        for c in equal_companies:\n",
    "            # take old value and combine with new\n",
    "            for k, v in companies[c].iteritems():\n",
    "                if 'unknown' not in str(v):\n",
    "                    if 'unknown' in str(new_companies[c][k]):\n",
    "                        new_companies[c][k] = v\n",
    "                    else:\n",
    "                        if isinstance(new_companies[c][k], set):\n",
    "                            new_companies[c][k].update(v)\n",
    "        companies.update(new_companies)\n",
    "    return companies"
   ]
  },
  {
   "cell_type": "code",
   "execution_count": 95,
   "metadata": {
    "collapsed": false
   },
   "outputs": [
    {
     "name": "stdout",
     "output_type": "stream",
     "text": [
      "Georgia (country) without any sections: https://en.wikipedia.org/w/api.php?action=parse&page=List_of_companies_of_Georgia_(country)&format=json&prop=sections Requesting: https://en.wikipedia.org/w/api.php?action=parse&page=List_of_companies_of_Georgia_(country)&format=json&prop=links|wikitext\n",
      "Iran without any sections: https://en.wikipedia.org/w/api.php?action=parse&page=List_of_companies_of_Iran&format=json&prop=sections Requesting: https://en.wikipedia.org/w/api.php?action=parse&page=List_of_companies_of_Iran&format=json&prop=links|wikitext\n",
      "Iceland without any sections: https://en.wikipedia.org/w/api.php?action=parse&page=List_of_companies_of_Iceland&format=json&prop=sections Requesting: https://en.wikipedia.org/w/api.php?action=parse&page=List_of_companies_of_Iceland&format=json&prop=links|wikitext\n",
      "United Kingdom without any sections: https://en.wikipedia.org/w/api.php?action=parse&page=List_of_banks_in_Guernsey&format=json&prop=sections Requesting: https://en.wikipedia.org/w/api.php?action=parse&page=List_of_banks_in_Guernsey&format=json&prop=links|wikitext\n",
      "United Kingdom without any sections: https://en.wikipedia.org/w/api.php?action=parse&page=List_of_banks_in_Jersey&format=json&prop=sections Requesting: https://en.wikipedia.org/w/api.php?action=parse&page=List_of_banks_in_Jersey&format=json&prop=links|wikitext\n",
      "United Kingdom without any sections: https://en.wikipedia.org/w/api.php?action=parse&page=List_of_companies_based_in_Bradford&format=json&prop=sections Requesting: https://en.wikipedia.org/w/api.php?action=parse&page=List_of_companies_based_in_Bradford&format=json&prop=links|wikitext\n",
      "United Kingdom without any sections: https://en.wikipedia.org/w/api.php?action=parse&page=List_of_companies_in_the_City_of_Sunderland&format=json&prop=sections Requesting: https://en.wikipedia.org/w/api.php?action=parse&page=List_of_companies_in_the_City_of_Sunderland&format=json&prop=links|wikitext\n",
      "United Kingdom without any sections: https://en.wikipedia.org/w/api.php?action=parse&page=List_of_largest_private_companies_in_the_United_Kingdom&format=json&prop=sections Requesting: https://en.wikipedia.org/w/api.php?action=parse&page=List_of_largest_private_companies_in_the_United_Kingdom&format=json&prop=links|wikitext\n"
     ]
    }
   ],
   "source": [
    "%%time\n",
    "### this parses all countries companies\n",
    "# get links and combine to one big dictionary with one key per company\n",
    "companies = dict()\n",
    "for l in country_extend_urls:\n",
    "    if isinstance(country_extend_urls[l], list):\n",
    "        for ele in country_extend_urls[l]:\n",
    "            companies.update(combine_dict_vals(\n",
    "                    companies, get_c_sec_and_links(ele, l)))\n",
    "    else:\n",
    "        companies.update(combine_dict_vals(\n",
    "                companies, get_c_sec_and_links(country_extend_urls[l], l)))"
   ]
  },
  {
   "cell_type": "code",
   "execution_count": 96,
   "metadata": {
    "collapsed": false
   },
   "outputs": [
    {
     "name": "stdout",
     "output_type": "stream",
     "text": [
      "Companies extracted from Wikipedia: 13793\n"
     ]
    }
   ],
   "source": [
    "print 'Companies extracted from Wikipedia:', len(companies.keys())"
   ]
  },
  {
   "cell_type": "code",
   "execution_count": 97,
   "metadata": {
    "collapsed": false,
    "scrolled": true
   },
   "outputs": [
    {
     "name": "stdout",
     "output_type": "stream",
     "text": [
      "PMC-Sierra {'country': set([u'Canada', u'the United States']), 'industry': set([u'Companies']), 'page_id': 76559}\n",
      "Ericsson {'country': set([u'Sweden', u'Ireland']), 'industry': set([u'Telecommunications']), 'page_id': 654576}\n",
      "Old Mutual {'country': set(['United Kingdom', u'South Africa']), 'industry': set([u'Financials']), 'page_id': 39857195}\n",
      "Isle of Man Newspapers {'country': set(['United Kingdom', u'the Isle of Man']), 'industry': set([u'Media']), 'page_id': 31215006}\n",
      "Royal Bank of Canada {'country': set(['United Kingdom', u'Canada']), 'industry': set([u'Companies']), 'page_id': 16054929}\n",
      "EuroManx {'country': set(['United Kingdom', u'the Isle of Man']), 'industry': set(['unknown']), 'page_id': 31215006}\n",
      "Fila (company) {'country': set([u'South Korea', u'Italy']), 'industry': set(['unknown']), 'page_id': 90443}\n",
      "Volvo {'country': set([u'Belgium', u'Sweden']), 'industry': set([u'Industrials']), 'page_id': 285254}\n",
      "Shanghai Tang {'country': set([u'China', u'Hong Kong']), 'industry': set(['unknown']), 'page_id': 1405019}\n",
      "Alliance & Leicester International {'country': set(['United Kingdom', u'the Isle of Man']), 'industry': set([u'Financials']), 'page_id': 31215006}\n",
      "Garmin {'country': set([u'Switzerland', u'the United States']), 'industry': set(['unknown']), 'page_id': 84491}\n",
      "Yelp {'country': set([u'the United States', u'Ireland']), 'industry': set(['unknown']), 'page_id': 654576}\n",
      "Challenger LTD {'country': set([u'Egypt', u'Libya']), 'industry': set(['unknown']), 'page_id': 2480680}\n",
      "Lloyds Banking Group {'country': set(['United Kingdom', u'Scotland']), 'industry': set(['unknown']), 'page_id': 39857195}\n",
      "Credit Suisse {'country': set(['United Kingdom', u'Switzerland']), 'industry': set(['unknown']), 'page_id': 16054929}\n",
      "Dade2 {'country': set(['United Kingdom', u'Italy']), 'industry': set(['unknown']), 'page_id': 39857195}\n",
      "Tenaris {'country': set([u'Italy', u'Mexico']), 'industry': set([u'Industrials']), 'page_id': 90443}\n",
      "Facebook {'country': set([u'the United States', u'Ireland']), 'industry': set(['unknown']), 'page_id': 654576}\n",
      "Manx Telecom {'country': set(['United Kingdom', u'the Isle of Man']), 'industry': set([u'Telecommunications']), 'page_id': 31215006}\n",
      "Stora Enso {'country': set([u'Sweden', u'Finland']), 'industry': set(['unknown']), 'page_id': 76583}\n",
      "West Indies Power {'country': set([u'Saint Kitts and Nevis', u'Dominica']), 'industry': set([u'Energy', u'Utilities']), 'page_id': 28443742}\n",
      "RWE {'country': set([u'Germany', u'the Czech Republic']), 'industry': set(['unknown']), 'page_id': 76581}\n",
      "STMicroelectronics {'country': set([u'Switzerland', u'Italy']), 'industry': set([u'Electronics']), 'page_id': 90443}\n",
      "Westpac {'country': set([u'New Zealand', u'Australia']), 'industry': set([u'Financials']), 'page_id': 76869}\n",
      "Mobileye {'country': set([u'Israel', u'the Netherlands']), 'industry': set([u'Technology']), 'page_id': 1843304}\n",
      "Ubisoft {'country': set(['United Kingdom', u'Sweden', u'France']), 'industry': set([u'Technology']), 'page_id': 22395277}\n",
      "Dana Petroleum {'country': set([u'Egypt', u'Scotland']), 'industry': set(['unknown']), 'page_id': 2480680}\n",
      "BNP Paribas {'country': set(['United Kingdom', u'France']), 'industry': set(['unknown']), 'page_id': 16054929}\n",
      "Broadcom {'country': set([u'the United States', u'Singapore']), 'industry': set(['unknown']), 'page_id': 1553985}\n",
      "Freescale Semiconductor {'country': set([u'the United States', u'Israel']), 'industry': set(['unknown']), 'page_id': 1843304}\n",
      "Dahabshiil {'country': set(['United Kingdom', u'Somalia']), 'industry': set([u'Financials']), 'page_id': 39857195}\n",
      "Comin Asia {'country': set([u'Vietnam', u'Cambodia']), 'industry': set([u'Industrials']), 'page_id': 22534015}\n",
      "Bushy's Brewery {'country': set(['United Kingdom', u'the Isle of Man']), 'industry': set(['unknown']), 'page_id': 31215006}\n",
      "Microgaming {'country': set(['United Kingdom', u'the Isle of Man']), 'industry': set(['unknown']), 'page_id': 31215006}\n",
      "Sea Breezes (Magazine) {'country': set(['United Kingdom', u'the Isle of Man']), 'industry': set([u'Media']), 'page_id': 31215006}\n",
      "Scotiabank {'country': set([u'Canada', u'Mexico']), 'industry': set([u'Companies']), 'page_id': 346514}\n",
      "Hewlett-Packard {'country': set(['United Kingdom', u'Ireland']), 'industry': set(['unknown']), 'page_id': 5963336}\n",
      "Infosys {'country': set([u'India', u'Ireland']), 'industry': set(['unknown']), 'page_id': 654576}\n",
      "Neteller {'country': set(['United Kingdom', u'the Isle of Man']), 'industry': set([u'Financials']), 'page_id': 31215006}\n",
      "BGFI Groupe {'country': set([u'the Republic of the Congo', u'Gabon']), 'industry': set(['unknown']), 'page_id': 41403595}\n",
      "Artsakhbank {'country': set([u'the Nagorno-Karabakh Republic', u'Armenia']), 'industry': set([u'Financials']), 'page_id': 6302182}\n",
      "Google {'country': set([u'the United States', u'Ireland']), 'industry': set(['unknown']), 'page_id': 654576}\n",
      "Sure (Cable & Wireless) {'country': set(['United Kingdom', u'the Isle of Man']), 'industry': set([u'Telecommunications']), 'page_id': 31215006}\n",
      "Vodafone {'country': set([u'Ghana', u'Ireland', u'Greece']), 'industry': set([u'Telecommunications']), 'page_id': 336341}\n",
      "Calsonic Kansei {'country': set(['United Kingdom', u'Japan']), 'industry': set(['unknown']), 'page_id': 9157271}\n",
      "Comazar {'country': set([u'Madagascar', u'Burkina Faso']), 'industry': set([u'Industrials']), 'page_id': 7564668}\n",
      "Nike, Inc. {'country': set(['United Kingdom', u'the United States']), 'industry': set(['unknown']), 'page_id': 9157271}\n",
      "Afriland First Bank {'country': set([u'Cameroon', u'Equatorial Guinea']), 'industry': set([u'Financials']), 'page_id': 7549659}\n",
      "Commercial Bank of Africa {'country': set([u'Kenya', u'Uganda']), 'industry': set([u'Financials']), 'page_id': 41406786}\n",
      "Barclays {'country': set(['United Kingdom', u'Uganda']), 'industry': set(['unknown']), 'page_id': 13035329}\n",
      "PricewaterhouseCoopers {'country': set(['United Kingdom', u'the United States']), 'industry': set(['unknown']), 'page_id': 39857195}\n",
      "Nobel Biocare {'country': set([u'Switzerland', u'Sweden']), 'industry': set(['unknown']), 'page_id': 84491}\n",
      "Bakkavör {'country': set(['United Kingdom', u'Iceland']), 'industry': set(['unknown']), 'page_id': 39857195}\n",
      "Crédit Agricole {'country': set([u'Serbia', u'France']), 'industry': set(['unknown']), 'page_id': 569947}\n",
      "Novartis {'country': set([u'Egypt', u'Switzerland']), 'industry': set([u'Healthcare']), 'page_id': 2480680}\n",
      "NXP Semiconductors {'country': set(['United Kingdom', u'the Netherlands']), 'industry': set([u'Industrials']), 'page_id': 5963336}\n",
      "Simcocks Advocates {'country': set(['United Kingdom', u'the Isle of Man']), 'industry': set([u'Financials']), 'page_id': 31215006}\n",
      "Trafigura {'country': set([u'Switzerland', u'Singapore']), 'industry': set(['unknown']), 'page_id': 1553985}\n",
      "Maxima Group {'country': set([u'Latvia', u'Lithuania']), 'industry': set([u'Retail']), 'page_id': 3772232}\n",
      "Oracle Corporation {'country': set([u'the United States', u'Ireland']), 'industry': set(['unknown']), 'page_id': 654576}\n",
      "AstraZeneca {'country': set(['United Kingdom', u'Sweden']), 'industry': set(['unknown']), 'page_id': 39857195}\n",
      "ArcelorMittal {'country': set([u'Luxembourg', u'Algeria']), 'industry': set(['unknown']), 'page_id': 3782211}\n",
      "Southern Star Airlines {'country': set([u'Sudan', u'South Sudan']), 'industry': set(['unknown']), 'page_id': 41444289}\n",
      "Bank Leumi {'country': set(['United Kingdom', u'Israel']), 'industry': set(['unknown']), 'page_id': 16054584}\n",
      "Manx Airlines {'country': set(['United Kingdom', u'the Isle of Man']), 'industry': set(['unknown']), 'page_id': 31215006}\n",
      "Celton Manx {'country': set(['United Kingdom', u'the Isle of Man']), 'industry': set(['unknown']), 'page_id': 31215006}\n",
      "Honeywell {'country': set([u'Canada', u'the United States']), 'industry': set([u'Companies']), 'page_id': 76559}\n",
      "Outokumpu {'country': set(['United Kingdom', u'Finland']), 'industry': set(['unknown']), 'page_id': 5963336}\n",
      "Bharti Airtel {'country': set([u'Sri Lanka', u'India']), 'industry': set([u'Telecommunications']), 'page_id': 30809948}\n",
      "Firstsource {'country': set(['United Kingdom', u'the United States', u'India']), 'industry': set(['unknown']), 'page_id': 39857195}\n",
      "Bupa {'country': set(['United Kingdom', u'Chile']), 'industry': set(['unknown']), 'page_id': 39857195}\n",
      "ING Group {'country': set([u'the Netherlands', u'Mexico']), 'industry': set([u'Financials']), 'page_id': 346514}\n",
      "Juba {'country': set([u'Sudan', u'South Sudan']), 'industry': set(['unknown']), 'page_id': 41444289}\n",
      "SBOBET {'country': set(['United Kingdom', u'the Isle of Man']), 'industry': set(['unknown']), 'page_id': 31215006}\n",
      "IP Triple Play {'country': set([u'the Netherlands', u'Cyprus']), 'industry': set([u'Telecommunications']), 'page_id': 3149088}\n",
      "Gazprom {'country': set([u'Russia', u'Armenia']), 'industry': set(['unknown']), 'page_id': 268429}\n",
      "Analog Devices {'country': set([u'the United States', u'Ireland']), 'industry': set(['unknown']), 'page_id': 654576}\n",
      "Liebherr Group {'country': set([u'Switzerland', u'Germany']), 'industry': set(['unknown']), 'page_id': 84491}\n",
      "Hallmark Cards {'country': set(['United Kingdom', u'the United States']), 'industry': set(['unknown']), 'page_id': 11531415}\n",
      "Pernod Ricard {'country': set([u'France', u'Greece']), 'industry': set(['unknown']), 'page_id': 336341}\n",
      "British American Tobacco {'country': set(['United Kingdom', u'Ghana', u'Kenya']), 'industry': set([u'Industrials']), 'page_id': 39857195}\n",
      "Computer Sciences Corporation {'country': set(['United Kingdom', u'the United States']), 'industry': set(['unknown']), 'page_id': 5963336}\n",
      "Symantec {'country': set([u'the United States', u'Ireland']), 'industry': set(['unknown']), 'page_id': 654576}\n",
      "VA Tech Wabag {'country': set([u'Austria', u'India']), 'industry': set([u'Industrials']), 'page_id': 416646}\n",
      "Eni {'country': set([u'Italy', u'the Czech Republic']), 'industry': set(['unknown']), 'page_id': 90443}\n",
      "Fun88 {'country': set(['United Kingdom', u'the Isle of Man']), 'industry': set(['unknown']), 'page_id': 31215006}\n",
      "Bradford & Bingley International {'country': set(['United Kingdom', u'the Isle of Man']), 'industry': set([u'Financials']), 'page_id': 31215006}\n",
      "IBM {'country': set(['United Kingdom', u'the United States', u'Ireland']), 'industry': set(['unknown']), 'page_id': 5963336}\n",
      "Okells Brewery {'country': set(['United Kingdom', u'the Isle of Man']), 'industry': set(['unknown']), 'page_id': 31215006}\n",
      "MTS (network provider) {'country': set([u'Belarus', u'Russia']), 'industry': set([u'Telecommunications']), 'page_id': 268429}\n",
      "Steinway & Sons {'country': set([u'the United States', u'Germany']), 'industry': set(['unknown']), 'page_id': 76559}\n",
      "Doppelmayr Garaventa Group {'country': set([u'Switzerland', u'Austria']), 'industry': set([u'Industrials']), 'page_id': 84491}\n",
      "Ooredoo {'country': set([u'Tunisia', u'Qatar']), 'industry': set([u'Telecommunications']), 'page_id': 41476859}\n",
      "Twitter {'country': set([u'the United States', u'Ireland']), 'industry': set(['unknown']), 'page_id': 654576}\n",
      "Magneti Marelli {'country': set([u'Turkey', u'Italy']), 'industry': set([u'Electronics']), 'page_id': 90443}\n",
      "Goodman Fielder {'country': set([u'New Zealand', u'Australia']), 'industry': set(['unknown']), 'page_id': 76869}\n",
      "Mondelēz International {'country': set(['United Kingdom', u'the United States']), 'industry': set(['unknown']), 'page_id': 5963336}\n",
      "Tieto {'country': set([u'Sweden', u'Finland']), 'industry': set([u'Technology']), 'page_id': 76583}\n",
      "Aon plc {'country': set(['United Kingdom', u'the United States']), 'industry': set(['unknown']), 'page_id': 39857195}\n",
      "Hinduja Group {'country': set(['United Kingdom', u'India']), 'industry': set(['unknown']), 'page_id': 39857195}\n",
      "Nationwide International Ltd {'country': set(['United Kingdom', u'the Isle of Man']), 'industry': set([u'Financials']), 'page_id': 31215006}\n",
      "Salesforce.com {'country': set([u'the United States', u'Ireland']), 'industry': set(['unknown']), 'page_id': 654576}\n",
      "Tesco {'country': set(['United Kingdom', u'Ireland']), 'industry': set([u'Retailers']), 'page_id': 5963336}\n",
      "Amazon.com {'country': set([u'the United States', u'Ireland']), 'industry': set(['unknown']), 'page_id': 654576}\n",
      "BASF {'country': set(['United Kingdom', u'Germany']), 'industry': set(['unknown']), 'page_id': 11531415}\n",
      "Duke Video {'country': set(['United Kingdom', u'the Isle of Man']), 'industry': set([u'Media']), 'page_id': 31215006}\n",
      "Julius Baer Group {'country': set(['United Kingdom', u'Switzerland']), 'industry': set(['unknown']), 'page_id': 16054929}\n",
      "Regus {'country': set(['United Kingdom', u'Luxembourg']), 'industry': set([u'Financials']), 'page_id': 9157271}\n",
      "Isle of Man Bank {'country': set(['United Kingdom', u'the Isle of Man']), 'industry': set([u'Financials']), 'page_id': 31215006}\n",
      "Serono {'country': set([u'Switzerland', u'Italy']), 'industry': set([u'Pharmaceutical']), 'page_id': 90443}\n",
      "Semafo {'country': set([u'Guinea', u'Niger']), 'industry': set(['unknown']), 'page_id': 41367381}\n",
      "Pfizer {'country': set([u'the United States', u'Ireland']), 'industry': set(['unknown']), 'page_id': 654576}\n",
      "Xilinx {'country': set([u'the United States', u'Ireland']), 'industry': set(['unknown']), 'page_id': 654576}\n",
      "Deloitte {'country': set([u'Canada', u'the United States']), 'industry': set([u'Companies']), 'page_id': 76559}\n",
      "General Dynamics {'country': set([u'Canada', u'the United States']), 'industry': set([u'Companies']), 'page_id': 76559}\n",
      "Excalibur Almaz {'country': set(['United Kingdom', u'the Isle of Man']), 'industry': set([u'Technology']), 'page_id': 31215006}\n",
      "Butterfield Bank {'country': set(['United Kingdom', u'Bermuda']), 'industry': set([u'Financials']), 'page_id': 16054929}\n",
      "Standard Chartered Bank {'country': set(['United Kingdom', u'Kenya']), 'industry': set([u'Financials']), 'page_id': 16054584}\n",
      "KPMG {'country': set([u'the United States', u'the Netherlands']), 'industry': set([u'Financials']), 'page_id': 261466}\n",
      "SNCM {'country': set([u'Tunisia', u'France']), 'industry': set(['unknown']), 'page_id': 41476859}\n",
      "Unilever {'country': set(['United Kingdom', u'Ghana', u'the Netherlands']), 'industry': set(['unknown']), 'page_id': 39857195}\n",
      "SAP AG {'country': set([u'Germany', u'Ireland']), 'industry': set(['unknown']), 'page_id': 654576}\n",
      "H. J. Heinz Company {'country': set(['United Kingdom', u'the United States']), 'industry': set(['unknown']), 'page_id': 13035329}\n",
      "Autoliv {'country': set([u'the United States', u'Sweden']), 'industry': set([u'Industrials']), 'page_id': 76583}\n",
      "News Corporation {'country': set([u'the United States', u'Australia']), 'industry': set(['unknown']), 'page_id': 76869}\n",
      "Tata Consultancy Services {'country': set([u'India', u'Ireland']), 'industry': set(['unknown']), 'page_id': 654576}\n",
      "Digicel {'country': set([u'Jamaica', u'Haiti']), 'industry': set([u'Telecommunications']), 'page_id': 2096368}\n",
      "Perrigo {'country': set([u'the United States', u'Israel']), 'industry': set(['unknown']), 'page_id': 1843304}\n",
      "Rio Tinto Group {'country': set(['United Kingdom', u'Australia']), 'industry': set(['unknown']), 'page_id': 39857195}\n",
      "Spirit AeroSystems {'country': set([u'the United States', u'Scotland']), 'industry': set([u'Manufacturing']), 'page_id': 3636624}\n",
      "Standard Chartered {'country': set(['United Kingdom', u'Nepal']), 'industry': set([u'Financials']), 'page_id': 39857195}\n",
      "Daallo Airlines {'country': set([u'Djibouti', u'Somalia']), 'industry': set(['unknown']), 'page_id': 41382400}\n",
      "Royal Dutch Shell {'country': set(['United Kingdom', u'the Netherlands']), 'industry': set(['unknown']), 'page_id': 39857195}\n",
      "Mapfre {'country': set([u'Spain', u'Mexico']), 'industry': set([u'Financials']), 'page_id': 14636232}\n",
      "Barclays Bank {'country': set(['United Kingdom', u'Kenya']), 'industry': set([u'Financials']), 'page_id': 9157271}\n",
      "Johnson Controls {'country': set(['United Kingdom', u'the United States']), 'industry': set(['unknown']), 'page_id': 9157271}\n",
      "Ethio-Djibouti Railways {'country': set([u'Ethiopia', u'Djibouti']), 'industry': set([u'Industrials']), 'page_id': 41382400}\n",
      "Integration Objects {'country': set([u'Tunisia', u'Italy']), 'industry': set([u'Software']), 'page_id': 90443}\n",
      "LinkedIn {'country': set([u'the United States', u'Ireland']), 'industry': set(['unknown']), 'page_id': 654576}\n",
      "Reed Elsevier {'country': set(['United Kingdom', u'the Netherlands']), 'industry': set([u'Media']), 'page_id': 39857195}\n",
      "Esselte {'country': set([u'the United States', u'Sweden']), 'industry': set(['unknown']), 'page_id': 76583}\n",
      "Arla Foods {'country': set([u'Denmark', u'Sweden']), 'industry': set(['unknown']), 'page_id': 206397}\n",
      "Vedanta Resources {'country': set(['United Kingdom', u'India']), 'industry': set(['unknown']), 'page_id': 39857195}\n",
      "Nintendo {'country': set([u'Canada', u'Japan']), 'industry': set([u'Companies']), 'page_id': 76562}\n",
      "Conister {'country': set(['United Kingdom', u'the Isle of Man']), 'industry': set([u'Financials']), 'page_id': 31215006}\n",
      "Isle of Man Steam Packet Company {'country': set(['United Kingdom', u'the Isle of Man']), 'industry': set(['unknown']), 'page_id': 31215006}\n",
      "VTech {'country': set([u'China', u'Hong Kong']), 'industry': set([u'Industrials']), 'page_id': 1405019}\n",
      "The Royal Bank of Scotland {'country': set(['United Kingdom', u'Scotland']), 'industry': set(['unknown']), 'page_id': 16054584}\n",
      "Alpha Bank {'country': set(['United Kingdom', u'Serbia', u'Greece']), 'industry': set([u'Financials']), 'page_id': 336341}\n",
      "General Motors {'country': set([u'Egypt', u'the United States']), 'industry': set(['unknown']), 'page_id': 2480680}\n",
      "Telefónica {'country': set([u'Spain', u'Mexico']), 'industry': set([u'Telecommunications']), 'page_id': 14636232}\n",
      "Isle of Man Air Services {'country': set(['United Kingdom', u'the Isle of Man']), 'industry': set(['unknown']), 'page_id': 31215006}\n",
      "Bank of India {'country': set([u'India', u'Uganda']), 'industry': set(['unknown']), 'page_id': 41406786}\n",
      "Industries Mécaniques Maghrébines {'country': set([u'Tunisia', u'Algeria']), 'industry': set(['unknown']), 'page_id': 41476859}\n",
      "Air Afrique {'country': set([u'the Republic of the Congo', u'Mauritania', u'the Ivory Coast']), 'industry': set([u'Airlines']), 'page_id': 41451761}\n",
      "Nordea {'country': set([u'Denmark', u'Sweden']), 'industry': set([u'Financials']), 'page_id': 206397}\n",
      "Apple Inc. {'country': set([u'the United States', u'Ireland']), 'industry': set(['unknown']), 'page_id': 654576}\n",
      "Signet Jewelers {'country': set(['United Kingdom', u'Bermuda']), 'industry': set(['unknown']), 'page_id': 39857195}\n",
      "Djarum {'country': set([u'the United States', u'Indonesia']), 'industry': set(['unknown']), 'page_id': 8876820}\n",
      "Bank of Cyprus {'country': set(['United Kingdom', u'Cyprus']), 'industry': set([u'Financials']), 'page_id': 16054929}\n",
      "Abbott Laboratories {'country': set([u'the United States', u'Ireland']), 'industry': set(['unknown']), 'page_id': 654576}\n",
      "National Bank of Dubai {'country': set(['United Kingdom', u'the United Arab Emirates']), 'industry': set(['unknown']), 'page_id': 16054584}\n",
      "Domtar {'country': set([u'Canada', u'the United States']), 'industry': set([u'Companies']), 'page_id': 76559}\n",
      "Airbus Group {'country': set([u'Germany', u'France']), 'industry': set(['unknown']), 'page_id': 87608}\n",
      "Asia Television {'country': set([u'China', u'Hong Kong']), 'industry': set(['unknown']), 'page_id': 1405019}\n",
      "Dell {'country': set([u'the United States', u'Ireland']), 'industry': set(['unknown']), 'page_id': 654576}\n",
      "Punjab National Bank {'country': set([u'India', u'Bhutan']), 'industry': set([u'Financials']), 'page_id': 17040909}\n",
      "Penta (investment group) {'country': set([u'Slovakia', u'Cyprus']), 'industry': set([u'Financials']), 'page_id': 3149088}\n",
      "Bank of Central African States {'country': set([u'the Republic of the Congo', u'Gabon']), 'industry': set(['unknown']), 'page_id': 41403595}\n",
      "Banco Santander {'country': set([u'Spain', u'Mexico']), 'industry': set([u'Financials']), 'page_id': 14636232}\n",
      "Optimal Payments {'country': set(['United Kingdom', u'the Isle of Man']), 'industry': set([u'Financials']), 'page_id': 31215006}\n",
      "Ecobank {'country': set([u'Togo', u'Uganda']), 'industry': set(['unknown']), 'page_id': 41406786}\n",
      "Mediterranean Shipping Company {'country': set([u'Switzerland', u'Italy']), 'industry': set(['unknown']), 'page_id': 90443}\n",
      "Communauté Électrique du Bénin {'country': set([u'Togo', u'Benin']), 'industry': set([u'Utilities']), 'page_id': 8014597}\n",
      "Société Générale {'country': set([u'Serbia', u'France']), 'industry': set(['unknown']), 'page_id': 569947}\n",
      "Festina {'country': set([u'Switzerland', u'Spain']), 'industry': set([u'Industrials']), 'page_id': 14636232}\n",
      "Dockwise {'country': set([u'the Netherlands', u'Bermuda']), 'industry': set([u'Industrials']), 'page_id': 261466}\n",
      "Capital Dynamics {'country': set([u'Malaysia', u'Australia', u'Singapore']), 'industry': set([u'Financials']), 'page_id': 1553985}\n",
      "Aventis {'country': set([u'Germany', u'France']), 'industry': set(['unknown']), 'page_id': 87608}\n",
      "AkzoNobel {'country': set([u'Sweden', u'the Netherlands']), 'industry': set([u'Industrials']), 'page_id': 76583}\n",
      "Betsson {'country': set([u'Sweden', u'Malta']), 'industry': set([u'Media']), 'page_id': 6796381}\n",
      "Deutsche Bank {'country': set(['United Kingdom', u'Germany']), 'industry': set(['unknown']), 'page_id': 16054929}\n",
      "PKN Orlen {'country': set([u'Poland', u'the Czech Republic']), 'industry': set(['unknown']), 'page_id': 1028170}\n",
      "British Energy {'country': set(['United Kingdom', u'Scotland']), 'industry': set(['unknown']), 'page_id': 39857195}\n",
      "Foxconn {'country': set([u'Taiwan', u'the Czech Republic']), 'industry': set(['unknown']), 'page_id': 464622}\n",
      "Convergys {'country': set(['United Kingdom', u'the United States']), 'industry': set(['unknown']), 'page_id': 22395277}\n",
      "EMC Corporation {'country': set([u'the United States', u'Ireland']), 'industry': set(['unknown']), 'page_id': 654576}\n",
      "OCBC Wing Hang Bank {'country': set([u'Hong Kong', u'Macau']), 'industry': set([u'Financials']), 'page_id': 1405019}\n",
      "Bank of Baroda {'country': set([u'India', u'Uganda']), 'industry': set(['unknown']), 'page_id': 41406786}\n",
      "Ikatel {'country': set([u'Senegal', u'Mali']), 'industry': set(['unknown']), 'page_id': 1884123}\n",
      "Makhteshim Agan {'country': set([u'Israel', u'Mexico']), 'industry': set(['unknown']), 'page_id': 1843304}\n",
      "Hoffmann-La Roche {'country': set([u'Switzerland', u'Ireland']), 'industry': set(['unknown']), 'page_id': 84491}\n",
      "HSBC {'country': set(['United Kingdom', u'Armenia', u'Mexico']), 'industry': set(['unknown']), 'page_id': 39857195}\n",
      "Techint {'country': set([u'Argentina', u'Italy']), 'industry': set([u'Industrials']), 'page_id': 90443}\n",
      "Manx2 {'country': set(['United Kingdom', u'the Isle of Man']), 'industry': set(['unknown']), 'page_id': 31215006}\n",
      "Brother Industries {'country': set(['United Kingdom', u'Japan']), 'industry': set(['unknown']), 'page_id': 13035329}\n",
      "MTN Group {'country': set([u'Cyprus', u'South Africa']), 'industry': set([u'Telecommunications']), 'page_id': 3149088}\n",
      "Microsoft {'country': set([u'the United States', u'Ireland']), 'industry': set(['unknown']), 'page_id': 654576}\n",
      "Peel Engineering Company {'country': set(['United Kingdom', u'the Isle of Man']), 'industry': set(['unknown']), 'page_id': 31215006}\n",
      "Logitech {'country': set([u'Switzerland', u'Ireland']), 'industry': set(['unknown']), 'page_id': 84491}\n",
      "PokerStars {'country': set(['United Kingdom', u'the Isle of Man']), 'industry': set(['unknown']), 'page_id': 31215006}\n",
      "Danske Bank {'country': set([u'Denmark', u'Ireland']), 'industry': set([u'Financials']), 'page_id': 206397}\n",
      "Scottish Citylink {'country': set([u'Scotland', u'Ireland']), 'industry': set([u'Transport']), 'page_id': 654576}\n",
      "Illovo Sugar {'country': set([u'Mozambique', u'South Africa']), 'industry': set(['unknown']), 'page_id': 41419455}\n",
      "Isle of Man Post {'country': set(['United Kingdom', u'the Isle of Man']), 'industry': set([u'Utilities']), 'page_id': 31215006}\n",
      "Starbucks {'country': set([u'the United States', u'Ireland']), 'industry': set(['unknown']), 'page_id': 654576}\n",
      "Telenor {'country': set([u'Norway', u'Serbia']), 'industry': set([u'Telecommunications']), 'page_id': 569947}\n",
      "Rexam {'country': set(['United Kingdom', u'Mexico']), 'industry': set(['unknown']), 'page_id': 39857195}\n"
     ]
    }
   ],
   "source": [
    "# companies listed in more than one country\n",
    "for k, v in companies.iteritems():\n",
    "    if len(v['country']) > 1 or len(v['industry']) > 1:\n",
    "        print k, v"
   ]
  },
  {
   "cell_type": "code",
   "execution_count": 98,
   "metadata": {
    "collapsed": true
   },
   "outputs": [],
   "source": [
    "# store temp company data in one binary file, to avoid reextraction\n",
    "with open('{0}/tmp_extraction3_data.pkl'.format(directory), 'wb') as f:\n",
    "    pickle.dump(companies, f)"
   ]
  },
  {
   "cell_type": "markdown",
   "metadata": {},
   "source": [
    "## 3. Retrieve Links from Company Page"
   ]
  },
  {
   "cell_type": "code",
   "execution_count": 99,
   "metadata": {
    "collapsed": false
   },
   "outputs": [],
   "source": [
    "# load data dictionary\n",
    "with open('{0}/tmp_extraction3_data.pkl'.format(directory), 'rb') as f:\n",
    "    tmp_com_dat = pickle.load(f)"
   ]
  },
  {
   "cell_type": "code",
   "execution_count": 101,
   "metadata": {
    "collapsed": false
   },
   "outputs": [],
   "source": [
    "def get_c_interlinks(url, title, comp):\n",
    "        \n",
    "    json_content = get_json_from_url(link_url)\n",
    "\n",
    "    # wiki entry contains excerpt with unknown pageid\n",
    "    for page in json_content['query']['pages']:\n",
    "        if page != '-1':\n",
    "            # extract the links that match with a company name\n",
    "            if 'links' not in json_content['query']['pages'][page]:\n",
    "                print 'No links found at:', url\n",
    "                continue\n",
    "            link_list = [\n",
    "                x['title'] for x in json_content['query']['pages'][page]['links'] \\\n",
    "                if x['title'] in tmp_com_dat]\n",
    "            if 'links' in comp:\n",
    "                comp['links'].update(set(link_list))\n",
    "            else:\n",
    "                comp['links'] = set(link_list)\n",
    "    # maximum 500 links per page, additional request might be necessary\n",
    "    # e.g.: plcontinue=226160|0|Lieutenant_General\n",
    "    if 'continue' in json_content:\n",
    "        content_extended = u'{0}&plcontinue={1}'.format(content, json_content['continue']['plcontinue'])\n",
    "        next_url = u'{0}?{1}&{2}&{3}&{4}'.format(baseurl, action, title, dataformat, content_extended)\n",
    "        comp = get_c_interlinks(next_url, title, comp)\n",
    "    return comp"
   ]
  },
  {
   "cell_type": "code",
   "execution_count": 102,
   "metadata": {
    "collapsed": false
   },
   "outputs": [
    {
     "name": "stdout",
     "output_type": "stream",
     "text": [
      "Queried URL: https://en.wikipedia.org/w/api.php?action=query&titles=Volkswagen&format=json&prop=links&pllimit=max&redirects\n",
      "Volkswagen excerpt: {'country': set([u'Germany']), 'industry': set(['unknown']), 'page_id': 76581, 'links': set([u'Brabus', u'Daimler AG', u'Ford of Europe', u'SEAT', u'Getrag', u'Rheinmetall', u'Scania AB', u'BP', u'Mercedes-Benz', u'Mahle GmbH', u'Volkswagen Group', u'Capital Group Companies', u'Bugatti Automobiles', u'Ducati', u'BMW', u'Mann+Hummel', u'Hella (company)', u'Magirus', u'Tesla Motors', u'Lamborghini', u'Italdesign Giugiaro', u'Renault', u'Sanyo', u'NSU Motorenwerke AG', u'Giorgetto Giugiaro', u'Gruppo Bertone', u'Krauss-Maffei', u'Voith', u'Robert Bosch GmbH', u'Alpina', u'Hanomag', u'Continental AG', u'Opel', u'D\\xfcrr AG'])}\n"
     ]
    }
   ],
   "source": [
    "# now get all links from each company page, to construct edges\n",
    "# wikipedia API parameters\n",
    "action = u'action=query'\n",
    "# query maximum limit of links and follow redirects, e.g.: Imtech -> Royal Imtech N.V.\n",
    "content = u'prop=links&pllimit=max&redirects'\n",
    "\n",
    "### examples:\n",
    "# https://en.wikipedia.org/w/api.php?action=query&titles=Volkswagen&prop=links&pllimit=max&redirects\n",
    "# https://en.wikipedia.org/w/api.php?action=query&titles=Volkswagen&prop=links&pllimit=max&redirects&plcontinue=32413|0|Volkswagen_Golf_GTE\n",
    "\n",
    "# Volkswagen example of link list\n",
    "com_name = u'Volkswagen'\n",
    "title = u'titles={0}'.format(urllib.quote_plus(\n",
    "        com_name.encode('utf-8')))\n",
    "# concatenate wikipedia query\n",
    "url = u'{0}?{1}&{2}&{3}&{4}'.format(baseurl, action, title, dataformat, content)\n",
    "print \"Queried URL:\", url\n",
    "tmp_com_dat[com_name] = get_c_interlinks(url, title, tmp_com_dat[com_name])\n",
    "\n",
    "print com_name, \"excerpt:\", tmp_com_dat[com_name]"
   ]
  },
  {
   "cell_type": "code",
   "execution_count": 103,
   "metadata": {
    "collapsed": false,
    "scrolled": true
   },
   "outputs": [
    {
     "name": "stdout",
     "output_type": "stream",
     "text": [
      "Microsoft excerpt: {'country': set([u'the United States', u'Ireland']), 'industry': set(['unknown']), 'page_id': 654576, 'links': set([u'Toshiba', u'Norwegian Cruise Line', u'Adobe Systems', u'Amgen', u'Micromax Mobile', u'Huawei', u'Applied Materials', u'Comcast', u'Deloitte', u'Seagate Technology', u'NBCUniversal', u'Mylan', u'HP Inc.', u'TSMC', u'AOL', u'Xerox', u'American Express', u'Walmart', u'Booz Allen Hamilton', u'Alphabet Inc.', u'MediaTek', u'CA Technologies', u'Pfizer', u'Merck & Co.', u'Jabil Circuit', u'Silicon Power', u'Havok (company)', u'Konica Minolta', u'Apple Inc.', u'Leidos', u'Sony', u'Xilinx', u'KPMG', u'SanDisk', u'Bharti Airtel', u'Quanta Computer', u'Guardian Media Group', u'Fiserv', u'Visa Inc.', u'Orange S.A.', u'Am\\xe9rica M\\xf3vil', u'China Mobile', u'Dollar Tree', u'Wistron Corporation', u'DuPont', u'Pegatron', u'Accenture', u'The Travelers Companies', u'Infosys', u'Western Digital', u'Tech Mahindra', u'Paccar', u'STMicroelectronics', u'KT Corporation', u'LG Electronics', u'Nippon Telegraph and Telephone', u'Microsoft Egypt', u'Star Micronics', u'Dish Network', u'China Telecom', u'Fujifilm', u'Inspur', u'Kingston Technology', u'Ricoh', u'Meizu', u'3M', u'NetApp', u'Connectix', u'Gannett Company', u'Expeditors International', u'Unisys', u'TCL Corporation', u'ON Semiconductor', u'Symantec', u'Johnston Press', u'Liberty Media', u'Lexmark', u'Intuit', u'Facebook', u'Vodafone', u'MTS (network provider)', u'Amazon.com', u'AT&T', u'Juniper Networks', u'Costco', u'Yandex', u'Telef\\xf3nica', u'CNET', u'Lenovo', u'Sprint Corporation', u'Procter & Gamble', u'MTN Group', u'Discovery Communications', u'HCL Technologies', u'Lam Research', u'NCR Corporation', u'Fujitsu', u'Capgemini', u'Xiaomi', u'Linear Technology', u'Compal Electronics', u'KPN', u'CGI Group', u'Liberty Global', u'Safeco', u'Flextronics', u'Autodesk', u'Qualcomm', u'Celestica', u'NXP Semiconductors', u'Telenor', u'Computer Sciences Corporation', u'Groupon', u'Nikon', u'United Microelectronics Corporation', u'Oracle Corporation', u'Idea Cellular', u'Electronic Arts', u'Ericsson', u'Vertex Pharmaceuticals', u'Marvell Technology Group', u'Nokia', u'Nike, Inc.', u'Nordstrom', u'Motorola Mobility', u'UnitedHealth Group', u'Express Scripts', u'BT Group', u'Hisense', u'Alibaba Group', u'Indra Sistemas', u'Viacom', u\"Moody's\", u'Verizon Communications', u'IBM', u'Baidu', u\"O'Reilly Auto Parts\", u'Verisk Analytics', u'NTT DoCoMo', u'Tokyo Electron', u'Take-Two Interactive', u'Vivendi', u\"McDonald's\", u'Avaya', u'Caterpillar Inc.', u'Gilead Sciences', u'Casio', u'VMware', u'Whole Foods Market', u'Novell', u'True Corporation', u'Analog Devices', u'Zune', u'Advanced Micro Devices', u'Starbucks', u'CSX Corporation', u'Boeing', u'Intel', u'Sharp Corporation', u'ZTE', u'Eddie Bauer', u'GlobalFoundries', u'BBC', u'Bell Canada', u'21st Century Fox', u'S&P 100', u'Reliance Communications', u'Cisco Systems', u'Nvidia', u'I-Mobile', u'CenturyLink', u'JPMorgan Chase', u'Yahoo!', u'Automatic Data Processing', u'Micron Technology', u'Twitter', u'Maxim Integrated', u'Goldman Sachs', u'Panasonic', u'The Home Depot', u'Transcend Information', u'Chevron Corporation', u'Dow Jones Industrial Average', u'General Electric', u'Johnson & Johnson', u'Citrix Systems', u'Naver Corporation', u'Foxconn', u'PayPal', u'Bharat Sanchar Nigam Limited', u'LinkedIn', u'Infineon Technologies', u'Acer Inc.', u'Nintendo', u'Lava Mobiles', u'Honeywell', u'Akamai Technologies', u'China Unicom', u'Viettel', u'Bed Bath & Beyond', u'Jones Soda', u'Weyerhaeuser', u'VIA Technologies', u'Atos', u'Hewlett Packard Enterprise', u'Cerner', u'Karbonn Mobiles', u'ADATA', u'Tesla Motors', u'Illumina (company)', u'Salesforce.com', u'Netflix', u'Intuitive Surgical', u'Texas Instruments', u'The Coca-Cola Company', u'Tata Consultancy Services', u'Mattel', u'Seiko Epson', u'Deutsche Telekom', u'Rakuten', u'Paychex', u'Yahoo', u'Stericycle', u'CACI', u'Activision Blizzard', u'Google', u'Alexion Pharmaceuticals', u'Henry Schein', u'The Walt Disney Company', u'Bungie', u'Oi (telecommunications)', u'Celgene', u'Kyocera', u'Tencent', u'ExxonMobil'])}\n"
     ]
    }
   ],
   "source": [
    "%%time\n",
    "# get content key: company name, value: json\n",
    "for com_name in tmp_com_dat.keys():\n",
    "    # skip already parsed links like Volkswagen from above\n",
    "    if 'links' in tmp_com_dat[com_name]:\n",
    "        continue\n",
    "\n",
    "    title = u'titles={0}'.format(urllib.quote_plus(\n",
    "            com_name.encode('utf-8')))\n",
    "    # concatenate wikipedia query\n",
    "    url = u'{0}?{1}&{2}&{3}&{4}'.format(baseurl, action, title, dataformat, content)\n",
    "    tmp_com_dat[com_name] = get_c_interlinks(url, title, tmp_com_dat[com_name])"
   ]
  },
  {
   "cell_type": "code",
   "execution_count": 104,
   "metadata": {
    "collapsed": false
   },
   "outputs": [],
   "source": [
    "# store company data in one binary file\n",
    "with open('{0}/extraction3_data.pkl'.format(directory), 'wb') as f:\n",
    "    pickle.dump(tmp_com_dat, f)"
   ]
  }
 ],
 "metadata": {
  "anaconda-cloud": {},
  "kernelspec": {
   "display_name": "Python 2",
   "language": "python",
   "name": "python2"
  },
  "language_info": {
   "codemirror_mode": {
    "name": "ipython",
    "version": 2
   },
   "file_extension": ".py",
   "mimetype": "text/x-python",
   "name": "python",
   "nbconvert_exporter": "python",
   "pygments_lexer": "ipython2",
   "version": "2.7.12+"
  }
 },
 "nbformat": 4,
 "nbformat_minor": 0
}
