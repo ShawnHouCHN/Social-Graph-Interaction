{
 "cells": [
  {
   "cell_type": "markdown",
   "metadata": {},
   "source": [
    "** 02805 Social graphs and interactions **\n",
    "\n",
    "# Data Extraction Part 2"
   ]
  },
  {
   "cell_type": "code",
   "execution_count": 31,
   "metadata": {
    "collapsed": false
   },
   "outputs": [
    {
     "name": "stdout",
     "output_type": "stream",
     "text": [
      "Once deleted, variables cannot be recovered. Proceed (y/[n])? n\n",
      "Nothing done.\n"
     ]
    }
   ],
   "source": [
    "# IPython global cell magic\n",
    "%reset\n",
    "%matplotlib inline\n",
    "\n",
    "# import all necessary packages\n",
    "import bs4 # HTML parser\n",
    "from collections import Counter, OrderedDict # counting elements and ordering keys in dictionaries\n",
    "import community # python-louvain package\n",
    "from __future__ import division # all numbers are float\n",
    "import geopy # get geo location according to addresses\n",
    "import datetime # handle date objects\n",
    "import dateparser # parse any (also foreign) date format to object: https://pypi.python.org/pypi/dateparser\n",
    "import itertools # iterators for efficient looping\n",
    "import json # JSON parser\n",
    "import math # math operations\n",
    "from matplotlib import pyplot as plt # plotting figures\n",
    "import mwparserfromhell # parse MediaWiki syntax: https://github.com/earwig/mwparserfromhell\n",
    "from nameparser import HumanName # parse a human name\n",
    "import networkx as nx # networks creation library\n",
    "import nltk # natural language processing\n",
    "from nltk.stem import WordNetLemmatizer\n",
    "from nltk.tokenize import RegexpTokenizer\n",
    "import operator # efficient operator functions\n",
    "import os # operating system operations, e.g.: with files and folders\n",
    "import pandas as pd # use easy-to-use data frames for data analysis\n",
    "import pickle # python data structures as files\n",
    "from pprint import pprint # print data structures prettier\n",
    "import re # regex\n",
    "import requests # request URL content\n",
    "import time # sleep timer\n",
    "from tqdm import tqdm_notebook # make a nice progressbar\n",
    "import urllib # handle special URL chars\n",
    "\n",
    "# make working directory\n",
    "directory = os.getcwd() + '/companies'\n",
    "if not os.path.exists(directory):\n",
    "    os.makedirs(directory)\n",
    "\n",
    "# files\n",
    "ex1_fdat = directory + '/extraction1_data.pkl'\n",
    "ex2_fdat = directory + '/extraction2_data.pkl'\n",
    "ex3_tmp_fdat = directory + '/tmp_extraction3_data.pkl'\n",
    "ex3_fdat = directory + '/extraction3_data.pkl'\n",
    "merged = directory + '/merged_data.pkl'\n",
    "extraction_csv = directory + '/company_data.csv'"
   ]
  },
  {
   "cell_type": "code",
   "execution_count": 2,
   "metadata": {
    "collapsed": false
   },
   "outputs": [],
   "source": [
    "def get_company_pages(url, companies):\n",
    "    # request first page\n",
    "    r = requests.get(url)\n",
    "    soup = bs4.BeautifulSoup(r.text, 'lxml')\n",
    "    # find all li elements in ul with links\n",
    "    table = soup.find(\"table\", attrs={\"class\": \"wikitable\"})\n",
    "    rows = table.find_all(\"tr\")\n",
    "    \n",
    "    for row in rows:\n",
    "        cells = row.find_all(\"td\")\n",
    "        if cells:\n",
    "            a = cells[1].find('a', href=True)\n",
    "            wiki_name = a.get_text()\n",
    "            companies[wiki_name] = {\n",
    "                'wiki_name': wiki_name.strip(),\n",
    "                'wiki_url': a['href'],\n",
    "                'name_url_quoted': urllib.quote_plus(wiki_name.encode('utf-8'))}\n",
    "\n",
    "    # request more pages in recursive loop following \"next 1000 entries\" link\n",
    "    content = soup.find(\"div\", attrs={\"id\": \"content\"})\n",
    "    next_link = content.find('a', href=True, text='Next 1000 entries')\n",
    "    if next_link:\n",
    "        companies = get_company_pages(next_link['href'], companies)\n",
    "\n",
    "    return companies"
   ]
  },
  {
   "cell_type": "code",
   "execution_count": 3,
   "metadata": {
    "collapsed": false
   },
   "outputs": [
    {
     "name": "stdout",
     "output_type": "stream",
     "text": [
      "47858 companies were extracted.\n"
     ]
    }
   ],
   "source": [
    "# parse HTML\n",
    "wiki_company_articles = u'https://tools.wmflabs.org/enwp10/cgi-bin/list2.fcgi?run=yes&projecta=Company&limit=1000'\n",
    "\n",
    "companies = get_company_pages(wiki_company_articles, dict())\n",
    "print len(companies), \"companies were extracted.\""
   ]
  },
  {
   "cell_type": "code",
   "execution_count": 4,
   "metadata": {
    "collapsed": false
   },
   "outputs": [],
   "source": [
    "# load data from first extraction\n",
    "extract1 = dict()\n",
    "if os.path.isfile(ex1_fdat):\n",
    "    with open(ex1_fdat, 'rb') as f:\n",
    "        extract1 = pickle.load(f)"
   ]
  },
  {
   "cell_type": "code",
   "execution_count": 6,
   "metadata": {
    "collapsed": false,
    "scrolled": true
   },
   "outputs": [
    {
     "name": "stdout",
     "output_type": "stream",
     "text": [
      "data from wmflabs.org: {'name_url_quoted': 'AT%26T', 'wiki_url': 'https://en.wikipedia.org/w/index.php?title=AT%26T', 'wiki_name': u'AT&T'}\n",
      "data with infobox company: https://en.wikipedia.org/w/index.php?title=AT%26T\n",
      "[u'Category:Companies established in the 1640s', u'Nordisk Mobiltelefon (Sweden)', u'Candover Investments', u'J.O.B. Records', u'\\xc7al\\u0131k Holding', u'Hansabank', u'Gunvor (company)', u'Inditex', u'Memphis Running Tours', u'Handheld Group', u'Taiwan Sugar Corporation', u'Trelleborg (company)', u'Other World Computing', u'Idlebrain.com', u'Category:Railway companies established in 1980', u'Nails Inc.', u'Duckworth Overlook', u'Washington Gas', u'Eveve', u'List of stuffed toy manufacturers']\n"
     ]
    }
   ],
   "source": [
    "company = 'AT&T'\n",
    "print \"data from wmflabs.org:\", companies[company]\n",
    "\n",
    "if extract1 and company in extract1:\n",
    "    print \"data with infobox company:\", extract1[company]['wiki_url']\n",
    "\n",
    "# some lists are included that are definetly not companies\n",
    "print companies.keys()[0:20]"
   ]
  },
  {
   "cell_type": "code",
   "execution_count": 7,
   "metadata": {
    "collapsed": true
   },
   "outputs": [],
   "source": [
    "def get_json_from_url(url):\n",
    "    r = requests.get(url)\n",
    "    \n",
    "    # on HTML error codes\n",
    "    if r.status_code != 200:\n",
    "        return None\n",
    "\n",
    "    # try converting into JSON\n",
    "    try:\n",
    "        sec = r.json()\n",
    "        return sec\n",
    "    except ValueError:  # includes simplejson.decoder.JSONDecodeError\n",
    "        print 'WARN: Decoding JSON has failed on:', url\n",
    "    return None"
   ]
  },
  {
   "cell_type": "code",
   "execution_count": 8,
   "metadata": {
    "collapsed": true
   },
   "outputs": [],
   "source": [
    "def parse_date(date):\n",
    "    if date:\n",
    "        dateparser.parse(date, settings={\n",
    "            'PREFER_DATES_FROM': 'past',\n",
    "            'DATE_ORDER': 'YMD'})\n",
    "    return date"
   ]
  },
  {
   "cell_type": "code",
   "execution_count": 30,
   "metadata": {
    "collapsed": false
   },
   "outputs": [],
   "source": [
    "def get_c_info(company):\n",
    "    \"\"\"Get wiki links, verify company existance and get additional data\"\"\"\n",
    "    \n",
    "    link_url = u'{0}{1}?{2}&{3}&{4}&page={5}'.format(\n",
    "        wiki_base, wiki_api, action, dat_format, properties, company['name_url_quoted'])\n",
    "\n",
    "    c_content = get_json_from_url(link_url)\n",
    "    if not c_content or 'parse' not in c_content:\n",
    "        print 'No parsable content on:', link_url\n",
    "        company['is_company'] = False\n",
    "        return company\n",
    "\n",
    "    # add certain fields\n",
    "    company['wiki_page_id'] = c_content['parse']['pageid']\n",
    "    company['wiki_api_url'] = link_url\n",
    "    company['all_links'] = [x['*'] for x in c_content['parse']['links'] if x['ns'] == 0]\n",
    "    company['wiki_raw'] = c_content['parse']['wikitext']['*']\n",
    "    # name can not be found in an infobox\n",
    "    company['name'] = c_content['parse']['title']\n",
    "    \n",
    "    # check company on OpenCorporates to verify existance\n",
    "    # see: https://api.opencorporates.com/documentation/API-Reference\n",
    "    # example: https://api.opencorporates.com/v0.4/companies/search?q=Anglo-Persian%20Oil%20Company\n",
    "    oc_api_base = 'https://api.opencorporates.com/v0.4/companies'\n",
    "    # normalise_company_name=true - \n",
    "    # order=score - sort after score not alphabetic\n",
    "    oc_properties = '&normalise_company_name=true&order=score'\n",
    "    company['oc_api_search_url'] = '{0}/search?q={1}{2}'.format(oc_api_base, company['name_url_quoted'], oc_properties)\n",
    "        \n",
    "    # get data\n",
    "    oc_resp = get_json_from_url(company['oc_api_search_url'])  \n",
    "    # return if there are no results for the company\n",
    "    if not oc_resp or not oc_resp['results']:\n",
    "        company['is_company'] = False\n",
    "        return company\n",
    "    \n",
    "    # take the first company with highest score if results\n",
    "    results = oc_resp['results']['companies']\n",
    "    if not results:\n",
    "        company['is_company'] = False\n",
    "        return company\n",
    "    comp = results[0]['company']\n",
    "    # set all the fields that match with what can be gathered from Infobox company template\n",
    "    company['name'] = comp['name']\n",
    "    company['type'] = comp['company_type']   \n",
    "    company['defunct'] = parse_date(comp['dissolution_date'])\n",
    "    company['founded'] = parse_date(comp['incorporation_date'])\n",
    "    if comp['registered_address']:\n",
    "        company['location_country'] = comp['registered_address']['country']\n",
    "        company['location_city'] = comp['registered_address']['locality']\n",
    "        company['location'] = comp['registered_address']['street_address']\n",
    "\n",
    "    # look if there is any network data on OC\n",
    "    # difficult because search for BP does not necessarily return the right company\n",
    "    # also OC has network data only for a very small subset\n",
    "    company['oc_api_url'] = '{0}/{1}/{2}'.format(\n",
    "        oc_api_base, comp['jurisdiction_code'], comp['company_number'])\n",
    "    company['oc_api_network_url'] = company['oc_api_url'] + '/network'\n",
    "    c_network = get_json_from_url(company['oc_api_network_url'])\n",
    "    if c_network and c_network['results']:\n",
    "        print \"Company network found for:\", company['wiki_name'], company['oc_api_network_url']\n",
    "\n",
    "    # otherwise save it as new company\n",
    "    company['is_company'] = True\n",
    "    return company"
   ]
  },
  {
   "cell_type": "code",
   "execution_count": 10,
   "metadata": {
    "collapsed": false
   },
   "outputs": [],
   "source": [
    "# https://en.wikipedia.org/w/api.php?action=parse&page=Audi&prop=links|wikitext\n",
    "wiki_base = u'https://en.wikipedia.org'\n",
    "wiki_api = u'/w/api.php'\n",
    "action = u'action=parse'\n",
    "dat_format = u'format=json'\n",
    "properties = u'prop=links|wikitext'"
   ]
  },
  {
   "cell_type": "code",
   "execution_count": 11,
   "metadata": {
    "collapsed": false,
    "scrolled": true
   },
   "outputs": [
    {
     "name": "stdout",
     "output_type": "stream",
     "text": [
      "Company Anglo-Persian Oil Company does not exist in extraction 1.\n",
      "Excerpt of Anglo-Persian Oil Company dict structure:\n",
      "{'all_links': [u\"1953 Iranian coup d'\\xe9tat\",\n",
      "               u'2007 Gasoline Rationing Plan in Iran',\n",
      "               u'2009 Bond Helicopters Eurocopter AS332 crash',\n",
      "               u'ARCO',\n",
      "               u'ARCO Arena',\n",
      "               u'ARCO Tower',\n",
      "               u'Abadan, Iran',\n",
      "               u'Abadan Crisis',\n",
      "               u'Abadan Crisis timeline',\n",
      "               u'Abadan Refinery',\n",
      "               u'Abdication',\n",
      "               u'Abdolhossein Teymourtash',\n",
      "               u'Acropolis Rally',\n",
      "               u'Ahmadabad-e Mosaddeq',\n",
      "               u'Air BP',\n",
      "               u'Akaki Khoshtaria',\n",
      "               u'Ali Razmara',\n",
      "               u\"All the Shah's Men\",\n",
      "               u'Allies of World War II',\n",
      "               u'Alyeska Pipeline Service Company',\n",
      "               u'Amoco',\n",
      "               u'Amoco Building (New Orleans)',\n",
      "               u'Amoco Milford Haven',\n",
      "               u'Ampm',\n",
      "               u'Anglo-Persian Agreement',\n",
      "               u'Anglo-Soviet invasion of Iran',\n",
      "               u'Anglo-lranian Oil Co. (United Kingdom v. Iran)',\n",
      "               u'Aon Center (Chicago)',\n",
      "               u'Aral AG',\n",
      "               u'Aramco',\n",
      "               u'Asaluyeh',\n",
      "               u'Atlantis PQ',\n",
      "               u'Atomic Energy Organization of Iran',\n",
      "               u'Azarab Industries Company',\n",
      "               u'BP',\n",
      "               u'BP America Production Co. v. Burton',\n",
      "               u'BP Canada',\n",
      "               u'BP Connect',\n",
      "               u'BP National Championships',\n",
      "               u'BP Pedestrian Bridge',\n",
      "               u'BP Portrait Award',\n",
      "               u'BP Professor of Organic Chemistry',\n",
      "               u'BP Prudhoe Bay Royalty Trust',\n",
      "               u'BP Shipping',\n",
      "               u'BP Solar',\n",
      "               u'BP Structure',\n",
      "               u'Bob Dudley',\n",
      "               u'British Petroleum',\n",
      "               u'British Tanker Company',\n",
      "               u'Britoil',\n",
      "               u'Burmah Oil',\n",
      "               u'Burmah Oil Co. v Lord Advocate',\n",
      "               u'Bushehr Nuclear Power Plant',\n",
      "               u'CIA',\n",
      "               u'Calouste Gulbenkian',\n",
      "               u'Cambridge University Press',\n",
      "               u'Carl-Henric Svanberg',\n",
      "               u'Caspian Sea',\n",
      "               u'Castrol',\n",
      "               u'Central Bank of the Islamic Republic of Iran',\n",
      "               u'Commonwealth Oil Refineries',\n",
      "               u'Construction industry of Iran',\n",
      "               u'Consumer Price Index (United Kingdom)',\n",
      "               u\"D'Arcy Concession\",\n",
      "               u'DESA (company)',\n",
      "               u'Dariush Forouhar',\n",
      "               u'Darkhovin Nuclear Power Plant',\n",
      "               u'Dauletabad\\u2013Sarakhs\\u2013Khangiran pipeline',\n",
      "               u'David S. Painter',\n",
      "               u'Deepwater Horizon',\n",
      "               u'Deepwater Horizon explosion',\n",
      "               u'Deepwater Horizon oil spill',\n",
      "               u'Doug Suttles',\n",
      "               u'Economy of Iran',\n",
      "               u'Encyclop\\xe6dia Iranica',\n",
      "               u'Energy in Iran',\n",
      "               u'Energy superpower',\n",
      "               u'Environmental issues in Iran',\n",
      "               u'FPSO Noble Seillean',\n",
      "               u'Fazlollah Zahedi',\n",
      "               u'Ford World Rally Team',\n",
      "               u'Fordow Fuel Enrichment Plant',\n",
      "               u'Foreign direct investment in Iran',\n",
      "               u'Fuel oil',\n",
      "               u'Gas Exporting Countries Forum',\n",
      "               u'Georgetown University',\n",
      "               u'Gulf Oil',\n",
      "               u'Haj Ali Razmara',\n",
      "               u'Harry S. Truman',\n",
      "               u'Hassan Taqizadeh',\n",
      "               u'Helios House',\n",
      "               u'Henry F. Grady',\n",
      "               u'Holding company',\n",
      "               u'Hossein Fatemi',\n",
      "               u'I.B.Tauris',\n",
      "               u'IR-40',\n",
      "               u'Industrial Development and Renovation Organization of Iran',\n",
      "               u'International Court of Justice',\n",
      "               u'International Standard Book Number',\n",
      "               u'Iolair',\n",
      "               u'Iran',\n",
      "               u'Iran-Iraq-Syria pipeline',\n",
      "               u'Iran Gas Trunkline',\n",
      "               u'Iran LNG',\n",
      "               u'Iran Shipbuilding & Offshore Industries Complex',\n",
      "               u'Iranian Central Oil Fields Company',\n",
      "               u'Iranian Offshore Engineering and Construction Company',\n",
      "               u'Iranian Offshore Oil Company',\n",
      "               u'Iranian nationalism',\n",
      "               u'Iranian oil bourse',\n",
      "               u'Iranian subsidy reform plan',\n",
      "               u'Iran\\u2013Armenia gas pipeline',\n",
      "               u'Iran\\u2013Pakistan gas pipeline',\n",
      "               u'Iraq',\n",
      "               u'Iraq Petroleum Company',\n",
      "               u'Irish Independent',\n",
      "               u'John Browne, Baron Browne of Madingley',\n",
      "               u'John Cadman, 1st Baron Cadman',\n",
      "               u'John Wiley & Sons',\n",
      "               u'Joint Comprehensive Plan of Action',\n",
      "               u'Kharg Island',\n",
      "               u'Khatam al-Anbia',\n",
      "               u'Kingdom of Iraq (Mandate administration)',\n",
      "               u'Kingsbury Oil Terminal',\n",
      "               u'Kirkuk',\n",
      "               u'Korean War',\n",
      "               u'Korpeje\\u2013Kordkuy pipeline',\n",
      "               u'L.P. Elwell-Sutton',\n",
      "               u'List of dams and reservoirs in Iran',\n",
      "               u'List of power stations in Iran',\n",
      "               u'List of the First Lords of the Admiralty',\n",
      "               u'Llandarcy oil refinery',\n",
      "               u'London',\n",
      "               u'MAPNA',\n",
      "               u'MTN 8',\n",
      "               u'Mad Dog (oil platform)',\n",
      "               u'Majles',\n",
      "               u'Marius Vassiliou',\n",
      "               u'Marun petrochemical complex',\n",
      "               u'Masjed Soleiman',\n",
      "               u'Ministry of Energy (Iran)',\n",
      "               u'Ministry of Petroleum (Iran)',\n",
      "               u'Mohammad Mossadegh',\n",
      "               u'Mohammed Mossadegh',\n",
      "               u'Mohammed Reza Pahlavi',\n",
      "               u'Mount Morgan, Queensland',\n",
      "               u'Mozaffar al-Din Shah Qajar',\n",
      "               u'Nabucco pipeline',\n",
      "               u'Naftiran Intertrade',\n",
      "               u'National Benzole',\n",
      "               u'National Development Fund of Iran',\n",
      "               u'National Iranian Gas Company',\n",
      "               u'National Iranian Oil Company',\n",
      "               u'National Iranian Oil Refining and Distribution Company',\n",
      "               u'National Iranian Petrochemical Company',\n",
      "               u'National Iranian South Oil Company',\n",
      "               u'National Iranian Tanker Company',\n",
      "               u'National Petrochemical Company',\n",
      "               u'Natural World Book Prize',\n",
      "               u'Natural gas',\n",
      "               u'Natural gas reserves in Iran',\n",
      "               u'Neka\\u2013Jask pipeline',\n",
      "               u'Northstar Island',\n",
      "               u'Nuclear facilities in Iran',\n",
      "               u'Nuclear power',\n",
      "               u'Nuclear program of Iran',\n",
      "               u'OPEC',\n",
      "               u'Oil crisis of 1973',\n",
      "               u'Oil field',\n",
      "               u'Oil fields operated by BP',\n",
      "               u'Oil gusher',\n",
      "               u'Oil refinery',\n",
      "               u'Oil reserves',\n",
      "               u'Oil reserves in Iran',\n",
      "               u'Oil reserves in Iraq',\n",
      "               u'Oil shale',\n",
      "               u'Oil tanker',\n",
      "               u'Opal (fuel)',\n",
      "               u'Operation Ajax',\n",
      "               u'Ottoman Empire',\n",
      "               u'Persian Corridor',\n",
      "               u'Persian Empire',\n",
      "               u'Persian LNG',\n",
      "               u'Persian Pipeline',\n",
      "               u'Petrochemical',\n",
      "               u'Petroleum',\n",
      "               u'Petroleum industry',\n",
      "               u'Petroleum industry in Iran',\n",
      "               u'Pipeline transport',\n",
      "               u'Privatization in Iran',\n",
      "               u'Prudhoe Bay oil spill',\n",
      "               u'Public limited company',\n",
      "               u'Queensland',\n",
      "               u'Red Line Agreement',\n",
      "               u'Reza Shah',\n",
      "               u'Richfield Tower',\n",
      "               u'Robert Horton (businessman)',\n",
      "               u'Robert Orville Anderson',\n",
      "               u'Rosneft',\n",
      "               u'Royal Dutch-Shell',\n",
      "               u'Royal Dutch Shell',\n",
      "               u'Royal Navy',\n",
      "               u'SADRA',\n",
      "               u'Sanctions against Iran',\n",
      "               u'Sangachal Terminal',\n",
      "               u'Saudi Aramco',\n",
      "               u'Scotland',\n",
      "               u'Sea Quest',\n",
      "               u'Secret Intelligence Service',\n",
      "               u'Secular',\n",
      "               u'Seven Sisters (oil companies)',\n",
      "               u'Shale oil',\n",
      "               u'Shell-Mex and BP',\n",
      "               u'South Pars / North Dome Gas-Condensate field',\n",
      "               u'Soviet Union',\n",
      "               u'Standard Oil',\n",
      "               u'Standard Oil of Ohio',\n",
      "               u'Stephen Kinzer',\n",
      "               u'Strait of Hormuz',\n",
      "               u'Suez Canal',\n",
      "               u'Sullom Voe Terminal',\n",
      "               u'Sylvia Baca',\n",
      "               u'Tabriz\\u2013Ankara pipeline',\n",
      "               u'Taxation in Iran',\n",
      "               u'Texas City Refinery explosion',\n",
      "               u'Thunder Horse PDQ',\n",
      "               u'Timeline of the nuclear program of Iran',\n",
      "               u'Tony Hayward',\n",
      "               u'Torrey Canyon oil spill',\n",
      "               u'Total S.A.',\n",
      "               u'Transport in Iran',\n",
      "               u'United Kingdom',\n",
      "               u'William Fraser, 1st Baron Strathalmond',\n",
      "               u\"William Knox D'Arcy\",\n",
      "               u'Wind power',\n",
      "               u'Wind power in Iran',\n",
      "               u'Winston Churchill',\n",
      "               u'World War I',\n",
      "               u'World War II',\n",
      "               u'Muhammad Ali Jamalzadeh',\n",
      "               u'George Bernard Reynolds',\n",
      "               u'Iran-Oman pipeline'],\n",
      " 'is_company': False,\n",
      " 'name': u'Anglo-Persian Oil Company',\n",
      " 'name_url_quoted': 'Anglo-Persian+Oil+Company',\n",
      " 'oc_api_search_url': 'https://api.opencorporates.com/v0.4/companies/search?q=Anglo-Persian+Oil+Company&normalise_company_name=true&order=score',\n",
      " 'wiki_api_url': u'https://en.wikipedia.org/w/api.php?action=parse&format=json&prop=links|wikitext&page=Anglo-Persian+Oil+Company',\n",
      " 'wiki_name': u'Anglo-Persian Oil Company',\n",
      " 'wiki_page_id': 866367,\n",
      " 'wiki_raw': u'The \\'\\'\\'Anglo-Persian Oil Company\\'\\'\\' (\\'\\'\\'APOC\\'\\'\\') was a British company founded in 1908 following the discovery of a large [[oil field]] in [[Masjed Soleiman]], [[Iran]]. It was the first company to extract [[petroleum]] from [[Iran]]. In 1935 APOC was renamed the \\'\\'\\'Anglo-Iranian Oil Company\\'\\'\\' (\\'\\'\\'AIOC\\'\\'\\') and in 1954 it became the British Petroleum Company (BP), one of the antecedents of the modern [[BP]] [[public limited company]].\\n\\n== The D\\'Arcy oil concession ==\\n[[File:POI palayeshgah 2 Nevit.jpg|thumbnail]]\\n=== Exploration and discovery ===\\n[[File:POI old173 Nevit.jpg|thumbnail]]\\nIn 1901 [[William Knox D\\'Arcy]], a millionaire [[London]] socialite, negotiated an [[D\\'Arcy Concession|oil concession]] with [[Mozaffar al-Din Shah Qajar]] of [[Persian Empire|Persia]]. He financed this with capital he had made from his shares in the highly profitable [[Mount Morgan, Queensland|Mount Morgan]] mine in [[Queensland]], Australia. D\\'Arcy assumed exclusive rights to prospect for oil for 60 years in a vast tract of territory including most of Iran. In exchange the Shah received \\xa320,000 (\\xa3{{formatnum:{{inflation|UK|0.020000|1901|r=1}}}} million today{{inflation-fn|UK}}), an equal amount in shares of D\\'Arcy\\'s company, and a promise of 16% of future profits.<ref name = \"Kinzer 2003 48\">{{Harvnb|Kinzer|2003|p=48}}.</ref><ref name=\"bio\">{{cite web|url=http://adb.anu.edu.au/biography/darcy-william-knox-5882|title=Australian Dictionary of Biography|publisher=Adb.online.anu.edu.au|accessdate=5 June 2010}}</ref>\\n\\nD\\'Arcy hired geologist [[George Bernard Reynolds]] to do the prospecting in the Iranian desert. Conditions were extremely harsh: \"small pox raged, bandits and warlords ruled, water was all but unavailable, and temperatures often soared past 50\\xb0C\".<ref name = \"Kinzer 2003 48~49\">{{Harvnb|Kinzer|2003|pp=48\\u20139}}.</ref> After several years of prospecting, D\\'Arcy\\'s fortune dwindled away and he was forced to sell most of his rights to a Glasgow-based syndicate, the [[Burmah Oil|Burmah Oil Company]].\\n\\nBy 1908 having sunk more than \\xa3500,000 into their Persian venture and found no oil, D\\'Arcy and Burmah decided to abandon exploration in Iran. In early May 1908 they sent Reynolds a telegram telling him that they had run out of money and ordering him to \"cease work, dismiss the staff, dismantle anything worth the cost of transporting to the coast for re-shipment, and come home.\" Reynolds delayed following these orders and in a stroke of luck, struck oil shortly after on May 26, 1908.<ref name = \"Kinzer 2003 48~49\"/>\\n\\n===Creation of APOC===\\nOn 14 April 1909, Burmah Oil created the Anglo-Persian Oil Company (APOC) as a subsidiary and also sold shares to the public.<ref name=Gasson>{{cite web|url=http://www.busman.qmul.ac.uk/abh/archive5.htm|title=Home: The BP Archive|accessdate=2007-06-09|author=Michael Gasson (Former Group Archivist, BP Archive)|work=Business History Links: Business Archives:|publisher=Association of Business Historians (abh)|archiveurl=https://web.archive.org/web/20070210043340/http://www.busman.qmul.ac.uk/abh/archive5.htm|archivedate=2007-02-10}}</ref>\\n\\nVolume production of Persian [[Petroleum|oil]] products eventually started in 1913 from a refinery built at [[Abadan, Iran|Abadan]], for its first 50 years the largest oil refinery in the world (see [[Abadan Refinery]]). In 1913, shortly before World War I, APOC managers negotiated with a new customer, [[Winston Churchill]], who was then [[List of the First Lords of the Admiralty|First Lord of the Admiralty]]. Churchill, as a part of a three-year expansion program, sought to modernize Britain\\'s [[Royal Navy]] by abandoning the use of coal-fired steamships and adopting oil as fuel for its ships instead. Although Britain had large reserves of coal, oil had advantages in better energy density, allowing a longer steaming range for a ship for the same [[Fuel oil#Bunker fuel|bunker]] capacity. Furthermore, Churchill wanted to free Britain from its reliance on the [[Standard Oil]] and [[Royal Dutch-Shell]] oil companies. In exchange for secure oil supplies for its ships, the British government injected new capital into the company and, in doing so, acquired a controlling interest in APOC. The contract that was set up between the British Government and APOC was to hold for 20 years. The British government also became a de facto hidden power behind the oil company.<ref>{{cite web|url=http://news.bbc.co.uk/1/hi/business/the_company_file/149259.stm|title=\"From Anglo-Persian Oil to BP Amoco\" August 11, 1998 BBC|publisher=BBC News|date=1998-08-11|accessdate=2013-03-31}}</ref>\\n\\nAPOC took a 50% share in a new Turkish Petroleum Company (TPC) organized in 1912 by [[Calouste Gulbenkian]] to explore and develop oil resources in the [[Ottoman Empire]]. After a hiatus caused by [[World War I]] it reformed and struck an immense [[oil gusher|gusher]] at [[Kirkuk]], [[Iraq]] in 1927, renaming itself the [[Iraq Petroleum Company]].\\n\\nIn 1920, the APOC also acquired a northern oil concession that had been formally granted in 1916 to a former Russian subject, the Georgian [[Akaki Khoshtaria]]. To manage this new acquisition, the APOC formed a new subsidiary, the North Persia Oil Company, but the Iranians refused to accept the new company, giving rise to a lingering dispute over the northern Iranian oil.<ref name=\"iranica\">Kazemi, F. (December 15, 1985), \"Anglo-Persian Oil Company\", in: \\'\\'[[Encyclop\\xe6dia Iranica]]\\'\\', Vol. II, Fasc. 1. [http://www.iranicaonline.org/articles/anglo-persian-oil-company Iranica Online (Last Updated: August 5, 2011)]. Accessed April 16, 2012.</ref>{{rp|61-65}}\\n\\nDuring this period, Iranian popular opposition to the D\\'Arcy oil concession and royalty terms whereby Iran only received 16% of net profits was widespread. Since industrial development and planning, as well as other fundamental reforms were predicated on oil revenues, the government\\'s lack of control over the oil industry served to accentuate the Iranian Government\\'s misgivings regarding the manner in which APOC conducted its affairs in Iran. Such a pervasive atmosphere of dissatisfaction seemed to suggest that a radical revision of the concession terms would be possible. Moreover, owing to the introduction of reforms that improved fiscal order in Iran, APOC\\'s past practice of cutting off advances in oil royalties when its demands were not met had lost much of its sting.\\n\\nIn 1923, Burmah employed Winston Churchill as a paid consultant to lobby the British government to allow APOC to have exclusive rights to [[Iran|Persian]] oil resources, which were subsequently granted.<ref>{{cite news|url=http://www.independent.ie/opinion/columnists/kevin-myers/the-greatest-20th-century-beneficiary-of-popular-mythology-has-been-the-cad-churchill-1876680.html|newspaper=[[Irish Independent]]|first=Kevin|last=Myers|title=The greatest 20th century beneficiary of popular mythology has been the cad Churchill|date=3 September 2009|accessdate=9 September 2012}}</ref> In 1925, TPC received concession in the [[Oil reserves in Iraq|Mesopotamian oil resources]] from the [[Kingdom of Iraq (Mandate administration)|Iraqi government]] under British mandate. TPC finally struck oil in Iraq on 14 October 1927. In 1928, the APOC\\'s shareholding in TPC, which by now was named [[Iraq Petroleum Company]] (IPC), would be reduced to 23.75%; as the result of the changing geopolitics post Ottoman Empire break-up, and the [[Red Line Agreement]].<ref name=GT-DEX-1920-78>{{cite web|title=MILESTONES: 1921\\u20131936, The 1928 Red Line Agreemen|url=http://history.state.gov/milestones/1921-1936/RedLine|work=US Department of State|accessdate=18 August 2012}}</ref>\\n\\n===Renegotiating of terms by Iran===\\n{{refimprove section|date=July 2009}}\\nThe attempt to revise the terms of the oil concession on a more favourable basis for Iran led to protracted negotiations that took place in Tehran, Lausanne, London and Paris between [[Abdolhossein Teymourtash]], Iran\\'s Minister of Court 1925\\u201332 and its nominal Minister of Foreign Affairs, and the Chairman of APOC, [[John Cadman, 1st Baron Cadman|John Cadman]], spanned 1928\\u201332. The overarching argument for revisiting the terms of the D\\'Arcy Agreement on the Iranian side was that its national wealth was being squandered by a concession that was granted in 1901 by a previous non-constitutional government forced to agree to inequitable terms under duress. In order to buttress his position in talks with the British, Teymourtash retained the expertise of French and Swiss oil experts.\\n\\nIran demanded a revision of the terms whereby Iran would be granted 25% of APOC\\'s total shares. To counter British objections, Teymourtash would state that \"if this had been a new concession, the Persian Government would have insisted not on 25 percent but on a 50\\u201350 basis. Teymourtash also asked for a minimum guaranteed interest of 12.5% on dividends from the shares of the company, plus 2s per ton of oil produced. In addition, he specified that the company was to reduce the existing area of the concession. The intent behind reducing the area of the concession was to push APOC operations to the southwest of the country so as to make it possible for Iran to approach and lure other oil companies to develop oilfields on more equitable terms in areas not part of APOC\\'s area of concession.\\n\\nApart from demanding a more equitable share of the profits of the Company, an issue that did not escape Teymourtash\\'s attention was that the flow of transactions between APOC and its various subsidiaries deprived Iran of gaining an accurate and reliable appreciation of APOC\\'s full profits. As such, he demanded that the company register itself in Tehran as well as London, and the exclusive rights of transportation of the oil be returned to the Iranian government. In fact in the midst of the negotiations in 1930, the Iranian [[Majles#Imperial State of Iran- National Consultative Assembly|National Consultative Assembly]] approved a bill whereby foreign companies would be required to pay a 4 percent tax on prospective profits earned in Iran.\\n\\nIn the face of British prevarication, Iran decided to demonstrate Iranian misgivings by upping the ante. Apart from finally allowing the press to draft editorials criticizing the terms of the D\\'Arcy concession, a delegation consisting of [[Reza Shah]] and other political notables and journalists was dispatched to the vicinity of the oilfields to inaugurate a newly constructed road, with instructions that they refrain from visiting the oil installation in an explicit show of protest.\\n\\nIn 1931, Teymourtash who was travelling to Europe to enroll Crown Prince [[Mohammed Reza Pahlavi]] at a Swiss boarding school, decided to use the occasion to attempt to conclude the negotiations. According to Cadman, Teymourtash worked feverishly and diligently to resolve all outstanding issues, but succeeded only in securing an agreement in principle while key figures and lump sum payments were not settled:\\n\\n<blockquote>He came to London, he wined and he dined and he spent day and night in negotiating. Many interviews took place. He married his daughter, he put his boy to school [Harrow], he met the Secretary of State for Foreign Affairs, a change took place in our government, and in the midst of all this maze of activities we reached a tentative agreement on the principles to be included in the new document, leaving certain figures and the lump sum to be settled at a later date.</blockquote>\\n\\nHowever, while Teymourtash was led to believe that after four years of exhaustive and detailed discussions, he had succeeded in navigating the negotiations on the road to a conclusive end; the latest negotiations in London were to prove nothing more than a cul de sac.\\n\\nMatters came to a head in 1931, when the combined effects of overabundant oil supplies on the global markets and the economic destabilization of the Depression, led to fluctuations which drastically reduced annual payments accruing to Iran to a fifth of what it had received in the previous year. In that year APOC informed the Iranian government that its royalties for the year would amount to a mere \\xa3366,782 while in the same period the company\\'s income taxes paid to the British Government amounted to approximately \\xa31,000,000. Furthermore, while the company\\'s profits declined 36 percent for the year, the revenues paid to the Iranian government pursuant to the company\\'s accounting practices decreased by 76 percent. Such a precipitous drop in royalties appeared to confirm suspicions of bad faith, and Teymourtash indicated that the parties would have to revisit negotiations.\\n\\nHowever, Reza Shah was soon to assert his authority by dramatically inserting himself into the negotiations. The Monarch attended a meeting of the Council of Ministers in November 1932, and after publicly rebuking Teymourtash for his failure to secure an agreement, dictated a letter to cabinet cancelling the D\\'Arcy Agreement. The Iranian Government notified APOC that it would cease further negotiations and demanded cancellation of the D\\'Arcy concession. Rejecting the cancellation, the British government espoused the claim on behalf of APOC and brought the dispute before the Permanent Court of International Justice at the Hague, asserting that it regarded itself \"as entitled to take all such measures as the situation may demand for the Company\\'s protection.\" The Permanent Court of International Justice was a tool of the League of Nations which, in turn, was dominated by the victors of World War I. At this point, [[Hassan Taqizadeh]], had been appointed the new Iranian Minister entrusted with the task of assuming responsibility for the oil dossier. In modern political history Taqizadeh is known as a [[secular]] politician who believed that \"outwardly and inwardly, in body and in spirit, Iran must become Europeanized\".<ref>\"In Berlin the Democrat leader Sayyed Hasan Taqizadeh edited two series of the important newspaper \\'\\'Kaveh\\'\\' (named after a legendary blacksmith who liberated Iran). The first series, published during the War, aimed largely at getting Iranians to support the Central Powers against Britain and Russia, while the second was the main organ of the new Iranian nationalist culture. In addition to supporting new young writers like [[Muhammad Ali Jamalzadeh]], it contained striking editorial features by Taqizadeh, in one of which he said that Iran must become wholly Western in every way if it were to progress; this is perhaps the high point of the Westernist view of nationalism, which Taqizadeh himself later modified.\" (Nikki R. Keddie, p. 181).</ref> Taqizadeh was to intimate to the British that the cancellation was simply meant to expedite negotiations and that it would constitute political suicide for Iran to withdraw from negotiations.\\n\\nAfter the dispute between the two countries was taken up at the Hague, the Czech Foreign Minister who was appointed mediator put the matter into abeyance to allow the contending parties to attempt to resolve the dispute. Ironically, [[Reza Shah]] who had stood firm in demanding the abolishment of the D\\'Arcy concession, suddenly acquiesced to British demands, much to the chagrin and disappointment of his Cabinet. A new agreement with the Anglo-Persian Oil Company was agreed to after Cadman visited Iran in April 1933 and was granted a private audience with the Shah. A new agreement was ratified by the National Consultative Assembly on May 28, 1933 and received Royal assent the following day.\\n\\n===1933 agreement===\\n{{refimprove section|date=July 2009}}\\nThe terms of the new agreement provided for a new 60-year concession. The Agreement reduced the area under APOC control to {{convert|100000|sqmi|km2|order=flip}}, required annual payments in lieu of Iranian income tax, as well as guaranteeing a minimum annual payment of \\xa3750,000 to the Iranian government. These provisions, while appearing favourable, are widely agreed to have represented an unfair deal for the Iranian government. The agreement extended the life of the D\\'Arcy concession by an additional 32 years, negligently allowed APOC to select the best {{convert|100000|sqmi|km2|order=flip}}, the minimum guaranteed royalty was far too modest, and in a fit of carelessness the company\\'s operations were exempted from import or customs duties. Finally, Iran surrendered its right to annul the agreement, and settled on a complex and tediously elaborate arbitration process to settle any disagreements that would arise.\\n\\nThe Anglo-Persian Oil Company continued its large Persian operations although it changed its name to the AIOC in 1935. By 1950 Abadan had become the world\\'s largest refinery. In spite of diversification the AIOC still relied heavily on its Iranian oil fields for three-quarters of its supplies, and controlled all oil in Iran.\\n\\n==Nationalisation and coup==\\n\\n===Discontent in Iran===\\nUnder the 1933 agreement with Reza Shah, AIOC had promised to give laborers better pay and more chance for advancement, build schools, hospitals, roads and telephone system. It had not done so.<ref name = \"Kinzer 2003 67\">{{Harvnb|Kinzer|2003|p=67}}.</ref>\\n\\nIn August 1941, the [[Allies of World War II|Allied]] powers [[United Kingdom|Britain]] and the [[Soviet Union]] invaded and occupied Iran, subsequently forcing Reza Shah to [[abdication|abdicate]] in favor of his son (see also [[Persian Corridor]]) whom they considered far more friendly to their interests.\\n\\nFollowing World War II, nationalistic sentiments were on the rise in the Middle East; most notable being [[Iranian nationalism]]. AIOC and the pro western Iranian government led by Prime Minister [[Ali Razmara]] initially resisted nationalist pressure to revise AIOC\\'s concession terms still further in Iran\\'s favour. In May 1949, Britain offered a \"Supplemental oil agreement\" to appease unrest in the country. The agreement guaranteed royalty payments would not drop below \\xa34 million, reduced the area in which it would be allowed to drill, and promised more Iranians would be trained for administrative positions. The agreement, however, gave Iran neither a \"greater voice in company\\'s management\", nor the right to audit the company books. In addition, Iranian royalties from oil were not expected to ever drop to the proposed guarantee of \\xa34 million and the reduced area covered all of the productive oilfields. When the Iranian Prime Minister tried to argue with AIOC head [[William Fraser, 1st Baron Strathalmond|Sir William Fraser]], Fraser \"dismissed him\" and flew back to the UK.<ref name = \"Kinzer 2003 68\">{{Harvnb|Kinzer|2003|p=68}}.</ref>\\n\\nIn late December 1950 word reached Tehran that the American-owned [[Saudi Aramco|Arabian American Oil Company]] had agreed to share profits with Saudis on a 50-50 basis. The UK Foreign Office rejected the idea of any similar agreement for AIOC.<ref name = \"Kinzer 2003 76\">{{Harvnb|Kinzer|2003|p=76}}.</ref>\\n\\nOn March 7, 1951 Prime Minister Haj [[Haj Ali Razmara]] was assassinated by the Fadayan-e Islam. Fadayan-e Islam supported the demands of the National Front, which held a minority of seats in Parliament, to nationalize the assets of the British Anglo-Iranian Oil Company. As Prime Minister, Razmara had convinced the majority that nationalization would be folly, but his assassination eliminated the sole voice powerful enough to oppose the demands of the National Front. Iranian anger towards lack of progress in the nationalization of AIOC was apparent when the assassination of Razmara,<ref name = \"Kinzer 2003 78~80\">{{Harvnb|Kinzer|2003|pp=78\\u201380}}.</ref> yielded a distinct lack of mourning from the Iranian public. A raucous walkout of protest by newspaper reporters ensued when a visiting American diplomat urged \\'reason as well as enthusiasm\\' to deal with the imminent British embargo of Iran.<ref name = \"Kinzer 2003 106\">{{Harvnb|Kinzer|2003|p=106}}.</ref>\\n\\nBy 1951 Iranian support for nationalisation of the AIOC was intense. Grievances included the small fraction of revenues Iran received. In 1947, for example, AIOC reported after-tax profits of \\xa340 million ($112 million), but the contractual agreement entitled Iran to just \\xa37 million or 17.5% of profits from Iranian oil.<ref name = \"Kinzer 2003 67\"/> Britain was receiving more from AIOC than Iran.<ref name = \"Painter 1993 1\">{{Harvnb|Painter|1993|p=1}}.</ref> In addition, conditions for Iranian oil workers and their families were very bad. The director of Iran\\'s Petroleum Institute wrote that\\n\\n{{Quote| Wages were 50 cents a day. There was no vacation pay, no sick leave, no disability compensation. The workers lived in a shanty town called Kaghazabad, or Paper City, without running water or electricity, ... In winter the earth flooded and became a flat, perspiring lake. The mud in town was knee-deep, and ... when the rains subsided, clouds of nipping, small-winged flies rose from the stagnant water to fill the nostrils ....\\n\\nSummer was worse. ... The heat was torrid ... sticky and unrelenting\\u2014while the wind and sandstorms shipped off the desert hot as a blower. The dwellings of Kaghazabad, cobbled from rusted oil drums hammered flat, turned into sweltering ovens. ... In every crevice hung the foul, sulfurous stench of burning oil .... in Kaghazad there was nothing\\u2014not a tea shop, not a bath, not a single tree. The tiled reflecting pool and shaded central square that were part of every Iranian town, ... were missing here. The unpaved alleyways were emporiums for rats.<ref name = \"Kinzer 2003 67+extra\">{{Harvnb|Kinzer|2003|p=67}}, citing Manucher Farmanfarmaian, \\'\\'Blood and Oil: Inside the Shah\\'s Iran\\'\\' (Modern Library, 1999), pp. 184\\u20135. Farmanfarmaian became director of Iran\\'s petroleum institute in 1949.</ref>}}\\n\\n===Nationalisation===\\nLater in March 1951, the Iranian parliament (the Majlis) voted to nationalise the Anglo-Iranian Oil Company (AIOC) and its holdings, and shortly thereafter the Iranian public elected a  champion of nationalisation, [[Mohammed Mossadegh]], Prime Minister.<ref>Abrahamian, \\'\\'Iran between Two Revolutions\\'\\' (1982), pp. 55\\u20136</ref>\\nThis led to the [[Abadan Crisis]] where foreign countries agreed not to purchase Iranian oil under British pressure and the Abadan refinery was closed. AIOC withdrew from Iran and increased output of its other reserves in the Persian Gulf.\\n\\nMossadeq broke off negotiations with AIOC in July 1951 when the AIOC threatened to pull its employees out of Iran and Britain warned tanker owners that \"the receipts from the Iranian government would not be accepted on the world market.\"<ref>Abrahamian, \\'\\'Iran between Two Revolutions\\'\\' (1982), p. 268</ref> The British ratcheted up the pressure on the Iranian government and explored the possibility of an invasion to occupy the oil area. US President [[Harry S. Truman]] and US ambassador to Iran [[Henry F. Grady]] opposed intervention in Iran but needed Britain\\'s support for the [[Korean War]]. Efforts by the U.S. through the [[International Court of Justice]] were made to settle the dispute, but a 50/50 profit-sharing arrangement, with recognition of nationalization, was rejected by both the British government and Prime Minister Mossadegh.{{citation needed|date=November 2013}} On July 22, 1952  \"the court accepted the Iranian argument that the dispute was between the Iranian government and a foreign corporation, not the British government; since the dispute was not about a treaty or convention with a foreign government, it was subject to Iranian domestic law\".<ref name=\"iranica\"/>{{rp|51-124}}\\n\\nAs the months went on, the crisis became acute. By mid-1952, an attempt by the Shah to replace Mossadegh backfired and led to riots against the Shah and perceived foreign intervention; Mossadegh returned with even greater power. At the same time however, his coalition was weakening as Britain\\u2019s boycott of Iranian oil eliminated a major source of government revenue, and strategically made Iranians poorer and thus unhappier by the day.\\n\\n===Coup===\\n{{Main|1953 Iranian coup d\\'\\xe9tat}}\\nBritain was unable to subvert Mossadegh as its embassy and officials had been evicted from Iran in October 1952, but successfully appealed in the U.S. to exaggerated anti-communist sentiments, depicting both Mossadegh and Iran as unstable and likely to fall to communism as they were weakened. If Iran fell, the \"enormous assets\" of \"Iranian oil production and reserves\" would fall into Communist control, as would \"in short order the other areas of the Middle East\".<ref name = \"Kinzer 2003 195~196\">{{Harvnb|Kinzer|2003|pp=195\\u20136}}.</ref> By 1953 both the US and the UK had new, more anti-communist and interventionist administrations and the United States no longer opposed intervention in Iran.\\n\\nThe anti-Mossadeq plan was orchestrated under the code-name \\'[[Operation Ajax]]\\' by CIA, and \\'Operation Boot\\' by [[Secret Intelligence Service|SIS]] (MI6).<ref name = \"Louis 2006 775\">{{Harvnb|Louis|2006|p=[https://books.google.com/books?id=NQnpQNKeKKAC&pg=PA775 775]}}.</ref><ref name=\"NYTIntro\">{{cite news|url=http://www.nytimes.com/library/world/mideast/041600iran-cia-intro.html|title=How a Plot Convulsed Iran in \\'53 (and in \\'79)|work=The New York Times|accessdate=5 June 2010}}</ref><ref name=nyt-cia>[http://www.nytimes.com/library/world/mideast/041600iran-cia-chapter1.html The C.I.A. in Iran: Britain Fights Oil Nationalism]</ref> In August the American [[CIA]] with the help of bribes to politicians, soldiers, mobs, and newspapers, and information from the British embassy and secret service, organized a riot which gave the Shah an excuse to remove Mosaddeq.\\n\\nThe Shah seized the opportunity and issued an edict forcefully removing the immensely popular and democratically-elected Mosaddeq from power when General [[Fazlollah Zahedi]] led tanks to Mosaddeq\\'s residence and arrested him. On 21 December 1953, he was sentenced to death but his sentence was later commuted to three years\\' solitary confinement in a military prison followed by life in prison. He was kept under house arrest at his [[Ahmadabad-e Mosaddeq|Ahmadabad]] residence, until his death, on 5 March 1967.<ref>Abrahamian, Ervand, \\'\\'Iran Between Two Revolutions\\'\\' by Ervand Abrahamian, (Princeton University Press, 1982), p. 280</ref><ref>\\'\\'Mossadegh \\u2013 A Medical Biography\\'\\' by Ebrahim Norouzi</ref><ref>\\'\\'Persian Oil: A Study in Power Politics\\'\\' by [[L.P. Elwell-Sutton]]. 1955. Lawrence and Wishart Ltd. London</ref><ref name=\"NYT4\">[http://www.nytimes.com/library/world/mideast/041600iran-cia-mossadegh.html Eccentric Nationalist Begets Strange History], \\'\\'New York Times\\'\\' 7 December 2009.</ref>\\n\\n=== Consortium ===\\nWith a pro-Western Shah and the new pro-Western Prime Minister, Fazlollah Zahedi, Iranian oil began flowing again and the Anglo-Iranian Oil Company, which changed its name to British Petroleum in 1954, tried to return to its old position. However, public opinion was so opposed that the new government could not permit it.\\n\\nUnder pressure from the United States, British Petroleum was forced to accept membership in a consortium of companies which would bring Iranian oil back on the international market. It was incorporated in London in 1954 as a [[holding company]] called Iranian Oil Participants Ltd (IOP).<ref name = \"Vassiliou 2009 269\">{{Harvnb|Vassiliou|2009|p=[https://books.google.com/books?id=vArc08DO9ykC&pg=PA269 269]}}.</ref><ref name = \"Lauterpacht 1973 375\">{{Harvnb|Lauterpacht|1973|p=[https://books.google.com/books?id=ZIWcxX5jB5MC&pg=PA375 375]}}.</ref> The founding members of IOP included [[British Petroleum]] (40%), [[Gulf Oil]] (8%), [[Royal Dutch Shell]] (14%), and Compagnie Fran\\xe7aise des P\\xe9troles (later [[Total S.A.]], 6%). The four [[Aramco]] partners\\u2014Standard Oil of California (SoCal, later Chevron), Standard Oil of New Jersey (later Exxon), Standard Oil Co. of New York (later Mobil, then ExxonMobil), and Texaco\\u2014each held an 8% stake in the holding company.<ref name = \"Vassiliou 2009 269\"/><ref name = \"Ferrier 1991 665\">{{Harvnb|Ferrier|1991|p=665}}.</ref>\\n\\nThis group of companies at various stages came to be known as the Supermajors or the \"[[Seven Sisters (oil companies)|Seven Sisters]]\" or the \"Consortium for Iran\" cartel and dominated the global [[petroleum industry]] from the mid-1940s to the 1970s.<ref name=\"ft\">[http://www.ft.com/cms/s/471ae1b8-d001-11db-94cb-000b5df10621.html The new Seven Sisters: oil and gas giants dwarf western rivals], by Carola Hoyos, Financial Times. 11 March 2007</ref><ref>{{cite news|url=http://www.time.com/time/magazine/article/0,9171,946053-1,00.html|title=Business: The Seven Sisters Still Rule|accessdate=24 October 2010|publisher=Time|date=11 September 1978}}</ref> Until the [[oil crisis of 1973]] the members of the Seven Sisters controlled around 85% of the world\\'s known [[oil reserves]].\\n\\nAll IOP members acknowledged that [[National Iranian Oil Company]] (NIOC) owned the oil and facilities in Iran, and IOP\\'s role was to operate and manage on behalf of NIOC. To facilitate that, IOP established two operating entities incorporated in Netherlands, and both were delegated to NIOC.<ref name = \"Vassiliou 2009 269\"/><ref name = \"Lauterpacht 1973 375\"/> Similar to the [[Saudi Aramco#History|Saudi-Aramco \"50/50\" agreement of 1950]],<ref name = \"Boscheck 2007 235\">{{Harvnb|Boscheck et al.|2008|p=[https://books.google.com/books?id=QBLZfywCoJMC&pg=PA235 235]}}.</ref> the consortium agreed to share profits on a 50\\u201350 basis with Iran, \"but not to open its books to Iranian auditors or to allow Iranians onto its board of directors.\"<ref name = \"Kinzer 2003 195~196\"/> The negotiations leading to the creation of the consortium, during 1954-55, was considered as a feat of skillful diplomacy for the \"[[Seven Sisters (oil companies)|Seven Sisters]]\".<ref name = \"Ferrier 1991 665\"/> Some viewed the move as one to quell the rising tensions of Iranians since it allowed IOP to divert and hide profits with ease - effectively controlling Iran\\'s share of the profits.\\n\\n==Subsidiary companies==\\n\\n===Scottish Oils Ltd===\\nScottish Oils Ltd, established by Anglo-Persian in 1919 by merging five Scottish [[oil shale]] companies (\\'\\'Young\\'s Paraffin Light & Mineral Oil Company\\'\\', \\'\\'Broxburn Oil Company\\'\\', \\'\\'Pumpherston Shale Oil Company\\'\\', \\'\\'Oakbank Oil Company\\'\\', and \\'\\'James Ross & Company Philpstoun Oil Works\\'\\'), was a producer of [[shale oil]].<ref name = \"Bamberg 1994 177\">{{Harvnb|Bamberg|1994|p=[https://books.google.com/books?id=PduotC73nh0C&pg=PA177 177]}}.</ref><ref name=marwick>{{cite book|first1=William Hutton|last1=Marwick|title=Scotland in Modern Times: An Outline of Economic and Social Development Since the Union Of 1707|year=1964|publisher=Frank Cass and Company Limited|page=175|isbn=9780714613420}}</ref><ref name=uphall>{{cite web|title=Scottish Oils|publisher=Uphall On The Web|url=http://uphall.org/index.php?option=com_content&view=article&id=116&Itemid=128|accessdate=2012-07-07}}</ref><ref name=museum>{{cite web|title=A Brief History of the Scottish Shale Oil Industry|work=Museum of the Scottish Shale Oil Industry|url=http://www.scottishshale.co.uk/HistoryPages/index.html|accessdate=2012-07-07}}</ref> Shale oil production in [[Scotland]] ceased in the early 1960s but there was an unsuccessful attempt to revive it in 1973.<ref>{{cite web|url=http://hansard.millbanksystems.com/written_answers/1973/dec/04/shale-oil-industry-scotland|title=Shale Oil Industry (Scotland) (Hansard, 4 December 1973)|publisher=Hansard.millbanksystems.com|date=1973-12-04|accessdate=2013-03-31}}</ref> The company was wound up on 15 December 2010.<ref>{{cite web|url=http://wck2.companieshouse.gov.uk//wcframe?name=accessCompanyInfo|title=Failure Page|publisher=Wck2.companieshouse.gov.uk|accessdate=2013-03-31}}</ref> The Scottish Oil Agency Ltd was a distributing and selling organisation of Scottish Oils Ltd.<ref>{{cite web|url=http://www.scottishshale.co.uk/HistoryPages/Companies/Scottish_Oil_Agency.html|title=Museum of the Scottish Shale Oil Industry|publisher=Scottishshale.co.uk|accessdate=2013-03-31}}</ref> A Scottish Oil Agency rail tanker is preserved at the Museum of the Scottish Shale Oil Industry.<ref>{{cite web|url=http://www.scottishshale.co.uk/Collections/Museum/index.php|title=Museum of the Scottish Shale Oil Industry|publisher=Scottishshale.co.uk|accessdate=2013-03-31}}</ref>\\n\\n==Tanker fleet==\\nThe [[British Tanker Company|British Tanker Company Limited]] (BTC) was formed in 1915, after the Anglo-Persian Oil Company decided to become a fully self-contained operation, directly owning a fleet of [[oil tanker|tankers]] for sea transport. On formation, the BTC had an initial budget of $144,000 with which to build seven steam-powered tankers. The Company\\'s first tanker was the \\'\\'British Emperor\\'\\', which was launched in 1916. The names of the first seven ships, and all later additions to the fleet, bore the prefix \\'\\'\\'British\\'\\'\\'.\\n\\nOver the next decade, the demand for oil grew throughout the developed world, and the BTC expanded accordingly. By 1924, the fleet numbered 60 ships, with the 60th being the flagship, 10,762 deadweight tonnes (dwt), \\'\\'British Aviator\\'\\'. She was the BTC\\u2019s first diesel engine oil tanker, and at that time was the most powerful single-screw motor ship in the world.\\n\\nThe economic depression of the early 1930s saw rising unemployment amongst merchant navies around the world. However, the BTC undertook a series of strategic mergers, and coupled with the continued support of the Shah of Iran, the APOC succeeded in strengthening its position within the industry.\\n\\nIn 1939, the British government chartered the whole fleet of 93 tankers to supply fuel to its armed forces during the [[World War II|Second World War]]. The fleet lost a total of 42 ships sunk during the war.\\n\\nWithin a year of peace in 1945, the BTC fleet had returned to its pre-war total of 93 vessels. The recovery continued with the building of 57 new tankers, each 12,000 dwt, which increased the tonnage of oil transported from Abadan refinery in Iran, whilst remaining light enough for the tankers to pass through the shallow waters of the [[Suez Canal]].\\n\\nIn 1951, however, the situation changed dramatically, when the Iranian oil industry was nationalised, and the APOC removed all its staff from Iran.\\n\\n==See also==\\n{{Portal|Iran|United Kingdom|Energy|Companies}}\\n* [[Anglo-Persian Agreement]]\\n* [[Anglo-Soviet invasion of Iran]]\\n* [[National Iranian Oil Company]]\\n* [[Abadan Crisis timeline]]\\n* [[1953 Iranian coup d\\'\\xe9tat]]\\n* [[Mohammad Mossadegh]]\\n* [[Hossein Fatemi]]\\n* [[Dariush Forouhar]]\\n* [[Operation Ajax]]\\n* [[Abdolhossein Teymourtash]]\\n* [[John Cadman, 1st Baron Cadman]]\\n* [[D\\'Arcy Concession]]\\n* [[D\\'Arcy Concession#D.27Arcy Exploration Company|D\\'Arcy Exploration Co, UK.]]\\n\\n==References==\\n;<big>Notes</big>\\n{{Reflist|colwidth=30em}}\\n\\n;<big>Bibliography</big>\\n{{Refbegin|colwidth=30em|indent=yes}}\\n:{{Cite book\\n  | last = Bamberg | first = James | year = 1994\\n  | title = The History of the British Petroleum Company, Volume 2: The Anglo-Iranian Years, 1928\\u20131954\\n  | location = Cambridge | publisher = [[Cambridge University Press]]\\n  | isbn = 978-0-521-25950-7 | ref = harv }}\\n:{{Cite book\\n  | last = Bamberg | first = James | year = 2000\\n  | title = The History of the British Petroleum Company, Volume 3: British Petroleum and Global Oil, 1950\\u20131975\\n  | location = Cambridge | publisher = Cambridge University Press\\n  | isbn = 978-0-521-25951-4 | ref = harv }}\\n:{{Cite book\\n  | last = Boscheck | first = Ralf | year = 2008\\n  | title = Strategies, Markets and Governance: Exploring Commercial and Regulatory Agendas\\n  | location = Cambridge | publisher = Cambridge University Press\\n  | isbn = 978-0-521-86845-7 | ref = {{Harvid|Boscheck et al.|2008}} |display-authors=etal}}\\n:{{Cite book\\n  | last = Ferrier | first = Ronald | year = 1982\\n  | title = The History of the British Petroleum Company, Volume 1: The Developing Years, 1901\\u20131932\\n  | location = Cambridge | publisher = Cambridge University Press\\n  | isbn = 978-0-521-24647-7 | ref = harv }}\\n:{{Cite book\\n  | last = Ferrier | first = Ronald | year = 1991\\n  | chapter = The Iranian Oil Industry\\n  | title = \\'\\'In P. Avery, G. R. G. Hambly and C. Melville, eds.,\\'\\' The Cambridge History of Iran, Volume 7: From Nadir Shah to the Islamic Republic\\'\\', pp. 639\\u2013702\\'\\'\\n  | location = Cambridge | publisher = Cambridge University Press\\n  | isbn = 978-0-521-20095-0 | ref = harv }}\\n:{{Cite book\\n  | last = Kinzer | first = Stephen | authorlink = Stephen Kinzer | year = 2003\\n  | title = [[All the Shah\\'s Men|All the Shah\\'s Men: An American Coup and the Roots of Middle East Terror]]\\n  | location = Hoboken, NJ | publisher = [[John Wiley & Sons]]\\n  | isbn = 978-0-471-26517-7 | ref = harv }}\\n:{{Cite book\\n  | last = Lauterpacht | first = E. | year = 1973\\n  | title  = International Law Reports\\n  | location =  | publisher = Cambridge University Press\\n  | isbn = 978-0-521-46391-1 | ref = harv }}\\n:{{Cite book\\n  | last = Louis | first = Wm. Roger | year = 2006\\n  | title = Ends of British Imperialism: The Scramble for Empire, Suez, and Decolonization\\n  | location = London | publisher = [[I.B.Tauris]]\\n  | isbn = 978-1-845-11309-4 | ref = harv }}\\n:{{Cite document\\n  | last = Painter | first = David S. | authorlink = David S. Painter | year = 1993\\n  | title = The United States, Great Britain, and Mossadegh\\n  | url = https://americamiddleeast.files.wordpress.com/2012/09/the-us-and-mossadegh-1951-19531.pdf\\n  | location = Washington, DC | publisher = Institute for the Study of Diplomacy, [[Georgetown University]]\\n  | isbn = 1-56927-332-4 | ref = harv }}\\n:{{Cite book\\n  | last = Vassiliou | first = Marius S. | authorlink = Marius Vassiliou | year = 2009 \\n  | title = Historical Dictionary of the Petroleum Industry: Volume 3\\n  | location =  | publisher = Scarecrow Press \\n  | isbn = 978-0-810-85993-7 | ref = harv }}\\n{{Refend}}\\n\\n==Further reading==\\n{{commons category|Anglo-Persian Oil Company}}\\n{{Anchor|Books|Bibliography}}\\n{{Refbegin}}\\n* {{cite book|last=Meyer|first=Karl E|author2=Brysac, Shareen|title=Kingmakers: The Invention of the Modern Middle East|location=New York|publisher=W.W. Norton|year=2008|isbn=9780393061994|url=https://books.google.com/books?id=hcZrEHg4sdsC&printsec=frontcover|ref=RefKarl2008}}\\n* {{cite book|last=Sztucki|first=Jerzy|title=Interim measures in the Hague Court|publisher=Brill Archive|year=1984|page=43|url=https://books.google.com/books?id=3yDlnBv6Y8cC&lpg=PA43&ots=3VRY_7MGuX&dq=AIOC%20hague%20iran&pg=PA43|isbn=9789065440938|ref=RefJerzy1984}}\\n{{Refend}}\\n\\n{{Energy in Iran}}\\n{{BP}}\\n\\n\\n[[Category:Anglo-Persian Oil Company| ]]\\n[[Category:Oil and gas companies of the United Kingdom]]\\n[[Category:BP]]\\n[[Category:Economic history of Iran]]\\n[[Category:Energy companies established in 1908]]\\n[[Category:Non-renewable resource companies established in 1908]]\\n[[Category:1908 establishments in Iran]]\\n[[Category:Iran\\u2013United Kingdom relations]]',\n",
      " 'wiki_url': 'https://en.wikipedia.org/w/index.php?title=Anglo%2DPersian%20Oil%20Company'}\n"
     ]
    }
   ],
   "source": [
    "# other: 'Audi', 'Apple Inc.', 'Microsoft'\n",
    "company = 'Anglo-Persian Oil Company'\n",
    "\n",
    "if company not in extract1:\n",
    "    print \"Company\", company, \"does not exist in extraction 1.\"\n",
    "\n",
    "print \"Excerpt of\", company, \"dict structure:\"\n",
    "pprint(get_c_info(companies[company]))"
   ]
  },
  {
   "cell_type": "code",
   "execution_count": 27,
   "metadata": {
    "collapsed": false
   },
   "outputs": [],
   "source": [
    "def scrape_companies(companies, com_dat):\n",
    "    \"\"\"Gets two dictionaries and parses those who don't have same content\"\"\"\n",
    "\n",
    "    # scrape links and extra information of all companies, call with progress-bar\n",
    "    for company in tqdm_notebook(companies, desc='Fetching companies'):\n",
    "        # don't repeat if pickle file already contains data\n",
    "        if com_dat and \\\n",
    "            company in com_dat and \\\n",
    "            'is_company' in com_dat[company] and \\\n",
    "            com_dat[company]['is_company']:\n",
    "                companies[company]['is_company'] = False\n",
    "                continue\n",
    "\n",
    "        # also don't reprocess already parsed one's\n",
    "        if 'is_company' not in companies[company]:\n",
    "            # extract any company information\n",
    "            companies[company] = get_c_info(companies[company])\n",
    "    return companies"
   ]
  },
  {
   "cell_type": "code",
   "execution_count": 32,
   "metadata": {
    "collapsed": true
   },
   "outputs": [],
   "source": [
    "# get company file from extraction 2\n",
    "com_dat_pickle = dict()\n",
    "if os.path.isfile(ex2_fdat):\n",
    "    with open(ex2_fdat, 'rb') as f:\n",
    "        com_dat_pickle = pickle.load(f)\n",
    "        # update previously fetched data to same keys\n",
    "        companies.update(com_dat_pickle)"
   ]
  },
  {
   "cell_type": "code",
   "execution_count": 33,
   "metadata": {
    "collapsed": false,
    "scrolled": true
   },
   "outputs": [
    {
     "name": "stderr",
     "output_type": "stream",
     "text": [
      "Widget Javascript not detected.  It may not be installed properly. Did you enable the widgetsnbextension? If not, then run \"jupyter nbextension enable --py --sys-prefix widgetsnbextension\"\n"
     ]
    },
    {
     "name": "stdout",
     "output_type": "stream",
     "text": [
      "No parsable content on: https://en.wikipedia.org/w/api.php?action=parse&format=json&prop=links|wikitext&page=3+Tier+Logic\n",
      "No parsable content on: https://en.wikipedia.org/w/api.php?action=parse&format=json&prop=links|wikitext&page=HTC+Global+Services\n",
      "No parsable content on: https://en.wikipedia.org/w/api.php?action=parse&format=json&prop=links|wikitext&page=NeonMob\n",
      "No parsable content on: https://en.wikipedia.org/w/api.php?action=parse&format=json&prop=links|wikitext&page=ModeAudio\n",
      "No parsable content on: https://en.wikipedia.org/w/api.php?action=parse&format=json&prop=links|wikitext&page=Verisart\n",
      "No parsable content on: https://en.wikipedia.org/w/api.php?action=parse&format=json&prop=links|wikitext&page=File%3AHudsons+Bay+Company+Flag.svg\n",
      "No parsable content on: https://en.wikipedia.org/w/api.php?action=parse&format=json&prop=links|wikitext&page=Confidential+Global+Investigations\n",
      "No parsable content on: https://en.wikipedia.org/w/api.php?action=parse&format=json&prop=links|wikitext&page=Descartes+Systems+Group\n",
      "No parsable content on: https://en.wikipedia.org/w/api.php?action=parse&format=json&prop=links|wikitext&page=MyWikiBiz%2FArchive+1\n",
      "No parsable content on: https://en.wikipedia.org/w/api.php?action=parse&format=json&prop=links|wikitext&page=Blockverify\n",
      "No parsable content on: https://en.wikipedia.org/w/api.php?action=parse&format=json&prop=links|wikitext&page=ABA+Bank\n",
      "No parsable content on: https://en.wikipedia.org/w/api.php?action=parse&format=json&prop=links|wikitext&page=Imperial+Holdings\n",
      "No parsable content on: https://en.wikipedia.org/w/api.php?action=parse&format=json&prop=links|wikitext&page=TMP+Directional+Marketing\n",
      "No parsable content on: https://en.wikipedia.org/w/api.php?action=parse&format=json&prop=links|wikitext&page=Macrobond+Financial\n",
      "No parsable content on: https://en.wikipedia.org/w/api.php?action=parse&format=json&prop=links|wikitext&page=File%3ABehavior+Tech+Computer+Logo.png\n",
      "No parsable content on: https://en.wikipedia.org/w/api.php?action=parse&format=json&prop=links|wikitext&page=Boost+VC\n",
      "No parsable content on: https://en.wikipedia.org/w/api.php?action=parse&format=json&prop=links|wikitext&page=ExPace\n",
      "No parsable content on: https://en.wikipedia.org/w/api.php?action=parse&format=json&prop=links|wikitext&page=Italpinas+Euroasian+Design+and+Eco-Development+Corp.+%28ITPI%29\n",
      "No parsable content on: https://en.wikipedia.org/w/api.php?action=parse&format=json&prop=links|wikitext&page=Doc.It\n",
      "No parsable content on: https://en.wikipedia.org/w/api.php?action=parse&format=json&prop=links|wikitext&page=Bharat+Floorings+%26+Tiles\n",
      "No parsable content on: https://en.wikipedia.org/w/api.php?action=parse&format=json&prop=links|wikitext&page=Blockchain+Alliance\n",
      "No parsable content on: https://en.wikipedia.org/w/api.php?action=parse&format=json&prop=links|wikitext&page=Spinutech\n",
      "No parsable content on: https://en.wikipedia.org/w/api.php?action=parse&format=json&prop=links|wikitext&page=Softjourn\n",
      "No parsable content on: https://en.wikipedia.org/w/api.php?action=parse&format=json&prop=links|wikitext&page=File%3ACartoon+Network+Studios+logo.svg\n",
      "No parsable content on: https://en.wikipedia.org/w/api.php?action=parse&format=json&prop=links|wikitext&page=Cad+Crowd\n",
      "No parsable content on: https://en.wikipedia.org/w/api.php?action=parse&format=json&prop=links|wikitext&page=Unocoin\n",
      "No parsable content on: https://en.wikipedia.org/w/api.php?action=parse&format=json&prop=links|wikitext&page=Genesis+Mining\n",
      "No parsable content on: https://en.wikipedia.org/w/api.php?action=parse&format=json&prop=links|wikitext&page=File%3ADelta+SkyBonus.svg\n",
      "No parsable content on: https://en.wikipedia.org/w/api.php?action=parse&format=json&prop=links|wikitext&page=Currier%27s+Flying+Service%2C+Inc.\n",
      "No parsable content on: https://en.wikipedia.org/w/api.php?action=parse&format=json&prop=links|wikitext&page=Template%3ACompanies+of+India\n",
      "No parsable content on: https://en.wikipedia.org/w/api.php?action=parse&format=json&prop=links|wikitext&page=File%3ABruno+gmuender.jpg\n",
      "No parsable content on: https://en.wikipedia.org/w/api.php?action=parse&format=json&prop=links|wikitext&page=File%3AInvesdor+text.png\n",
      "No parsable content on: https://en.wikipedia.org/w/api.php?action=parse&format=json&prop=links|wikitext&page=Troya+Tech+Defense\n",
      "No parsable content on: https://en.wikipedia.org/w/api.php?action=parse&format=json&prop=links|wikitext&page=LightScalpel\n",
      "No parsable content on: https://en.wikipedia.org/w/api.php?action=parse&format=json&prop=links|wikitext&page=15miles\n",
      "No parsable content on: https://en.wikipedia.org/w/api.php?action=parse&format=json&prop=links|wikitext&page=Tradle\n",
      "No parsable content on: https://en.wikipedia.org/w/api.php?action=parse&format=json&prop=links|wikitext&page=MapD\n",
      "No parsable content on: https://en.wikipedia.org/w/api.php?action=parse&format=json&prop=links|wikitext&page=Connected+Lab\n",
      "No parsable content on: https://en.wikipedia.org/w/api.php?action=parse&format=json&prop=links|wikitext&page=UrbanClap\n",
      "No parsable content on: https://en.wikipedia.org/w/api.php?action=parse&format=json&prop=links|wikitext&page=Current%2FElliott\n",
      "No parsable content on: https://en.wikipedia.org/w/api.php?action=parse&format=json&prop=links|wikitext&page=Bespoke+Hotels\n",
      "No parsable content on: https://en.wikipedia.org/w/api.php?action=parse&format=json&prop=links|wikitext&page=Paysafecard\n",
      "No parsable content on: https://en.wikipedia.org/w/api.php?action=parse&format=json&prop=links|wikitext&page=Earth+Sun+Moon+Trading+Company\n",
      "No parsable content on: https://en.wikipedia.org/w/api.php?action=parse&format=json&prop=links|wikitext&page=Smartmouth+Brewing+Company\n",
      "No parsable content on: https://en.wikipedia.org/w/api.php?action=parse&format=json&prop=links|wikitext&page=Matronics+ApS\n",
      "No parsable content on: https://en.wikipedia.org/w/api.php?action=parse&format=json&prop=links|wikitext&page=File%3AJapan+Air+System+Logo.svg\n",
      "No parsable content on: https://en.wikipedia.org/w/api.php?action=parse&format=json&prop=links|wikitext&page=Simple+Real+Estate+Solutions\n",
      "No parsable content on: https://en.wikipedia.org/w/api.php?action=parse&format=json&prop=links|wikitext&page=Bitproof\n",
      "No parsable content on: https://en.wikipedia.org/w/api.php?action=parse&format=json&prop=links|wikitext&page=EventTracker\n",
      "No parsable content on: https://en.wikipedia.org/w/api.php?action=parse&format=json&prop=links|wikitext&page=File%3AAltamont+Commuter+Express+%28logo%29.png\n",
      "No parsable content on: https://en.wikipedia.org/w/api.php?action=parse&format=json&prop=links|wikitext&page=Applus\n",
      "No parsable content on: https://en.wikipedia.org/w/api.php?action=parse&format=json&prop=links|wikitext&page=Commerce+Street+Holdings%2C+LLC\n",
      "No parsable content on: https://en.wikipedia.org/w/api.php?action=parse&format=json&prop=links|wikitext&page=Armaggeddon+%28Singaporean+Company%29\n",
      "No parsable content on: https://en.wikipedia.org/w/api.php?action=parse&format=json&prop=links|wikitext&page=RapidSOS\n",
      "No parsable content on: https://en.wikipedia.org/w/api.php?action=parse&format=json&prop=links|wikitext&page=Reincubate\n",
      "No parsable content on: https://en.wikipedia.org/w/api.php?action=parse&format=json&prop=links|wikitext&page=File%3AJohn%27s+of+Bleecker+Street.jpg\n",
      "No parsable content on: https://en.wikipedia.org/w/api.php?action=parse&format=json&prop=links|wikitext&page=Encompass+Technologies\n",
      "No parsable content on: https://en.wikipedia.org/w/api.php?action=parse&format=json&prop=links|wikitext&page=File%3AFactory+1b.png\n",
      "No parsable content on: https://en.wikipedia.org/w/api.php?action=parse&format=json&prop=links|wikitext&page=File%3ADave+and+Buster%27s+Great+Mall.jpg\n",
      "No parsable content on: https://en.wikipedia.org/w/api.php?action=parse&format=json&prop=links|wikitext&page=Avalance\n",
      "No parsable content on: https://en.wikipedia.org/w/api.php?action=parse&format=json&prop=links|wikitext&page=Wiredelta\n",
      "No parsable content on: https://en.wikipedia.org/w/api.php?action=parse&format=json&prop=links|wikitext&page=Group+IMD\n",
      "No parsable content on: https://en.wikipedia.org/w/api.php?action=parse&format=json&prop=links|wikitext&page=Extentia+Information+Technology\n",
      "No parsable content on: https://en.wikipedia.org/w/api.php?action=parse&format=json&prop=links|wikitext&page=The+Smiley+Company\n",
      "No parsable content on: https://en.wikipedia.org/w/api.php?action=parse&format=json&prop=links|wikitext&page=File%3AJmweston.png\n",
      "No parsable content on: https://en.wikipedia.org/w/api.php?action=parse&format=json&prop=links|wikitext&page=Australian+Bankers+Association\n",
      "No parsable content on: https://en.wikipedia.org/w/api.php?action=parse&format=json&prop=links|wikitext&page=List+of+blockchain+companies\n",
      "No parsable content on: https://en.wikipedia.org/w/api.php?action=parse&format=json&prop=links|wikitext&page=Avant-Garde+Engineers+and+Consultants\n",
      "No parsable content on: https://en.wikipedia.org/w/api.php?action=parse&format=json&prop=links|wikitext&page=Nokia%2FArchive+1\n",
      "No parsable content on: https://en.wikipedia.org/w/api.php?action=parse&format=json&prop=links|wikitext&page=SETL+%28company%29\n",
      "No parsable content on: https://en.wikipedia.org/w/api.php?action=parse&format=json&prop=links|wikitext&page=ME+Engineers\n",
      "No parsable content on: https://en.wikipedia.org/w/api.php?action=parse&format=json&prop=links|wikitext&page=Audley+Travel\n",
      "No parsable content on: https://en.wikipedia.org/w/api.php?action=parse&format=json&prop=links|wikitext&page=TPConnects\n",
      "No parsable content on: https://en.wikipedia.org/w/api.php?action=parse&format=json&prop=links|wikitext&page=Chain+%28company%29\n",
      "No parsable content on: https://en.wikipedia.org/w/api.php?action=parse&format=json&prop=links|wikitext&page=Clavister\n",
      "No parsable content on: https://en.wikipedia.org/w/api.php?action=parse&format=json&prop=links|wikitext&page=Arcturian+Gate\n",
      "No parsable content on: https://en.wikipedia.org/w/api.php?action=parse&format=json&prop=links|wikitext&page=AWA+Lighting+Designers\n",
      "\n",
      "CPU times: user 10min 24s, sys: 36.4 s, total: 11min 1s\n",
      "Wall time: 2h 11min 34s\n"
     ]
    }
   ],
   "source": [
    "%%time\n",
    "# crawl for all companies that were not prcoessed yet and cotain no or a false 'is_company' flag\n",
    "companies = scrape_companies(companies, extract1)\n",
    "\n",
    "### OC limitation 500 requests per month... API key sign up didn't succeed\n",
    "# https://api.opencorporates.com/documentation/API-Reference#usage_limits"
   ]
  },
  {
   "cell_type": "code",
   "execution_count": 34,
   "metadata": {
    "collapsed": false
   },
   "outputs": [
    {
     "name": "stdout",
     "output_type": "stream",
     "text": [
      "47858 companies were marked as no company. 21676 of them because already procesed in extraction 1.\n"
     ]
    }
   ],
   "source": [
    "cnt, cnt_extr1 = 0, 0\n",
    "for c in companies:\n",
    "    if 'is_company' in companies[c] and not companies[c]['is_company']:\n",
    "        cnt += 1\n",
    "        if c in extract1 and extract1[c]['is_company']:\n",
    "            cnt_extr1 += 1\n",
    "print cnt, \"companies were marked as no company.\", cnt_extr1, \"of them because already procesed in extraction 1.\""
   ]
  },
  {
   "cell_type": "code",
   "execution_count": 35,
   "metadata": {
    "collapsed": true
   },
   "outputs": [],
   "source": [
    "# get links of all the valid companies\n",
    "def create_link_set(extr_companies):\n",
    "    all_c = set()\n",
    "    for c in extr_companies:\n",
    "        if 'is_company' in extr_companies[c] and extr_companies[c]['is_company']:\n",
    "            all_c.add(c)\n",
    "    return all_c"
   ]
  },
  {
   "cell_type": "code",
   "execution_count": 36,
   "metadata": {
    "collapsed": false
   },
   "outputs": [
    {
     "name": "stdout",
     "output_type": "stream",
     "text": [
      "In total there are 56837 companies (56853 from extraction 1 and 0 from extraction 2).\n"
     ]
    }
   ],
   "source": [
    "# full set of companies is from extract1 and companies combined\n",
    "ex1_links = create_link_set(extract1)\n",
    "ex2_links = create_link_set(companies)\n",
    "all_companies = ex1_links | ex2_links\n",
    "print \"In total there are {0} companies ({1} from extraction 1 and {2} from extraction 2).\".format(\n",
    "    len(all_companies), len(extract1), len(ex2_links))"
   ]
  },
  {
   "cell_type": "code",
   "execution_count": 37,
   "metadata": {
    "collapsed": false
   },
   "outputs": [],
   "source": [
    "# store company data in one binary file\n",
    "with open(ex2_fdat, 'wb') as f:\n",
    "    pickle.dump(companies, f)"
   ]
  },
  {
   "cell_type": "code",
   "execution_count": null,
   "metadata": {
    "collapsed": true
   },
   "outputs": [],
   "source": []
  }
 ],
 "metadata": {
  "kernelspec": {
   "display_name": "Python 2",
   "language": "python",
   "name": "python2"
  },
  "language_info": {
   "codemirror_mode": {
    "name": "ipython",
    "version": 2
   },
   "file_extension": ".py",
   "mimetype": "text/x-python",
   "name": "python",
   "nbconvert_exporter": "python",
   "pygments_lexer": "ipython2",
   "version": "2.7.12+"
  },
  "widgets": {
   "state": {
    "6bf9339b8a5c434498f033ffc3f45767": {
     "views": [
      {
       "cell_index": 13
      }
     ]
    }
   },
   "version": "1.2.0"
  }
 },
 "nbformat": 4,
 "nbformat_minor": 1
}
