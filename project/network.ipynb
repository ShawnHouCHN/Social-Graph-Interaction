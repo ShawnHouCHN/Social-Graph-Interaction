{
 "cells": [
  {
   "cell_type": "markdown",
   "metadata": {},
   "source": [
    "** 02805 Social graphs and interactions **\n",
    "\n",
    "# Network Construction"
   ]
  },
  {
   "cell_type": "code",
   "execution_count": 1,
   "metadata": {
    "collapsed": false
   },
   "outputs": [
    {
     "name": "stdout",
     "output_type": "stream",
     "text": [
      "Once deleted, variables cannot be recovered. Proceed (y/[n])? y\n"
     ]
    }
   ],
   "source": [
    "# IPython global cell magic\n",
    "%reset\n",
    "%matplotlib inline\n",
    "\n",
    "# import all necessary packages\n",
    "import bs4 # HTML parser\n",
    "from collections import Counter, OrderedDict # counting elements and ordering keys in dictionaries\n",
    "import community # python-louvain package\n",
    "from __future__ import division # all numbers are float\n",
    "import datetime # handle date objects\n",
    "import dateparser # parse any (also foreign) date format to object: https://pypi.python.org/pypi/dateparser\n",
    "import itertools # iterators for efficient looping\n",
    "import json # JSON parser\n",
    "import math # math operations\n",
    "from matplotlib import pyplot as plt # plotting figures\n",
    "import mwparserfromhell # parse MediaWiki syntax: https://github.com/earwig/mwparserfromhell\n",
    "from nameparser import HumanName # parse a human name\n",
    "import networkx as nx # networks creation library\n",
    "import nltk # natural language processing\n",
    "from nltk.stem import WordNetLemmatizer\n",
    "from nltk.tokenize import RegexpTokenizer\n",
    "import operator # efficient operator functions\n",
    "import os # operating system operations, e.g.: with files and folders\n",
    "import pandas as pd # use easy-to-use data frames for data analysis\n",
    "import pickle # python data structures as files\n",
    "from pprint import pprint # print data structures prettier\n",
    "import re # regex\n",
    "import requests # request URL content\n",
    "import urllib # handle special URL chars\n",
    "\n",
    "# make working directory\n",
    "directory = os.getcwd() + '/companies'\n",
    "if not os.path.exists(directory):\n",
    "    os.makedirs(directory)\n",
    "\n",
    "# files\n",
    "ex1_fdat = directory + '/extraction1_data.pkl'\n",
    "ex2_fdat = directory + '/extraction2_data.pkl'\n",
    "ex3_tmp_fdat = directory + '/tmp_extraction3_data.pkl'\n",
    "ex3_fdat = directory + '/extraction3_data.pkl'\n",
    "extraction_csv = directory + '/all_data.csv'"
   ]
  },
  {
   "cell_type": "markdown",
   "metadata": {},
   "source": [
    "## 1. Construct the Company Network"
   ]
  },
  {
   "cell_type": "code",
   "execution_count": 3,
   "metadata": {
    "collapsed": false
   },
   "outputs": [
    {
     "name": "stderr",
     "output_type": "stream",
     "text": [
      "/usr/local/lib/python2.7/dist-packages/IPython/core/interactiveshell.py:2717: DtypeWarning: Columns (9) have mixed types. Specify dtype option on import or set low_memory=False.\n",
      "  interactivity=interactivity, compiler=compiler, result=result)\n"
     ]
    },
    {
     "data": {
      "text/html": [
       "<div>\n",
       "<table border=\"1\" class=\"dataframe\">\n",
       "  <thead>\n",
       "    <tr style=\"text-align: right;\">\n",
       "      <th></th>\n",
       "      <th>Unnamed: 0</th>\n",
       "      <th>location_city</th>\n",
       "      <th>links</th>\n",
       "      <th>wiki_link</th>\n",
       "      <th>page_id</th>\n",
       "      <th>location_country</th>\n",
       "      <th>homepage</th>\n",
       "      <th>is_company</th>\n",
       "      <th>name</th>\n",
       "      <th>num_employees</th>\n",
       "      <th>industry</th>\n",
       "      <th>products</th>\n",
       "      <th>type</th>\n",
       "      <th>founded</th>\n",
       "      <th>logo</th>\n",
       "      <th>key_people</th>\n",
       "      <th>location</th>\n",
       "      <th>defunct</th>\n",
       "      <th>parent</th>\n",
       "      <th>subsid</th>\n",
       "    </tr>\n",
       "  </thead>\n",
       "  <tbody>\n",
       "    <tr>\n",
       "      <th>0</th>\n",
       "      <td>&amp;pizza</td>\n",
       "      <td>NaN</td>\n",
       "      <td>{Ruby Tuesday (restaurant), City Sports}</td>\n",
       "      <td>https://en.wikipedia.org/wiki/%26pizza</td>\n",
       "      <td>47858476.0</td>\n",
       "      <td>NaN</td>\n",
       "      <td>http://www.andpizza.com/</td>\n",
       "      <td>True</td>\n",
       "      <td>&amp;pizza</td>\n",
       "      <td>NaN</td>\n",
       "      <td>NaN</td>\n",
       "      <td>NaN</td>\n",
       "      <td>NaN</td>\n",
       "      <td>2012-11-24 00:00:00</td>\n",
       "      <td>NaN</td>\n",
       "      <td>NaN</td>\n",
       "      <td>NaN</td>\n",
       "      <td>NaN</td>\n",
       "      <td>NaN</td>\n",
       "      <td>NaN</td>\n",
       "    </tr>\n",
       "    <tr>\n",
       "      <th>1</th>\n",
       "      <td>+Beryll</td>\n",
       "      <td>NaN</td>\n",
       "      <td>NaN</td>\n",
       "      <td>https://en.wikipedia.org/wiki/%2BBeryll</td>\n",
       "      <td>NaN</td>\n",
       "      <td>NaN</td>\n",
       "      <td>NaN</td>\n",
       "      <td>NaN</td>\n",
       "      <td>NaN</td>\n",
       "      <td>NaN</td>\n",
       "      <td>NaN</td>\n",
       "      <td>NaN</td>\n",
       "      <td>NaN</td>\n",
       "      <td>NaN</td>\n",
       "      <td>NaN</td>\n",
       "      <td>NaN</td>\n",
       "      <td>NaN</td>\n",
       "      <td>NaN</td>\n",
       "      <td>NaN</td>\n",
       "      <td>NaN</td>\n",
       "    </tr>\n",
       "    <tr>\n",
       "      <th>2</th>\n",
       "      <td>...instore</td>\n",
       "      <td>NaN</td>\n",
       "      <td>NaN</td>\n",
       "      <td>https://en.wikipedia.org/wiki/...instore</td>\n",
       "      <td>NaN</td>\n",
       "      <td>NaN</td>\n",
       "      <td>NaN</td>\n",
       "      <td>NaN</td>\n",
       "      <td>NaN</td>\n",
       "      <td>NaN</td>\n",
       "      <td>NaN</td>\n",
       "      <td>NaN</td>\n",
       "      <td>NaN</td>\n",
       "      <td>NaN</td>\n",
       "      <td>NaN</td>\n",
       "      <td>NaN</td>\n",
       "      <td>NaN</td>\n",
       "      <td>NaN</td>\n",
       "      <td>NaN</td>\n",
       "      <td>NaN</td>\n",
       "    </tr>\n",
       "    <tr>\n",
       "      <th>3</th>\n",
       "      <td>01 Communique</td>\n",
       "      <td>NaN</td>\n",
       "      <td>{}</td>\n",
       "      <td>https://en.wikipedia.org/wiki/01_Communique</td>\n",
       "      <td>15244876.0</td>\n",
       "      <td>NaN</td>\n",
       "      <td>http://www.01com.com</td>\n",
       "      <td>True</td>\n",
       "      <td>01 Communique</td>\n",
       "      <td>15</td>\n",
       "      <td>Software</td>\n",
       "      <td>Remote Access Software, Online Help Desk Suppo...</td>\n",
       "      <td>Public Listed Company ()</td>\n",
       "      <td>1992</td>\n",
       "      <td>{u'wiki_raw_code': u'[[File:01 Communique Logo...</td>\n",
       "      <td>Andrew Cheung, President</td>\n",
       "      <td>Mississauga, Ontario, Canada</td>\n",
       "      <td>NaN</td>\n",
       "      <td>NaN</td>\n",
       "      <td>NaN</td>\n",
       "    </tr>\n",
       "    <tr>\n",
       "      <th>4</th>\n",
       "      <td>01 Distribution</td>\n",
       "      <td>NaN</td>\n",
       "      <td>NaN</td>\n",
       "      <td>https://en.wikipedia.org/wiki/01_Distribution</td>\n",
       "      <td>NaN</td>\n",
       "      <td>NaN</td>\n",
       "      <td>NaN</td>\n",
       "      <td>NaN</td>\n",
       "      <td>NaN</td>\n",
       "      <td>NaN</td>\n",
       "      <td>NaN</td>\n",
       "      <td>NaN</td>\n",
       "      <td>NaN</td>\n",
       "      <td>NaN</td>\n",
       "      <td>NaN</td>\n",
       "      <td>NaN</td>\n",
       "      <td>NaN</td>\n",
       "      <td>NaN</td>\n",
       "      <td>NaN</td>\n",
       "      <td>NaN</td>\n",
       "    </tr>\n",
       "  </tbody>\n",
       "</table>\n",
       "</div>"
      ],
      "text/plain": [
       "        Unnamed: 0 location_city                                     links  \\\n",
       "0           &pizza           NaN  {Ruby Tuesday (restaurant), City Sports}   \n",
       "1          +Beryll           NaN                                       NaN   \n",
       "2       ...instore           NaN                                       NaN   \n",
       "3    01 Communique           NaN                                        {}   \n",
       "4  01 Distribution           NaN                                       NaN   \n",
       "\n",
       "                                       wiki_link     page_id location_country  \\\n",
       "0         https://en.wikipedia.org/wiki/%26pizza  47858476.0              NaN   \n",
       "1        https://en.wikipedia.org/wiki/%2BBeryll         NaN              NaN   \n",
       "2       https://en.wikipedia.org/wiki/...instore         NaN              NaN   \n",
       "3    https://en.wikipedia.org/wiki/01_Communique  15244876.0              NaN   \n",
       "4  https://en.wikipedia.org/wiki/01_Distribution         NaN              NaN   \n",
       "\n",
       "                   homepage is_company           name num_employees  industry  \\\n",
       "0  http://www.andpizza.com/       True         &pizza           NaN       NaN   \n",
       "1                       NaN        NaN            NaN           NaN       NaN   \n",
       "2                       NaN        NaN            NaN           NaN       NaN   \n",
       "3      http://www.01com.com       True  01 Communique            15  Software   \n",
       "4                       NaN        NaN            NaN           NaN       NaN   \n",
       "\n",
       "                                            products  \\\n",
       "0                                                NaN   \n",
       "1                                                NaN   \n",
       "2                                                NaN   \n",
       "3  Remote Access Software, Online Help Desk Suppo...   \n",
       "4                                                NaN   \n",
       "\n",
       "                       type              founded  \\\n",
       "0                       NaN  2012-11-24 00:00:00   \n",
       "1                       NaN                  NaN   \n",
       "2                       NaN                  NaN   \n",
       "3  Public Listed Company ()                 1992   \n",
       "4                       NaN                  NaN   \n",
       "\n",
       "                                                logo  \\\n",
       "0                                                NaN   \n",
       "1                                                NaN   \n",
       "2                                                NaN   \n",
       "3  {u'wiki_raw_code': u'[[File:01 Communique Logo...   \n",
       "4                                                NaN   \n",
       "\n",
       "                 key_people                      location defunct parent  \\\n",
       "0                       NaN                           NaN     NaN    NaN   \n",
       "1                       NaN                           NaN     NaN    NaN   \n",
       "2                       NaN                           NaN     NaN    NaN   \n",
       "3  Andrew Cheung, President  Mississauga, Ontario, Canada     NaN    NaN   \n",
       "4                       NaN                           NaN     NaN    NaN   \n",
       "\n",
       "  subsid  \n",
       "0    NaN  \n",
       "1    NaN  \n",
       "2    NaN  \n",
       "3    NaN  \n",
       "4    NaN  "
      ]
     },
     "execution_count": 3,
     "metadata": {},
     "output_type": "execute_result"
    }
   ],
   "source": [
    "# load CSV data\n",
    "c_dat = pd.read_csv(extraction_csv)\n",
    "c_dat.head()"
   ]
  },
  {
   "cell_type": "code",
   "execution_count": 3,
   "metadata": {
    "collapsed": true
   },
   "outputs": [],
   "source": [
    "# create one node per company name (keys of data)\n",
    "p_graph = nx.DiGraph()"
   ]
  },
  {
   "cell_type": "code",
   "execution_count": null,
   "metadata": {
    "collapsed": true
   },
   "outputs": [],
   "source": [
    "# create node links\n",
    "for p in com_dat.keys():\n",
    "\n",
    "    # add a node for the company\n",
    "    p_graph.add_node(\n",
    "        com_dat[p]['name'], \n",
    "        type=com_dat[p]['type'],\n",
    "        key_people=com_dat[p]['key_people'],\n",
    "        industry=com_dat[p]['industry'],\n",
    "        founded=com_dat[p]['founded'],\n",
    "        location=com_dat[p]['location'],\n",
    "        location_city=com_dat[p]['location_city'],\n",
    "        location_city=com_dat[p]['location_country'],\n",
    "        location_gps=com_dat[p]['location_gps'],\n",
    "        defunct=com_dat[p]['defunct'],\n",
    "        subsid=com_dat[p]['subsid'],\n",
    "        products=com_dat[p]['products'],\n",
    "        num_employees=com_dat[p]['num_employees'],\n",
    "        parent=com_dat[p]['parent']\n",
    "    )\n",
    "\n",
    "    # show example of related company\n",
    "    if p == 'Apple_Inc.':\n",
    "        print com_dat[p]['links']    \n",
    "    \n",
    "    # check if edge list exists\n",
    "    if 'links' not in com_dat[p]:\n",
    "        print 'No link list for company:', p\n",
    "        continue\n",
    "    # add an edge for the company\n",
    "    for e in com_dat[p]['links']:\n",
    "        p_graph.add_edge(p, e)"
   ]
  },
  {
   "cell_type": "code",
   "execution_count": null,
   "metadata": {
    "collapsed": true
   },
   "outputs": [],
   "source": [
    "print \"There are {0} nodes in the network.\".format(len(p_graph.nodes()))\n",
    "print \"There are {0} edges in the network.\".format(len(p_graph.edges()))"
   ]
  },
  {
   "cell_type": "markdown",
   "metadata": {},
   "source": [
    "## 2. Analysis"
   ]
  },
  {
   "cell_type": "markdown",
   "metadata": {},
   "source": [
    "Weakly Connected Component is maximal subgraph of a directed graph such that for every pair of vertices $u$, $v$ in the subgraph, there is an undirected path from $u$ to $v$ and a directed path from $v$ to $u$."
   ]
  },
  {
   "cell_type": "code",
   "execution_count": null,
   "metadata": {
    "collapsed": true
   },
   "outputs": [],
   "source": [
    "p_weak = sorted(nx.weakly_connected_component_subgraphs(p_graph), key=len, reverse=True)[0]\n",
    "print 'The size (number of nodes) of subgraph with largest weakly connected component is:', p_weak.size()"
   ]
  },
  {
   "cell_type": "code",
   "execution_count": null,
   "metadata": {
    "collapsed": true
   },
   "outputs": [],
   "source": [
    "### degree centrality\n",
    "# in-edges\n",
    "node_in_degree = nx.in_degree_centrality(p_weak)\n",
    "# out-edges\n",
    "node_out_degree = nx.out_degree_centrality(p_weak)\n",
    "\n",
    "print \"5 most central companies according to in-edges degree centrality:\"\n",
    "pprint.pprint(Counter(node_in_degree).most_common(5))\n",
    "\n",
    "print \"\\n5 most central companies according to out-edges degree centrality:\"\n",
    "pprint.pprint(Counter(node_out_degree).most_common(5))"
   ]
  },
  {
   "cell_type": "code",
   "execution_count": null,
   "metadata": {
    "collapsed": true
   },
   "outputs": [],
   "source": [
    "# calculate betweenness centrality\n",
    "node_dict = nx.betweenness_centrality(p_weak)\n",
    "\n",
    "# use to print with betweenness_centrality\n",
    "print \"Top 5 most central company according to betweenness centrality:\"\n",
    "pprint.pprint(Counter(node_dict).most_common(5))"
   ]
  },
  {
   "cell_type": "code",
   "execution_count": null,
   "metadata": {
    "collapsed": true
   },
   "outputs": [],
   "source": [
    "### eigenvector centrality\n",
    "# in-edges\n",
    "node_in_eigen = nx.eigenvector_centrality(p_weak)\n",
    "# For out-edges eigenvector centrality first reverse the graph with G.reverse().\n",
    "node_out_eigen = nx.eigenvector_centrality(p_weak.reverse())\n",
    "\n",
    "print \"5 most central companies according to in-edges eigenvector centrality:\"\n",
    "pprint.pprint(Counter(node_in_eigen).most_common(5))\n",
    "\n",
    "print \"\\n5 most central companies according to out-edges eigenvector centrality:\"\n",
    "pprint.pprint(Counter(node_out_eigen).most_common(5))"
   ]
  },
  {
   "cell_type": "markdown",
   "metadata": {
    "collapsed": true
   },
   "source": [
    "## What if?\n",
    "\n",
    "What if google disappears and all nodes connecting directly to google with it."
   ]
  },
  {
   "cell_type": "code",
   "execution_count": null,
   "metadata": {
    "collapsed": true
   },
   "outputs": [],
   "source": []
  }
 ],
 "metadata": {
  "kernelspec": {
   "display_name": "Python 2",
   "language": "python",
   "name": "python2"
  },
  "language_info": {
   "codemirror_mode": {
    "name": "ipython",
    "version": 2
   },
   "file_extension": ".py",
   "mimetype": "text/x-python",
   "name": "python",
   "nbconvert_exporter": "python",
   "pygments_lexer": "ipython2",
   "version": "2.7.12+"
  }
 },
 "nbformat": 4,
 "nbformat_minor": 1
}
