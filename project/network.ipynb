{
 "cells": [
  {
   "cell_type": "markdown",
   "metadata": {},
   "source": [
    "** 02805 Social graphs and interactions **\n",
    "\n",
    "# Network Construction"
   ]
  },
  {
   "cell_type": "code",
   "execution_count": 2,
   "metadata": {
    "collapsed": false
   },
   "outputs": [
    {
     "name": "stdout",
     "output_type": "stream",
     "text": [
      "Once deleted, variables cannot be recovered. Proceed (y/[n])? y\n"
     ]
    }
   ],
   "source": [
    "# IPython global cell magic\n",
    "%reset\n",
    "%matplotlib inline\n",
    "\n",
    "# import all necessary packages\n",
    "import bs4 # HTML parser\n",
    "from collections import Counter, OrderedDict # counting elements and ordering keys in dictionaries\n",
    "import community # python-louvain package\n",
    "from __future__ import division # all numbers are float\n",
    "import geoplotlib # plot points on maps\n",
    "from geoplotlib.utils import BoundingBox\n",
    "import geopy # get geo location according to addresses\n",
    "from geopy.exc import GeocoderServiceError\n",
    "import datetime # handle date objects\n",
    "import dateparser # parse any (also foreign) date format to object: https://pypi.python.org/pypi/dateparser\n",
    "import itertools # iterators for efficient looping\n",
    "import json # JSON parser\n",
    "import math # math operations\n",
    "from matplotlib import pyplot as plt # plotting figures\n",
    "import mwparserfromhell # parse MediaWiki syntax: https://github.com/earwig/mwparserfromhell\n",
    "from nameparser import HumanName # parse a human name\n",
    "import networkx as nx # networks creation library\n",
    "import nltk # natural language processing\n",
    "from nltk.stem import WordNetLemmatizer\n",
    "from nltk.tokenize import RegexpTokenizer\n",
    "import operator # efficient operator functions\n",
    "import os # operating system operations, e.g.: with files and folders\n",
    "import pandas as pd # use easy-to-use data frames for data analysis\n",
    "import pickle # python data structures as files\n",
    "from pprint import pprint # print data structures prettier\n",
    "import re # regex\n",
    "import requests # request URL content\n",
    "import time # sleep timer\n",
    "from tqdm import tqdm_notebook # make a nice progressbar\n",
    "import urllib # handle special URL chars\n",
    "\n",
    "# make working directory\n",
    "directory = os.getcwd() + '/companies'\n",
    "if not os.path.exists(directory):\n",
    "    os.makedirs(directory)\n",
    "\n",
    "# files\n",
    "ex1_fdat = directory + '/extraction1_data.pkl'\n",
    "ex2_fdat = directory + '/extraction2_data.pkl'\n",
    "ex3_tmp_fdat = directory + '/tmp_extraction3_data.pkl'\n",
    "ex3_fdat = directory + '/extraction3_data.pkl'\n",
    "merged = directory + '/merged_data.pkl'\n",
    "extraction_csv = directory + '/company_data.csv'\n",
    "\n",
    "# specify nltk data dir, otherwise LookupError error\n",
    "nltk.data.path.append(os.getcwd() + '/../nltk_data')\n",
    "from nltk.corpus import names"
   ]
  },
  {
   "cell_type": "code",
   "execution_count": 3,
   "metadata": {
    "collapsed": false
   },
   "outputs": [],
   "source": [
    "# load data from all extractions\n",
    "com_dat = dict()\n",
    "if os.path.isfile(merged):\n",
    "    with open(merged, 'rb') as f:\n",
    "        com_dat = pickle.load(f)"
   ]
  },
  {
   "cell_type": "markdown",
   "metadata": {},
   "source": [
    "## 1. Construct the Company Network"
   ]
  },
  {
   "cell_type": "code",
   "execution_count": 7,
   "metadata": {
    "collapsed": true
   },
   "outputs": [],
   "source": [
    "# create one node per company name (keys of data)\n",
    "c_graph = nx.DiGraph()"
   ]
  },
  {
   "cell_type": "code",
   "execution_count": 9,
   "metadata": {
    "collapsed": false,
    "scrolled": true
   },
   "outputs": [
    {
     "name": "stdout",
     "output_type": "stream",
     "text": [
      "set([u'T-Systems', u'American Airlines Group', u'Bharat Sanchar Nigam Limited', u'Tata Teleservices', u'FingerWorks', u'Amgen', u'Yves Saint Laurent (brand)', u'Huawei', u'Reuters', u'Applied Materials', u'Comcast', u'IBM Global Services', u'Deloitte', u'Biogen', u'Cond\\xe9 Nast', u'Sanmina Corporation', u'Vodafone', u'Statista', u'Samsung Electronics', u'Sony', u'Olympus Corporation', u'HP Inc.', u'Sony Mobile', u'Nokia', u'Xerox', u'Rakuten', u'UL (safety organization)', u'American Express', u'Booz Allen Hamilton', u'Alphabet Inc.', u'MediaTek', u'The Priceline Group', u'CA Technologies', u'NTT DATA', u'Burberry', u'China Unicom', u'Interbrand', u'PARC (company)', u'KDDI', u'Cerner', u'Jabil Circuit', u'Silicon Power', u'Konica Minolta', u'IBM', u'Boston Consulting Group', u'Leidos', u'Canon Inc.', u'Asus', u'KPMG', u'SanDisk', u'NeXT', u'Bharti Airtel', u'Adobe Systems', u'Plextor', u'Whole Foods Market', u'Fiserv', u'SAP SE', u'Costco', u'Am\\xe9rica M\\xf3vil', u'China Mobile', u'Liberty Interactive', u'BBK Electronics', u'Xilinx', u'Dollar Tree', u'Omnicom Group', u'Endo International plc', u'Chevron Corporation', u'DuPont', u'Broadcom Limited', u'Pegatron', u'Hitachi Data Systems', u'Accenture', u'Cognizant', u'The Travelers Companies', u'Infosys', u'Semiconductor Manufacturing International Corporation', u'Sun Microsystems', u'Hewlett Packard Enterprise Services', u'Paccar', u'STMicroelectronics', u'Beats Electronics', u'Dell Technologies', u'Wistron Corporation', u'LG Electronics', u'Nippon Telegraph and Telephone', u'FileMaker Inc.', u'Star Micronics', u'Dish Network', u'China Telecom', u'EMI', u'Ulta Beauty', u'Fujifilm', u'Inspur', u'Hitachi Consulting', u'Ricoh', u'BlackBerry Limited', u'Meizu', u'3M', u'Incyte', u'Goldman Sachs', u'Uber (company)', u'Unisys', u'TCL Corporation', u'ON Semiconductor', u'PrimeSense', u'Vivendi', u'LG Chem', u'Skyworks Solutions', u'ExxonMobil', u'Liberty Media', u'Lexmark', u'Intuit', u'AuthenTec', u'Didi Chuxing', u'Symantec', u'MTS (network provider)', u'Merck & Co.', u'Charter Communications', u'AT&T', u'Juniper Networks', u'Orange S.A.', u'Kingston Technology', u'Motorola Solutions', u'Telef\\xf3nica', u'Lenovo', u'Sprint Corporation', u'Sirius XM Holdings', u'Procter & Gamble', u'MTN Group', u'Apple Corps', u'Mylan', u'Discovery Communications', u'Liberty Global', u'NCR Corporation', u'Fujitsu', u'UnitedHealth Group', u'Tata Consultancy Services', u'Western Digital', u'Rackspace', u'Linear Technology', u'Mattel', u'Microsoft', u'KPN', u'Analog Devices', u'Tech Mahindra', u'Flextronics', u'T-Mobile US', u'Autodesk', u'Qualcomm', u'Celestica', u'NetApp', u'Telenor', u'Computer Sciences Corporation', u'Infineon Technologies', u'VimpelCom Ltd.', u'United Microelectronics Corporation', u'Oracle Corporation', u'Expedia, Inc.', u'Capgemini', u'Indra Sistemas', u'SK Telecom', u'Ericsson', u'Vertex Pharmaceuticals', u'Marvell Technology Group', u'AOL', u'Motorola Mobility', u'No Starch Press', u'A123 Systems', u'Express Scripts', u'NEC', u'BT Group', u'Apple Store', u'Sony Interactive Entertainment', u'Hisense', u'KT Corporation', u'Dell EMC', u'Tesla Motors', u'Walgreens Boots Alliance', u'Verizon Communications', u'Mahanagar Telephone Nigam', u\"O'Reilly Auto Parts\", u'Verisk Analytics', u'Metaio', u'Los Angeles Times', u'Tokyo Electron', u'Take-Two Interactive', u'Wincor Nixdorf', u'Ford Motor Company', u\"McDonald's\", u'Avaya', u'Toshiba', u'Nikon', u'Casio', u'LenovoEMC', u'VMware', u'Nintendo', u'True Corporation', u'CGI Group', u'Inventec', u'Advanced Micro Devices', u'Starbucks', u'Tractor Supply Company', u'Caterpillar Inc.', u'Nike, Inc.', u'Boeing', u'Intel', u'Sharp Corporation', u'ZTE', u'Orange Business Services', u'GlobalFoundries', u'Canaccord Genuity', u'Kodak', u'Fastenal', u'SK Hynix', u'Idea Cellular', u'Telecom Italia', u'Cisco Systems', u'Nvidia', u'Citrix Systems', u'HTC', u'CenturyLink', u'Marriott International', u'Lam Research', u'Topsy Labs', u'Automatic Data Processing', u'Micron Technology', u'NXP Semiconductors', u'Alexion Pharmaceuticals', u'NTT DoCoMo', u'Maxim Integrated', u'Kraft Heinz', u'Pixar', u'Renesas Electronics', u'Panasonic', u'Transcend Information', u'Seagate Technology', u'Microsoft Studios', u'Electronic Arts', u'Bell Canada', u'P.A. Semi', u'Johnson & Johnson', u'Reliance Communications', u'United Technologies', u'Naver Corporation', u'Quanta Computer', u'Norwegian Cruise Line', u'Acer Inc.', u'Monster Beverage', u'CSX Corporation', u'General Electric', u'The Home Depot', u'Viettel', u'Bed Bath & Beyond', u'Oi (telecommunications)', u'Dell (subsidiary)', u'Celgene', u'Mondelez International', u'Visa Inc.', u'Motorola', u'Product Red', u'Atos', u'IAC (company)', u'Ctrip', u'Dell', u'Foxconn', u'Pfizer', u'Walmart', u'Xiaomi', u'I-Mobile', u'Verizon Wireless', u'Karbonn Mobiles', u'ADATA', u'SBA Communications', u'Illumina (company)', u'Anobit', u'Compal Electronics', u'Salesforce.com', u'JPMorgan Chase', u'TSMC', u'Intuitive Surgical', u'Texas Instruments', u'The Coca-Cola Company', u'TPV Technology', u'Johnson Controls', u'Seiko Epson', u'Deutsche Telekom', u'Time Warner', u'Paychex', u'Viacom', u'Stericycle', u'CACI', u'Activision Blizzard', u'Nielsen Online', u'Wipro', u'Check Point', u'HCL Technologies', u'Google', u'VIA Technologies', u'21st Century Fox', u'Henry Schein', u'The Walt Disney Company', u'Hewlett Packard Enterprise', u'Gilead Sciences', u'Regeneron', u'Macromedia', u'Kyocera', u'Tencent', u'BioMarin Pharmaceutical', u'Fitbit', u'Integrated Micro-Electronics, Inc.', u'BT Global Services'])\n"
     ]
    }
   ],
   "source": [
    "# create nodes and edges\n",
    "for c_name, comp in com_dat.iteritems():\n",
    "\n",
    "    # don't add non companies\n",
    "    if 'is_company' not in comp or not comp['is_company']:\n",
    "        continue\n",
    "\n",
    "    # add a node for the company\n",
    "    c_graph.add_node(\n",
    "        c_name,\n",
    "        name=comp['name'], \n",
    "        type=comp['type'],\n",
    "        key_people=comp['key_people'],\n",
    "        industry=comp['industry'],\n",
    "        founded=comp['founded'],\n",
    "        location_geopy=comp['location_geopy'],\n",
    "        location_city=comp['location_city'],\n",
    "        location_country=comp['location_country'],\n",
    "        location_gps=comp['location_gps'],\n",
    "        defunct=comp['defunct'],\n",
    "        subsid=comp['subsid'],\n",
    "        products=comp['products'],\n",
    "        num_employees=comp['num_employees'],\n",
    "        parent=comp['parent']\n",
    "    )\n",
    "\n",
    "    # show example of related company\n",
    "    if c_name == 'Apple Inc.':\n",
    "        print comp['links']\n",
    "\n",
    "    # add an edge for the company\n",
    "    for e in comp['links']:\n",
    "        if e in com_dat and 'is_company' in com_dat[e] and com_dat[e]['is_company']:\n",
    "            c_graph.add_edge(c_name, e)"
   ]
  },
  {
   "cell_type": "code",
   "execution_count": 11,
   "metadata": {
    "collapsed": false
   },
   "outputs": [
    {
     "name": "stdout",
     "output_type": "stream",
     "text": [
      "There are 56871 nodes in the network.\n",
      "There are 1051701 edges in the network.\n"
     ]
    }
   ],
   "source": [
    "print \"There are {0} nodes in the network.\".format(len(c_graph.nodes()))\n",
    "print \"There are {0} edges in the network.\".format(len(c_graph.edges()))"
   ]
  },
  {
   "cell_type": "markdown",
   "metadata": {},
   "source": [
    "## 2. Analysis"
   ]
  },
  {
   "cell_type": "markdown",
   "metadata": {},
   "source": [
    "Weakly Connected Component is maximal subgraph of a directed graph such that for every pair of vertices $u$, $v$ in the subgraph, there is an undirected path from $u$ to $v$ and a directed path from $v$ to $u$."
   ]
  },
  {
   "cell_type": "code",
   "execution_count": 13,
   "metadata": {
    "collapsed": false
   },
   "outputs": [
    {
     "name": "stdout",
     "output_type": "stream",
     "text": [
      "The size (number of nodes) of subgraph with largest weakly connected component is: 1050597\n"
     ]
    }
   ],
   "source": [
    "c_weak = sorted(nx.weakly_connected_component_subgraphs(c_graph), key=len, reverse=True)[0]\n",
    "print 'The size (number of edges) of subgraph with largest weakly connected component is:', c_weak.size()"
   ]
  },
  {
   "cell_type": "code",
   "execution_count": 15,
   "metadata": {
    "collapsed": false
   },
   "outputs": [
    {
     "name": "stdout",
     "output_type": "stream",
     "text": [
      "5 most central companies according to in-edges degree centrality:\n",
      "[(u'Microsoft', 0.02822179555391057),\n",
      " (u'Reuters', 0.027273358162344722),\n",
      " (u'Sony', 0.0203335723703995),\n",
      " (u'Google', 0.01924633926299475),\n",
      " (u'IBM', 0.01799717782044461)]\n",
      "\n",
      "5 most central companies according to out-edges degree centrality:\n",
      "[(u'Telia Company', 0.012237155613130076),\n",
      " (u'Hitachi', 0.012167757755210623),\n",
      " (u'Vodafone', 0.012075227277984686),\n",
      " (u'Sony', 0.011843901084919846),\n",
      " (u'Panasonic', 0.01135811607948368)]\n"
     ]
    }
   ],
   "source": [
    "### degree centrality\n",
    "# in-edges\n",
    "node_in_degree = nx.in_degree_centrality(c_weak)\n",
    "# out-edges\n",
    "node_out_degree = nx.out_degree_centrality(c_weak)"
   ]
  },
  {
   "cell_type": "code",
   "execution_count": 20,
   "metadata": {
    "collapsed": false
   },
   "outputs": [
    {
     "name": "stdout",
     "output_type": "stream",
     "text": [
      "5 most central companies according to in-edges degree centrality:\n",
      "[(u'Microsoft', 0.02822179555391057),\n",
      " (u'Reuters', 0.027273358162344722),\n",
      " (u'Sony', 0.0203335723703995),\n",
      " (u'Google', 0.01924633926299475),\n",
      " (u'IBM', 0.01799717782044461),\n",
      " (u'HSBC', 0.017233801383330635),\n",
      " (u'Vodafone', 0.01674801637789447),\n",
      " (u'Apple Inc.', 0.01663235328136205),\n",
      " (u'Nintendo', 0.016331629230377755),\n",
      " (u'Deutsche Bank', 0.016169700895232366)]\n",
      "\n",
      "5 most central companies according to out-edges degree centrality:\n",
      "[(u'Telia Company', 0.012237155613130076),\n",
      " (u'Hitachi', 0.012167757755210623),\n",
      " (u'Vodafone', 0.012075227277984686),\n",
      " (u'Sony', 0.011843901084919846),\n",
      " (u'Panasonic', 0.01135811607948368),\n",
      " (u'Toshiba', 0.011311850840870712),\n",
      " (u'Kyocera', 0.011288718221564228),\n",
      " (u'Mitsubishi Electric', 0.010802933216128062),\n",
      " (u'Comcast', 0.010687270119595643),\n",
      " (u'Fujitsu', 0.010664137500289158)]\n"
     ]
    }
   ],
   "source": [
    "print \"10 most central companies according to in-edges degree centrality:\"\n",
    "pprint(Counter(node_in_degree).most_common(10))\n",
    "\n",
    "print \"\\n10 most central companies according to out-edges degree centrality:\"\n",
    "pprint(Counter(node_out_degree).most_common(10))"
   ]
  },
  {
   "cell_type": "markdown",
   "metadata": {},
   "source": [
    "Technology companies with most in/out connections."
   ]
  },
  {
   "cell_type": "code",
   "execution_count": null,
   "metadata": {
    "collapsed": true
   },
   "outputs": [],
   "source": [
    "### betweenness centrality\n",
    "node_dict = nx.betweenness_centrality(c_weak)"
   ]
  },
  {
   "cell_type": "code",
   "execution_count": 19,
   "metadata": {
    "collapsed": false
   },
   "outputs": [
    {
     "name": "stdout",
     "output_type": "stream",
     "text": [
      "Top 10 most central company according to betweenness centrality:\n"
     ]
    },
    {
     "ename": "NameError",
     "evalue": "name 'node_dict' is not defined",
     "output_type": "error",
     "traceback": [
      "\u001b[0;31m---------------------------------------------------------------------------\u001b[0m",
      "\u001b[0;31mNameError\u001b[0m                                 Traceback (most recent call last)",
      "\u001b[0;32m<ipython-input-19-9cea47d78728>\u001b[0m in \u001b[0;36m<module>\u001b[0;34m()\u001b[0m\n\u001b[1;32m      1\u001b[0m \u001b[0;31m# use to print with betweenness_centrality\u001b[0m\u001b[0;34m\u001b[0m\u001b[0;34m\u001b[0m\u001b[0m\n\u001b[1;32m      2\u001b[0m \u001b[0;32mprint\u001b[0m \u001b[0;34m\"Top 10 most central company according to betweenness centrality:\"\u001b[0m\u001b[0;34m\u001b[0m\u001b[0m\n\u001b[0;32m----> 3\u001b[0;31m \u001b[0mpprint\u001b[0m\u001b[0;34m(\u001b[0m\u001b[0mCounter\u001b[0m\u001b[0;34m(\u001b[0m\u001b[0mnode_dict\u001b[0m\u001b[0;34m)\u001b[0m\u001b[0;34m.\u001b[0m\u001b[0mmost_common\u001b[0m\u001b[0;34m(\u001b[0m\u001b[0;36m10\u001b[0m\u001b[0;34m)\u001b[0m\u001b[0;34m)\u001b[0m\u001b[0;34m\u001b[0m\u001b[0m\n\u001b[0m",
      "\u001b[0;31mNameError\u001b[0m: name 'node_dict' is not defined"
     ]
    }
   ],
   "source": [
    "# use to print with betweenness_centrality\n",
    "print \"Top 10 most central company according to betweenness centrality:\"\n",
    "pprint(Counter(node_dict).most_common(10))"
   ]
  },
  {
   "cell_type": "code",
   "execution_count": 16,
   "metadata": {
    "collapsed": false
   },
   "outputs": [
    {
     "name": "stdout",
     "output_type": "stream",
     "text": [
      "5 most central companies according to in-edges eigenvector centrality:\n"
     ]
    },
    {
     "ename": "AttributeError",
     "evalue": "'function' object has no attribute 'pprint'",
     "output_type": "error",
     "traceback": [
      "\u001b[0;31m---------------------------------------------------------------------------\u001b[0m",
      "\u001b[0;31mAttributeError\u001b[0m                            Traceback (most recent call last)",
      "\u001b[0;32m<ipython-input-16-d0902f1cbe40>\u001b[0m in \u001b[0;36m<module>\u001b[0;34m()\u001b[0m\n\u001b[1;32m      6\u001b[0m \u001b[0;34m\u001b[0m\u001b[0m\n\u001b[1;32m      7\u001b[0m \u001b[0;32mprint\u001b[0m \u001b[0;34m\"5 most central companies according to in-edges eigenvector centrality:\"\u001b[0m\u001b[0;34m\u001b[0m\u001b[0m\n\u001b[0;32m----> 8\u001b[0;31m \u001b[0mpprint\u001b[0m\u001b[0;34m.\u001b[0m\u001b[0mpprint\u001b[0m\u001b[0;34m(\u001b[0m\u001b[0mCounter\u001b[0m\u001b[0;34m(\u001b[0m\u001b[0mnode_in_eigen\u001b[0m\u001b[0;34m)\u001b[0m\u001b[0;34m.\u001b[0m\u001b[0mmost_common\u001b[0m\u001b[0;34m(\u001b[0m\u001b[0;36m5\u001b[0m\u001b[0;34m)\u001b[0m\u001b[0;34m)\u001b[0m\u001b[0;34m\u001b[0m\u001b[0m\n\u001b[0m\u001b[1;32m      9\u001b[0m \u001b[0;34m\u001b[0m\u001b[0m\n\u001b[1;32m     10\u001b[0m \u001b[0;32mprint\u001b[0m \u001b[0;34m\"\\n5 most central companies according to out-edges eigenvector centrality:\"\u001b[0m\u001b[0;34m\u001b[0m\u001b[0m\n",
      "\u001b[0;31mAttributeError\u001b[0m: 'function' object has no attribute 'pprint'"
     ]
    }
   ],
   "source": [
    "### eigenvector centrality\n",
    "# in-edges\n",
    "node_in_eigen = nx.eigenvector_centrality(c_weak)\n",
    "# For out-edges eigenvector centrality first reverse the graph with G.reverse().\n",
    "node_out_eigen = nx.eigenvector_centrality(c_weak.reverse())"
   ]
  },
  {
   "cell_type": "code",
   "execution_count": 18,
   "metadata": {
    "collapsed": false
   },
   "outputs": [
    {
     "name": "stdout",
     "output_type": "stream",
     "text": [
      "5 most central companies according to in-edges eigenvector centrality:\n",
      "[(u'Whole Foods Market', 0.06513246683947559),\n",
      " (u'Costco', 0.06468616518807528),\n",
      " (u'Lidl', 0.06460187590810752),\n",
      " (u'Aldi', 0.06458624112930075),\n",
      " (u'Albertsons', 0.06457294638825081),\n",
      " (u'Ahold Delhaize', 0.06455722688742424),\n",
      " (u'Giant-Carlisle', 0.06450301020239359),\n",
      " (u'Walmart', 0.0644512274072413),\n",
      " (u'Target Corporation', 0.0643983220707179),\n",
      " (u'Safeway Inc.', 0.06433794401085813)]\n",
      "\n",
      "5 most central companies according to out-edges eigenvector centrality:\n",
      "[(u'Albertsons', 0.06462208777787326),\n",
      " (u'Delhaize Group', 0.06456307776485336),\n",
      " (u'Kroger', 0.06450215740126888),\n",
      " (u'SuperValu (United States)', 0.06433151533748266),\n",
      " (u'Costco', 0.06429693816311595),\n",
      " (u'Whole Foods Market', 0.0642940979253253),\n",
      " (u'Star Market', 0.06400422092269757),\n",
      " (u'Acme Markets', 0.06396728921941867),\n",
      " (u'Aldi', 0.0639353172275687),\n",
      " (u'Stop & Shop', 0.06392336303972086)]\n"
     ]
    }
   ],
   "source": [
    "print \"10 most central companies according to in-edges eigenvector centrality:\"\n",
    "pprint(Counter(node_in_eigen).most_common(10))\n",
    "\n",
    "print \"\\n10 most central companies according to out-edges eigenvector centrality:\"\n",
    "pprint(Counter(node_out_eigen).most_common(10))"
   ]
  },
  {
   "cell_type": "markdown",
   "metadata": {},
   "source": [
    "Delhaize Group has Stop & Shop as subsidiary."
   ]
  },
  {
   "cell_type": "markdown",
   "metadata": {},
   "source": [
    "## Rebuilding the Network\n",
    "\n",
    "Without the section See also, References and External links\n",
    "\n",
    "https://en.wikipedia.org/wiki/Delhaize_Group#See_also"
   ]
  },
  {
   "cell_type": "code",
   "execution_count": null,
   "metadata": {
    "collapsed": true
   },
   "outputs": [],
   "source": []
  },
  {
   "cell_type": "code",
   "execution_count": 21,
   "metadata": {
    "collapsed": false
   },
   "outputs": [
    {
     "name": "stdout",
     "output_type": "stream",
     "text": [
      "set([u'Naamloze vennootschap', u'Alfa-Beta Vassilopoulos', u'Ahold Delhaize', u'Mega Image', u'Anderlecht', u'Ahold', u'Dick Boer', u'Aldi', u'Hannaford Brothers Company', u'Food Lion LLC', u'Louis Delhaize Group', u'REWE Group', u'Cub Foods', u'BI-LO (United States)', u'Mats Jansson', u'De Standaard', u'Belgium', u'Brussels', u'Indonesia', u'Frans Muller', u'Zellik', u\"Kash n' Karry\", u'Charleroi', u'Billa (supermarket)', u'Sweetbay Supermarket', u'wholesale', u'Maxi (Serbian supermarket)', u'convenience store', u'Sint-Jans-Molenbeek', u'hypermarket', u'S.A. (corporation)', u'Food Lion']) \n",
      "\n",
      "set([u'Strack & Van Til', u'Acme Markets', u'Inditex', u'UCB (company)', u'Price Chopper Supermarkets', u'Cash & Carry', u'Jer\\xf3nimo Martins', u'Quality Dairy Company', u'Cofinimmo', u'Quality Markets', u'Xpect Discounts', u'Omni Superstore', u'H&M', u'Uwajimaya', u'Food City (K-VA-T)', u'Target Corporation', u'Harris Teeter', u'Ampm', u'Rouses', u'OXXO', u'Ackermans & van Haaren', u'Carrefour City', u'Times Supermarkets', u\"Redner's Markets\", u'Key Food', u'Asda', u\"Heinen's Fine Foods\", u'Alpha Beta', u'Sweetbay Supermarket', u\"Weigel's\", u'Hannaford Brothers Company', u'Albertsons', u\"Ridley's Family Markets\", u'Stripes Convenience Stores', u'Ralphs', u'United Grocery Outlet', u'Simon David', u'Tops Friendly Markets', u\"David's Supermarkets\", u'Central Market (Texas)', u'King Kullen', u\"Seessel's\", u'Irving Oil', u'Bristol Farms', u\"Owen's Market\", u'Wegmans', u'Albert Heijn', u'Miracle Mart (North Dakota)', u'Sasol', u\"Dominick's\", u'Umicore', u\"Kuhn's Quality Foods\", u'C&A', u'Piggly Wiggly Carolina Co.', u'Roche Bros.', u'Seafood City', u'GetGo', u'L&F Jones', u'Earth Fare', u'QuikTrip', u'Marks & Spencer', u'H Mart', u'Acme Fresh Market', u\"Petrini's\", u\"Dave's Markets\", u'Lawson (store)', u'Bargain Booze', u\"Genuardi's\", u'Sunflower Market', u'New Deal Supermarket', u'Plus (supermarket)', u'Sheetz', u\"Stew Leonard's\", u'Befimmo', u'ParknShop', u'Finast', u\"Carter's Foods\", u'NightOwl Convenience Stores', u'Tom Thumb Food & Pharmacy', u'Carrs-Safeway', u'Aldi', u'The Fresh Grocer', u'Red Food', u'Haggen', u'Marina Food', u'David Sands', u'New Seasons Market', u'Laneco', u'Amigo Supermarkets', u\"Waldbaum's\", u\"McColl's\", u'CST Brands', u'Gull Petroleum', u\"Ukrop's Food Group\", u'Wakefern Food Corporation', u'Harveys Supermarkets', u'Dierbergs Markets', u\"Shaw's and Star Market\", u'Dorothy Lane Market', u\"Rutter's\", u'Market Basket', u\"Jerry's Foods\", u'Fisher Foods', u'Vons', u'Ingles', u'Ministop', u'The Food Emporium', u'United Dairy Farmers', u'Jr. Food Stores', u'Safeway Inc.', u'Whole Foods Market', u'M\\xe1s Club', u\"Mac's Convenience Stores\", u'Soriana', u'ShopRite (United States)', u'Best-One', u\"Roundy's\", u'Dari Mart', u'Fresh Mart', u'Pingo Doce', u'Bekaert', u'Nijiya Market', u'Fairway Market', u\"Sendik's Food Market\", u'Peapod', u'Best Yet Market', u'Dean & DeLuca', u'Harmons', u\"Becker's\", u\"Andronico's\", u\"Zabar's\", u'FamilyMart', u'Econofoods', u'Metro AG', u'Westborn Market', u\"Hornbacher's\", u'Daily Stop', u'Eisner Food Stores', u'Kwik Shop', u'Nisa (retailer)', u'Jacksons Stores', u'Houchens Industries', u'Kroger', u'Circle K Sunkus', u'Colruyt Group', u'Food Lion', u'Spar (retailer)', u'Woolworths Limited', u'US Foods', u'NewsLink', u'Giant Eagle', u'PCC Natural Markets', u'Lidl', u'Centra', u'Elia System Operator', u'Minyard Food Stores', u'Lion Supermarket', u'SpartanNash', u\"Bashas'\", u'Winn-Dixie', u'American Stores', u'The Fresh Market', u'Southern Family Markets', u'Food Basics USA', u'Buehler Food Markets Inc.', u'Getty Oil', u'Food 4 Less', u'Mars (supermarket)', u'Chevron Corporation', u\"Scott's Food & Pharmacy\", u'Wawa Inc.', u'Minit Mart Foods Inc.', u'White Hen Pantry', u\"Johnnie's Foodmaster\", u'Bpost', u'Hy-Vee', u'Mercadona', u'Ahold', u'PriceRite', u'Piggly Wiggly', u'Foodtown (United States)', u\"Fry's Food and Drug\", u\"Casey's General Stores\", u'Gate Petroleum', u\"BJ's Wholesale Club\", u'Walmart', u'Franprix', u\"Buc-ee's\", u'Save-A-Lot', u'D&W Fresh Market', u'Londis (Ireland)', u'Delchamps', u'Scotmid', u'Western Beef', u\"Sam's Club\", u'Penn Traffic', u'United Refining Company', u\"Shop 'n Save\", u\"Roady's Truck Stops\", u\"Martin's Super Markets\", u'Telenet (Belgium)', u'Harps Food Stores', u'Red Owl (retail chain)', u'Publix', u'Ahold Delhaize', u'Budgens', u'Mi Pueblo Food Center', u'Island Pacific Supermarket', u'Lowes Foods', u'Family Fare', u'Pink Dot', u'QFC', u\"Dahl's Foods\", u'Davis Food City', u'Big Y', u\"Tidyman's\", u\"Trader Joe's\", u'City Market (US grocery store chain)', u'Big C', u'Quick Chek', u'Proximus Group', u'Mace (store)', u'Plaid Pantry', u'108 Shop', u'759 Store', u'Tesco', u'Delek', u'Alfa-Beta Vassilopoulos', u'Market of Choice', u'Londis (United Kingdom)', u'Tesco Lotus', u'Alimentation Couche-Tard', u\"Stuckey's\", u'Pilot Flying J', u'BI-LO (United States)', u\"Gelson's Markets\", u'Costco', u'Groupe Bruxelles Lambert', u\"Magruder's\", u'Remke Markets', u'Jewel (supermarket)', u'Ruler Foods', u'Convenient Food Mart', u'Mitsuwa Marketplace', u'Felpausch', u'JayC Food Stores', u'Belle Foods', u'Gristedes', u\"Henry's Farmers Market\", u'Pathmark', u'CHS Inc.', u'Pavilions (supermarket)', u'Tiendas Extra', u'Star Market', u'SuperAmerica', u'Dillons', u'Skaggs Companies', u\"Smith's Food and Drug\", u'Giant-Landover', u'Grocery Outlet', u'Gerland Corporation', u'Victory Supermarkets', u'Groszek', u'Etos', u\"Stewart's Shops\", u'Weis Markets', u'Kingfisher plc', u'Sellers Bros.', u'Stop & Shop/Giant-Landover', u'Maxi (Serbian supermarket)', u'Carrefour', u'Engie', u'Petronas', u'Jiffy (convenience store)', u'Jr. Food Mart', u'Pioneer Energy', u'The Great Atlantic & Pacific Tea Company', u'Akwa Group', u'El Corte Ingl\\xe9s', u'Grand Union (supermarket)', u'Save Mart Supermarkets', u'King Soopers', u'Kings Food Markets', u'Pay Less Super Markets', u'County Market', u'7-Eleven', u'Clark Brands', u'Sunflower Farmers Market', u'H-E-B', u\"Bruno's\", u'Pick-N-Pay Supermarkets', u'Rosauers Supermarkets', u'Meijer', u'Buttrey Food & Drug', u\"Tom's Convenience Store\", u\"Boyer's Food Markets, Inc.\", u\"Raley's Supermarkets\", u'Smart & Final', u'Cub Foods', u\"Love's Travel Stops & Country Stores\", u'Pressbyr\\xe5n', u'Fareway', u'Cumberland Farms', u'Poplar (convenience store)', u'Lewis Food Town', u\"Scolari's Food and Drug\", u'WinCo Foods', u'Waitrose', u'Super Saver Foods', u'Brookshire Grocery Company', u'Billa (supermarket)', u'IGA (supermarkets)', u'Marsh Supermarkets', u'DeMoulas Market Basket', u'RaceTrac', u'All Day Convenience Store', u'IKEA', u'KBC Bank', u'Indomaret', u\"Mollie Stone's Markets\", u\"Hugo's\", u'Farm Fresh Food & Pharmacy', u\"Baker's Supermarkets\", u'Somerfield', u\"Marc's\", u'Marukai Corporation U.S.A.', u\"Balducci's\", u\"Glen's Markets\", u'Festival Foods', u\"Woodman's Markets\", u'Lucky Stores', u'Pueblo Supermarkets', u'Thorntons Inc.', u'Niemann Foods', u'Stater Bros.', u'Shinsegae', u'Big Bear Stores', u'La Perla Tapat\\xeda Supermarkets', u'Giant-Carlisle', u'Ageas', u'TravelCenters of America', u'Kwik Trip', u'Stop & Shop', u'Brookshire Brothers', u'Anheuser-Busch InBev', u'Southeastern Grocers', u'Kessel Food Markets', u'CBA (food retail)', u'Seven Mile Market', u\"Allsup's\", u'Costcutter', u'Warehouse Economy Outlet', u\"Randall's Food Markets\", u'Groupe Casino', u'Marketside', u'SuperValu (United States)', u'China Resources Vanguard', u\"Shop 'n Save (Pittsburgh)\", u'Shoppers Food & Pharmacy', u'Road Ranger', u'Kum & Go', u'Met Foods', u'Schnucks', u'Hamady Brothers', u'Farmer Jack', u'Ahold Czech Republic', u'Super Fresh', u'Fresh & Easy', u'Murphy USA', u'Fred Meyer', u'Super One Foods', u'Louis Delhaize Group', u'Circle K', u'REWE Group', u\"Zupan's Markets\", u'Nugget Markets', u\"Reid's\", u'Fiesta Mart', u'Speedway LLC', u'Bottom Dollar Food', u'Bloom (store)', u'Sprouts Farmers Market', u'United Supermarkets', u'Local Plus', u'99 Ranch Market', u'Foodland Hawaii', u'Eagle Food Centers', u'Ma\\u0142pka Express', u'Kwik Save', u'Tedeschi Food Shops', u\"Yoke's Fresh Market\", u'Wild Oats Markets', u'European Retail Round Table', u'Grand Mart', u'NTUC FairPrice']) \n",
      "\n",
      "set([u'REWE Group', u'Billa (supermarket)', u'Maxi (Serbian supermarket)', u'Ahold Delhaize', u'Alfa-Beta Vassilopoulos', u'BI-LO (United States)', u'Sweetbay Supermarket', u'Ahold', u'Aldi', u'Hannaford Brothers Company', u'Food Lion', u'Cub Foods', u'Louis Delhaize Group']) \n",
      "\n"
     ]
    }
   ],
   "source": [
    "for c_name, comp in com_dat.iteritems():\n",
    "\n",
    "    # don't add non companies\n",
    "    if 'is_company' not in comp or not comp['is_company']:\n",
    "        continue\n",
    "    \n",
    "    # parse wikitext\n",
    "    wiki_raw_cleaned = comp['wiki_raw']\n",
    "    wiki_code = mwparserfromhell.parse(wiki_raw_cleaned, skip_style_tags=True)\n",
    "    exclude_sections = [u'==See also==', u'==References==', u'==External links==']\n",
    "    \n",
    "    for e in exclude_sections:\n",
    "        if e in wiki_code.filter_headings():\n",
    "            # take the first part of the wikicode excluding the unwanted section\n",
    "            wiki_raw_cleaned = wiki_raw_cleaned.split(e)[0]\n",
    "\n",
    "    wiki_code = mwparserfromhell.parse(wiki_raw_cleaned, skip_style_tags=True)\n",
    "    # go through each links and sort\n",
    "    links = set()\n",
    "    for link in wiki_code.filter_wikilinks():\n",
    "        if re.match(r'\\[\\[.+:.+\\]\\]', unicode(link)):\n",
    "            continue\n",
    "        # [[T\\xe4by]], [[Hertz|MHz]]\n",
    "        links.update(re.findall(r'\\[\\[(.+?)(?:\\|.+)?\\]\\]', unicode(link)))\n",
    "\n",
    "    # list of links from specific sections intersected with old link list\n",
    "    comp['links'] = comp['links'].intersection(links)\n",
    "    \n",
    "    if c_name == 'Delhaize Group':\n",
    "        print links, \"\\n\"\n",
    "        print comp['links'], \"\\n\"\n",
    "        print comp['links'], \"\\n\"\n"
   ]
  },
  {
   "cell_type": "code",
   "execution_count": null,
   "metadata": {
    "collapsed": true
   },
   "outputs": [],
   "source": []
  },
  {
   "cell_type": "code",
   "execution_count": null,
   "metadata": {
    "collapsed": true
   },
   "outputs": [],
   "source": [
    "matches = re.findall(r'[\\[(.+?)\\]\\]', wiki_text)"
   ]
  },
  {
   "cell_type": "markdown",
   "metadata": {
    "collapsed": true
   },
   "source": [
    "## What if?\n",
    "\n",
    "What if google disappears and all nodes connecting directly to google with it."
   ]
  },
  {
   "cell_type": "code",
   "execution_count": null,
   "metadata": {
    "collapsed": true
   },
   "outputs": [],
   "source": []
  }
 ],
 "metadata": {
  "kernelspec": {
   "display_name": "Python 2",
   "language": "python",
   "name": "python2"
  },
  "language_info": {
   "codemirror_mode": {
    "name": "ipython",
    "version": 2
   },
   "file_extension": ".py",
   "mimetype": "text/x-python",
   "name": "python",
   "nbconvert_exporter": "python",
   "pygments_lexer": "ipython2",
   "version": "2.7.12+"
  }
 },
 "nbformat": 4,
 "nbformat_minor": 1
}
