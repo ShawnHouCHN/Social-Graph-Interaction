{
 "cells": [
  {
   "cell_type": "code",
   "execution_count": 75,
   "metadata": {
    "collapsed": false
   },
   "outputs": [],
   "source": [
    "# sudo apt install python-networkx\n",
    "import networkx as nx\n",
    "\n",
    "# create empty graph object\n",
    "G=nx.Graph()"
   ]
  },
  {
   "cell_type": "code",
   "execution_count": 76,
   "metadata": {
    "collapsed": true
   },
   "outputs": [],
   "source": [
    "# add node(s)\n",
    "G.add_node(1)\n",
    "G.add_nodes_from([2,3])"
   ]
  },
  {
   "cell_type": "markdown",
   "metadata": {},
   "source": [
    "## nbunch\n",
    "An nbunch is any iterable container of nodes that is not itself a node in the graph. It can be an iterable or an iterator, e.g. a list, set, graph, file, etc.."
   ]
  },
  {
   "cell_type": "code",
   "execution_count": 77,
   "metadata": {
    "collapsed": true
   },
   "outputs": [],
   "source": [
    "H=nx.path_graph(10)\n",
    "# the graph G now contains H as a node, graph of graph(s)\n",
    "G.add_node(H)"
   ]
  },
  {
   "cell_type": "code",
   "execution_count": 78,
   "metadata": {
    "collapsed": true
   },
   "outputs": [],
   "source": [
    "# tuple or list of tuples\n",
    "G.add_edges_from([(1,2),(1,3)])"
   ]
  },
  {
   "cell_type": "markdown",
   "metadata": {},
   "source": [
    "## ebunch\n",
    "\n",
    "An ebunch is any iterable container of edge-tuples. An edge-tuple can be a 2-tuple of nodes or a 3-tuple with 2 nodes followed by an edge attribute dictionary, e.g. (2,3,{‘weight’:3.1415})."
   ]
  },
  {
   "cell_type": "code",
   "execution_count": 79,
   "metadata": {
    "collapsed": true
   },
   "outputs": [],
   "source": [
    "G.add_edges_from(H.edges())"
   ]
  },
  {
   "cell_type": "code",
   "execution_count": 80,
   "metadata": {
    "collapsed": false
   },
   "outputs": [],
   "source": [
    "# delete stuff\n",
    "# Graph.remove_nodes_from(), Graph.remove_edge(), Graph.remove_edge_from() \n",
    "G.remove_node(H)"
   ]
  },
  {
   "cell_type": "code",
   "execution_count": 81,
   "metadata": {
    "collapsed": false
   },
   "outputs": [
    {
     "name": "stdout",
     "output_type": "stream",
     "text": [
      "nodes in G: 10\n",
      "[0, 1, 2, 3, 4, 6, 7, 8, 9, 5]\n",
      "edges in G: 10\n",
      "[(0, 1), (1, 2), (1, 3), (2, 3), (3, 4), (4, 5), (6, 5), (6, 7), (7, 8), (8, 9)]\n"
     ]
    }
   ],
   "source": [
    "print \"nodes in G:\", G.number_of_nodes()\n",
    "print G.nodes()\n",
    "print \"edges in G:\", G.number_of_edges()\n",
    "print G.edges()"
   ]
  },
  {
   "cell_type": "markdown",
   "metadata": {},
   "source": [
    "## edge accessing"
   ]
  },
  {
   "cell_type": "code",
   "execution_count": 82,
   "metadata": {
    "collapsed": false
   },
   "outputs": [
    {
     "name": "stdout",
     "output_type": "stream",
     "text": [
      "{0: {}, 2: {}, 3: {}} {}\n"
     ]
    }
   ],
   "source": [
    "print G[1], G[1][2]"
   ]
  },
  {
   "cell_type": "code",
   "execution_count": 83,
   "metadata": {
    "collapsed": false
   },
   "outputs": [
    {
     "name": "stdout",
     "output_type": "stream",
     "text": [
      "{0: {}, 2: {}, 3: {'color': 'blue'}} {}\n"
     ]
    }
   ],
   "source": [
    "G.add_edge(1,3)\n",
    "G[1][3]['color']='blue'\n",
    "print G[1], G[1][2]"
   ]
  },
  {
   "cell_type": "code",
   "execution_count": 84,
   "metadata": {
    "collapsed": false
   },
   "outputs": [
    {
     "name": "stdout",
     "output_type": "stream",
     "text": [
      "(1, 2, 0.125)\n",
      "(2, 1, 0.125)\n",
      "(3, 4, 0.375)\n",
      "(4, 3, 0.375)\n"
     ]
    }
   ],
   "source": [
    "FG=nx.Graph()\n",
    "FG.add_weighted_edges_from([(1,2,0.125),(1,3,0.75),(2,4,1.2),(3,4,0.375)])\n",
    "for n,nbrs in FG.adjacency_iter():\n",
    "    for nbr,eattr in nbrs.items():\n",
    "        data=eattr['weight']\n",
    "        if data<0.5: print('(%d, %d, %.3f)' % (n,nbr,data))"
   ]
  },
  {
   "cell_type": "code",
   "execution_count": 85,
   "metadata": {
    "collapsed": false,
    "scrolled": true
   },
   "outputs": [
    {
     "name": "stdout",
     "output_type": "stream",
     "text": [
      "(1, 2, 0.125)\n",
      "(3, 4, 0.375)\n"
     ]
    }
   ],
   "source": [
    "for (u,v,d) in FG.edges(data='weight'):\n",
    "    # this line contains the old n and nbr variable from the previous run\n",
    "    #if d<0.5: print('(%d, %d, %.3f)'%(n,nbr,d))\n",
    "    # this produces the output\n",
    "    # (4, 3, 0.125) (4, 3, 0.375)\n",
    "\n",
    "    # correct is:\n",
    "    if d<0.5: print('(%d, %d, %.3f)'%(u,v,d))"
   ]
  },
  {
   "cell_type": "markdown",
   "metadata": {},
   "source": [
    "## graph attributes\n"
   ]
  },
  {
   "cell_type": "code",
   "execution_count": 86,
   "metadata": {
    "collapsed": false
   },
   "outputs": [
    {
     "name": "stdout",
     "output_type": "stream",
     "text": [
      "{'day': 'Friday'}\n",
      "{'day': 'Monday'}\n"
     ]
    }
   ],
   "source": [
    "G.clear()\n",
    "G = nx.Graph(day=\"Friday\")\n",
    "print G.graph\n",
    "G.graph['day']='Monday'\n",
    "print G.graph"
   ]
  },
  {
   "cell_type": "code",
   "execution_count": 87,
   "metadata": {
    "collapsed": false
   },
   "outputs": [
    {
     "name": "stdout",
     "output_type": "stream",
     "text": [
      "{'time': '5pm'}\n",
      "[(1, {'room': 714, 'time': '5pm'}), (3, {'time': '2pm'})]\n"
     ]
    }
   ],
   "source": [
    "# node attributes\n",
    "G.add_node(1, time='5pm')\n",
    "G.add_nodes_from([3], time='2pm')\n",
    "print G.node[1]\n",
    "G.node[1]['room'] = 714\n",
    "print G.nodes(data=True)"
   ]
  },
  {
   "cell_type": "code",
   "execution_count": 88,
   "metadata": {
    "collapsed": true
   },
   "outputs": [],
   "source": [
    "# edge attributes\n",
    "G.add_edge(1, 2, weight=4.7 )\n",
    "G.add_edges_from([(3,4),(4,5)], color='red')\n",
    "G.add_edges_from([(1,2,{'color':'blue'}), (2,3,{'weight':8})])\n",
    "G[1][2]['weight'] = 4.7\n",
    "G.edge[1][2]['weight'] = 4"
   ]
  },
  {
   "cell_type": "markdown",
   "metadata": {},
   "source": [
    "## drawing"
   ]
  },
  {
   "cell_type": "code",
   "execution_count": 89,
   "metadata": {
    "collapsed": false
   },
   "outputs": [
    {
     "data": {
      "image/png": "[encoded data removed]",
      "text/plain": [
       "<matplotlib.figure.Figure at 0x7f8f616372d0>"
      ]
     },
     "metadata": {},
     "output_type": "display_data"
    }
   ],
   "source": [
    "import matplotlib.pyplot as plt\n",
    "%matplotlib inline\n",
    "\n",
    "G.clear()\n",
    "G=nx.Graph()\n",
    "G.add_edges_from([(1,2),(1,3)])\n",
    "G.add_node(\"spam\")       # adds node \"spam\"\n",
    "\n",
    "nx.draw(G)"
   ]
  },
  {
   "cell_type": "code",
   "execution_count": 90,
   "metadata": {
    "collapsed": false
   },
   "outputs": [
    {
     "data": {
      "image/png": "[encoded data removed]",
      "text/plain": [
       "<matplotlib.figure.Figure at 0x7f8f612a3310>"
      ]
     },
     "metadata": {},
     "output_type": "display_data"
    }
   ],
   "source": [
    "nx.draw_random(G)"
   ]
  },
  {
   "cell_type": "code",
   "execution_count": 91,
   "metadata": {
    "collapsed": false
   },
   "outputs": [
    {
     "data": {
      "image/png": "[encoded data removed]",
      "text/plain": [
       "<matplotlib.figure.Figure at 0x7f8f61354d10>"
      ]
     },
     "metadata": {},
     "output_type": "display_data"
    }
   ],
   "source": [
    "nx.draw_circular(G)"
   ]
  },
  {
   "cell_type": "code",
   "execution_count": 92,
   "metadata": {
    "collapsed": false
   },
   "outputs": [
    {
     "data": {
      "image/png": "[encoded data removed]",
      "text/plain": [
       "<matplotlib.figure.Figure at 0x7f8f613420d0>"
      ]
     },
     "metadata": {},
     "output_type": "display_data"
    }
   ],
   "source": [
    "nx.draw_spectral(G)"
   ]
  }
 ],
 "metadata": {
  "kernelspec": {
   "display_name": "Python 2",
   "language": "python",
   "name": "python2"
  },
  "language_info": {
   "codemirror_mode": {
    "name": "ipython",
    "version": 2
   },
   "file_extension": ".py",
   "mimetype": "text/x-python",
   "name": "python",
   "nbconvert_exporter": "python",
   "pygments_lexer": "ipython2",
   "version": "2.7.12"
  }
 },
 "nbformat": 4,
 "nbformat_minor": 0
}
