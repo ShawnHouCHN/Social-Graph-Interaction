{
 "cells": [
  {
   "cell_type": "code",
   "execution_count": 36,
   "metadata": {
    "collapsed": false
   },
   "outputs": [
    {
     "ename": "AttributeError",
     "evalue": "'module' object has no attribute 'oauth'",
     "output_type": "error",
     "traceback": [
      "\u001b[1;31m---------------------------------------------------------------------------\u001b[0m",
      "\u001b[1;31mAttributeError\u001b[0m                            Traceback (most recent call last)",
      "\u001b[1;32m<ipython-input-36-3d047ff2c6ff>\u001b[0m in \u001b[0;36m<module>\u001b[1;34m()\u001b[0m\n\u001b[0;32m     12\u001b[0m \u001b[0mOAUTH_TOKEN_SECRET\u001b[0m \u001b[1;33m=\u001b[0m \u001b[1;34m'tbWPbIGILfPe4f66lNncZc22Hwsi472OSdp7vwwV8tVMA'\u001b[0m\u001b[1;33m\u001b[0m\u001b[0m\n\u001b[0;32m     13\u001b[0m \u001b[1;33m\u001b[0m\u001b[0m\n\u001b[1;32m---> 14\u001b[1;33m auth = twitter.oauth.OAuth(OAUTH_TOKEN, OAUTH_TOKEN_SECRET,\n\u001b[0m\u001b[0;32m     15\u001b[0m                            CONSUMER_KEY, CONSUMER_SECRET)\n\u001b[0;32m     16\u001b[0m \u001b[1;33m\u001b[0m\u001b[0m\n",
      "\u001b[1;31mAttributeError\u001b[0m: 'module' object has no attribute 'oauth'"
     ]
    }
   ],
   "source": [
    "import twitter\n",
    "\n",
    "# XXX: Go to http://dev.twitter.com/apps/new to create an app and get values\n",
    "# for these credentials, which you'll need to provide in place of these\n",
    "# empty string values that are defined as placeholders.\n",
    "# See https://dev.twitter.com/docs/auth/oauth for more information\n",
    "# on Twitter's OAuth implementation.\n",
    "\n",
    "CONSUMER_KEY = 'Oc0SXJfmwiolTvTpcksI6PQzQ'\n",
    "CONSUMER_SECRET = 'AKafqhG6WhhAttzJxCu7GNckEwgtWHAe7zojmCJ4tJHpwPyybj'\n",
    "OAUTH_TOKEN = '770951485588967424-v66j6DD4CSoSmE22q8dpkVB27TbxeTn'\n",
    "OAUTH_TOKEN_SECRET = 'tbWPbIGILfPe4f66lNncZc22Hwsi472OSdp7vwwV8tVMA'\n",
    "\n",
    "auth = twitter.oauth.OAuth(OAUTH_TOKEN, OAUTH_TOKEN_SECRET,\n",
    "                           CONSUMER_KEY, CONSUMER_SECRET)\n",
    "\n",
    "twitter_api = twitter.Twitter(domain='api.twitter.com',\n",
    "                              api_version='1.1',\n",
    "                              auth=auth\n",
    "                             )\n",
    "\n",
    "# Nothing to see by displaying twitter_api except that it's now a\n",
    "# defined variable\n",
    "\n",
    "print twitter_api\n",
    "\n",
    "# The Yahoo! Where On Earth ID for the entire world is 1\n",
    "WORLD_WOE_ID = 1\n",
    "\n",
    "# Prefix id with the underscore for query string parameterization.\n",
    "# Without the underscore, it's appended to the URL itself\n",
    "world_trends = twitter_api.trends.place(_id=WORLD_WOE_ID)\n",
    "print world_trends[0]\n"
   ]
  }
 ],
 "metadata": {
  "kernelspec": {
   "display_name": "Python [Root]",
   "language": "python",
   "name": "Python [Root]"
  },
  "language_info": {
   "codemirror_mode": {
    "name": "ipython",
    "version": 2
   },
   "file_extension": ".py",
   "mimetype": "text/x-python",
   "name": "python",
   "nbconvert_exporter": "python",
   "pygments_lexer": "ipython2",
   "version": "2.7.12"
  }
 },
 "nbformat": 4,
 "nbformat_minor": 0
}
