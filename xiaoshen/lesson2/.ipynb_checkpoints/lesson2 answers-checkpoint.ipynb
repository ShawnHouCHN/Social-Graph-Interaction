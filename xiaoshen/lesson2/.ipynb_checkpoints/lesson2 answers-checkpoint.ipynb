{
 "cells": [
  {
   "cell_type": "markdown",
   "metadata": {},
   "source": [
    "# exercise 1\n",
    "Chapter 1\n",
    "    1.\n",
    "The wiring diagram capturing the connections between neurons, called the neural network, holds the key to our understanding of how the brain functions and to our consciousness.\n",
    "a nerve cell is a node\n",
    "a nerve fiber is a connection.\n",
    "\n",
    "The sum of all professional, friendship, and family ties, often called the social network, is the fabric of the society and determines the spread of knowledge, behavior and resources.\n",
    "each individual human-being is a node\n",
    "each relationship between humans is a connection\n",
    "\n",
    "Communication networks, describing which communication devices interact with each other, through wired internet connections or wireless links, are at the heart of the modern communication system.\n",
    "each communication device is a node\n",
    "every successful communication between devices is a connection\n",
    "\n",
    "    2. \n",
    "IoT. device,, building, vehicles...\n",
    "Global\n",
    "It cannot be mapped out with a single graph (neither under helps from CT or MRI)\n",
    "I am working in data science region and there are enoumous amount of data to be handled.\n",
    "\n",
    "    3.\n",
    "Lmax=N2=N(N−1)2. (N is the vertex of the networ, L is the maximum amount of connections--connecting every two vertice)\n",
    "In real networks L is much smaller than Lmax, reflecting the fact that most real networks are sparse. We call a network sparse if L‹‹ Lmax. \n",
    "\n",
    "In reality, the network does not need to be constructed as a clique as not every two nodes need to be linked. so the L is way smaller than the full capacity Lmax.\n",
    "\n"
   ]
  },
  {
   "cell_type": "code",
   "execution_count": 17,
   "metadata": {
    "collapsed": false
   },
   "outputs": [],
   "source": [
    "import networkx as nx\n",
    "import matplotlib.pyplot as plt\n",
    "\n",
    "#create graph object with aribute day=Wednesday\n",
    "G=nx.Graph(day=\"Wednesday\")\n",
    "\n",
    "#add nodes to the graph\n",
    "G.add_node(1)\n",
    "G.add_nodes_from([2,3])\n",
    "\n",
    "G.graph\n",
    "G.nodes()\n",
    "nx.draw(G)"
   ]
  },
  {
   "cell_type": "markdown",
   "metadata": {},
   "source": [
    "## add ubunch nodes to graph"
   ]
  },
  {
   "cell_type": "code",
   "execution_count": 7,
   "metadata": {
    "collapsed": true
   },
   "outputs": [],
   "source": [
    "H=nx.path_graph(10)\n",
    "#H, as iterative container of nodes, becomes a node of G \n",
    "G.add_nodes_from(H)\n"
   ]
  }
 ],
 "metadata": {
  "anaconda-cloud": {},
  "kernelspec": {
   "display_name": "Python [Root]",
   "language": "python",
   "name": "Python [Root]"
  },
  "language_info": {
   "codemirror_mode": {
    "name": "ipython",
    "version": 2
   },
   "file_extension": ".py",
   "mimetype": "text/x-python",
   "name": "python",
   "nbconvert_exporter": "python",
   "pygments_lexer": "ipython2",
   "version": "2.7.12"
  }
 },
 "nbformat": 4,
 "nbformat_minor": 0
}
