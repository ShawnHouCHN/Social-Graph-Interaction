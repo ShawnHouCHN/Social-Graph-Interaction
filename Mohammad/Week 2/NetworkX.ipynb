{
 "cells": [
  {
   "cell_type": "markdown",
   "metadata": {},
   "source": [
    "# Part 2: The awesome NetworkX library"
   ]
  },
  {
   "cell_type": "markdown",
   "metadata": {},
   "source": [
    "## Follow the tutorial"
   ]
  },
  {
   "cell_type": "code",
   "execution_count": 34,
   "metadata": {
    "collapsed": false
   },
   "outputs": [],
   "source": [
    "import networkx as nx\n",
    "\n",
    "# Create an empty graphs with no node and no edges\n",
    "G = nx.Graph()\n",
    "\n",
    "# Add single node\n",
    "#G.add_node(1)\n",
    "\n",
    "# Add nbunch of nodes\n",
    "H = nx.path_graph(10)\n",
    "G.add_nodes_from(H)\n",
    "\n",
    "# Add edges one at a time\n",
    "#G.add_edge(1,2)\n",
    "\n",
    "# Add ebunch edges\n",
    "G.add_edges_from([(1,2),(1,3)])"
   ]
  },
  {
   "cell_type": "code",
   "execution_count": 35,
   "metadata": {
    "collapsed": false
   },
   "outputs": [
    {
     "name": "stdout",
     "output_type": "stream",
     "text": [
      "Number of nodes:\n"
     ]
    },
    {
     "data": {
      "text/plain": [
       "10"
      ]
     },
     "execution_count": 35,
     "metadata": {},
     "output_type": "execute_result"
    }
   ],
   "source": [
    "# Get number of nodes\n",
    "print \"Number of nodes:\"\n",
    "G.number_of_nodes()"
   ]
  },
  {
   "cell_type": "code",
   "execution_count": 36,
   "metadata": {
    "collapsed": false
   },
   "outputs": [
    {
     "name": "stdout",
     "output_type": "stream",
     "text": [
      "Number of edges:\n"
     ]
    },
    {
     "data": {
      "text/plain": [
       "2"
      ]
     },
     "execution_count": 36,
     "metadata": {},
     "output_type": "execute_result"
    }
   ],
   "source": [
    "# Get number of edges\n",
    "print \"Number of edges:\"\n",
    "G.number_of_edges()"
   ]
  },
  {
   "cell_type": "code",
   "execution_count": 37,
   "metadata": {
    "collapsed": false
   },
   "outputs": [
    {
     "data": {
      "text/plain": [
       "[0, 1, 2, 3, 4, 5, 6, 7, 8, 9]"
      ]
     },
     "execution_count": 37,
     "metadata": {},
     "output_type": "execute_result"
    }
   ],
   "source": [
    "# Get nodes\n",
    "G.nodes()"
   ]
  },
  {
   "cell_type": "code",
   "execution_count": 38,
   "metadata": {
    "collapsed": false
   },
   "outputs": [
    {
     "data": {
      "text/plain": [
       "[(1, 2), (1, 3)]"
      ]
     },
     "execution_count": 38,
     "metadata": {},
     "output_type": "execute_result"
    }
   ],
   "source": [
    "# Get edges\n",
    "G.edges()"
   ]
  },
  {
   "cell_type": "code",
   "execution_count": 39,
   "metadata": {
    "collapsed": false
   },
   "outputs": [
    {
     "data": {
      "text/plain": [
       "[2, 3]"
      ]
     },
     "execution_count": 39,
     "metadata": {},
     "output_type": "execute_result"
    }
   ],
   "source": [
    "# Get neighbors\n",
    "G.neighbors(1)"
   ]
  },
  {
   "cell_type": "code",
   "execution_count": 45,
   "metadata": {
    "collapsed": false
   },
   "outputs": [
    {
     "data": {
      "text/plain": [
       "{2: {}, 3: {}}"
      ]
     },
     "execution_count": 45,
     "metadata": {},
     "output_type": "execute_result"
    }
   ],
   "source": [
    "# Get data structure\n",
    "G[1]"
   ]
  },
  {
   "cell_type": "code",
   "execution_count": 49,
   "metadata": {
    "collapsed": false
   },
   "outputs": [
    {
     "name": "stdout",
     "output_type": "stream",
     "text": [
      "(1, 2, 0.125)\n",
      "(2, 1, 0.125)\n",
      "(3, 4, 0.375)\n",
      "(4, 3, 0.375)\n"
     ]
    }
   ],
   "source": [
    "# Fast examination using iterators\n",
    "FG=nx.Graph()\n",
    "FG.add_weighted_edges_from([(1,2,0.125),(1,3,0.75),(2,4,1.2),(3,4,0.375)])\n",
    "for n,nbrs in FG.adjacency_iter():\n",
    "    for nbr,eattr in nbrs.items():\n",
    "        data=eattr['weight']\n",
    "        if data<0.5: print('(%d, %d, %.3f)' % (n,nbr,data))"
   ]
  },
  {
   "cell_type": "code",
   "execution_count": 50,
   "metadata": {
    "collapsed": false
   },
   "outputs": [
    {
     "name": "stdout",
     "output_type": "stream",
     "text": [
      "(4, 3, 0.125)\n",
      "(4, 3, 0.375)\n"
     ]
    }
   ],
   "source": [
    "# Get access to edges\n",
    "for (u,v,d) in FG.edges(data='weight'):\n",
    "    if d<0.5: print('(%d, %d, %.3f)'%(n,nbr,d))"
   ]
  },
  {
   "cell_type": "code",
   "execution_count": 51,
   "metadata": {
    "collapsed": false
   },
   "outputs": [
    {
     "data": {
      "text/plain": [
       "{'day': 'Sunday'}"
      ]
     },
     "execution_count": 51,
     "metadata": {},
     "output_type": "execute_result"
    }
   ],
   "source": [
    "# Add graph attribute\n",
    "G.graph['day']='Sunday'\n",
    "G.graph"
   ]
  },
  {
   "cell_type": "code",
   "execution_count": 53,
   "metadata": {
    "collapsed": false
   },
   "outputs": [
    {
     "data": {
      "text/plain": [
       "{'time': '5pm'}"
      ]
     },
     "execution_count": 53,
     "metadata": {},
     "output_type": "execute_result"
    }
   ],
   "source": [
    "# Add node attribute\n",
    "G.add_node(1, time = '5pm')\n",
    "G.node[1]"
   ]
  },
  {
   "cell_type": "code",
   "execution_count": 55,
   "metadata": {
    "collapsed": false
   },
   "outputs": [
    {
     "data": {
      "text/plain": [
       "{'weight': 4.7}"
      ]
     },
     "execution_count": 55,
     "metadata": {},
     "output_type": "execute_result"
    }
   ],
   "source": [
    "# Add edge attribute\n",
    "G.add_edge(1, 2, weight=4.7)\n",
    "G.edge[1][2]"
   ]
  },
  {
   "cell_type": "code",
   "execution_count": 66,
   "metadata": {
    "collapsed": false
   },
   "outputs": [
    {
     "data": {
      "text/plain": [
       "<generator object connected_components at 0x000000000961CEA0>"
      ]
     },
     "execution_count": 66,
     "metadata": {},
     "output_type": "execute_result"
    }
   ],
   "source": [
    "# Get connected components\n",
    "nx.connected_components(G)"
   ]
  },
  {
   "cell_type": "code",
   "execution_count": 67,
   "metadata": {
    "collapsed": false
   },
   "outputs": [
    {
     "data": {
      "text/plain": [
       "[0, 0, 0, 0, 0, 0, 0, 0, 1, 1, 2]"
      ]
     },
     "execution_count": 67,
     "metadata": {},
     "output_type": "execute_result"
    }
   ],
   "source": [
    "# Sort by value\n",
    "sorted(nx.degree(G).values())"
   ]
  },
  {
   "cell_type": "code",
   "execution_count": 48,
   "metadata": {
    "collapsed": true
   },
   "outputs": [],
   "source": [
    "import matplotlib.pyplot as plt\n",
    "\n",
    "nx.draw(G)\n",
    "plt.show()"
   ]
  },
  {
   "cell_type": "markdown",
   "metadata": {},
   "source": [
    "## Homework on section 2.12\n",
    "\n",
    "### **Exercise 2.1: The Königsberg Problem**\n",
    "\n",
    "Euler states that it is not possible to do so if *a graph has more than two nodes with odd number of links*. In order words, if the figures have two nodes with an odd number of links, they can function as the start and end points. As such, the solution for each figure is:\n",
    "\n",
    "* Figure (a) has 5 links and 4 nodes, two of which (left and right) have an odd number of links. Thus, this **is** solvable only from the left or right as start/end points.\n",
    "* Figure (b) has 8 links and 5 nodes, four of which (top, buttom, left, right) have an odd number of links. Thus, this is **not** solvable.\n",
    "* Figure (c) has 18 links and 12 nodes, all of which has an even number of links. Thus, this **is** solvable.\n",
    "* Figure (d) has 10 links and 6 nodes, two of which (rightmost nodes) has an odd number of links. Thus, this **is** solvable.\n"
   ]
  },
  {
   "cell_type": "markdown",
   "metadata": {},
   "source": [
    "### **Exercise 2.3: Graph Representation**\n",
    "\n",
    "There are two graphs:\n",
    "* Figure (a) is an undirected graph of 6 nodes and 7 links\n",
    "* Figure (b) is a directed graph of 6 nodes and 8 directed links\n",
    "\n",
    "These can be represtented as:"
   ]
  },
  {
   "cell_type": "code",
   "execution_count": 74,
   "metadata": {
    "collapsed": false
   },
   "outputs": [],
   "source": [
    "import networkx as nx\n",
    "\n",
    "# Graph (a)\n",
    "aG = nx.Graph()\n",
    "edgesA = [(1,2), (1,3), (1,4), (1,6), (2,3), (2,4), (3,6)]\n",
    "aG.add_nodes_from([1, 2, 3, 4, 5, 6]) \n",
    "aG.add_edges_from(edgesA)\n",
    "\n",
    "# Graph (b)\n",
    "bG = nx.DiGraph()\n",
    "edgesB = [(1,2), (2,3), (2,4), (3,1), (3,2), (4,1), (6,1), (6,3)]\n",
    "bG.add_nodes_from([1, 2, 3, 4, 5, 6]) \n",
    "bG.add_edges_from(edgesB)"
   ]
  },
  {
   "cell_type": "code",
   "execution_count": 112,
   "metadata": {
    "collapsed": false
   },
   "outputs": [
    {
     "data": {
      "image/png": "[encoded data removed]",
      "text/plain": [
       "<matplotlib.figure.Figure at 0xb252128>"
      ]
     },
     "metadata": {},
     "output_type": "display_data"
    }
   ],
   "source": [
    "# Plotting graph (a)\n",
    "import matplotlib.pyplot as plt\n",
    "%matplotlib inline\n",
    "\n",
    "nx.draw_circular(aG, node_color='purple', with_labels=True, font_color='white')\n",
    "plt.show()"
   ]
  },
  {
   "cell_type": "code",
   "execution_count": 114,
   "metadata": {
    "collapsed": false
   },
   "outputs": [
    {
     "data": {
      "image/png": "[encoded data removed]",
      "text/plain": [
       "<matplotlib.figure.Figure at 0x939f278>"
      ]
     },
     "metadata": {},
     "output_type": "display_data"
    }
   ],
   "source": [
    "# Plotting graph (b)\n",
    "nx.draw_circular(bG, node_color='purple', with_labels=True, font_color='white')\n",
    "plt.show()"
   ]
  },
  {
   "cell_type": "markdown",
   "metadata": {},
   "source": [
    "**a) Adjacency matrices**"
   ]
  },
  {
   "cell_type": "code",
   "execution_count": 125,
   "metadata": {
    "collapsed": false
   },
   "outputs": [
    {
     "name": "stdout",
     "output_type": "stream",
     "text": [
      "Adjacency matrix for (a)\n",
      "\n",
      "[[0 1 1 1 0 1]\n",
      " [1 0 1 1 0 0]\n",
      " [1 1 0 0 0 1]\n",
      " [1 1 0 0 0 0]\n",
      " [0 0 0 0 0 0]\n",
      " [1 0 1 0 0 0]]\n",
      "\n",
      "Adjacency matrix for (b)\n",
      "\n",
      "[[0 1 0 0 0 0]\n",
      " [0 0 1 1 0 0]\n",
      " [1 1 0 0 0 0]\n",
      " [1 0 0 0 0 0]\n",
      " [0 0 0 0 0 0]\n",
      " [1 0 1 0 0 0]]\n"
     ]
    }
   ],
   "source": [
    "# Get adjacency matrix for (a)\n",
    "aAM = nx.adjacency_matrix(aG)\n",
    "print \"Adjacency matrix for (a)\\n\\n\", aAM.todense()\n",
    "\n",
    "print\n",
    "\n",
    "# Get adjacency matrix for (b)\n",
    "bAM = nx.adjacency_matrix(bG)\n",
    "print \"Adjacency matrix for (b)\\n\\n\", bAM.todense()"
   ]
  },
  {
   "cell_type": "markdown",
   "metadata": {},
   "source": [
    "**b) Link lists**"
   ]
  },
  {
   "cell_type": "code",
   "execution_count": 107,
   "metadata": {
    "collapsed": false
   },
   "outputs": [
    {
     "name": "stdout",
     "output_type": "stream",
     "text": [
      "Node[1] is linking to: [2, 3, 4, 6]]\n",
      "Node[2] is linking to: [1, 3, 4]]\n",
      "Node[3] is linking to: [1, 2, 6]]\n",
      "Node[4] is linking to: [1, 2]]\n",
      "Node[5] is linking to: []]\n",
      "Node[6] is linking to: [1, 3]]\n"
     ]
    }
   ],
   "source": [
    "# Get link list for (a)\n",
    "#print aG.adjacency_list()\n",
    "\n",
    "for i, links in enumerate(aG.adjacency_list()):\n",
    "    print \"Node[{}] is linking to: {}]\".format(i+1, links)"
   ]
  },
  {
   "cell_type": "code",
   "execution_count": 108,
   "metadata": {
    "collapsed": false
   },
   "outputs": [
    {
     "name": "stdout",
     "output_type": "stream",
     "text": [
      "Node[1] is linking to: [2]]\n",
      "Node[2] is linking to: [3, 4]]\n",
      "Node[3] is linking to: [1, 2]]\n",
      "Node[4] is linking to: [1]]\n",
      "Node[5] is linking to: []]\n",
      "Node[6] is linking to: [1, 3]]\n"
     ]
    }
   ],
   "source": [
    "# Get link list for (b)\n",
    "#print bG.adjacency_list()\n",
    "\n",
    "for i, links in enumerate(bG.adjacency_list()):\n",
    "    print \"Node[{}] is linking to: {}]\".format(i+1, links)"
   ]
  },
  {
   "cell_type": "markdown",
   "metadata": {},
   "source": [
    "**c) Average clustering coefficient**"
   ]
  },
  {
   "cell_type": "code",
   "execution_count": 120,
   "metadata": {
    "collapsed": false
   },
   "outputs": [
    {
     "name": "stdout",
     "output_type": "stream",
     "text": [
      " Average clustering coefficient for (a):  0.638888888889\n",
      "Average clustering coefficient for (b): Not defined for directed graphs\n"
     ]
    }
   ],
   "source": [
    "print \"Average clustering coefficient for (a): \", nx.average_clustering(aG)\n",
    "print \"Average clustering coefficient for (b): Not defined for directed graphs\""
   ]
  },
  {
   "cell_type": "markdown",
   "metadata": {},
   "source": [
    "**d) Switching labels**"
   ]
  },
  {
   "cell_type": "code",
   "execution_count": 127,
   "metadata": {
    "collapsed": false
   },
   "outputs": [
    {
     "name": "stdout",
     "output_type": "stream",
     "text": [
      "Adjacency matrix for (a)\n",
      "\n",
      "[[0 1 1 1 1 0]\n",
      " [1 0 1 1 0 0]\n",
      " [1 1 0 0 1 0]\n",
      " [1 1 0 0 0 0]\n",
      " [1 0 1 0 0 0]\n",
      " [0 0 0 0 0 0]]\n",
      "\n",
      "Node[1] is linking to: [2, 3, 4, 5]]\n",
      "Node[2] is linking to: [1, 3, 4]]\n",
      "Node[3] is linking to: [1, 2, 5]]\n",
      "Node[4] is linking to: [1, 2]]\n",
      "Node[5] is linking to: [1, 3]]\n",
      "Node[6] is linking to: []]\n",
      "\n",
      "Adjacency matrix for (b)\n",
      "\n",
      "[[0 1 0 0 0 0]\n",
      " [0 0 1 1 0 0]\n",
      " [1 1 0 0 0 0]\n",
      " [1 0 0 0 0 0]\n",
      " [1 0 1 0 0 0]\n",
      " [0 0 0 0 0 0]]\n",
      "\n",
      "Node[1] is linking to: [2]]\n",
      "Node[2] is linking to: [3, 4]]\n",
      "Node[3] is linking to: [1, 2]]\n",
      "Node[4] is linking to: [1]]\n",
      "Node[5] is linking to: [1, 3]]\n",
      "Node[6] is linking to: []]\n"
     ]
    }
   ],
   "source": [
    "# Remapping 5 to 6 and 6 to 5 for figure (a)\n",
    "mapping = {5:6, 6:5}\n",
    "aG_remapped = nx.relabel_nodes(aG, mapping)\n",
    "\n",
    "# Get adjacency matrix for (a)\n",
    "aAM_remapped = nx.adjacency_matrix(aG_remapped)\n",
    "print \"Adjacency matrix for (a)\\n\\n\", aAM_remapped.todense()\n",
    "\n",
    "print\n",
    "\n",
    "# Get adjacency list for (a)\n",
    "for i, links in enumerate(aG_remapped.adjacency_list()):\n",
    "    print \"Node[{}] is linking to: {}]\".format(i+1, links)\n",
    "    \n",
    "# Remapping 5 to 6 and 6 to 5 for figure (b)\n",
    "mapping = {5:6, 6:5}\n",
    "bG_remapped = nx.relabel_nodes(bG, mapping)\n",
    "\n",
    "print\n",
    "\n",
    "# Get adjacency matrix for (b)\n",
    "bAM_remapped = nx.adjacency_matrix(bG_remapped)\n",
    "print \"Adjacency matrix for (b)\\n\\n\", bAM_remapped.todense()\n",
    "\n",
    "print\n",
    "\n",
    "# Get adjacency list for (b)\n",
    "for i, links in enumerate(bG_remapped.adjacency_list()):\n",
    "    print \"Node[{}] is linking to: {}]\".format(i+1, links)"
   ]
  },
  {
   "cell_type": "markdown",
   "metadata": {},
   "source": [
    "By changing the columns from 5 to 6 and 6 to 5, these colums are switched in the matrix as well. This happens for the links as well."
   ]
  },
  {
   "cell_type": "markdown",
   "metadata": {},
   "source": [
    "**e) What kind of information can you not infer from the link list representation of the network that you can infer from the adjacency matrix?**"
   ]
  },
  {
   "cell_type": "code",
   "execution_count": null,
   "metadata": {
    "collapsed": true
   },
   "outputs": [],
   "source": []
  },
  {
   "cell_type": "markdown",
   "metadata": {},
   "source": [
    "**f) In the (a) network, how many paths (with possible repetition of nodes and links) of length 3 exist starting from node 1 and ending at node 3? And in (b)?**"
   ]
  },
  {
   "cell_type": "code",
   "execution_count": 170,
   "metadata": {
    "collapsed": false
   },
   "outputs": [
    {
     "name": "stdout",
     "output_type": "stream",
     "text": [
      "Number of paths in figure (a): 3\n",
      "Number of paths in figure (b): 1\n"
     ]
    }
   ],
   "source": [
    "# Number of paths of length 3 starting from node 1 and ending at node 3 in figure (a). Repetition NOT possible.\n",
    "aPaths = nx.all_simple_paths(aG, source=1, target=3, cutoff=2)\n",
    "print \"Number of paths in figure (a):\", len(list(aPaths))\n",
    "\n",
    "# Number of paths of length 3 starting from node 1 and ending at node 3 in figure (b). Repetition NOT possible.\n",
    "bPaths = nx.all_simple_paths(bG, source=1, target=3, cutoff=2)\n",
    "print \"Number of paths in figure (b):\", len(list(bPaths))"
   ]
  },
  {
   "cell_type": "markdown",
   "metadata": {},
   "source": [
    "### Exercise 2.5: Bipartite Networks\n",
    "\n",
    "** a) Construct its adjacency matrix. Why is it a block-diagonal matrix?**"
   ]
  },
  {
   "cell_type": "code",
   "execution_count": 172,
   "metadata": {
    "collapsed": false
   },
   "outputs": [
    {
     "name": "stdout",
     "output_type": "stream",
     "text": [
      "[[0 0 0 0 0 0 1 0 0 0 0]\n",
      " [0 0 0 0 0 0 0 0 1 0 0]\n",
      " [0 0 0 0 0 0 1 1 1 0 0]\n",
      " [0 0 0 0 0 0 0 0 1 1 0]\n",
      " [0 0 0 0 0 0 0 0 1 0 1]\n",
      " [0 0 0 0 0 0 0 0 0 0 1]\n",
      " [1 0 1 0 0 0 0 0 0 0 0]\n",
      " [0 0 1 0 0 0 0 0 0 0 0]\n",
      " [0 1 1 1 1 0 0 0 0 0 0]\n",
      " [0 0 0 1 0 0 0 0 0 0 0]\n",
      " [0 0 0 0 1 1 0 0 0 0 0]]\n"
     ]
    }
   ],
   "source": [
    "# Constructing the Bipartite Network in figure 2.21\n",
    "bn = nx.Graph([(1,7), (2,9), (3,7), (3,8), (3,9), (4,9), (4,10), (5,9), (5,11), (6,11)])\n",
    "bnAM = nx.adjacency_matrix(bn)\n",
    "print bnAM.todense()"
   ]
  },
  {
   "cell_type": "markdown",
   "metadata": {},
   "source": [
    "** b) Construct the adjacency matrix of its two projections, on the purple and on the green nodes, respectively.**"
   ]
  },
  {
   "cell_type": "code",
   "execution_count": 181,
   "metadata": {
    "collapsed": false
   },
   "outputs": [
    {
     "name": "stdout",
     "output_type": "stream",
     "text": [
      "Purple adjacency matrix:\n",
      "\n",
      "[[0 0 1 0 0 0]\n",
      " [0 0 1 1 1 0]\n",
      " [1 1 0 1 1 0]\n",
      " [0 1 1 0 1 0]\n",
      " [0 1 1 1 0 1]\n",
      " [0 0 0 0 1 0]]\n",
      "\n",
      "Green adjacency matrix:\n",
      "\n",
      "[[0 1 0 0 1]\n",
      " [1 0 1 1 1]\n",
      " [0 1 0 0 0]\n",
      " [0 1 0 0 0]\n",
      " [1 1 0 0 0]]\n"
     ]
    }
   ],
   "source": [
    "# b)\n",
    "purple = nx.Graph([(1,3), (2,3), (2,4), (2,5), (3,4), (3,5), (4,5), (5,6)])\n",
    "green = nx.Graph([(7,8), (7,9), (8,9), (9,10), (9,11)])\n",
    "\n",
    "purpleAM = nx.adjacency_matrix(purple)\n",
    "print \"Purple adjacency matrix:\\n\\n\", purpleAM.todense()\n",
    "\n",
    "print\n",
    "\n",
    "greenAM = nx.adjacency_matrix(green)\n",
    "print \"Green adjacency matrix:\\n\\n\", greenAM.todense()"
   ]
  },
  {
   "cell_type": "markdown",
   "metadata": {},
   "source": [
    "** c) Calculate the average degree of the purple nodes and the average degree of the green nodes in the bipartite network.**"
   ]
  },
  {
   "cell_type": "code",
   "execution_count": 211,
   "metadata": {
    "collapsed": false
   },
   "outputs": [],
   "source": [
    "#nx.average_degree_connectivity(purple, source='in+out', target='in+out', nodes=None, weight=None)"
   ]
  },
  {
   "cell_type": "markdown",
   "metadata": {},
   "source": [
    "**d) Calculate the average degree in each of the two network projections. Is it surprising that the values are different from those obtained in point (c)?**"
   ]
  },
  {
   "cell_type": "code",
   "execution_count": null,
   "metadata": {
    "collapsed": true
   },
   "outputs": [],
   "source": []
  },
  {
   "cell_type": "code",
   "execution_count": null,
   "metadata": {
    "collapsed": true
   },
   "outputs": [],
   "source": []
  },
  {
   "cell_type": "code",
   "execution_count": null,
   "metadata": {
    "collapsed": true
   },
   "outputs": [],
   "source": []
  },
  {
   "cell_type": "markdown",
   "metadata": {},
   "source": [
    "## Part 3: Plotting degree distributions"
   ]
  },
  {
   "cell_type": "code",
   "execution_count": 169,
   "metadata": {
    "collapsed": true
   },
   "outputs": [],
   "source": [
    "import numpy as np\n",
    "import random as rand"
   ]
  },
  {
   "cell_type": "markdown",
   "metadata": {},
   "source": [
    "### Exercise: Binning real numbers\n",
    "\n",
    "**a) Use the random library to generate 5000 data points from a Gaussian distribution with μ = 2 and σ = 0.125.**"
   ]
  },
  {
   "cell_type": "code",
   "execution_count": 213,
   "metadata": {
    "collapsed": true
   },
   "outputs": [],
   "source": [
    "# Generating 5000 data points\n",
    "mu = 2 # Mean\n",
    "sigma = 0.125 # Standard deviation\n",
    "data = np.random.normal(mu, sigma, 5000)"
   ]
  },
  {
   "cell_type": "markdown",
   "metadata": {},
   "source": [
    "**b) Now, let's use numpy.histogram to bin those number into 10 bins. What does the numpy.histogram function return? Do the two arrays have the same length?**"
   ]
  },
  {
   "cell_type": "code",
   "execution_count": 220,
   "metadata": {
    "collapsed": false
   },
   "outputs": [
    {
     "name": "stdout",
     "output_type": "stream",
     "text": [
      "Length of bin: 10\n",
      "Length of bin edges: 11\n"
     ]
    }
   ],
   "source": [
    "# Bin numbers into 10 bins\n",
    "hist, bin_edges = np.histogram(data, bins=10, range=None, normed=False, weights=None, density=None)\n",
    "print \"Length of bin:\", len(hist)\n",
    "print \"Length of bin edges:\", len(bin_edges)"
   ]
  },
  {
   "cell_type": "markdown",
   "metadata": {},
   "source": [
    "** c) Then we use matplotlib.pyplot.plot to plot the binned data. You will have to deal with the fact that the counts- and bin-arrays have different lengths. Explain how you deal with this problem and why.**"
   ]
  },
  {
   "cell_type": "code",
   "execution_count": 228,
   "metadata": {
    "collapsed": false
   },
   "outputs": [
    {
     "data": {
      "image/png": "[encoded data removed]",
      "text/plain": [
       "<matplotlib.figure.Figure at 0xb3e99e8>"
      ]
     },
     "metadata": {},
     "output_type": "display_data"
    }
   ],
   "source": [
    "# Plot data\n",
    "plt.hist(data)\n",
    "plt.title(\"Gaussian distribution of 5000 randomly generated numbers\")\n",
    "plt.show()"
   ]
  },
  {
   "cell_type": "code",
   "execution_count": null,
   "metadata": {
    "collapsed": true
   },
   "outputs": [],
   "source": []
  },
  {
   "cell_type": "code",
   "execution_count": null,
   "metadata": {
    "collapsed": true
   },
   "outputs": [],
   "source": []
  },
  {
   "cell_type": "code",
   "execution_count": null,
   "metadata": {
    "collapsed": true
   },
   "outputs": [],
   "source": []
  },
  {
   "cell_type": "markdown",
   "metadata": {},
   "source": [
    "## Part 4: Random networks"
   ]
  },
  {
   "cell_type": "code",
   "execution_count": null,
   "metadata": {
    "collapsed": true
   },
   "outputs": [],
   "source": []
  },
  {
   "cell_type": "code",
   "execution_count": null,
   "metadata": {
    "collapsed": true
   },
   "outputs": [],
   "source": []
  }
 ],
 "metadata": {
  "anaconda-cloud": {},
  "kernelspec": {
   "display_name": "Python [Root]",
   "language": "python",
   "name": "Python [Root]"
  },
  "language_info": {
   "codemirror_mode": {
    "name": "ipython",
    "version": 2
   },
   "file_extension": ".py",
   "mimetype": "text/x-python",
   "name": "python",
   "nbconvert_exporter": "python",
   "pygments_lexer": "ipython2",
   "version": "2.7.12"
  }
 },
 "nbformat": 4,
 "nbformat_minor": 0
}
