{
 "cells": [
  {
   "cell_type": "markdown",
   "metadata": {},
   "source": [
    "# Week 1\n",
    "\n",
    "## Overview\n",
    "\n",
    "As explained in the [*Before week 1* notebook](http://nbviewer.jupyter.org/github/suneman/socialgraphs2016/blob/master/lectures/How_To_Take_This_Class.ipynb), each week of this class is an IPython notebook like this one. **_In order to follow the class, you simply start reading from the top_**, following the instructions.\n",
    "\n",
    "**Hint**: And you can ask me - or any of the friendly Teaching Assistants - for help at any point if you get stuck!"
   ]
  },
  {
   "cell_type": "markdown",
   "metadata": {
    "collapsed": true
   },
   "source": [
    "## Today\n",
    "\n",
    "This first lecture will go over a few different topics to get you started \n",
    "\n",
    "* First, I'll help you get your system in shape for all the Python programming we'll do later on.\n",
    "* Second, we'll make sure that you remember how to code in Python.\n",
    "* Third, we talk a bit about APIs and how they work.\n",
    "* Fourth, and finally, we'll be getting our hands dirty with a bit of coding and Twitter's API."
   ]
  },
  {
   "cell_type": "markdown",
   "metadata": {},
   "source": [
    "## Part 1: Installing Python\n",
    "\n",
    "Now it's time to install Python. The most important thing to know before you begin is that we use python 2.7, **so DO NOT install Python 3\\.** \n",
    "\n",
    "Every year, someone doesn't read carefully enough, so let me say it again: **DO NOT install Python 3\\.**\n",
    "\n",
    "* We recommend you use the _Anaconda distribution_ of Python. You can download it [**here**](https://store.continuum.io/cshop/anaconda/).\n",
    "* Once Anaconda is installed, install `jupyter` by typing  \n",
    "`>> conda install jupyter`  \n",
    "and  \n",
    "`>> conda install notebook`  \n",
    "at your command prompt.\n",
    "* You start up the notebook system by typing \"`jupyter notebook`\" and your terminal, and the system should be ready to use in your favorite browser. \n",
    "* Be sure to check the keyboards shortcuts under the heading of \"Help\" where you will find for instance shortcut to code-completion (Tab) and tooltip with documentation (Shift-Tab) which will save you a ton of time.  \n",
    "\n",
    "Part 3 will teach you how to use the IPython Notebook. Note that if you want to use another Python distribution, that's fine, but we cannot promise to help you with anything other than Anaconda. "
   ]
  },
  {
   "cell_type": "markdown",
   "metadata": {},
   "source": [
    "## Part 2: Simple Python exercises\n",
    "\n",
    "> **_Video lecture_**: You get started on this part by watching the \"IPython Notebook\" video below. "
   ]
  },
  {
   "cell_type": "code",
   "execution_count": 44,
   "metadata": {
    "collapsed": false,
    "scrolled": true
   },
   "outputs": [
    {
     "data": {
      "text/html": [
       "\n",
       "        <iframe\n",
       "            width=\"600\"\n",
       "            height=\"337.5\"\n",
       "            src=\"https://www.youtube.com/embed/yC754EgHpck\"\n",
       "            frameborder=\"0\"\n",
       "            allowfullscreen\n",
       "        ></iframe>\n",
       "        "
      ],
      "text/plain": [
       "<IPython.lib.display.YouTubeVideo at 0x7f02762279d0>"
      ]
     },
     "execution_count": 44,
     "metadata": {},
     "output_type": "execute_result"
    }
   ],
   "source": [
    "from IPython.display import YouTubeVideo\n",
    "YouTubeVideo(\"yC754EgHpck\",width=600, height=337.5)"
   ]
  },
  {
   "cell_type": "markdown",
   "metadata": {},
   "source": [
    "Oh, and I forgot a few important things when I made this video last year, so here are some additional tips & tricks on IPython."
   ]
  },
  {
   "cell_type": "code",
   "execution_count": 45,
   "metadata": {
    "collapsed": false
   },
   "outputs": [
    {
     "data": {
      "text/html": [
       "\n",
       "        <iframe\n",
       "            width=\"600\"\n",
       "            height=\"337.5\"\n",
       "            src=\"https://www.youtube.com/embed/NDZyU_NlX0I\"\n",
       "            frameborder=\"0\"\n",
       "            allowfullscreen\n",
       "        ></iframe>\n",
       "        "
      ],
      "text/plain": [
       "<IPython.lib.display.YouTubeVideo at 0x7f0276227910>"
      ]
     },
     "execution_count": 45,
     "metadata": {},
     "output_type": "execute_result"
    }
   ],
   "source": [
    "YouTubeVideo(\"NDZyU_NlX0I\",width=600, height=337.5)"
   ]
  },
  {
   "cell_type": "markdown",
   "metadata": {},
   "source": [
    "> _Exercises_\n",
    "> \n",
    "> * Download the IPython file that I've prepared for you and save it somewhere where you can find it again. The link is [**here**](https://raw.githubusercontent.com/suneman/socialgraphs2016/master/files/Training_notebook.ipynb). (**Hint**: Be careful not to save this in _.txt_ format - make sure the extension is _.ipynb_.)\n",
    "> * Work through exercise 1-9 in the file, solving the simple Python exercises in there. Also use this as a chance to become familiar with how the IPython notebook works. (And a little bit of `json`). "
   ]
  },
  {
   "cell_type": "markdown",
   "metadata": {},
   "source": [
    "### STOP: Super important notice\n",
    "\n",
    "Now that you've completed working through the IPython notebook, it's time for the moment of truth! If you had great difficulty with the Python coding itself, you're going to be in trouble. Everything we do going forward in this class will depend on you being comfortable with Python. There is simply **no way** that you will be able to do well, if you're also struggling with Python on top of everything else you'll be learning.\n",
    "\n",
    "**So if you're not 100% comfortable with Python, I recommend you stop right now, and follow [Code Academy's excellent short course on Python programming](https://www.codecademy.com/en/tracks/python) before proceeding**. This might seem tough, but the ability to program is a prerequisite for this class, and if you know how to program, you should be able to handle the Python questions above.`"
   ]
  },
  {
   "cell_type": "markdown",
   "metadata": {},
   "source": [
    "## Part 3: What is an API?\n",
    "\n",
    "Ok, so you're now on top of Python, so let's get started with a quick overview of APIs. \n",
    "> \n",
    "> **_Video lecture_**: Click on the image below to watch it on YouTube.\n",
    "> "
   ]
  },
  {
   "cell_type": "code",
   "execution_count": 46,
   "metadata": {
    "collapsed": false
   },
   "outputs": [
    {
     "data": {
      "text/html": [
       "\n",
       "        <iframe\n",
       "            width=\"600\"\n",
       "            height=\"337.5\"\n",
       "            src=\"https://www.youtube.com/embed/9l5zOfh0CRo\"\n",
       "            frameborder=\"0\"\n",
       "            allowfullscreen\n",
       "        ></iframe>\n",
       "        "
      ],
      "text/plain": [
       "<IPython.lib.display.YouTubeVideo at 0x7f0276227f50>"
      ]
     },
     "execution_count": 46,
     "metadata": {},
     "output_type": "execute_result"
    }
   ],
   "source": [
    "YouTubeVideo(\"9l5zOfh0CRo\",width=600, height=337.5)"
   ]
  },
  {
   "cell_type": "markdown",
   "metadata": {},
   "source": [
    "It's time for you to get to work. Take a look at the two texts below - just to get a sense of a more technical description of how APIs work\n",
    "\n",
    "> _Reading_ (just skim): [Wikipedia page on APIs](https://en.wikipedia.org/wiki/Web_API)  \n",
    "> _Reading_ (just skim): [Wikipedia page on REST for web services](https://en.wikipedia.org/wiki/Representational_state_transfer#Applied_to_web_services)\n",
    "> "
   ]
  },
  {
   "cell_type": "markdown",
   "metadata": {},
   "source": [
    "## Part 4: The Twitter API\n",
    "\n",
    "In this final part, we're going to use Python to access Twitter's API. This is the main part or the work today! \n",
    "\n",
    "> _Reading_: Read through chapter 1 of _Mining the Social Web, 2nd Edition_ (MTSW2e) by Matthew A. Russell. We will focus on content up to page 29, so you can skim the rest.\n",
    "> The first chapter of the book is available for free. You can get it [**here**](https://github.com/ptwobrussell/Mining-the-Social-Web-2nd-Edition).\n",
    "> \n",
    "\n",
    "In MTSW2e, Russell suggests that you install a virtual machine and run Python from there. _That's not necessary_. \n",
    "\n",
    "But you will have to install the [`twitter` Python library](https://github.com/sixohsix/twitter). The `twitter` Python library makes it easier to interact with the Twitter API by creating wrapper around the API urls, as well as loading the json for you. \n",
    "\n",
    "There are a number of Twitter libraries for Python, and it's important that you get the right one (they all do more or less the same thing, but they have different syntax). \n",
    "\n",
    "In order to install the right library, use the Python installer [`pip`](https://en.wikipedia.org/wiki/Pip_(package_manager)). And make sure you use _Anaconda's_ `pip`, which is in the Anaconda base folder (your system may already have `pip` installed as part of another Python distro). On my system (a mac), I installed the `twitter` library by typing\n",
    "\n",
    "    >> ~/anaconda/bin/pip install twitter\n",
    "\n",
    "at the terminal. "
   ]
  },
  {
   "cell_type": "markdown",
   "metadata": {},
   "source": [
    "> _Exercises_  \n",
    "> Solve the exercise below in a new `notebook`. So when I write \"Work through example ...\", I mean: do that in your `notebook`. Make sure that you add lots of comments in and around your code. Don't forget that these exercises will form the foundation for _Assignment 1_ when that time comes. So it is to your own advantage to write everything up nicely while it's fresh in your memory. \n",
    "> \n",
    "> _Questions about the text_\n",
    "> \n",
    "> * According to Chapter 1, what are some things that we humans might want technology to help us get?\n",
    "\n",
    "The purpose of technology is to enhance our human experience.\n",
    "* We want to be heard.\n",
    "* We want to satisfy our curiosity.\n",
    "* We want it easy.\n",
    "* We want it now.\n",
    "\n",
    "> * What's the maximum number of characters in a Tweet?\n",
    "\n",
    "A Tweet is 124 characters long.\n",
    "\n",
    "> * How many monthly active users does the book say that we can find on Twitter?\n",
    "\n",
    "Over 100 million, according to a [statistics site](http://www.statisticbrain.com/twitter-statistics/) 289 million.\n",
    "\n",
    "> * What is the key difference between connections on Twitter and connections on Facebook?\n",
    "\n",
    "You can follow the latest updates of any other user.\n",
    "\n",
    "> * Take a look at the tweet meta-data on page 22-25\\. Which fields do you think are most interesting?\n",
    "\n",
    "\"hashtags\", \"text\", \"coordinates\", \"retweet_count\"\n",
    "\n",
    "> \n",
    "> _Coding your way through Chapter 1 of MTSW2e_\n",
    "> \n",
    "> * If you don't have one, start a Twitter account. (And follow @suneman).\n",
    "> * If you're having trouble registering as a developer, you can follow [**this**](https://support.twitter.com/articles/110250#long-code) guide. You might want to use Skype to do this, as international texting can be costly.\n",
    "> * Work through example 1.1 in the book. _Note_: Some of the code in the book is outdated due to changes to the Twitter API (1.0 -\\> 1.1). Updated code can be found [**here**](http://nbviewer.ipython.org/github/ptwobrussell/Mining-the-Social-Web/blob/master/ipython_notebooks/Chapter1.ipynb). Read the text in the book, but use the code from the link as you work though the next exercises.\n",
    "> * Work through example 1.2, and also retrieve the trends for Denmark. What are they? _Hint_: I found the Denmark WOE using [this webpage](http://woeid.rosselliot.co.nz/).\n",
    "> * Work through example 1.3\\. _Bonus_: Can you think of other ways to plot nicely formatted `json` structures? \n",
    "> * Work through example 1.4\\. No need to calculate intersections for the Denmark trends. I'm pretty sure the overlap will be zero.\n",
    "> * Work through example 1.5, but choose your own term to query for. Make sure that it's a term that gets lots of hits.\n",
    "> * Extract the actual tweet text, and retweet count for all of the tweets you downloaded in example 1.5\\. Which tweet is the most popular one?\n",
    "> \n",
    "\n",
    "---\n",
    "\n",
    "And you're done. Don't forget to congratulate yourself for getting all the way through the exercises!"
   ]
  },
  {
   "cell_type": "code",
   "execution_count": 47,
   "metadata": {
    "collapsed": false
   },
   "outputs": [],
   "source": [
    "# example 1.1\n",
    "\n",
    "import twitter\n",
    "\n",
    "CONSUMER_KEY = 'PQan5eY7E5SWfq9hYP2gw45Jr'\n",
    "CONSUMER_SECRET = 'uycrcmy8tOlNqyAC3ySwVlHcvoJwjtm2d42HFDJrkLHaYyLqzG'\n",
    "OAUTH_TOKEN = '770887569949286400-epFbIKOPCc4GWHFY3WySbiXdAD2tXPI'\n",
    "OAUTH_TOKEN_SECRET = 'wHqNStrWDsuhkZ1FkYwv3LWn6VPLhea0EcS0cbJBZ1iEi'\n",
    "\n",
    "auth = twitter.oauth.OAuth(OAUTH_TOKEN, OAUTH_TOKEN_SECRET, CONSUMER_KEY, CONSUMER_SECRET)\n",
    "\n",
    "twitter_api = twitter.Twitter(domain='api.twitter.com', \n",
    "                              api_version='1.1',\n",
    "                              auth=auth\n",
    "                             )"
   ]
  },
  {
   "cell_type": "code",
   "execution_count": 48,
   "metadata": {
    "collapsed": false
   },
   "outputs": [],
   "source": [
    "# example 1.2\n",
    "\n",
    "# get woeid from: http://woeid.rosselliot.co.nz/\n",
    "DK_WOE_ID = 23424796\n",
    "\n",
    "# Prefix id with the underscore for query string parameterization.\n",
    "# Without the underscore, it's appended to the URL itself\n",
    "dk_trends = twitter_api.trends.place(_id=DK_WOE_ID)"
   ]
  },
  {
   "cell_type": "code",
   "execution_count": 49,
   "metadata": {
    "collapsed": false
   },
   "outputs": [],
   "source": [
    "# example 1.3\n",
    "import json\n",
    "#print json.dumps(dk_trends, indent=1)\n",
    "\n",
    "# example 1.3 bonus\n",
    "import pprint\n",
    "\n",
    "#pprint.pprint(json.dumps(dk_trends))"
   ]
  },
  {
   "cell_type": "code",
   "execution_count": 50,
   "metadata": {
    "collapsed": false
   },
   "outputs": [
    {
     "name": "stdout",
     "output_type": "stream",
     "text": [
      "US: set([u'#SwitchToReos', u'#BeliebersRoastJustinParty', u'#ALDUBLessonsOfLOVE', u'#WhyImGangsta', u'#WednesdayWisdom', u'#VeteransForKaepernick', u'#SLFLSpokane', u'#DeadlineDay', u'#FreeBreezy', u'#PrincessDiana', u'#DelhiRains']) DK: set([u'#DeadlineDay'])\n"
     ]
    }
   ],
   "source": [
    "# example 1.4\n",
    "\n",
    "WORLD_WOE_ID = 1\n",
    "US_WOE_ID = 23424977\n",
    "\n",
    "world_trends = twitter_api.trends.place(_id=WORLD_WOE_ID)\n",
    "us_trends = twitter_api.trends.place(_id=US_WOE_ID)\n",
    "dk_trends = twitter_api.trends.place(_id=DK_WOE_ID)\n",
    "\n",
    "\n",
    "world_trends_set = set([trend['name'] for trend in world_trends[0]['trends']])\n",
    "us_trends_set = set([trend['name'] for trend in us_trends[0]['trends']])\n",
    "dk_trends_set = set([trend['name'] for trend in dk_trends[0]['trends']])\n",
    "\n",
    "\n",
    "common_trends_us = world_trends_set.intersection(us_trends_set)\n",
    "common_trends_dk = world_trends_set.intersection(dk_trends_set)\n",
    "\n",
    "print \"US:\", common_trends_us, \"DK:\", common_trends_dk"
   ]
  },
  {
   "cell_type": "code",
   "execution_count": 51,
   "metadata": {
    "collapsed": false
   },
   "outputs": [],
   "source": [
    "q = \"@Beyonce\"\n",
    "count = 100\n",
    "\n",
    "search_results = twitter_api.search.tweets(q=q, count=count)\n",
    "statuses = search_results['statuses']\n",
    "\n",
    "# Iterate through 5 more batches of results by following the cursor\n",
    "for _ in range(5): \n",
    "    try:\n",
    "        next_results = search_results['search_metadata']['next_results']\n",
    "    except KeyError, e: # No more results when next_results doesn't exist\n",
    "        break\n",
    "\n",
    "    # Create a dictionary from the query string params\n",
    "    kwargs = dict([ kv.split('=') for kv in next_results[1:].split(\"&\") ])\n",
    "    search_results = twitter_api.search.tweets(**kwargs)\n",
    "    statuses += search_results['statuses']"
   ]
  },
  {
   "cell_type": "code",
   "execution_count": 52,
   "metadata": {
    "collapsed": false
   },
   "outputs": [
    {
     "name": "stdout",
     "output_type": "stream",
     "text": [
      "[(u'RT @Beyonce: #LEMONADE the Visual Album. https://t.co/8LM6jOwNKe https://t.co/eV32dUg7Pj', 99421), (u'RT @Beyonce: #LEMONADE the Visual Album. https://t.co/8LM6jOwNKe https://t.co/eV32dUg7Pj', 99421), (u'RT @Beyonce: #LEMONADE the Visual Album. https://t.co/8LM6jOwNKe https://t.co/eV32dUg7Pj', 99421), (u'RT @Beyonce: #LEMONADE the Visual Album. https://t.co/8LM6jOwNKe https://t.co/eV32dUg7Pj', 99421), (u'RT @Beyonce: #LEMONADE the Visual Album. https://t.co/8LM6jOwNKe https://t.co/eV32dUg7Pj', 99421), (u'RT @MTV: I think I need a moment after watching @beyonce\\u2019s #VMA performance https://t.co/lYVFfrIenO', 29408), (u'RT @MTV: I think I need a moment after watching @beyonce\\u2019s #VMA performance https://t.co/lYVFfrIenO', 29408), (u'RT @MTV: I think I need a moment after watching @beyonce\\u2019s #VMA performance https://t.co/lYVFfrIenO', 29408), (u'RT @MTV: I think I need a moment after watching @beyonce\\u2019s #VMA performance https://t.co/lYVFfrIenO', 29408), (u'RT @MTV: I think I need a moment after watching @beyonce\\u2019s #VMA performance https://t.co/lYVFfrIenO', 29408), (u'RT @MTV: I think I need a moment after watching @beyonce\\u2019s #VMA performance https://t.co/lYVFfrIenO', 29408), (u'RT @MTV: I think I need a moment after watching @beyonce\\u2019s #VMA performance https://t.co/lYVFfrIenO', 29408), (u'RT @MTV: I think I need a moment after watching @beyonce\\u2019s #VMA performance https://t.co/lYVFfrIenO', 29408), (u'RT @MTV: I think I need a moment after watching @beyonce\\u2019s #VMA performance https://t.co/lYVFfrIenO', 29408), (u'RT @MTV: I think I need a moment after watching @beyonce\\u2019s #VMA performance https://t.co/lYVFfrIenO', 29408), (u'RT @MTV: I think I need a moment after watching @beyonce\\u2019s #VMA performance https://t.co/lYVFfrIenO', 29408), (u'RT @MTV: I think I need a moment after watching @beyonce\\u2019s #VMA performance https://t.co/lYVFfrIenO', 29408), (u'RT @MTV: I think I need a moment after watching @beyonce\\u2019s #VMA performance https://t.co/lYVFfrIenO', 29408), (u'RT @MTV: I think I need a moment after watching @beyonce\\u2019s #VMA performance https://t.co/lYVFfrIenO', 29408), (u'RT @MTV: I think I need a moment after watching @beyonce\\u2019s #VMA performance https://t.co/lYVFfrIenO', 29408), (u'RT @MTV: I think I need a moment after watching @beyonce\\u2019s #VMA performance https://t.co/lYVFfrIenO', 29408), (u'RT @MTV: I think I need a moment after watching @beyonce\\u2019s #VMA performance https://t.co/lYVFfrIenO', 29408), (u'RT @Beyonce: RT @jleicole For #WHD2013, I ran 5.312 @CharityMiles to help @GirlUp educate girls in the developing world. #EveryMileMatters\\u2026', 25443), (u'RT @MTV: The moment that @Beyonce distracted @chancetherapper during his VMA backstage interview \\U0001f602: https://t.co/EcVs3eIZ5m', 16569), (u'RT @MTV: The moment that @Beyonce distracted @chancetherapper during his VMA backstage interview \\U0001f602: https://t.co/EcVs3eIZ5m', 16569), (u'RT @MTV: The moment that @Beyonce distracted @chancetherapper during his VMA backstage interview \\U0001f602: https://t.co/EcVs3eIZ5m', 16569), (u'RT @MTV: The moment that @Beyonce distracted @chancetherapper during his VMA backstage interview \\U0001f602: https://t.co/EcVs3eIZ5m', 16569), (u'RT @MTV: The moment that @Beyonce distracted @chancetherapper during his VMA backstage interview \\U0001f602: https://t.co/EcVs3eIZ5m', 16569), (u'RT @MTV: The moment that @Beyonce distracted @chancetherapper during his VMA backstage interview \\U0001f602: https://t.co/EcVs3eIZ5m', 16569), (u'RT @MTV: The moment that @Beyonce distracted @chancetherapper during his VMA backstage interview \\U0001f602: https://t.co/EcVs3eIZ5m', 16569), (u'RT @MTV: The moment that @Beyonce distracted @chancetherapper during his VMA backstage interview \\U0001f602: https://t.co/EcVs3eIZ5m', 16569), (u'RT @MTV: The moment that @Beyonce distracted @chancetherapper during his VMA backstage interview \\U0001f602: https://t.co/EcVs3eIZ5m', 16569), (u'RT @MTV: The moment that @Beyonce distracted @chancetherapper during his VMA backstage interview \\U0001f602: https://t.co/EcVs3eIZ5m', 16569), (u'RT @MTV: The moment that @Beyonce distracted @chancetherapper during his VMA backstage interview \\U0001f602: https://t.co/EcVs3eIZ5m', 16569), (u'RT @MTV: The moment that @Beyonce distracted @chancetherapper during his VMA backstage interview \\U0001f602: https://t.co/EcVs3eIZ5m', 16569), (u'RT @MTV: The moment that @Beyonce distracted @chancetherapper during his VMA backstage interview \\U0001f602: https://t.co/EcVs3eIZ5m', 16569), (u'RT @MTV: The moment that @Beyonce distracted @chancetherapper during his VMA backstage interview \\U0001f602: https://t.co/EcVs3eIZ5m', 16569), (u'RT @MTV: The moment that @Beyonce distracted @chancetherapper during his VMA backstage interview \\U0001f602: https://t.co/EcVs3eIZ5m', 16569), (u'RT @winnieharlow: Thank you @Beyonce for including me in this epic #VMAs moment https://t.co/LaTHqbVMlG', 9223), (u'RT @winnieharlow: Thank you @Beyonce for including me in this epic #VMAs moment https://t.co/LaTHqbVMlG', 9223), (u'RT @MTV: The moment that @Beyonce distracted @chancetherapper during his VMA backstage interview \\U0001f602 https://t.co/3bHlotG0C5', 7135), (u'RT @MTV: The moment that @Beyonce distracted @chancetherapper during his VMA backstage interview \\U0001f602 https://t.co/3bHlotG0C5', 7135), (u'RT @MTV: The moment that @Beyonce distracted @chancetherapper during his VMA backstage interview \\U0001f602 https://t.co/3bHlotG0C5', 7135), (u'RT @MTV: The moment that @Beyonce distracted @chancetherapper during his VMA backstage interview \\U0001f602 https://t.co/3bHlotG0C5', 7135), (u'RT @MTV: The moment that @Beyonce distracted @chancetherapper during his VMA backstage interview \\U0001f602 https://t.co/3bHlotG0C5', 7135), (u'RT @MTV: The moment that @Beyonce distracted @chancetherapper during his VMA backstage interview \\U0001f602 https://t.co/3bHlotG0C5', 7135), (u'RT @MTV: The moment that @Beyonce distracted @chancetherapper during his VMA backstage interview \\U0001f602 https://t.co/3bHlotG0C5', 7135), (u'RT @MTV: The moment that @Beyonce distracted @chancetherapper during his VMA backstage interview \\U0001f602 https://t.co/3bHlotG0C5', 7135), (u'RT @MTV: The moment that @Beyonce distracted @chancetherapper during his VMA backstage interview \\U0001f602 https://t.co/3bHlotG0C5', 7135), (u'RT @MTV: The moment that @Beyonce distracted @chancetherapper during his VMA backstage interview \\U0001f602 https://t.co/3bHlotG0C5', 7135), (u'RT @MTV: The moment that @Beyonce distracted @chancetherapper during his VMA backstage interview \\U0001f602 https://t.co/3bHlotG0C5', 7135), (u'RT @MTV: The moment that @Beyonce distracted @chancetherapper during his VMA backstage interview \\U0001f602 https://t.co/3bHlotG0C5', 7135), (u'RT @MTV: The moment that @Beyonce distracted @chancetherapper during his VMA backstage interview \\U0001f602 https://t.co/3bHlotG0C5', 7135), (u'RT @MTV: The moment that @Beyonce distracted @chancetherapper during his VMA backstage interview \\U0001f602 https://t.co/3bHlotG0C5', 7135), (u'RT @aliciakeys: \\U0001f44f\\U0001f3fd @Beyonce bringing down the house at #MSG!! \\U0001f44f\\U0001f3fd #VMAs', 4358), (u\"RT @vmas: When @Beyonce breaks your camera but you ain't even mad because you got this #VMAs https://t.co/mE0C9iP7Rh\", 3883), (u'RT @trapcry: The best performance the #VMAs has EVER experienced. \\U0001f34b Part 2. @Beyonce #HOWTOPERFORM101 https://t.co/SyXSv87p0F', 2419), (u\"RT @HeySheridan: @BEYONCE SO WHAT ARE YOU GOING TO SAY AT MY FUNERAL NOW THAT YOU'VE KILLED ME? https://t.co/kpy392UQyN\", 1967), (u'RT @blkgirlculture: For those who missed it. @Beyonce #VMAs https://t.co/t1sVov2jnF', 1909), (u'RT @blkgirlculture: For those who missed it. @Beyonce #VMAs https://t.co/t1sVov2jnF', 1909), (u'RT @blkgirlculture: For those who missed it. @Beyonce #VMAs https://t.co/t1sVov2jnF', 1909), (u'RT @beytrash: @chancetherapper and @Beyonce have the cutest friendship https://t.co/V4FCh8JI9j', 1833), (u'RT @beytrash: @chancetherapper and @Beyonce have the cutest friendship https://t.co/V4FCh8JI9j', 1833), (u'RT @beytrash: @chancetherapper and @Beyonce have the cutest friendship https://t.co/V4FCh8JI9j', 1833), (u'RT @beytrash: @chancetherapper and @Beyonce have the cutest friendship https://t.co/V4FCh8JI9j', 1833), (u'RT @beytrash: @chancetherapper and @Beyonce have the cutest friendship https://t.co/V4FCh8JI9j', 1833), (u'RT @beytrash: @chancetherapper and @Beyonce have the cutest friendship https://t.co/V4FCh8JI9j', 1833), (u'RT @beytrash: @chancetherapper and @Beyonce have the cutest friendship https://t.co/V4FCh8JI9j', 1833), (u'RT @SashaaPieterse: Anything you can do @Beyonce can do better \\U0001f41d', 1715), (u'RT @SashaaPieterse: Anything you can do @Beyonce can do better \\U0001f41d', 1715), (u'RT @SashaaPieterse: Anything you can do @Beyonce can do better \\U0001f41d', 1715), (u'RT @MTV: \"I dedicate this award to the people of New Orleans.\" -@Beyonce #VMAs', 1657), (u'RT @SaraRamirez: I Pledge allegiance to @Beyonce  #SLAY #VMAs', 1272), (u'RT @nicolebyer: I just told @Beyonce that she was \"a real treat\" she looked down at me and said thank you and giggled. I made @Beyonce gigg\\u2026', 908), (u'RT @justjamiie: hi @Beyonce kik me', 816), (u\"RT @ComplexMag: Update: Still recovering from @Beyonce's #VMA2016 performance \\U0001f41d \\U0001f41d \\U0001f41d https://t.co/l5Dbw7TWUo\", 624), (u'RT @Maxgschneider: That @Beyonce performance was literally EVERYTHING', 326), (u'RT @VictoriasSecret: The lingerie way to rock @Beyonce\\u2019s #VMAs wings. https://t.co/qEQaDeTDl0', 230), (u'RT @MTVUK: If you were @Beyonce for the day, what would you do? @zaralarsson, @BebeRexha &amp; more tell us... \\U0001f41d https://t.co/U1znOnzUop', 229), (u'RT @iHave3Testicles: \"Look me in my eyes when I cum....home\" \\U0001f602\\U0001f602\\U0001f602 nice save @beyonce #lemonade\\nhttps://t.co/z1RFHJn3mC', 220), (u\"RT @IAMQUVENZHANE: Amazing way 2 start my birthday week @Beyonce .I'm celebrating,Sunday 2 Sunday.So blessed. Thanks 4 all bday wishes. htt\\u2026\", 185), (u'RT @TheAvaClarke: LOVE\\nThank you @beyonce.\\n#dreambig #thebeyonceexperience #lemonade #avaclarke #crownofcurls #nyc #mtv #afterparty https:/\\u2026', 86), (u'RT @TheAvaClarke: LOVE\\nThank you @beyonce.\\n#dreambig #thebeyonceexperience #lemonade #avaclarke #crownofcurls #nyc #mtv #afterparty https:/\\u2026', 86), (u\"RT @StellaMcCartney: Huge congratulations to our #POPNOW film director, @MelinaMatsoukas, on your #VMA win for @Beyonce's Formation vid! ht\\u2026\", 79), (u'RT @BadisRI: RT if u \\u2764\\ufe0f @Rihanna \\U0001f60d\\nFav if u \\u2764\\ufe0f @beyonce \\U0001f618\\nOr both \\U0001f60e https://t.co/K8hYAWTLsZ', 60), (u\"RT @XclusivesZone: Watch @Beyonce Crash @ChanceTheRapper's Interview At The 2016 #VMAs https://t.co/YH4P1F4saN\", 43), (u'RT @TheAvaClarke: ABOUT LAST NIGHT...\\n#beyonce #mtv #vmas2016 #music #redcarpet #avaclarke #crownofcurls #bighair #bigdreams @Beyonce https\\u2026', 37), (u'RT @ThomasDBradley: .@Beyonce channeling @ShawnMichaels #WrestleMania 25 entrance gear @TheFansPodcast.#VMAs https://t.co/SFLIXmgxvk', 35), (u'RT @ThomasDBradley: .@Beyonce channeling @ShawnMichaels #WrestleMania 25 entrance gear @TheFansPodcast.#VMAs https://t.co/SFLIXmgxvk', 35), (u\"RT @BeyonceTour2016: Congratulations on winning 8 awards including the 'Video Of The Year' at this year's #VMAs, @Beyonce! \\U0001f41d https://t.co/1\\u2026\", 35), (u'RT @Blk_Voice: Once again thank you @Beyonce for being with Black community! https://t.co/eF7pDU7EdV', 32), (u'RT @HABIBA_77_: When real music matters \\U0001f60d\\u270a\\U0001f3fe  @Bey_Legion @beyonce https://t.co/xylYrXaH4e', 26), (u'RT @HABIBA_77_: When real music matters \\U0001f60d\\u270a\\U0001f3fe  @Bey_Legion @beyonce https://t.co/xylYrXaH4e', 26), (u'RT @HABIBA_77_: When real music matters \\U0001f60d\\u270a\\U0001f3fe  @Bey_Legion @beyonce https://t.co/xylYrXaH4e', 26), (u'RT @HABIBA_77_: When real music matters \\U0001f60d\\u270a\\U0001f3fe  @Bey_Legion @beyonce https://t.co/xylYrXaH4e', 26), (u'RT @HABIBA_77_: When real music matters \\U0001f60d\\u270a\\U0001f3fe  @Bey_Legion @beyonce https://t.co/xylYrXaH4e', 26), (u'RT @iamsibbs: Beyonc\\xe9 and The Soul #Poetry about @Beyonce https://t.co/qKWHWlRUtq', 26), (u'RT @HABIBA_77_: When real music matters \\U0001f60d\\u270a\\U0001f3fe  @Bey_Legion @beyonce https://t.co/xylYrXaH4e', 26), (u'RT @HABIBA_77_: When real music matters \\U0001f60d\\u270a\\U0001f3fe  @Bey_Legion @beyonce https://t.co/xylYrXaH4e', 26), (u'RT @iamsibbs: Beyonc\\xe9 and The Soul #Poetry about @Beyonce https://t.co/qKWHWlRUtq', 26), (u'RT @iamsibbs: Beyonc\\xe9 and The Soul #Poetry about @Beyonce https://t.co/qKWHWlRUtq', 26), (u'RT @iamsibbs: Beyonc\\xe9 and The Soul #Poetry about @Beyonce https://t.co/qKWHWlRUtq', 26), (u'RT @iamsibbs: Beyonc\\xe9 and The Soul #Poetry about @Beyonce https://t.co/qKWHWlRUtq', 26), (u'RT @iamsibbs: Beyonc\\xe9 and The Soul #Poetry about @Beyonce https://t.co/qKWHWlRUtq', 26), (u'RT @iamsibbs: Beyonc\\xe9 and The Soul #Poetry about @Beyonce https://t.co/qKWHWlRUtq', 26), (u'RT @iamsibbs: Beyonc\\xe9 and The Soul #Poetry about @Beyonce https://t.co/qKWHWlRUtq', 26), (u'RT @iamsibbs: Beyonc\\xe9 and The Soul #Poetry about @Beyonce https://t.co/qKWHWlRUtq', 26), (u'RT @iamsibbs: Beyonc\\xe9 and The Soul #Poetry about @Beyonce https://t.co/qKWHWlRUtq', 26), (u'RT @iamsibbs: Beyonc\\xe9 and The Soul #Poetry about @Beyonce https://t.co/qKWHWlRUtq', 26), (u'RT @iamsibbs: Beyonc\\xe9 and The Soul #Poetry about @Beyonce https://t.co/qKWHWlRUtq', 26), (u'RT @iamsibbs: Beyonc\\xe9 and The Soul #Poetry about @Beyonce https://t.co/qKWHWlRUtq', 26), (u'RT @iamsibbs: Beyonc\\xe9 and The Soul #Poetry about @Beyonce https://t.co/qKWHWlRUtq', 26), (u'RT @iamsibbs: Beyonc\\xe9 and The Soul #Poetry about @Beyonce https://t.co/qKWHWlRUtq', 26), (u'RT @iamsibbs: Beyonc\\xe9 and The Soul #Poetry about @Beyonce https://t.co/qKWHWlRUtq', 26), (u'RT @iamsibbs: Beyonc\\xe9 and The Soul #Poetry about @Beyonce https://t.co/qKWHWlRUtq', 26), (u'RT @iamsibbs: Beyonc\\xe9 and The Soul #Poetry about @Beyonce https://t.co/qKWHWlRUtq', 26), (u'RT @iamsibbs: Beyonc\\xe9 and The Soul #Poetry about @Beyonce https://t.co/qKWHWlRUtq', 26), (u'RT @iamsibbs: Beyonc\\xe9 and The Soul #Poetry about @Beyonce https://t.co/qKWHWlRUtq', 26), (u'RT @iamsibbs: Beyonc\\xe9 and The Soul #Poetry about @Beyonce https://t.co/qKWHWlRUtq', 26), (u'RT @iamsibbs: Beyonc\\xe9 and The Soul #Poetry about @Beyonce https://t.co/qKWHWlRUtq', 26), (u'RT @iamsibbs: Beyonc\\xe9 and The Soul #Poetry about @Beyonce https://t.co/qKWHWlRUtq', 26), (u'RT @iamsibbs: Beyonc\\xe9 and The Soul #Poetry about @Beyonce https://t.co/qKWHWlRUtq', 26), (u'RT @iamsibbs: Beyonc\\xe9 and The Soul #Poetry about @Beyonce https://t.co/qKWHWlRUtq', 26), (u'RT @iamsibbs: Beyonc\\xe9 and The Soul #Poetry about @Beyonce https://t.co/qKWHWlRUtq', 26), (u'Beyonc\\xe9 and The Soul #Poetry about @Beyonce https://t.co/qKWHWlRUtq', 26), (u'RT @Iemonade: you. are. so. annoying. @beyonce https://t.co/3TzhrXE9Ec', 25), (u'RT @Iemonade: you. are. so. annoying. @beyonce https://t.co/3TzhrXE9Ec', 25), (u'RT @olympicchannel: .@USAGym + @Beyonce + @vmas =\\U0001f60d\\U0001f3b5\\U0001f457 https://t.co/X6qxcHIwRc', 22), (u'RT @BeyonceMyRoc: Hold Up really about to re-enter the top 10 of US iTunes. You see what a little bit of promotion can do? @Beyonce https:/\\u2026', 22), (u'RT @SupremeShak: Hold up is about to enter the top 10 of itunes, WHERE IS THE VEVO UPLOAD @BEYONCE https://t.co/MAIgfcH7CL', 16), (u'RT @_KutloMabua: #LEMONADE @Beyonce work in progress... \\U0001f60a https://t.co/fvbXxmRyqi', 13), (u'RT @yanismarshall: NEW VIDEO @yanismarshall Heels choreography. Feet @JadeChynoweth Robert Green  Music #SweetDreams @Beyonce #SHARE \\n\\nhttp\\u2026', 12), (u'RT @yanismarshall: NEW VIDEO @yanismarshall Heels choreography. Feet @JadeChynoweth Robert Green  Music #SweetDreams @Beyonce #SHARE \\n\\nhttp\\u2026', 12), (u'RT @1027KIISFM: .@Beyonce and friends got together for an epic #couplegoals dinner https://t.co/34lhLRRVHK https://t.co/OG8fpjXoBe', 9), (u'RT @gizzletan: @maetajima @Beyonce @jayyismee come back!!!', 8), (u'RT @TRACE_Urban: .@Beyonce a une fois de plus d\\xe9fendu la communaut\\xe9 afro-am\\xe9ricaine en faisant ceci :\\nhttps://t.co/7zHYkZz0e4 https://t.co/\\u2026', 7), (u'RT @DKissTV: .@Beyonce invita a los #MTV a las madres de los 4 j\\xf3venes negros a los que mat\\xf3 la polic\\xeda. #reivindicaci\\xf3n https://t.co/P6PNa\\u2026', 3), (u'RT @marieclaire_es: Ni @Beyonce ni @KimKardashian; ella fue la reina de los #VMAs y te contamos por qu\\xe9: https://t.co/kGPu6LSmdd https://t.\\u2026', 3), (u'RT @marieclaire_es: Ni @Beyonce ni @KimKardashian; ella fue la reina de los #VMAs y te contamos por qu\\xe9: https://t.co/kGPu6LSmdd https://t.\\u2026', 3), (u'RT @marieclaire_es: Ni @Beyonce ni @KimKardashian; ella fue la reina de los #VMAs y te contamos por qu\\xe9: https://t.co/kGPu6LSmdd https://t.\\u2026', 3), (u'Ni @Beyonce ni @KimKardashian; ella fue la reina de los #VMAs y te contamos por qu\\xe9: https://t.co/kGPu6LSmdd https://t.co/LIL8Mw7rFX', 3), (u\"RT @Rainbow941fm: Np'DEJA VU on by @beyonce on #rainbowmusicdrive with @miss_mayreham1 @Brave931 and @DJUNBEATABLE_NG\", 2), (u'RT @M4twoEZ: @Beyonce is deadass the fucking goat', 2), (u'RT @M4twoEZ: @Beyonce is deadass the fucking goat', 2), (u'@Beyonce is deadass the fucking goat', 2), (u'RT @shady_Key: Once @Beyonce graced the VMAS stage with her presence,  pretty much the show was over, Britney is about to look dumb #VMAs20\\u2026', 1), (u'RT @Sp3arsBritn3y: How did @BritneySpears feel about having to follow that @Beyonce performance at the #VMAS?... https://t.co/u2MWNxIX13', 1), (u'RT @ThisIsMax: \"Girls we run the world\" \\U0001f61c @Beyonce @rihanna @britneyspears @FifthHarmony @TaylorMarieHill https://t.co/foh8Nu3hbR https://t\\u2026', 1), (u'\"Girls we run the world\" \\U0001f61c @Beyonce @rihanna @britneyspears @FifthHarmony @TaylorMarieHill https://t.co/foh8Nu3hbR https://t.co/9DCBgvDyBI', 1), (u'How did @BritneySpears feel about having to follow that @Beyonce performance at the #VMAS?... https://t.co/u2MWNxIX13', 1), (u'RT @Lexi_Hoth: @mp40_fan @YaoMingMtEverst @MTV @Beyonce nah son that shit left me shook because of the cinematics, her vocals, the outfits,\\u2026', 1), (u\"RT @beyoncehatesme: @dlcama @EnFueg0813 @MTV @HerQueen_ @Beyonce you didn't watch it but you're not impressed? How does that work?\", 1), (u'RT @KissFreshNP: #NowPlaying: @Beyonce - Sorry. https://t.co/4wwch26JHr', 1), (u'RT @KissbrownM: @ChannelOTV @Beyonce For all I knw Queen B is vry creative wen it comes 2 her dance moves. #FlawlessWoman', 1), (u'RT @ChannelOTV: Do you think @Beyonce is the greatest performer of all time? Tune into #DoublePlay: Beyonc\\xe9 NOW! https://t.co/klaZpfaosK', 1), (u'@ChannelOTV @Beyonce For all I knw Queen B is vry creative wen it comes 2 her dance moves. #FlawlessWoman', 1), (u'Do you think @Beyonce is the greatest performer of all time? Tune into #DoublePlay: Beyonc\\xe9 NOW! https://t.co/klaZpfaosK', 1), (u'RT @R2929FM: #NP If i were a boy @beyonce live with @iamsuparblaze &amp; @Perpetua_oap #R2Nation #R2FMislive... we are live guyz...#MorningVibez', 1), (u'#NP If i were a boy @beyonce live with @iamsuparblaze &amp; @Perpetua_oap #R2Nation #R2FMislive... we are live guyz...#MorningVibez', 1), (u'El vestido espa\\xf1ol de @Beyonce en los #MVA  https://t.co/g9uiOYBncN https://t.co/AInEJPBPt4', 0), (u'my #vmas look backstage with @beyonce \\U0001f60d\\u2764\\ufe0f ( she not in the picture ) https://t.co/4Itq31jYEs', 0), (u'@FamousBirthdays @Zendaya @Beyonce @maddieziegler @camerondallas @NiallOfficial @KianLawley me birthday is on 26th September', 0), (u'@FabulousJocelyn @Power106LA @Beyonce you obsessed with Beyonc\\xe9 get us some tickets \\U0001f62d\\U0001f62d', 0), (u'@Beyonce - Freedom https://t.co/P1QcyfMuHA #nowplaying #listenlive', 0), (u'@blkgirlculture @Beyonce @MTV lmao there was a whole lot of ASS in this performance.', 0), (u\"@Beyonce 's performance at the VMA's was amazing\\U0001f631\\U0001f60d\", 0), (u'Abaya color options - not simply about fashion. Cue @Beyonce  \"I break chains all by myself...\" https://t.co/gjRxt91ZsY via @business', 0), (u'@DanaWardOnline @Beyonce I do', 0), (u'We are @Beyonce Knowles. @jarrettsleeper agrees.', 0), (u'Beyonce - Hold up: #PlayingNow on https://t.co/NBiwPFfCwU - @Beyonce', 0), (u'@Beyonce is a unicorn. #thatisall', 0), (u\"Beyonc\\xe9.  You're a mother fucking rockstar and I love you so much.  @Beyonce @vmas #VMAs\", 0), (u'Flying back from Amsterdam listening to Queen \\U0001f41d Lemonade the film to save battery #queenB #allhailqueenB @Beyonce', 0), (u'Look this \"equal\" statement Hey miss are you alien @taylorswift13 @KimKardashian @jtimberlake @justinbieber @Beyonce https://t.co/sxOqzga6Z4', 0), (u'If @Beyonce hates America so much, #beyonce can get the hell out.  Your disgusting.  #traitor  #racebaiter #problemwithsociety', 0), (u'@girlposts @beyonce', 0), (u'#NowPlaying: @Beyonce - Crazy In Love. https://t.co/DpfHVdoOQM', 0), (u'@beyonce follow and subscribe to @Lunaa', 0), (u'QUEEEN @Beyonce THE WINNER OF VIDEO OF THE YEAR. I KNOWWWWW, U KNOW IT, EVERYONE KNOWS, LIKE WHO DONT? \\U0001f496\\U0001f496\\U0001f496\\U0001f496', 0), (u\"Congrats to @Beyonce  &amp; 'Formation' director @melinamatsoukas  on slaying #MTV #VMAs . Winners playlist:  https://t.co/nRH1IovGjh\", 0), (u'@FamousBirthdays @Zendaya @Beyonce @maddieziegler @camerondallas @NiallOfficial @KianLawley YAYAYAYAYAYYYYYYYY BUT THEY FORGOT JOE!!!!!', 0), (u'Formation by @beyonce \\u2014 https://t.co/BWQD9OBRJ9', 0), (u'All Night by @beyonce \\u2014 https://t.co/RXLKORNDnV', 0), (u'@Power106LA @Beyonce  @J_Credible #creddyspuppies https://t.co/fQB99SLpfk', 0), (u'Die with you- @Beyonce \\U0001f33e', 0), (u'Please let it be @Beyonce \\U0001f64f\\U0001f3fc\\U0001f64f\\U0001f3fc\\U0001f64f\\U0001f3fc @MakeEvents #eventprofs #partyplanners https://t.co/dqL33732yT', 0), (u'@FamousBirthdays @Zendaya @Beyonce @maddieziegler @camerondallas @NiallOfficial @KianLawley KEEYAN \\U0001f64c', 0), (u'Freedom (feat. Kendrick Lamar) by @beyonce \\u2014 https://t.co/YyeqzzG8KC', 0), (u'So true ! @Beyonce always preaching #blm and walks around in the skin of another animal WTF BEYONC\\xc9 !? https://t.co/cxd8z6ZvIN', 0), (u'Forward (feat. James Blake) by @beyonce \\u2014 https://t.co/J4Eb9EqvWo', 0), (u'&gt; @Beyonce \\'nin \"2016 VMA\"da ger\\xe7ekle\\u015ftirdi\\u011fi muhte\\u015fem performans\\u0131n\\u0131 izlediniz mi? https://t.co/b2hZ9BxE8i', 0), (u'Sandcastles by @beyonce \\u2014 https://t.co/nn2eXPlHNh', 0), (u'@Beyonce is such a badass, bagging awards like no other #MTVVMAs \\U0001f637', 0), (u'@Beyonce aaaaaaaaaa...hi mem i am big fan u .i like your song drunk in love ...nice mugic...and fect ameghing..i love him...love u....', 0), (u'Love Drought by @beyonce \\u2014 https://t.co/biUjzKuX9J', 0), (u\"#UberCHOPPER #Nairobi @uber_kenya @CorpHelicopters I choose @Jonja_Jey to Celebrate @Beyonce's birthday with me https://t.co/bq1fYq9jNs\", 0), (u'Daddy Lessons by @beyonce \\u2014 https://t.co/y0dLT11q4M', 0), (u'6 Inch (feat. The Weeknd) by @beyonce \\u2014 https://t.co/iFtnWS4gfs', 0), (u'@Beyonce #MTVHottest\\nMacs ranked best to worst \\n- Fleetwood\\n- book pros\\n- n cheese\\n- klemore', 0), (u'@Beyonce please save the world - from the sight of your bare ass cheeks. Do you consider yourself Gods child or a whore of Babylon?', 0)]\n"
     ]
    }
   ],
   "source": [
    "most_retweets = list()\n",
    "for tweet in statuses:\n",
    "    most_retweets.append((tweet['text'], tweet['retweet_count']))\n",
    "\n",
    "\n",
    "most_retweets.sort(key=lambda tup: tup[1], reverse=True)\n",
    "print most_retweets"
   ]
  },
  {
   "cell_type": "code",
   "execution_count": null,
   "metadata": {
    "collapsed": true
   },
   "outputs": [],
   "source": []
  }
 ],
 "metadata": {
  "kernelspec": {
   "display_name": "Python 2",
   "language": "python",
   "name": "python2"
  },
  "language_info": {
   "codemirror_mode": {
    "name": "ipython",
    "version": 2
   },
   "file_extension": ".py",
   "mimetype": "text/x-python",
   "name": "python",
   "nbconvert_exporter": "python",
   "pygments_lexer": "ipython2",
   "version": "2.7.12"
  }
 },
 "nbformat": 4,
 "nbformat_minor": 0
}
