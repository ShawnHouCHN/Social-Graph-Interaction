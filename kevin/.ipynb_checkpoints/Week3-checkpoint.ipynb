{
 "cells": [
  {
   "cell_type": "markdown",
   "metadata": {},
   "source": [
    "# Overview\n",
    "\n",
    "This week we'll get started on modern network science. We'll focus on two key results that kick-started a revolution in our understanding of networks.\n",
    "\n",
    "* Problems with random networks as models for real networks and the Watts-Strogatz model\n",
    "* Scale-free networks and the Barabasi-Albert model"
   ]
  },
  {
   "cell_type": "markdown",
   "metadata": {
    "collapsed": true
   },
   "source": [
    "## Part 1: Small world networks\n",
    "\n",
    "Once again, we'll start with some lecturing. So it's time to watch a little video to get you started.\n",
    "\n",
    "> **_Video Lecture_**: Some properties of real world networks. Clustering and small paths. The Watts-Strogatz model. \n",
    "> "
   ]
  },
  {
   "cell_type": "code",
   "execution_count": 12,
   "metadata": {
    "collapsed": false
   },
   "outputs": [
    {
     "data": {
      "text/html": [
       "\n",
       "        <iframe\n",
       "            width=\"800\"\n",
       "            height=\"450\"\n",
       "            src=\"https://www.youtube.com/embed/tMLJ2NYI1FU\"\n",
       "            frameborder=\"0\"\n",
       "            allowfullscreen\n",
       "        ></iframe>\n",
       "        "
      ],
      "text/plain": [
       "<IPython.lib.display.YouTubeVideo at 0x7fc84928c2d0>"
      ]
     },
     "execution_count": 12,
     "metadata": {},
     "output_type": "execute_result"
    }
   ],
   "source": [
    "from IPython.display import YouTubeVideo\n",
    "YouTubeVideo(\"tMLJ2NYI1FU\",width=800, height=450)"
   ]
  },
  {
   "cell_type": "markdown",
   "metadata": {},
   "source": [
    "Next up is fun with reading the textbook. There's lots of goodies left in Chapter 3 that covers the stuff I've just covered in the video from a slightly different angle. \n",
    "> \n",
    "> _Reading_: For this part, we'll read the remaining part of _Network Science_ Chapter 3, Section 3.5 - 3.10, with ***emphasis*** on 3.8 and 3.9\\.\n",
    "> \n"
   ]
  },
  {
   "cell_type": "markdown",
   "metadata": {},
   "source": [
    "> _Exercises_: Did you really read the text? Answer the following questions (no calculations needed) in your IPython notebook. \n",
    "> \n",
    "> * What's the problem with random networks as a model for real-world networks according to the argument on p. 11-12?\n",
    "\n",
    "Degree distribution is different in random networks with Poisson distribution. They cannot capture the same distribution. Real network nodes are highly connected with hub nodes which have a higher degree.\n",
    "\n",
    "In terms of correctedness $〈k〉 > \\ln N$ is a conditon that does not get satisfied by most networks. Most real networks are also not fragmented which makes it not possible to put them in isolated clusters which would be necessary to fullfill the condition.\n",
    "\n",
    "Taking also average path length and clustering coefficent into consideration the small world phenomena is the only property reasonably explained by the random network model.\n",
    "\n",
    "> * List the four regimes that characterize random networks as a function of $\\langle k \\rangle$.\n",
    "\n",
    "* Subcritical: $0 < 〈k〉 < 1$\n",
    "* Critical: $〈k〉 = 1$\n",
    "* Supercritical: $〈k〉 > 1$\n",
    "* Connected: $〈k〉 > \\ln N$\n",
    "\n",
    "> * According to the book, why is it a problem for random networks (in terms of being a model for real-world networks) that the degree-dependent clustering $C(k)$ decreases as a function of $k$ in real-world networks?\n",
    "\n",
    "Links are generated randomly thus the local clustering coefficients in the random network model is independent of the node's degree. Figure 3.13 in the book shows that $C(k)$ decreases with the node degrees in real networks. No matter how much the network grows the degree is largely independent of the system size."
   ]
  },
  {
   "cell_type": "markdown",
   "metadata": {},
   "source": [
    "The next set of exercises departs from the book by presenting a little study of the Watts-Strogatz (WS) model. We're going to see just how few random links the WS model needs to dramatically shorten the path-lengths in the network. And while doing that, we'll practice using `networkx`, writing loops, and plotting nice figures.\n",
    "\n",
    "> _Exercises_: WS edition.\n",
    "> \n",
    "> * First, let's use `networkx` to play around with WS graphs. Use `nx.watts_strogatz_graph` to generate 3 graphs with 500 nodes each, average degree = 4, and rewiring probablity $p = 0, 0.1, \\textrm{and} 1$. Calculate the average shortest path length $\\langle d \\rangle$ for each one. Describe what happens to the network when $p = 1$.\n",
    "> * Play around with $p$. What's the value of $p$ for which the average shortest path length gets close to the fully randomized version. \n",
    "> * Let's investigate this behavior in detail. Generate 50 networks with $N = 500$, $\\langle k \\rangle = 4$, for each of $p = \\{0, 0.01, 0.03, 0.05, 0.1, 0.2\\}$. Calculate the average of $\\langle d \\rangle$ as well as the standard deviation over the 50 networks, to create a plot that shows how the path length decreases very quickly with only a little fraction of re-wiring. Use the standard deviation to add [errorbars](http://matplotlib.org/1.2.1/examples/pylab_examples/errorbar_demo.html \"Link: http://matplotlib.org/1.2.1/examples/pylab_examples/errorbar_demo.html\") to the plot. My version of the plot is below (since a picture's worth 1000 words).\n",
    "> \n",
    "\n",
    "![Sune's version](https://raw.githubusercontent.com/suneman/socialgraphs2016/master/files/ws.png)"
   ]
  },
  {
   "cell_type": "code",
   "execution_count": 13,
   "metadata": {
    "collapsed": false
   },
   "outputs": [
    {
     "name": "stdout",
     "output_type": "stream",
     "text": [
      "Average shortest path length 〈d〉 for WS model graph 1-3: 62.875751503 8.36290981964 4.75360320641\n"
     ]
    }
   ],
   "source": [
    "import networkx as nx\n",
    "\n",
    "# generate 3 graphs\n",
    "N = 500\n",
    "avg_deg = 4\n",
    "\n",
    "WSG1 = nx.watts_strogatz_graph(N, avg_deg, 0)\n",
    "WSG2 = nx.watts_strogatz_graph(N, avg_deg, 0.1)\n",
    "WSG3 = nx.watts_strogatz_graph(N, avg_deg, 1)\n",
    "\n",
    "# average shortest path length calculation\n",
    "l1 = nx.average_shortest_path_length(WSG1)\n",
    "l2 = nx.average_shortest_path_length(WSG2)\n",
    "l3 = nx.average_shortest_path_length(WSG3)\n",
    "\n",
    "print \"Average shortest path length 〈d〉 for WS model graph 1-3:\", l1, l2 ,l3"
   ]
  },
  {
   "cell_type": "markdown",
   "metadata": {},
   "source": [
    "The higher the probability the more it shortens the path lengths. When the rewiring probability is $p=1$ then you basically get a random network. As soon as the probability is at 100% the average path length does not further decrease. "
   ]
  },
  {
   "cell_type": "code",
   "execution_count": 14,
   "metadata": {
    "collapsed": false,
    "scrolled": true
   },
   "outputs": [
    {
     "name": "stdout",
     "output_type": "stream",
     "text": [
      "{0: {'avg': 62.87575150300606,\n",
      "     'avg_path_len': [62.875751503006015,\n",
      "                      62.875751503006015,\n",
      "                      62.875751503006015,\n",
      "                      62.875751503006015,\n",
      "                      62.875751503006015,\n",
      "                      62.875751503006015,\n",
      "                      62.875751503006015,\n",
      "                      62.875751503006015,\n",
      "                      62.875751503006015,\n",
      "                      62.875751503006015,\n",
      "                      62.875751503006015,\n",
      "                      62.875751503006015,\n",
      "                      62.875751503006015,\n",
      "                      62.875751503006015,\n",
      "                      62.875751503006015,\n",
      "                      62.875751503006015,\n",
      "                      62.875751503006015,\n",
      "                      62.875751503006015,\n",
      "                      62.875751503006015,\n",
      "                      62.875751503006015,\n",
      "                      62.875751503006015,\n",
      "                      62.875751503006015,\n",
      "                      62.875751503006015,\n",
      "                      62.875751503006015,\n",
      "                      62.875751503006015,\n",
      "                      62.875751503006015,\n",
      "                      62.875751503006015,\n",
      "                      62.875751503006015,\n",
      "                      62.875751503006015,\n",
      "                      62.875751503006015,\n",
      "                      62.875751503006015,\n",
      "                      62.875751503006015,\n",
      "                      62.875751503006015,\n",
      "                      62.875751503006015,\n",
      "                      62.875751503006015,\n",
      "                      62.875751503006015,\n",
      "                      62.875751503006015,\n",
      "                      62.875751503006015,\n",
      "                      62.875751503006015,\n",
      "                      62.875751503006015,\n",
      "                      62.875751503006015,\n",
      "                      62.875751503006015,\n",
      "                      62.875751503006015,\n",
      "                      62.875751503006015,\n",
      "                      62.875751503006015,\n",
      "                      62.875751503006015,\n",
      "                      62.875751503006015,\n",
      "                      62.875751503006015,\n",
      "                      62.875751503006015,\n",
      "                      62.875751503006015],\n",
      "     'std': 7.1054273576010019e-15},\n",
      " 0.01: {'avg': 24.73307783567134,\n",
      "        'avg_path_len': [18.897963927855713,\n",
      "                         23.73583967935872,\n",
      "                         19.897490981963927,\n",
      "                         23.802965931863728,\n",
      "                         27.76452104208417,\n",
      "                         22.823310621242484,\n",
      "                         30.0702124248497,\n",
      "                         24.018300601202405,\n",
      "                         20.103543086172344,\n",
      "                         24.522549098196393,\n",
      "                         22.915887775551102,\n",
      "                         21.941523046092183,\n",
      "                         27.428,\n",
      "                         29.065851703406814,\n",
      "                         20.26017635270541,\n",
      "                         19.832625250501003,\n",
      "                         24.91163126252505,\n",
      "                         20.498188376753507,\n",
      "                         33.084857715430864,\n",
      "                         23.823486973947897,\n",
      "                         20.842436873747495,\n",
      "                         22.195975951903808,\n",
      "                         19.814356713426854,\n",
      "                         37.882076152304606,\n",
      "                         30.72004008016032,\n",
      "                         21.500240480961924,\n",
      "                         23.555855711422847,\n",
      "                         23.003342685370743,\n",
      "                         25.32118637274549,\n",
      "                         27.90602004008016,\n",
      "                         23.280416833667335,\n",
      "                         23.177450901803606,\n",
      "                         18.061795591182364,\n",
      "                         27.219270541082164,\n",
      "                         22.439975951903808,\n",
      "                         22.418549098196394,\n",
      "                         26.078204408817637,\n",
      "                         29.04036873747495,\n",
      "                         19.18054509018036,\n",
      "                         38.06441683366734,\n",
      "                         35.86775150300601,\n",
      "                         25.50888977955912,\n",
      "                         21.04671743486974,\n",
      "                         28.091158316633265,\n",
      "                         28.685466933867737,\n",
      "                         22.574637274549097,\n",
      "                         26.29369138276553,\n",
      "                         20.891703406813626,\n",
      "                         18.338196392785573,\n",
      "                         28.25422845691383],\n",
      "        'std': 4.7053421089009415},\n",
      " 0.03: {'avg': 12.856578917835673,\n",
      "        'avg_path_len': [11.690605210420841,\n",
      "                         11.470981963927855,\n",
      "                         11.34151503006012,\n",
      "                         12.306292585170342,\n",
      "                         12.236256513026053,\n",
      "                         12.871158316633267,\n",
      "                         11.616577154308617,\n",
      "                         13.946965931863728,\n",
      "                         13.205194388777555,\n",
      "                         13.417314629258517,\n",
      "                         16.58832865731463,\n",
      "                         13.27227254509018,\n",
      "                         14.802172344689378,\n",
      "                         12.453002004008017,\n",
      "                         12.89871743486974,\n",
      "                         12.076240480961923,\n",
      "                         13.005018036072144,\n",
      "                         12.694012024048096,\n",
      "                         13.543559118236473,\n",
      "                         14.860080160320642,\n",
      "                         13.193811623246493,\n",
      "                         12.783390781563126,\n",
      "                         13.900160320641282,\n",
      "                         12.1025250501002,\n",
      "                         11.555855711422845,\n",
      "                         11.257082164328658,\n",
      "                         12.975446893787575,\n",
      "                         13.808905811623246,\n",
      "                         14.213274549098196,\n",
      "                         12.785170340681363,\n",
      "                         12.221507014028056,\n",
      "                         14.002517034068136,\n",
      "                         12.62197995991984,\n",
      "                         12.515118236472945,\n",
      "                         13.27769138276553,\n",
      "                         14.974180360721443,\n",
      "                         12.550733466933869,\n",
      "                         13.532681362725452,\n",
      "                         12.111118236472945,\n",
      "                         11.198140280561121,\n",
      "                         14.13687374749499,\n",
      "                         13.21995991983968,\n",
      "                         12.795527054108216,\n",
      "                         11.70481763527054,\n",
      "                         11.955022044088176,\n",
      "                         12.451046092184368,\n",
      "                         11.660985971943887,\n",
      "                         11.732456913827654,\n",
      "                         11.97264128256513,\n",
      "                         13.322060120240481],\n",
      "        'std': 1.0916715779656987},\n",
      " 0.05: {'avg': 10.40676376753507,\n",
      "        'avg_path_len': [10.023054108216433,\n",
      "                         9.112785571142284,\n",
      "                         10.355046092184368,\n",
      "                         10.515967935871743,\n",
      "                         9.585899799599199,\n",
      "                         9.516729458917835,\n",
      "                         10.31194388777555,\n",
      "                         9.941995991983967,\n",
      "                         9.41153507014028,\n",
      "                         10.679078156312626,\n",
      "                         11.40648496993988,\n",
      "                         9.908480961923848,\n",
      "                         10.175454909819639,\n",
      "                         10.453122244488977,\n",
      "                         10.484440881763527,\n",
      "                         10.148192384769539,\n",
      "                         10.764168336673347,\n",
      "                         11.251887775551102,\n",
      "                         11.83724248496994,\n",
      "                         10.748208416833668,\n",
      "                         9.261851703406814,\n",
      "                         10.00345490981964,\n",
      "                         11.558476953907816,\n",
      "                         9.477891783567134,\n",
      "                         12.847991983967935,\n",
      "                         10.36707014028056,\n",
      "                         10.213987975951904,\n",
      "                         10.715951903807616,\n",
      "                         11.177250501002003,\n",
      "                         10.31062124248497,\n",
      "                         13.034460921843687,\n",
      "                         10.135751503006013,\n",
      "                         8.857643286573147,\n",
      "                         9.707887775551102,\n",
      "                         9.636432865731463,\n",
      "                         10.576448897795592,\n",
      "                         10.01898997995992,\n",
      "                         9.911703406813627,\n",
      "                         9.92970741482966,\n",
      "                         9.667639278557115,\n",
      "                         10.731663326653306,\n",
      "                         10.74132264529058,\n",
      "                         10.434460921843687,\n",
      "                         10.233731462925851,\n",
      "                         11.074036072144288,\n",
      "                         11.07411623246493,\n",
      "                         11.139246492985972,\n",
      "                         10.96533867735471,\n",
      "                         10.2232625250501,\n",
      "                         9.678076152304609],\n",
      "        'std': 0.81905394705522083},\n",
      " 0.1: {'avg': 7.717303727454912,\n",
      "       'avg_path_len': [7.708889779559118,\n",
      "                        7.6263887775551105,\n",
      "                        7.702829659318637,\n",
      "                        7.36827254509018,\n",
      "                        7.336216432865731,\n",
      "                        7.742653306613226,\n",
      "                        7.603102204408818,\n",
      "                        7.618044088176353,\n",
      "                        7.765074148296593,\n",
      "                        8.377603206412825,\n",
      "                        7.905490981963928,\n",
      "                        7.474228456913828,\n",
      "                        7.772080160320641,\n",
      "                        7.401402805611222,\n",
      "                        7.5524008016032065,\n",
      "                        7.706348697394789,\n",
      "                        7.682829659318637,\n",
      "                        8.156280561122244,\n",
      "                        7.391238476953908,\n",
      "                        7.72988376753507,\n",
      "                        7.5467174348697394,\n",
      "                        7.620432865731463,\n",
      "                        7.913595190380762,\n",
      "                        8.01333867735471,\n",
      "                        7.614172344689379,\n",
      "                        7.821226452905812,\n",
      "                        7.807246492985972,\n",
      "                        7.882460921843688,\n",
      "                        7.520521042084169,\n",
      "                        7.838685370741483,\n",
      "                        7.66060120240481,\n",
      "                        7.576008016032064,\n",
      "                        7.716801603206413,\n",
      "                        7.49485370741483,\n",
      "                        8.098404809619238,\n",
      "                        8.28376753507014,\n",
      "                        7.73135871743487,\n",
      "                        7.720472945891784,\n",
      "                        7.827142284569138,\n",
      "                        8.061410821643287,\n",
      "                        7.260561122244489,\n",
      "                        7.822789579158317,\n",
      "                        7.6837114228456915,\n",
      "                        8.000625250501002,\n",
      "                        7.439503006012024,\n",
      "                        7.408024048096192,\n",
      "                        7.708192384769539,\n",
      "                        7.847246492985972,\n",
      "                        7.5672144288577154,\n",
      "                        7.7568416833667335],\n",
      "       'std': 0.23331457486957066},\n",
      " 0.2: {'avg': 6.101379398797594,\n",
      "       'avg_path_len': [6.053274549098196,\n",
      "                        6.044056112224449,\n",
      "                        6.291022044088177,\n",
      "                        6.064424849699399,\n",
      "                        5.989827655310621,\n",
      "                        6.135406813627254,\n",
      "                        6.1038396793587175,\n",
      "                        6.252456913827655,\n",
      "                        6.100777555110221,\n",
      "                        5.9603607214428855,\n",
      "                        6.184625250501002,\n",
      "                        6.3513907815631265,\n",
      "                        6.126613226452906,\n",
      "                        6.103158316633267,\n",
      "                        6.313082164328657,\n",
      "                        6.065667334669339,\n",
      "                        6.13825250501002,\n",
      "                        6.264953907815631,\n",
      "                        5.926597194388777,\n",
      "                        6.083919839679359,\n",
      "                        6.213122244488978,\n",
      "                        6.081346693386774,\n",
      "                        6.268825651302605,\n",
      "                        6.242380761523046,\n",
      "                        6.065619238476954,\n",
      "                        6.125923847695391,\n",
      "                        6.063727454909819,\n",
      "                        6.113563126252505,\n",
      "                        6.209859719438878,\n",
      "                        5.984464929859719,\n",
      "                        5.9825250501002,\n",
      "                        6.151278557114228,\n",
      "                        6.0810340681362725,\n",
      "                        6.077779559118237,\n",
      "                        6.105803607214429,\n",
      "                        6.080745490981964,\n",
      "                        5.957194388777555,\n",
      "                        5.951246492985972,\n",
      "                        5.994965931863727,\n",
      "                        6.0949819639278555,\n",
      "                        5.9901162324649295,\n",
      "                        6.198396793587174,\n",
      "                        6.313539078156313,\n",
      "                        6.020048096192385,\n",
      "                        5.925771543086173,\n",
      "                        5.981434869739479,\n",
      "                        6.137851703406813,\n",
      "                        5.960809619238477,\n",
      "                        6.0686653306613225,\n",
      "                        6.0722404809619235],\n",
      "       'std': 0.10756005595926256}}\n"
     ]
    }
   ],
   "source": [
    "import numpy as np\n",
    "import pprint\n",
    "\n",
    "p_vals = [0, 0.01, 0.03, 0.05, 0.1, 0.2]\n",
    "averages = dict()\n",
    "graphs = dict()\n",
    "for p in p_vals:\n",
    "    averages[p] = list()\n",
    "    for x in xrange(0, 50):\n",
    "        graph = nx.watts_strogatz_graph(N, avg_deg, p)\n",
    "        averages[p].append(nx.average_shortest_path_length(graph))\n",
    "    graphs[p] = {\n",
    "        'avg_path_len': averages[p],\n",
    "        'avg': sum(averages[p]) / float(len(averages[p])),\n",
    "        'std': np.std(averages[p])\n",
    "    }\n",
    "\n",
    "# show excerpt\n",
    "pprint.pprint(graphs)"
   ]
  },
  {
   "cell_type": "code",
   "execution_count": 17,
   "metadata": {
    "collapsed": false
   },
   "outputs": [
    {
     "name": "stdout",
     "output_type": "stream",
     "text": [
      "50\n"
     ]
    },
    {
     "data": {
      "image/png": "[encoded data removed]",
      "text/plain": [
       "<matplotlib.figure.Figure at 0x7fc849274390>"
      ]
     },
     "metadata": {},
     "output_type": "display_data"
    }
   ],
   "source": [
    "import matplotlib.pyplot as plt\n",
    "%matplotlib inline\n",
    "\n",
    "# extract axis\n",
    "x, y, y_err = list(), list(), list()\n",
    "for key in sorted(graphs): # sort to have the y-axis going from smallest to largest\n",
    "    x.append(key) # p\n",
    "    y.append(graphs[key]['avg']) # avg over all 〈d〉\n",
    "    y_err.append(graphs[key]['std']) # std over all 〈d〉\n",
    "\n",
    "# plot with errorbar\n",
    "plt.errorbar(x, y, yerr=y_err, marker='o', markersize=5, mfc='black')\n",
    "# give 5% spacing on each axis\n",
    "plt.axis([min(x)-(max(x)*0.05), max(x)+(max(x)*0.05), min(y)-(max(y)*0.05), max(y)+(max(y)*0.05)])\n",
    "plt.xlabel(\"p\")\n",
    "plt.ylabel(\"avg shortest path\")\n",
    "plt.title(\"Path length decrease for WS model\")\n",
    "plt.show()"
   ]
  },
  {
   "cell_type": "markdown",
   "metadata": {},
   "source": [
    "## Part 2: Scale-free networks\n",
    "\n",
    "The text book uses two whole chapters on the scale free property. We'll try and power through during the remainder of this lecture. As always, let's start by getting my take on the whole thing.\n",
    "\n",
    "> **_Video Lecture_**: The scale free property and the Barabasi-Albert Model. Direct link [**here**](https://dtu.coursera.org/02805-001/lecture/25).\n",
    "> "
   ]
  },
  {
   "cell_type": "code",
   "execution_count": null,
   "metadata": {
    "collapsed": false
   },
   "outputs": [],
   "source": [
    "YouTubeVideo(\"myLgzbXxhOQ\",width=800, height=450)"
   ]
  },
  {
   "cell_type": "markdown",
   "metadata": {},
   "source": [
    "And now it's time for you guys to read. Recall that Barabasi (who wrote the textbook) discovered power-laws.\n",
    "\n",
    "> _Reading_: Now we dig into the extended history and and theory behind Scale-Free networks and the Barabasi-Albert Model.\n",
    "> \n",
    "> * Chapter 4, Section 4.1 - 4.7\\.\n",
    "> * Chapter 5, section 5.1 - 5.5\\.\n",
    "> "
   ]
  },
  {
   "cell_type": "markdown",
   "metadata": {},
   "source": [
    "> _Exercises_: BA edition.\n",
    "> \n",
    "> First a couple of questions to make sure that you've actually read the text.\n",
    "> \n",
    "> * What are the three slope dependent regimes of complex networks with power-law degree distributions? Briefly describe each one.\n",
    "\n",
    "$\\gamma$ is value of the degree exponent. Sec. 4.7 p. 24\n",
    "\n",
    "* Anomalous Regime ($\\gamma \\leq 2$):\n",
    " - The biggest hub in the network (number of links to largest hub) grows with the network.\n",
    " - For a large amount of nodes the hub acutally grows faster than the network itself $k_{max}$ grows faster than $N$.\n",
    " - At some point the central hub exceeds the total of nodes it can connect to which makes it impossible for large networks to exist.\n",
    " - The average degree $⟨k⟩$ diverges in the $N \\rightarrow \\infty$ limit. Thus $k_max$\n",
    "* Scale-Free Regime ($2 < \\gamma < 3$):\n",
    " - Most interesting regime when $⟨k^2⟩$ diverges and thus makes the network ultra-small where the hubs reduce the path length.\n",
    " - Links to a large number of small-degree nodes, creating short distances between them.\n",
    "* Random Network Regime ($\\gamma > 3$):\n",
    " - At $\\gamma = 3$ the critical point is reached which makes the properties in this type of network harder to distinguish from random networks. I\n",
    " - It even becomes undistinguishable for large $\\gamma$ since $p_k$ (distribuiton of the degrees) decays creating a smaller amount of hubs that are not as large.\n",
    "\n",
    "> * What are the three regimes we find in non-linear preferential attachement? (chapter 5) Briefly describe each one.\n",
    "\n",
    "Sec. 5.7, p. 20, Fig. 5.12, p. 22\n",
    "\n",
    "* Sublinear Regime ($0 < \\alpha < 1$): \n",
    "- Preferential attachment is weak even though for any $\\alpha > 0$ any new nodes rather chooses a more connected node over a less connected. \n",
    " - It is not sufficient to generate a scale-free degree distribution the distribution follows a stretched exponential distribution.\n",
    "* Linear Regime ($\\alpha = 1$): \n",
    " - Barabasi-Albert model where a degree distribution follows a power-law.\n",
    "* Superlinear Regime ($\\alpha > 1$): \n",
    " - High-degree nodes are disproportionately attractive.\n",
    " - The earliest nodes are likely to become super hubs.\n",
    " - Winner takes it all dynamics work in this regime."
   ]
  },
  {
   "cell_type": "markdown",
   "metadata": {
    "collapsed": true
   },
   "source": [
    "> We're going to create our own Barabasi-Albert model (a special case) in right in a `notebook`. Follow the recipe below for success\n",
    "> \n",
    "> * First create a graph consisting of a single link. (You can call the nodes anything, but I would simply use integers as names).\n",
    "> * Now add another node, connecting one of the existing nodes in proportion to their degree.\n",
    "> * Keep going until you have a 100 node network.\n",
    ">   * _Hint_: The difficult part here is connecting to each node according to their degree. The way I do it is: generate a list of all edges (e.g. pairs of nodes), then flatten it (e.g. remove connection information). That list contains each node in proportion to its connections, thus drawing a random node from that list (e.g. using `random.choice`) corresponds to selecting a node with probability proportional to it's degree.\n",
    "> * Plot the network. \n",
    "> * Add more nodes until you have a 5000 node network.\n",
    "> * What's the maximum and minimum degree?\n",
    "> * Now, bin the degree distribution using `numpy.histogram`.\n",
    "> * Plot the distribution. Plot it with both linear and log-log axes.\n",
    "> \n",
    "> ![Sune's version](https://raw.githubusercontent.com/suneman/socialgraphs2016/master/files/ba.png)"
   ]
  },
  {
   "cell_type": "code",
   "execution_count": 54,
   "metadata": {
    "collapsed": false
   },
   "outputs": [
    {
     "name": "stdout",
     "output_type": "stream",
     "text": [
      "graph consisting of single link: [0, 1] [(0, 1)]\n",
      "OrderedDict([(0, 3), (1, 12), (2, 17), (3, 8), (4, 7), (5, 3), (6, 2), (7, 5), (8, 2), (9, 2), (10, 2), (11, 2), (12, 4), (13, 1), (14, 1), (15, 3), (16, 2), (17, 2), (18, 2), (19, 3), (20, 2), (21, 2), (22, 1), (23, 4), (24, 2), (25, 1), (26, 3), (27, 1), (28, 2), (29, 2), (30, 1), (31, 2), (32, 3), (33, 1), (34, 1), (35, 1), (36, 1), (37, 1), (38, 1), (39, 2), (40, 3), (41, 2), (42, 1), (43, 1), (44, 2), (45, 3), (46, 1), (47, 1), (48, 2), (49, 1), (50, 3), (51, 2), (52, 1), (53, 1), (54, 1), (55, 1), (56, 4), (57, 1), (58, 1), (59, 3), (60, 1), (61, 1), (62, 1), (63, 1), (64, 1), (65, 1), (66, 1), (67, 2), (68, 1), (69, 2), (70, 1), (71, 1), (72, 1), (73, 1), (74, 1), (75, 1), (76, 1), (77, 1), (78, 1), (79, 1), (80, 1), (81, 2), (82, 2), (83, 1), (84, 1), (85, 1), (86, 1), (87, 1), (88, 1), (89, 2), (90, 1), (91, 1), (92, 2), (93, 1), (94, 1), (95, 1), (96, 1), (97, 1), (98, 1), (99, 1)])\n"
     ]
    },
    {
     "data": {
      "image/png": "[encoded data removed]",
      "text/plain": [
       "<matplotlib.figure.Figure at 0x7fc87804b750>"
      ]
     },
     "metadata": {},
     "output_type": "display_data"
    }
   ],
   "source": [
    "import random as rand\n",
    "from collections import Counter, OrderedDict\n",
    "import operator\n",
    "\n",
    "G = nx.Graph();\n",
    "nodes = [0,1]\n",
    "G.add_nodes_from(nodes)\n",
    "G.add_edge(0,1)\n",
    "print \"graph consisting of single link:\", G.nodes(), G.edges()\n",
    "\n",
    "# create 100 node network\n",
    "for node in xrange(2, 100):\n",
    "    # add another node\n",
    "    G.add_node(node)\n",
    "    # connect to one of the existing nodes, choose randomly\n",
    "    conn = rand.choice(nodes)\n",
    "    # add edge\n",
    "    G.add_edge(node, conn)\n",
    "    # append list of all nodes, proportional to its connections\n",
    "    nodes.append(node)\n",
    "    nodes.append(conn)\n",
    "\n",
    "# see how many links per node\n",
    "c1 = Counter(nodes)\n",
    "print OrderedDict(c1)\n",
    "\n",
    "# plot\n",
    "nx.draw_spring(G, node_size=50, node_color='lightblue')"
   ]
  },
  {
   "cell_type": "code",
   "execution_count": 55,
   "metadata": {
    "collapsed": false
   },
   "outputs": [
    {
     "name": "stdout",
     "output_type": "stream",
     "text": [
      "maximum degree: 106 minimum degree: 1\n"
     ]
    }
   ],
   "source": [
    "# more nodes for N=5000\n",
    "for node in xrange(101, 5000):\n",
    "    G.add_node(node)\n",
    "    conn = rand.choice(nodes)\n",
    "    G.add_edge(node, conn)\n",
    "    nodes.append(node)\n",
    "    nodes.append(conn)\n",
    "    \n",
    "# get degree distribution\n",
    "degree_sequence = sorted(nx.degree(G).values(), reverse=True)\n",
    "d_min = min(degree_sequence)\n",
    "d_max = max(degree_sequence)\n",
    "print \"maximum degree:\", d_max, \"minimum degree:\", d_min"
   ]
  },
  {
   "cell_type": "code",
   "execution_count": 68,
   "metadata": {
    "collapsed": false
   },
   "outputs": [
    {
     "data": {
      "image/png": "[encoded data removed]",
      "text/plain": [
       "<matplotlib.figure.Figure at 0x7fc848f092d0>"
      ]
     },
     "metadata": {},
     "output_type": "display_data"
    }
   ],
   "source": [
    "bins = xrange(d_min, d_max+1) \n",
    "hist, bin_edges = np.histogram(degree_sequence, bins=bins)\n",
    "\n",
    "# plot binned data\n",
    "plt.plot(bin_edges[:-1], hist, 'ro', color='blue', markersize=4)\n",
    "plt.xlabel(\"k\")\n",
    "plt.ylabel(\"count\")\n",
    "plt.title(\"Histogram of degree distribution\")\n",
    "plt.show()"
   ]
  },
  {
   "cell_type": "markdown",
   "metadata": {},
   "source": [
    "> Next step is to explore the [Friendship paradox](https://en.wikipedia.org/wiki/Friendship_paradox). This paradox states that _almost everyone_ have fewer friends than their friends have, on average\\*. This sounds crazy, but is actually an almost trivial consequence of living in a social network with a power-law degree distribution. The explanation is that almost everyone is friends with a hub, that drives up the average degree of the friends. Let's explore that in the 5000 node BA network we've just generated. Do the following:\n",
    "> \n",
    "> * Pick a node $i$ at random (e.g. use `random.choice`). [Find its degree](http://networkx.lanl.gov/reference/generated/networkx.Graph.degree.html).\n",
    "> * Find $i$'s [neighbors](http://networkx.lanl.gov/reference/generated/networkx.Graph.neighbors.html). And calculate their average degree.\n",
    "> * Compare the two numbers to check if it's true that $i$'s friends (on average) have more friends than $i$.\n",
    "> * Do this 1000 times. How many out of those 1000 times is the friendship paradox true?\n",
    "> \n",
    "> Finally, we'll build a network of same size and degree, using the growth mechanism without the preferential attachment. \n",
    "> \n",
    "> * Compare to the ER network of same size and same _p_. What are the differences? Explain in your own words. _Hint_: To get started, take a look at the degree distribution, and study the number of connected components.\n"
   ]
  },
  {
   "cell_type": "code",
   "execution_count": null,
   "metadata": {
    "collapsed": true
   },
   "outputs": [],
   "source": []
  }
 ],
 "metadata": {
  "anaconda-cloud": {},
  "kernelspec": {
   "display_name": "Python 2",
   "language": "python",
   "name": "python2"
  },
  "language_info": {
   "codemirror_mode": {
    "name": "ipython",
    "version": 2
   },
   "file_extension": ".py",
   "mimetype": "text/x-python",
   "name": "python",
   "nbconvert_exporter": "python",
   "pygments_lexer": "ipython2",
   "version": "2.7.12"
  }
 },
 "nbformat": 4,
 "nbformat_minor": 0
}
