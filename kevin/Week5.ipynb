{
 "cells": [
  {
   "cell_type": "markdown",
   "metadata": {},
   "source": [
    "# Overview\n",
    "\n",
    "This week we'll talk about advanced network measures (beyond the degree distribution), and communities.\n",
    "\n",
    "* Properties of the full philosopher network, including the importance of age in philosophy\n",
    "* Properties of the branches of philosophy\n",
    "* Are the branches communities?\n",
    "* Community detection in the full philosopher network\n",
    "\n",
    "> _Reading_: This week, the reading is mostly for reference. It's for you to have a place to go, if you want more detailed information about the topics that I cover in the video lectures. Thus, I recommend you check out **Chapter 9** of the network science book. In particular, we'll delve into section 9.4 in the exercises below. We will also talk a little bit about degree correlations - you can read about those in Chapter 7\\.\n",
    "> \n",
    "\n",
    "We will use the philosopher age more below."
   ]
  },
  {
   "cell_type": "markdown",
   "metadata": {},
   "source": [
    "## Part A: The structure of the Philosopher network\n",
    "\n",
    "> **_Video lecture_**: Network measures.\n"
   ]
  },
  {
   "cell_type": "code",
   "execution_count": 1,
   "metadata": {
    "collapsed": false
   },
   "outputs": [
    {
     "data": {
      "text/html": [
       "\n",
       "        <iframe\n",
       "            width=\"800\"\n",
       "            height=\"450\"\n",
       "            src=\"https://www.youtube.com/embed/0uAYpOqVHCU\"\n",
       "            frameborder=\"0\"\n",
       "            allowfullscreen\n",
       "        ></iframe>\n",
       "        "
      ],
      "text/plain": [
       "<IPython.lib.display.YouTubeVideo at 0x7f4360157a90>"
      ]
     },
     "execution_count": 1,
     "metadata": {},
     "output_type": "execute_result"
    }
   ],
   "source": [
    "from IPython.display import YouTubeVideo\n",
    "YouTubeVideo(\"0uAYpOqVHCU\",width=800, height=450)"
   ]
  },
  {
   "cell_type": "markdown",
   "metadata": {},
   "source": [
    "> _Exercises_: Structure of the the philosopher network \n",
    "> \n",
    "> Last time, we found the most connected philosophers (using degree centrality). Now let's dig in and try to understand more about the philosopher network using more advanced network features. If your network has more than one component, just work on the _giant connected component_ (GCC) in the exercises below (in a directed graph use the [_weakly_ connected component](https://networkx.github.io/documentation/networkx-1.9.1/reference/algorithms.component.html)).\n",
    "> \n",
    "> * Not all of the measures we'll be considering below are defined for directed graphs, thus begin by creating an [undirected version](https://networkx.github.io/documentation/networkx-1.9.1/reference/generated/networkx.DiGraph.to_undirected.html) of the philosopher graph, that we can use whenever needed. Only use the undirected graph when explicitly stated in the exercise."
   ]
  },
  {
   "cell_type": "code",
   "execution_count": 81,
   "metadata": {
    "collapsed": false
   },
   "outputs": [],
   "source": [
    "# import all necessary packages\n",
    "from collections import Counter\n",
    "from __future__ import division\n",
    "import json\n",
    "from matplotlib import pyplot as plt\n",
    "import networkx as nx\n",
    "import numpy as np\n",
    "import operator\n",
    "import pickle\n",
    "import pprint\n",
    "import re\n",
    "import requests\n",
    "\n",
    "# IPython specifics\n",
    "%matplotlib inline"
   ]
  },
  {
   "cell_type": "code",
   "execution_count": 3,
   "metadata": {
    "collapsed": false
   },
   "outputs": [],
   "source": [
    "# recreate the network\n",
    "\n",
    "# get data dictionary\n",
    "directory = 'philosophers'\n",
    "with open('{0}/dat.pkl'.format(directory), 'rb') as f:\n",
    "    dat = pickle.load(f)\n",
    "\n",
    "# create one node per philosopher name (keys of data)\n",
    "p_graph = nx.DiGraph()\n",
    "p_graph.add_nodes_from(dat.keys()) "
   ]
  },
  {
   "cell_type": "code",
   "execution_count": 4,
   "metadata": {
    "collapsed": false,
    "scrolled": true
   },
   "outputs": [
    {
     "name": "stdout",
     "output_type": "stream",
     "text": [
      "set([u'Adam_Smith',\n",
      "     u'Alexander_Gottlieb_Baumgarten',\n",
      "     u'Aristotle',\n",
      "     u'Arthur_Schopenhauer',\n",
      "     u'August_Wilhelm_Schlegel',\n",
      "     u'Baruch_Spinoza',\n",
      "     u'Bertrand_Russell',\n",
      "     u'C._D._Broad',\n",
      "     u'Charles_Sanders_Peirce',\n",
      "     u'Christian_Wolff_(philosopher)',\n",
      "     u'Christine_Korsgaard',\n",
      "     u'David_Hilbert',\n",
      "     u'David_Hume',\n",
      "     u'Derek_Parfit',\n",
      "     u'Epicurus',\n",
      "     u'Friedrich_Nietzsche',\n",
      "     u'Friedrich_Wilhelm_Joseph_von_Schelling',\n",
      "     u'Georg_Simmel',\n",
      "     u'Georg_Wilhelm_Friedrich_Hegel',\n",
      "     u'Gilles_Deleuze',\n",
      "     u'Gottfried_Leibniz',\n",
      "     u'Gotthold_Ephraim_Lessing',\n",
      "     u'Houston_Stewart_Chamberlain',\n",
      "     u'Jean-Jacques_Rousseau',\n",
      "     u'Jean_Piaget',\n",
      "     u'Johann_Gottfried_Herder',\n",
      "     u'John_Locke',\n",
      "     u'John_McDowell',\n",
      "     u'John_Rawls',\n",
      "     u'Joxe_Azurmendi',\n",
      "     u'J\\xfcrgen_Habermas',\n",
      "     u'Martin_Heidegger',\n",
      "     u'Michel_Foucault',\n",
      "     u'Nicolai_Hartmann',\n",
      "     u'Noam_Chomsky',\n",
      "     u'P._F._Strawson',\n",
      "     u'Plato',\n",
      "     u'Ren\\xe9_Descartes',\n",
      "     u'Robert_Nozick',\n",
      "     u'Roger_Scruton',\n",
      "     u'S\\xf8ren_Kierkegaard',\n",
      "     u'Thomas_Henry_Huxley',\n",
      "     u'Wilhelm_Dilthey'])\n"
     ]
    }
   ],
   "source": [
    "# create node links\n",
    "for p in dat:\n",
    "    p_content = dat[p]\n",
    "    # find all wiki links in the content\n",
    "    p_links = re.findall(r'\\[\\[(.+?)\\]\\]', p_content)\n",
    "    # list with all outgoing links for edges\n",
    "    # decode unicode chars and clean the link for matching\n",
    "    out_links = [l.decode('unicode-escape').split('|')[0].replace(' ', '_') for l in p_links]\n",
    "\n",
    "    # intersection between all philosophers and found links in article\n",
    "    all_edges = set(dat.keys()).intersection(out_links)\n",
    "    # show example of related philosophers\n",
    "    if p == 'Immanuel_Kant':\n",
    "        pprint.pprint(all_edges)\n",
    "\n",
    "    # add an edge for the philosopher\n",
    "    for e in all_edges:\n",
    "        p_graph.add_edge(p, e)"
   ]
  },
  {
   "cell_type": "code",
   "execution_count": 5,
   "metadata": {
    "collapsed": true
   },
   "outputs": [],
   "source": [
    "# create undirected version\n",
    "p_graph_undir = p_graph.to_undirected()"
   ]
  },
  {
   "cell_type": "markdown",
   "metadata": {},
   "source": [
    "> * Find the 5 most central philosophers according to [betweenness centrality](https://networkx.github.io/documentation/networkx-1.9.1/reference/generated/networkx.algorithms.centrality.betweenness_centrality.html). What role do you imagine philosophers with high wikipedia graph betweenness centrality play in the history of philosophy?"
   ]
  },
  {
   "cell_type": "code",
   "execution_count": 6,
   "metadata": {
    "collapsed": false,
    "scrolled": true
   },
   "outputs": [
    {
     "name": "stdout",
     "output_type": "stream",
     "text": [
      "[u'Aristotle', u'Immanuel_Kant', u'Bertrand_Russell', u'Plato', u'David_Hume']\n"
     ]
    }
   ],
   "source": [
    "node_dict = nx.betweenness_centrality(p_graph_undir) \n",
    "#print Counter(node_dict).most_common(5) # use to print with betweenness_centrality\n",
    "\n",
    "# just print the philosophers, from 1 (most central) to 5 (less central in top 5)\n",
    "print sorted(node_dict, key=node_dict.get, reverse=True)[:5]"
   ]
  },
  {
   "cell_type": "markdown",
   "metadata": {},
   "source": [
    "Betweenness centrality indicates the centrality of a node (philosopher) in the network. It is equal to the number of shortest paths from all vertices to all others that pass through that node. Philosophers with a high BC act as a intermediary scholar who boosts the communication between other scholars. Perhaps they wrote multiple literature, or developed core theories."
   ]
  },
  {
   "cell_type": "markdown",
   "metadata": {},
   "source": [
    "> * Find the 5 most central philosophers according to [eigenvector centrality](https://networkx.github.io/documentation/networkx-1.9.1/reference/generated/networkx.algorithms.centrality.eigenvector_centrality.html). Calculate centrality corresponding to both in- and out-edges (see NetworkX documentation for details). How is eigenvector centrality difference from degree centrality? Compare your results for eigenvector centrality to the results for betweenness centrality - does the difference make sense when you read the philosopher's wikipedia pages?"
   ]
  },
  {
   "cell_type": "code",
   "execution_count": 7,
   "metadata": {
    "collapsed": false
   },
   "outputs": [
    {
     "name": "stdout",
     "output_type": "stream",
     "text": [
      "5 most central philosophers according to in-edges eigenvector centrality:\n",
      "[u'Immanuel_Kant', u'Aristotle', u'Bertrand_Russell', u'Plato', u'Friedrich_Nietzsche']\n",
      "\n",
      "For comparison:\n",
      "out-edges eigenvector centrality:  [u'Georg_Wilhelm_Friedrich_Hegel', u'Martin_Heidegger', u'Friedrich_Nietzsche', u'Immanuel_Kant', u'Michel_Foucault']\n",
      "in-edges degree centrality:  [u'Immanuel_Kant', u'Aristotle', u'Bertrand_Russell', u'Plato', u'Friedrich_Nietzsche']\n",
      "out-edges degree centrality:  [u'Immanuel_Kant', u'Aristotle', u'Bertrand_Russell', u'Plato', u'Friedrich_Nietzsche']\n"
     ]
    }
   ],
   "source": [
    "### eigenvector centrality\n",
    "# in-edges\n",
    "node_in_eigen = nx.eigenvector_centrality(p_graph)\n",
    "# For out-edges eigenvector centrality first reverse the graph with G.reverse().\n",
    "node_out_eigen = nx.eigenvector_centrality(p_graph.reverse())\n",
    "\n",
    "print \"5 most central philosophers according to in-edges eigenvector centrality:\"\n",
    "print sorted(node_in_eigen, key=node_in_eigen.get, reverse=True)[:5]\n",
    "print \"\\nFor comparison:\"\n",
    "print \"out-edges eigenvector centrality: \", sorted(node_out_eigen, key=node_out_eigen.get, reverse=True)[:5]\n",
    "\n",
    "### degree centrality\n",
    "# in-edges\n",
    "node_in_degree = nx.degree_centrality(p_graph)\n",
    "# out-edges\n",
    "node_out_degree = nx.degree_centrality(p_graph.reverse())\n",
    "\n",
    "print \"in-edges degree centrality: \", sorted(node_in_degree, key=node_in_degree.get, reverse=True)[:5]\n",
    "print \"out-edges degree centrality: \", sorted(node_out_degree, key=node_out_degree.get, reverse=True)[:5]"
   ]
  },
  {
   "cell_type": "markdown",
   "metadata": {},
   "source": [
    "How is eigenvector centrality difference from degree centrality:\n",
    "* Out-edges eigenvector centrality result shows a different behavior from either degree centrality.\n",
    "* Eigenvector centrality is a measure of the influence of a node in a network. It assigns relative scores to all nodes in the network based on the concept that connections to high-scoring nodes contribute more to the score of the node in question than equal connections to low-scoring nodes. The difference between in- and out-edges is just the direction in the directed graph. We can remember that Hegel had the most out-egdes and Kant the most in-edges in week 4.\n",
    "* Historically first and conceptually simplest is degree centrality, which is defined as the number of links incident upon a node (i.e., the number of ties that a node has). The degree can be interpreted in terms of the immediate risk of a node for catching whatever is flowing through the network (such as a virus, or some information). In the case of a directed network (where ties have direction), we usually define two separate measures of degree centrality, namely indegree and outdegree.\n",
    "\n",
    "Comparison of eigenvector centrality to betweenness centrality:\n",
    "* Kant and Aristole switch the first place in betweenness centrality.\n",
    "* Nietzsche takes the 5th spot with eigenvector centrality compared to David Hume in betweenness centrality.\n",
    "* Betweenness is a centrality measure of a vertex within a graph. Betweenness centrality quantifies the number of times a node acts as a bridge along the shortest path between two other nodes.\n",
    "* Out-edges eigenvector centrality accounts for the 'importance' of a node by taking into account the 'importance' of nodes to which it points. So it takes more into account than the betweenness centrality.\n",
    "* So Aristotle maybe builds the most bridges with other philosophers (thus is first for betweenness centrality) but Kant builds his paths with the more important philosophers in the network (thus is first for out-edges)."
   ]
  },
  {
   "cell_type": "markdown",
   "metadata": {},
   "source": [
    "> * Is the _undirected version_ of the graph [assortative with respect do degree](http://networkx.lanl.gov/reference/generated/networkx.algorithms.assortativity.degree_assortativity_coefficient.html)? (e.g. do high-degree philosophers tend to link to other high-degree philosophers, and low-degree philosophers to other low-degree philosophers?). Provide an interpretation of your answer?\n",
    "> "
   ]
  },
  {
   "cell_type": "code",
   "execution_count": 8,
   "metadata": {
    "collapsed": false
   },
   "outputs": [
    {
     "name": "stdout",
     "output_type": "stream",
     "text": [
      "Graph assortativity: -0.0716935640247\n"
     ]
    }
   ],
   "source": [
    "print \"Graph assortativity:\", nx.degree_assortativity_coefficient(p_graph_undir)"
   ]
  },
  {
   "cell_type": "markdown",
   "metadata": {},
   "source": [
    "Assortativity measures the similarity of connections in the graph with respect to the node degree. Since the graph assortativity is negativ I would guess that the connections of nodes with similar node degrees rather differ from each other and have not many similarities in contrast nodes of different degree are more similar. In general positive values indicate a correlation between nodes of similar degree, while negative values indicate relationships between nodes of different degree."
   ]
  },
  {
   "cell_type": "markdown",
   "metadata": {},
   "source": [
    "> _Exercises_: Age and structure in the philosopher network\n",
    "> \n",
    "> Age of the philosophers plays a large role. Socrates/Plato and Aristotle are massive influences on philosophy in millennia subsequent to their birth. Now, let us explore how the birth-year of the philosophers plays a role in shaping the network. We've created a file (`.json` format) which provides the birth year for most of the philosophers. Get it [**here**](https://dl.dropboxusercontent.com/u/153071/02805/philosopher_birth_year.json). In the following, you may use that to get the birth-year for the philosopher. _Note_: It's possible that the list of names in the list of birth-years is not identical to the set of nodes in your network; thus, for the exercises including age, simply work on the [subgraph](http://networkx.lanl.gov/reference/generated/networkx.Graph.subgraph.html) of nodes for which you have age-info.\n",
    "> "
   ]
  },
  {
   "cell_type": "code",
   "execution_count": 9,
   "metadata": {
    "collapsed": true
   },
   "outputs": [],
   "source": [
    "r = requests.get('https://dl.dropboxusercontent.com/u/153071/02805/philosopher_birth_year.json')\n",
    "birth_dat = r.json()"
   ]
  },
  {
   "cell_type": "markdown",
   "metadata": {},
   "source": [
    "> * Create a histogram of the number of philosophers born in every century, starting 500 BC. Describe the plot. Does philosophy seem to have developed at a steady pace - or in a more bursty manner? Are we living in a golden age of philosophy right now? (Use the data & common sense to present an argument for your answer)."
   ]
  },
  {
   "cell_type": "code",
   "execution_count": 10,
   "metadata": {
    "collapsed": false
   },
   "outputs": [
    {
     "data": {
      "image/png": "[encoded data removed]",
      "text/plain": [
       "<matplotlib.figure.Figure at 0x7f4331e8a9d0>"
      ]
     },
     "metadata": {},
     "output_type": "display_data"
    }
   ],
   "source": [
    "# -500 = 500 before Christi, 25 bins for every century\n",
    "count, bins, ignored = plt.hist(birth_dat.values(), bins=25, range=(-500, 2000))\n",
    "plt.title(\"Number of philosophers born in every century\")\n",
    "plt.xlabel('Birth year')\n",
    "plt.ylabel('count')\n",
    "plt.show()"
   ]
  },
  {
   "cell_type": "markdown",
   "metadata": {},
   "source": [
    "The 20th century from January 1, 1901 to December 31, 2000 had 478 philosophers registered which is the highest. Since the 11th century the number was slowly starting to increase until it got over 100 in the 18th century. In our current century we currently have a 136 philosophers less but on the other hand there is still a lot of time left in the 21st century. So I truly think we are really living in a golden age of philosophy."
   ]
  },
  {
   "cell_type": "markdown",
   "metadata": {},
   "source": [
    "> * Is the _undirected version_ of the graph [assortative with respect to age](http://networkx.lanl.gov/reference/generated/networkx.algorithms.assortativity.attribute_assortativity_coefficient.html)? Once again, provide an interpretation of your answer."
   ]
  },
  {
   "cell_type": "code",
   "execution_count": 11,
   "metadata": {
    "collapsed": false,
    "scrolled": true
   },
   "outputs": [
    {
     "name": "stdout",
     "output_type": "stream",
     "text": [
      "1216 of 1563 philosopher's with the age attribute from the JSON file could not be found in the network (on wikipedia), 347 remain\n",
      "Assortativity value with respect to age = -0.00245800609107\n"
     ]
    }
   ],
   "source": [
    "# make node names similar\n",
    "birth_dat = {k.replace(' ', '_'): v for k, v in birth_dat.items()}\n",
    "\n",
    "# nodes to include for subgraph\n",
    "node_list = list()\n",
    "not_found = 0\n",
    "orig = len(birth_dat)\n",
    "for p in birth_dat.keys():\n",
    "    # check if node is in undirected graph\n",
    "    if p_graph_undir.has_node(p):\n",
    "        # add valid node for subgraph\n",
    "        node_list.append(p)\n",
    "    else:\n",
    "        # delete the unmatched value\n",
    "        not_found += 1\n",
    "        del birth_dat[p]\n",
    "\n",
    "print '{0} of {1} philosopher\\'s with the age attribute from the JSON file could not be found in the network (on wikipedia), {2} remain'.format(\n",
    "    not_found, orig, len(birth_dat))\n",
    "\n",
    "# create the subgraph\n",
    "birthG = nx.subgraph(p_graph_undir, node_list)\n",
    "\n",
    "# add the age attribute\n",
    "nx.set_node_attributes(birthG, 'birth_year', birth_dat)\n",
    "\n",
    "# verify the attribute\n",
    "#print birthG.node['Immanuel_Kant']['birth_year'], birth_dat['Immanuel_Kant'] # gives both 1724\n",
    "\n",
    "# compute assortativity for node attributes\n",
    "print \"Assortativity value with respect to age =\", nx.attribute_assortativity_coefficient(birthG, 'birth_year')"
   ]
  },
  {
   "cell_type": "markdown",
   "metadata": {},
   "source": [
    "Assortativity measures the similarity of connections in the graph with respect to the given attribute. The negative value shows that philosophers age does not correlate with their links."
   ]
  },
  {
   "cell_type": "markdown",
   "metadata": {},
   "source": [
    "> * A reasonable hypothesis is that old philosophers are more famous. Create a scatter-plot of age versus in-degree. Do you see a correlation between the two? Justify your answer (for example by calculating the correlation coefficient.)"
   ]
  },
  {
   "cell_type": "code",
   "execution_count": 12,
   "metadata": {
    "collapsed": false
   },
   "outputs": [],
   "source": [
    "# calculate correlation coefficient\n",
    "x_year, y_degree = list(), list()\n",
    "for p in birth_dat:\n",
    "    x_year.append(birth_dat[p])\n",
    "    # take in-degree with directed graph\n",
    "    y_degree.append(p_graph.in_degree(p))"
   ]
  },
  {
   "cell_type": "code",
   "execution_count": 22,
   "metadata": {
    "collapsed": false,
    "scrolled": true
   },
   "outputs": [
    {
     "data": {
      "image/png": "[encoded data removed]",
      "text/plain": [
       "<matplotlib.figure.Figure at 0x7f432f440a90>"
      ]
     },
     "metadata": {},
     "output_type": "display_data"
    },
    {
     "data": {
      "image/png": "[encoded data removed]",
      "text/plain": [
       "<matplotlib.figure.Figure at 0x7f432f440a50>"
      ]
     },
     "metadata": {},
     "output_type": "display_data"
    },
    {
     "name": "stdout",
     "output_type": "stream",
     "text": [
      "Correlation coefficient between age and degree = -0.0521512871741\n"
     ]
    }
   ],
   "source": [
    "# bins with philosophers found reduced\n",
    "count, bins, ignored = plt.hist(birth_dat.values(), bins=28, range=(-800, 2000))\n",
    "\n",
    "fig, ax = plt.subplots()\n",
    "\n",
    "ax.set_title(\"Philosopher network in-degree vs. year\", fontsize=14)\n",
    "ax.set_xlabel(\"year\", fontsize=12)\n",
    "ax.set_ylabel(\"in-degree\", fontsize=12)\n",
    "\n",
    "ax.grid(True, linestyle='-', color='0.75')\n",
    "ax.set_ylim([1, max(y_degree) + 10])\n",
    "ax.set_xlim([min(x_year), max(x_year)])\n",
    "\n",
    "plt.scatter(x_year, y_degree, alpha=0.5, clip_on=False)\n",
    "plt.show()\n",
    "\n",
    "print \"Correlation coefficient between age and degree =\", np.corrcoef(x=x_year, y=y_degree)[0,1]"
   ]
  },
  {
   "cell_type": "markdown",
   "metadata": {},
   "source": [
    "Philosophers that were born earlier have a slightly higher degree than the others that were born later."
   ]
  },
  {
   "cell_type": "markdown",
   "metadata": {},
   "source": [
    "## Part B: The branches of philosophy. Are they communities?\n",
    "\n",
    "Before we begin, let's learn about communities. If you want to learn more details, I recommend you take a look at _Chapter 9_ in the _Network Science_ book ... but the lecture should be enough to get you started. For this and the next exercise, work on the _undirected_ version of the network.\n",
    "\n",
    "> **_Video Lecture_**: Communities in networks. \n",
    "> "
   ]
  },
  {
   "cell_type": "code",
   "execution_count": 14,
   "metadata": {
    "collapsed": false,
    "scrolled": false
   },
   "outputs": [
    {
     "data": {
      "text/html": [
       "\n",
       "        <iframe\n",
       "            width=\"800\"\n",
       "            height=\"450\"\n",
       "            src=\"https://www.youtube.com/embed/06GL_KGHdbE\"\n",
       "            frameborder=\"0\"\n",
       "            allowfullscreen\n",
       "        ></iframe>\n",
       "        "
      ],
      "text/plain": [
       "<IPython.lib.display.YouTubeVideo at 0x7f432f491d50>"
      ]
     },
     "execution_count": 14,
     "metadata": {},
     "output_type": "execute_result"
    }
   ],
   "source": [
    "YouTubeVideo(\"06GL_KGHdbE\",width=800, height=450)"
   ]
  },
  {
   "cell_type": "markdown",
   "metadata": {},
   "source": [
    "> _Exercises_: We will use the concept of modularity to explore how _community-like_ the six branches of philosophy are.\n",
    "> \n",
    "> * Explain the concept of modularity in your own words."
   ]
  },
  {
   "cell_type": "markdown",
   "metadata": {},
   "source": [
    "The strength of division of a network into modules (also called groups, clusters or communities). Networks with high modularity have dense connections between the nodes within modules but sparse connections between nodes in different modules."
   ]
  },
  {
   "cell_type": "markdown",
   "metadata": {},
   "source": [
    "> * Now we will calculate the modularity of the branches reported by the Wikipedia editors. But we need to do a bit of work to make this happen.\n",
    "> * Firstly, modularity does not work when the communities are overlapping. Thus, we need to do something about the philosophers that are part of multiple branches. We will handle it by creating a set of _six new branches_, where we take all of the philosophers that belong to more than one branch and assign them to the branch that they have the most connections to. The procedure is the following:\n",
    ">   * Start with creating six new branches (e.g. represented as [`set`s](https://docs.python.org/2/library/sets.html) in Python) containing all of the philosopher that can be unambiguously assigned to a branch.\n",
    ">   * Then, take the list of all nodes that are part of more than one branch. For each member _i_ of this list, how many links _i_ has to each of his/her branches. \n",
    ">   * Add _i_ to to the branch that it has most connections to."
   ]
  },
  {
   "cell_type": "code",
   "execution_count": 77,
   "metadata": {
    "collapsed": false
   },
   "outputs": [],
   "source": [
    "# get category dictionary data\n",
    "with open('{0}/cat.pkl'.format(directory), 'rb') as f:\n",
    "    cat = pickle.load(f)\n",
    "# key all not needed\n",
    "del cat['all']\n",
    "\n",
    "# list of philosophers in more than one branch\n",
    "cnt = Counter()\n",
    "for x in cat:\n",
    "    for i in cat[x]:\n",
    "        cnt[i] += 1\n",
    "p_multi = [x for x in cnt if cnt[x] > 1]"
   ]
  },
  {
   "cell_type": "code",
   "execution_count": 78,
   "metadata": {
    "collapsed": false
   },
   "outputs": [
    {
     "name": "stdout",
     "output_type": "stream",
     "text": [
      "Number of all philosophers in aestheticians: 126 - only in this branch are: 102\n",
      "Number of all philosophers in logicians: 271 - only in this branch are: 242\n",
      "Number of all philosophers in epistemologists: 99 - only in this branch are: 56\n",
      "Number of all philosophers in ethicists: 272 - only in this branch are: 206\n",
      "Number of all philosophers in metaphysicians: 96 - only in this branch are: 54\n",
      "Number of all philosophers in social_and_political_philosophers: 295 - only in this branch are: 233\n"
     ]
    }
   ],
   "source": [
    "# delete those that occur multiple times\n",
    "p_single = dict()\n",
    "for key, val in cat.iteritems():\n",
    "    p_single[key] = set([x for x in val if x not in p_multi])\n",
    "\n",
    "# the six branches with philosophers occuring once in branch\n",
    "for key, val in cat.iteritems():\n",
    "    print 'Number of all philosophers in {0}: {2} - only in this branch are: {1}'.format(\n",
    "        key, len(p_single[key]), len(cat[key]))"
   ]
  },
  {
   "cell_type": "code",
   "execution_count": 79,
   "metadata": {
    "collapsed": false
   },
   "outputs": [],
   "source": [
    "# how many links does each philosopher i has in branch\n",
    "p_multi_branch_cnt = dict()\n",
    "for i in p_multi:\n",
    "    # get number of edges\n",
    "    links = nx.edges(p_graph_undir, i)\n",
    "    # init count \n",
    "    p_multi_branch_cnt[i] = {x:0 for x in p_single.keys()}\n",
    "    # edge list contains (i, other philosopher)\n",
    "    for l in links:\n",
    "        # look in what branch\n",
    "        for key, val in cat.iteritems():\n",
    "            if l[1] in val:\n",
    "                p_multi_branch_cnt[i][key] += 1\n",
    "    # now get the maximum (this ignores the fact that there are ties)\n",
    "    max_key = max(p_multi_branch_cnt[i].iteritems(), key=operator.itemgetter(1))[0]\n",
    "    # add the philosopher to branch that it has most connections to\n",
    "    p_single[max_key].add(i)"
   ]
  },
  {
   "cell_type": "code",
   "execution_count": 80,
   "metadata": {
    "collapsed": false
   },
   "outputs": [
    {
     "name": "stdout",
     "output_type": "stream",
     "text": [
      "An example of link list for Abraham_Joshua_Heschel: [('Abraham_Joshua_Heschel', u'Martin_Luther_King,_Jr.'), ('Abraham_Joshua_Heschel', u'Martin_Buber'), ('Abraham_Joshua_Heschel', u'Maimonides')]\n",
      "\n",
      "Counts of this philosopher in each branch: {'aestheticians': 0, 'logicians': 0, 'epistemologists': 0, 'ethicists': 3, 'metaphysicians': 0, 'social_and_political_philosophers': 1}\n",
      "\n",
      "Philosopher appears only in ethicists list.\n"
     ]
    }
   ],
   "source": [
    "test_p = 'Abraham_Joshua_Heschel'\n",
    "print \"An example of link list for {0}: {1}\".format(test_p, nx.edges(p_graph_undir, test_p))\n",
    "print \"\\nCounts of this philosopher in each branch:\", p_multi_branch_cnt[test_p]\n",
    "if test_p in p_single['ethicists'] and test_p not in p_single['social_and_political_philosophers']:\n",
    "    print \"\\nPhilosopher appears only in ethicists list.\""
   ]
  },
  {
   "cell_type": "markdown",
   "metadata": {},
   "source": [
    "> * Now that we have a new set of non-overlapping branches, we can calculate the modularity, described in the _Network Science_ book, section 9.4). Use **equation 9.12** in the book to calculate the modularity _M_ of the branches-partitioning. "
   ]
  },
  {
   "cell_type": "markdown",
   "metadata": {},
   "source": [
    "$$ M = \\sum_{c=1}^{n_c} \\bigg[\\frac{L_c}{L} - \\Big(\\frac{k_c}{2L}\\Big)^2\\bigg] $$"
   ]
  },
  {
   "cell_type": "code",
   "execution_count": 85,
   "metadata": {
    "collapsed": false
   },
   "outputs": [
    {
     "name": "stdout",
     "output_type": "stream",
     "text": [
      "aestheticians 0.0134940311239\n",
      "logicians 0.141064240007\n",
      "epistemologists 0.00771691778771\n",
      "ethicists 0.0869479217458\n",
      "metaphysicians 0.00968300475915\n",
      "social_and_political_philosophers 0.173774899181\n",
      "Modularity of philosopher graph is: 0.432681014605\n"
     ]
    }
   ],
   "source": [
    "### page 383 in Network Science book\n",
    "# total edges\n",
    "L = nx.number_of_edges(p_graph_undir)\n",
    "M = 0\n",
    "\n",
    "# set of non-overlapping branches\n",
    "for category, phil in p_single.iteritems():\n",
    "    edges_branch = nx.edges(p_graph_undir, phil)\n",
    "    \n",
    "    # sum for links of current edge that are also in branch (in community)\n",
    "    L_c = sum(1 for edge in edges_branch if edge[1] in phil)\n",
    "    \n",
    "    # sum for links of current edge that are not in branch (other communities)\n",
    "    k_c = sum(1 for edge in edges_branch if edge[1] not in phil)\n",
    "\n",
    "    in_c = L_c/L\n",
    "    other_c = pow(k_c/(2*L), 2)\n",
    "    M_c = in_c-other_c\n",
    "    print category, M_c\n",
    "    M += M_c\n",
    "    \n",
    "print \"Modularity of philosopher graph is:\", M  "
   ]
  },
  {
   "cell_type": "markdown",
   "metadata": {},
   "source": [
    "> * Comment on the value of _M_. Are the branches good communities? (We will explore this question in depth below.)"
   ]
  },
  {
   "cell_type": "markdown",
   "metadata": {
    "collapsed": true
   },
   "source": [
    "Higher modularity implies better partitioning so the corresponding community structure for our network is dense in one community but sparse between nodes in different communities."
   ]
  },
  {
   "cell_type": "markdown",
   "metadata": {},
   "source": [
    "## Part C: Community detection in the full philosopher network.\n",
    "\n",
    "> _Exercises_: As a final exercise, we will now run community detection on the full philosopher network. \n",
    "> \n",
    "> * Use [the Python Louvain-algorithm implementation](http://perso.crans.org/aynaud/communities/) to find communities in the full philosopher network. Report the value of modularity found by the algorithm. Is it higher or lower than what you found above for the branches as communities? What does this comparison reveal about the branches?\n",
    ">   * \\[**Note**: It is best if you install the package, instructions are [here](https://bitbucket.org/taynaud/python-louvain) ... make sure that you install it using the Anaconda `python` command\\]. "
   ]
  },
  {
   "cell_type": "code",
   "execution_count": null,
   "metadata": {
    "collapsed": true
   },
   "outputs": [],
   "source": []
  },
  {
   "cell_type": "markdown",
   "metadata": {},
   "source": [
    "> * Compare the communities found by your algorithm with the branches of philosophy by creating a matrix **_D_** with dimension (_B_ times _C_), where _B_ is the number of branches and _C_ is the number of communities. We set entry _D_(_i_,_j_) to be the number of nodes that branch _i_ has in common with community _j_. The matrix **_D_** is what we call a [**confusion matrix**](https://en.wikipedia.org/wiki/Confusion_matrix). Use the confusion matrix to explain how well the communities you've detected correspond to the labeled branches of philosophy."
   ]
  },
  {
   "cell_type": "code",
   "execution_count": null,
   "metadata": {
    "collapsed": true
   },
   "outputs": [],
   "source": []
  },
  {
   "cell_type": "markdown",
   "metadata": {},
   "source": [
    "## Part D: Properties of individual branches of philosophy\n",
    "\n",
    "**_This part is optional!_** But I recommend that you work through it anyway - it is probably the exercise that will teach you the most about philosophy.\n",
    "\n",
    "> _Exercises_: Understanding the branches of philosophy. You already know a lot about network analysis, so in this assignment I'm providing fewer details on what I want you to do: Figuring out what things to calculate in order to provide an awesome quantitative answer to my questions is part of the assignment. That way you can show that you're able to use the skills you've acquired up till now.\n",
    "> \n",
    "> * Perform an centrality analysis of each of the six branches of philosophy knowing what you've just learned about _centrality_ in complex networks. Use your analysis to reveal the identity of the most important figures in each branch of philosophy. "
   ]
  },
  {
   "cell_type": "code",
   "execution_count": null,
   "metadata": {
    "collapsed": true
   },
   "outputs": [],
   "source": []
  },
  {
   "cell_type": "markdown",
   "metadata": {},
   "source": [
    "> * Each of the six branches has its own unique history. Use histograms (and/or whatever else you can think of) to reveal the temporal differences and similarities between the six branches of philosophy.\n",
    ">"
   ]
  },
  {
   "cell_type": "code",
   "execution_count": null,
   "metadata": {
    "collapsed": true
   },
   "outputs": [],
   "source": []
  }
 ],
 "metadata": {
  "anaconda-cloud": {},
  "kernelspec": {
   "display_name": "Python 2",
   "language": "python",
   "name": "python2"
  },
  "language_info": {
   "codemirror_mode": {
    "name": "ipython",
    "version": 2
   },
   "file_extension": ".py",
   "mimetype": "text/x-python",
   "name": "python",
   "nbconvert_exporter": "python",
   "pygments_lexer": "ipython2",
   "version": "2.7.12"
  }
 },
 "nbformat": 4,
 "nbformat_minor": 1
}
