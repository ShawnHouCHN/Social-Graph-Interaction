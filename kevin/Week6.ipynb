{
 "cells": [
  {
   "cell_type": "markdown",
   "metadata": {},
   "source": [
    "# Overview\n",
    "\n",
    "We're now switching focus away from the Network Science (for a little bit), beginning to think about _Natural Language Processing_ instead. In other words, today will be all about teaching your computer to \"understand\" text. This ties in nicely with our work on wikipedia, since wikipedia is a network of connected pieces of text. We've looked at the network so far - now, let's see if we can include the text. Today is about \n",
    "\n",
    "* Installing the _natural language toolkit_ (NLTK) package and learning the basics of how it works (Chapter 1)\n",
    "* Figuring out how to make NLTK to work with other types of text (Chapter 2)."
   ]
  },
  {
   "cell_type": "markdown",
   "metadata": {},
   "source": [
    "> **_Video Lecture_**. Today is all about working with NLTK, so not much lecturing - you can get my perspective and a little pep-talk"
   ]
  },
  {
   "cell_type": "code",
   "execution_count": 2,
   "metadata": {
    "collapsed": false
   },
   "outputs": [
    {
     "data": {
      "image/jpeg": "[encoded data removed]",
      "text/html": [
       "\n",
       "        <iframe\n",
       "            width=\"800\"\n",
       "            height=\"450\"\n",
       "            src=\"https://www.youtube.com/embed/Ph0EHmFT3n4\"\n",
       "            frameborder=\"0\"\n",
       "            allowfullscreen\n",
       "        ></iframe>\n",
       "        "
      ],
      "text/plain": [
       "<IPython.lib.display.YouTubeVideo at 0x7f8a383b86d0>"
      ]
     },
     "execution_count": 2,
     "metadata": {},
     "output_type": "execute_result"
    }
   ],
   "source": [
    "from IPython.display import YouTubeVideo\n",
    "YouTubeVideo(\"Ph0EHmFT3n4\",width=800, height=450)"
   ]
  },
  {
   "cell_type": "markdown",
   "metadata": {},
   "source": [
    "# Installing and the basics\n",
    "\n",
    "> _Reading_\n",
    "> The reading for today is Natural Language Processing with Python, first edition (NLPP1e) Chapter 1, Sections 1.1, 1.2, 1.3\\. [It's free online](http://www.nltk.org/book_1ed/). \n",
    "> \n",
    "> * **Important**: Do not use the newest version of this book. Use the first edition. (The newest version is based on on Python 3).\n",
    "> * **Important**: Seriously, remember that we're using the *first edition*.\n",
    "> "
   ]
  },
  {
   "cell_type": "markdown",
   "metadata": {},
   "source": [
    "> _Exercises_: NLPP1e Chapter 1\\.\n",
    "> \n",
    "> * First, install `nltk` if it isn't installed already (there are some tips below that I recommend checking out before doing installing)\n",
    "> * Second, work through chapter 1. The book is set up as a kind of tutorial with lots of examples for you to work through. I recommend you read the text with an open IPython Notebook and type out the examples that you see. ***It becomes much more fun if you to add a few variations and see what happens***. Some of those examples might very well be due as assignments (see below the install tips), so those ones should definitely be in a `notebook`. \n",
    " "
   ]
  },
  {
   "cell_type": "markdown",
   "metadata": {},
   "source": [
    "### NLTK Install tips \n",
    "\n",
    "Check to see if `nltk` is installed on your system by typing `import nltk` in a `notebook`. If it's not already installed, install it as part of _Anaconda_ by typing \n",
    "\n",
    "     conda install nltk \n",
    "\n",
    "at the command prompt. If you don't have them, you can download the various corpora using a command-line version of the downloader that runs in Python notebooks: In the iPython notebook, run the code \n",
    "\n",
    "     import nltk\n",
    "     nltk.download()\n",
    "\n",
    "Now you can hit `d` to download, then type \"book\" to fetch the collection needed today's `nltk` session. Now that everything is up and running, let's get to the actual exercises."
   ]
  },
  {
   "cell_type": "code",
   "execution_count": 3,
   "metadata": {
    "collapsed": false
   },
   "outputs": [
    {
     "name": "stderr",
     "output_type": "stream",
     "text": [
      "/usr/local/lib/python2.7/dist-packages/matplotlib/font_manager.py:273: UserWarning: Matplotlib is building the font cache using fc-list. This may take a moment.\n",
      "  warnings.warn('Matplotlib is building the font cache using fc-list. This may take a moment.')\n"
     ]
    }
   ],
   "source": [
    "from collections import Counter\n",
    "from __future__ import division\n",
    "import math\n",
    "import matplotlib.pyplot as plt\n",
    "import nltk\n",
    "from nltk.corpus import stopwords\n",
    "import os\n",
    "import random\n",
    "\n",
    "%matplotlib inline\n",
    "# enable spellcheck: https://github.com/Calysto/notebook-extensions\n",
    "\n",
    "# use extension configurator tab:\n",
    "# $ sudo pip install jupyter_nbextensions_configurator\n",
    "# $ jupyter nbextensions_configurator enable --user"
   ]
  },
  {
   "cell_type": "code",
   "execution_count": 4,
   "metadata": {
    "collapsed": false
   },
   "outputs": [
    {
     "name": "stdout",
     "output_type": "stream",
     "text": [
      "showing info https://raw.githubusercontent.com/nltk/nltk_data/gh-pages/index.xml\n",
      "*** Introductory Examples for the NLTK Book ***\n",
      "Loading text1, ..., text9 and sent1, ..., sent9\n",
      "Type the name of the text or sentence to view it.\n",
      "Type: 'texts()' or 'sents()' to list the materials.\n",
      "text1: Moby Dick by Herman Melville 1851\n",
      "text2: Sense and Sensibility by Jane Austen 1811\n",
      "text3: The Book of Genesis\n",
      "text4: Inaugural Address Corpus\n",
      "text5: Chat Corpus\n",
      "text6: Monty Python and the Holy Grail\n",
      "text7: Wall Street Journal\n",
      "text8: Personals Corpus\n",
      "text9: The Man Who Was Thursday by G . K . Chesterton 1908\n"
     ]
    }
   ],
   "source": [
    "nltk.download() # set download dir to subdir ../nltk_data (dir added to .gitignore)\n",
    "nltk.data.path.append(os.getcwd() + '/../nltk_data') # otherwise LookupError error\n",
    "\n",
    "# import this after to avoid error\n",
    "from nltk.book import *"
   ]
  },
  {
   "cell_type": "markdown",
   "metadata": {},
   "source": [
    "> _Exercises_: NLPP1e Chapter 1 (the stuff that might be due in an upcoming assignment).\n",
    "> \n",
    "> The following exercises from Chapter 1 are what might be due for an assignment later one.\n",
    ">\n",
    "> * Try out the `concordance` method, using another text and a word of your own choosing."
   ]
  },
  {
   "cell_type": "code",
   "execution_count": 5,
   "metadata": {
    "collapsed": false
   },
   "outputs": [
    {
     "name": "stdout",
     "output_type": "stream",
     "text": [
      "Displaying 25 of 60 matches:\n",
      "00 taxable funds tracked * by IBC 's Money Fund Report eased a fraction of a pe\n",
      "*-1 Brenda Malizia Negus , editor of Money Fund Report , yields `` may blip up \n",
      "stors continue *-1 to pour cash into money funds . Assets of the 400 taxable fu\n",
      "go after the highest rates . The top money funds are currently yielding well ov\n",
      "t forces investors to redeploy their money at lower rates . Second , they chann\n",
      "heless , plenty of U.S. analysts and money managers are aghast at the lofty tra\n",
      "ll face legal obstacles to * raising money in the U.S. until they settle hundre\n",
      " in September . The goverment counts money as it is spent *-53 ; Dodge counts c\n",
      "*-54 *T*-1 . The government includes money spent * on residential renovation ; \n",
      "Japan . Despite the enormous sums of money 0 they 're paid *T*-1 *-2 to stand u\n",
      "aduate School of Business . Japanese money will help *-1 turn Southeast Asia in\n",
      "r hand , bring recognition and extra money -- a new computer lab for a school ,\n",
      "teaching as a career . She won grant money for the school , advised cheerleader\n",
      "e was eager *-1 to win -- if not for money , then for pride and recognition . M\n",
      "t . Ed Macheski , a Wilton , Conn. , money manager who *T*-120 follows bank sto\n",
      "hanical engineering productivity . @ Money Market Deposits-a 6.21 % a - Average\n",
      " Co . `` I think 0 the stock is dead money for a while . '' Yesterday 's announ\n",
      "firms that *T*-154 do n't spend much money *-1 advertising and ca n't be relied\n",
      "cheduled *-106 . Unless it can raise money in financial markets , Mr. Basham sa\n",
      " with the end of the year in sight , money managers are eager *-1 to take profi\n",
      "ideas , *-1 frequently putting their money behind projects that commercial bank\n",
      "tatement 0 *T*-1 to help in * saving money . In September , Union Planters Corp\n",
      "t , a Chicago investment adviser and money manager , based on a review of six d\n",
      "f Fujitsu Ltd. , believes `` 0 the ` money worship ' among young people ... cau\n",
      "-247 's wrong with * asking for more money ? Money is not everything , but it i\n"
     ]
    }
   ],
   "source": [
    "text7.concordance(\"money\")"
   ]
  },
  {
   "cell_type": "markdown",
   "metadata": {},
   "source": [
    "> * Also try out the `similar` and `common_context` methods for a few of your own examples."
   ]
  },
  {
   "cell_type": "code",
   "execution_count": 6,
   "metadata": {
    "collapsed": false
   },
   "outputs": [
    {
     "name": "stdout",
     "output_type": "stream",
     "text": [
      "shares company the market president economy bond issue million board\n",
      "government chain exchange program industry information rise law\n",
      "purchase futures\n"
     ]
    }
   ],
   "source": [
    "text7.similar(\"stock\")"
   ]
  },
  {
   "cell_type": "code",
   "execution_count": 7,
   "metadata": {
    "collapsed": false
   },
   "outputs": [
    {
     "name": "stdout",
     "output_type": "stream",
     "text": [
      "the_in the_and the_was the_to\n"
     ]
    }
   ],
   "source": [
    "text7.common_contexts([\"rise\", \"economy\"])"
   ]
  },
  {
   "cell_type": "markdown",
   "metadata": {},
   "source": [
    "> * Create your own version of a dispersion plot (\"your own version\" means another text and different word)."
   ]
  },
  {
   "cell_type": "code",
   "execution_count": 8,
   "metadata": {
    "collapsed": false
   },
   "outputs": [
    {
     "data": {
      "image/png": "[encoded data removed]",
      "text/plain": [
       "<matplotlib.figure.Figure at 0x7f89fdd61390>"
      ]
     },
     "metadata": {},
     "output_type": "display_data"
    }
   ],
   "source": [
    "text6.dispersion_plot([\"knight\", \"grail\", \"king\", \"sword\", \"castle\"])"
   ]
  },
  {
   "cell_type": "markdown",
   "metadata": {},
   "source": [
    "> * Explain in your own words what aspect of language _lexical diversity_ describes. "
   ]
  },
  {
   "cell_type": "markdown",
   "metadata": {},
   "source": [
    "How often is each word used on average or how frequently it is occurring. It can be calculated by dividing how many words there are in the text through how many unique words there are in the same text. The higher the value the more words are reused and therefore there is less lexical diversity."
   ]
  },
  {
   "cell_type": "code",
   "execution_count": 52,
   "metadata": {
    "collapsed": false
   },
   "outputs": [
    {
     "name": "stdout",
     "output_type": "stream",
     "text": [
      "stats for:  Moby Dick by Herman Melville 1851\n",
      "total words: 260819\n",
      "unique words: 19317\n",
      "lexical diversity: 13.502044831 \n",
      "\n",
      "stats for:  Sense and Sensibility by Jane Austen 1811\n",
      "total words: 141576\n",
      "unique words: 6833\n",
      "lexical diversity: 20.7194497293 \n",
      "\n",
      "stats for some text\n",
      "total words: 4\n",
      "unique words: 2\n",
      "lexical diversity: 2.0 \n",
      "\n",
      "stats for some text\n",
      "total words: 4\n",
      "unique words: 1\n",
      "lexical diversity: 4.0 \n",
      "\n",
      "\n"
     ]
    }
   ],
   "source": [
    "def lexical_diversity(text):\n",
    "    if hasattr(text, 'name'):\n",
    "        print \"stats for: \", text.name\n",
    "    else:\n",
    "         print \"stats for some text\" \n",
    "    print \"total words:\", len(text)\n",
    "    print \"unique words:\", len(set(text))\n",
    "    ld = len(text) / len(set(text))\n",
    "    print \"lexical diversity:\", ld, \"\\n\"\n",
    "    return ld\n",
    "\n",
    "lexical_diversity(text1)\n",
    "lexical_diversity(text2)\n",
    "lexical_diversity(['and', 'and', 'and', 'the'])\n",
    "lexical_diversity(['and', 'and', 'and', 'and'])\n",
    "\n",
    "# surpress output\n",
    "print \"\""
   ]
  },
  {
   "cell_type": "markdown",
   "metadata": {},
   "source": [
    "> * Create frequency distributions for `text2`, including the cumulative frequency plot for the 75 most common words."
   ]
  },
  {
   "cell_type": "code",
   "execution_count": 10,
   "metadata": {
    "collapsed": false
   },
   "outputs": [
    {
     "name": "stdout",
     "output_type": "stream",
     "text": [
      "75 most common words (word, count): [(u',', 9397), (u'to', 4063), (u'.', 3975), (u'the', 3861), (u'of', 3565), (u'and', 3350), (u'her', 2436), (u'a', 2043), (u'I', 2004), (u'in', 1904), (u'was', 1846), (u'it', 1568), (u'\"', 1506), (u';', 1419), (u'she', 1333), (u'be', 1305), (u'that', 1297), (u'for', 1234), (u'not', 1212), (u'as', 1179), (u'you', 1037), (u'with', 971), (u'had', 969), (u'his', 941), (u'he', 895), (u\"'\", 883), (u'have', 807), (u'at', 806), (u'by', 737), (u'is', 728), (u'.\"', 721), (u's', 700), (u'Elinor', 684), (u'on', 676), (u'all', 642), (u'him', 633), (u'so', 617), (u'but', 597), (u'which', 592), (u'could', 568), (u'Marianne', 566), (u'my', 551), (u'Mrs', 530), (u'from', 527), (u'would', 507), (u'very', 492), (u'no', 488), (u'their', 463), (u'them', 462), (u'--', 461), (u'been', 440), (u'were', 437), (u'me', 433), (u'they', 428), (u'more', 406), (u'said', 397), (u',\"', 396), (u'any', 389), (u'what', 375), (u'this', 372), (u'-', 366), (u'every', 361), (u'than', 360), (u'will', 354), (u'or', 353), (u'your', 347), (u'an', 346), (u'such', 340), (u'one', 304), (u'do', 296), (u'!', 289), (u'But', 289), (u'much', 287), (u'sister', 282), (u'only', 282)]\n"
     ]
    },
    {
     "data": {
      "image/png": "[encoded data removed]",
      "text/plain": [
       "<matplotlib.figure.Figure at 0x7f8a38c33c90>"
      ]
     },
     "metadata": {},
     "output_type": "display_data"
    }
   ],
   "source": [
    "fdist = FreqDist(text2)\n",
    "print \"75 most common words (word, count):\", fdist.most_common(75)\n",
    "\n",
    "# draw\n",
    "fdist.plot(75, cumulative=True, title='Word freuqncy distribution top 75 in ' + text2.name)"
   ]
  },
  {
   "cell_type": "markdown",
   "metadata": {},
   "source": [
    "> * What is a bigram? How does it relate to `collocations`. Explain in your own words."
   ]
  },
  {
   "cell_type": "markdown",
   "metadata": {},
   "source": [
    "A Bigram is a pair of consecutive written words (can also be chars) like ('dark', 'beer'). Collocations are the most frequent bigrams but also pay attention to the cases that involve rare words. Thus the collocations() function returns often occurring bigrams based on the frequency of individual words."
   ]
  },
  {
   "cell_type": "code",
   "execution_count": 11,
   "metadata": {
    "collapsed": false
   },
   "outputs": [
    {
     "name": "stdout",
     "output_type": "stream",
     "text": [
      "United States; fellow citizens; four years; years ago; Federal\n",
      "Government; General Government; American people; Vice President; Old\n",
      "World; Almighty God; Fellow citizens; Chief Magistrate; Chief Justice;\n",
      "God bless; every citizen; Indian tribes; public debt; one another;\n",
      "foreign nations; political parties\n"
     ]
    }
   ],
   "source": [
    "text4.collocations()"
   ]
  },
  {
   "cell_type": "markdown",
   "metadata": {},
   "source": [
    "> * Work through ex 2-12 in NLPP's section 1.8\\. "
   ]
  },
  {
   "cell_type": "markdown",
   "metadata": {},
   "source": [
    "2) Given an alphabet of 26 letters, there are 26 to the power 10, or $26^{10}$, 10-letter strings we can form. That works out to 141167095653376L (the L at the end just indicates that this is Python's long-number format). How many hundred-letter strings are possible?"
   ]
  },
  {
   "cell_type": "code",
   "execution_count": 12,
   "metadata": {
    "collapsed": false
   },
   "outputs": [
    {
     "name": "stdout",
     "output_type": "stream",
     "text": [
      "3142930641582939148321506626674543653424561564746718886784252969045266950611409717286297977211428081697598519192769774092119229713411708289024 hundred-letter strings are possible\n",
      "\n",
      "that is a number with 142 digits\n"
     ]
    }
   ],
   "source": [
    "hundred_letter_str = long(math.pow(26, 100))\n",
    "\n",
    "print hundred_letter_str, \"hundred-letter strings are possible\"\n",
    "print \"\\nthat is a number with\", len(str(hundred_letter_str)), \"digits\""
   ]
  },
  {
   "cell_type": "markdown",
   "metadata": {},
   "source": [
    "3) The Python multiplication operation can be applied to lists. What happens when you type **['Monty', 'Python'] * 20**, or **3 * sent1**?"
   ]
  },
  {
   "cell_type": "code",
   "execution_count": 13,
   "metadata": {
    "collapsed": false
   },
   "outputs": [
    {
     "name": "stdout",
     "output_type": "stream",
     "text": [
      "['Monty', 'Python', 'Monty', 'Python', 'Monty', 'Python'] 40\n",
      "120\n"
     ]
    }
   ],
   "source": [
    "sent1 = ['Monty','Python'] * 20\n",
    "\n",
    "print sent1[0:6], len(sent1)\n",
    "print len(3 * sent1)"
   ]
  },
  {
   "cell_type": "markdown",
   "metadata": {},
   "source": [
    "Each list item will be duplicated with the given factor. Thus the list **sent1** increases from 2 elements to 40 ($2\\times20$) and from 40 to 120 ($40\\times3$)."
   ]
  },
  {
   "cell_type": "markdown",
   "metadata": {},
   "source": [
    "4) Review Section 1.1 on computing with language. How many words are there in **text2**? How many distinct words are there?"
   ]
  },
  {
   "cell_type": "code",
   "execution_count": 14,
   "metadata": {
    "collapsed": false
   },
   "outputs": [
    {
     "name": "stdout",
     "output_type": "stream",
     "text": [
      "word count: 141576\n",
      "distinct words: 6833\n"
     ]
    }
   ],
   "source": [
    "print \"word count:\", len(text2)\n",
    "print \"distinct words:\", len(set(text2))"
   ]
  },
  {
   "cell_type": "markdown",
   "metadata": {},
   "source": [
    "5) Compare the lexical diversity scores for humor and romance fiction in Table 1-1. Which genre is more lexically diverse?"
   ]
  },
  {
   "cell_type": "code",
   "execution_count": 15,
   "metadata": {
    "collapsed": false
   },
   "outputs": [
    {
     "name": "stdout",
     "output_type": "stream",
     "text": [
      "stats for some text\n",
      "total words: 21695\n",
      "unique words: 5017\n",
      "lexical diversity: 4.32429738888 \n",
      "\n",
      "stats for some text\n",
      "total words: 70022\n",
      "unique words: 8452\n",
      "lexical diversity: 8.28466635116 \n",
      "\n"
     ]
    },
    {
     "data": {
      "text/plain": [
       "8.284666351159489"
      ]
     },
     "execution_count": 15,
     "metadata": {},
     "output_type": "execute_result"
    }
   ],
   "source": [
    "from nltk.corpus import brown # first million-word electronic corpus of English, created in 1961 at Brown University\n",
    "\n",
    "lexical_diversity(brown.words(categories='humor'))\n",
    "lexical_diversity(brown.words(categories='romance'))"
   ]
  },
  {
   "cell_type": "markdown",
   "metadata": {},
   "source": [
    "The topic humor has a higher lexical diversity because the score is lower (4.3 vs. 8.3 for romance fiction)."
   ]
  },
  {
   "cell_type": "markdown",
   "metadata": {},
   "source": [
    "6) Produce a dispersion plot of the four main protagonists in Sense and Sensibility: Elinor, Marianne, Edward, and Willoughby. What can you observe about the different roles played by the males and females in this novel? Can you identify the couples?"
   ]
  },
  {
   "cell_type": "code",
   "execution_count": 16,
   "metadata": {
    "collapsed": false
   },
   "outputs": [
    {
     "data": {
      "image/png": "[encoded data removed]",
      "text/plain": [
       "<matplotlib.figure.Figure at 0x7f8a38c33c90>"
      ]
     },
     "metadata": {},
     "output_type": "display_data"
    }
   ],
   "source": [
    "text2.dispersion_plot([\"Elinor\", \"Marianne\", \"Edward\", \"Willoughby\"])"
   ]
  },
  {
   "cell_type": "markdown",
   "metadata": {},
   "source": [
    "Elinor seems to be the main protagonist with the most parts along with Marianne. They are both females so probably not a couple although they appear always together so either they are siblings or lesbians (that was probably a taboo when the novel was written in 1811). Edward and Willoughby are usually not appearing together. It seems that Willoughby is appearing most frequently when there is also a lot about Marianne maybe they are a couple. It seems when there is talk about Edward Marianne is not appearing as frequently so he would rather fit to Elinor."
   ]
  },
  {
   "cell_type": "markdown",
   "metadata": {},
   "source": [
    "7) Find the collocations in **text5**."
   ]
  },
  {
   "cell_type": "code",
   "execution_count": 17,
   "metadata": {
    "collapsed": false
   },
   "outputs": [
    {
     "name": "stdout",
     "output_type": "stream",
     "text": [
      "wanna chat; PART JOIN; MODE #14-19teens; JOIN PART; PART PART;\n",
      "cute.-ass MP3; MP3 player; JOIN JOIN; times .. .; ACTION watches; guys\n",
      "wanna; song lasts; last night; ACTION sits; -...)...- S.M.R.; Lime\n",
      "Player; Player 12%; dont know; lez gurls; long time\n"
     ]
    }
   ],
   "source": [
    "text5.collocations()"
   ]
  },
  {
   "cell_type": "markdown",
   "metadata": {},
   "source": [
    "8) Consider the following Python expression: **len(set(text4))**. State the purpose of this expression. Describe the two steps involved in performing this computation."
   ]
  },
  {
   "cell_type": "markdown",
   "metadata": {},
   "source": [
    "Generating a **set()** of strings will remove all the duplicates in a list (which is all words in text4 [text4.tokens]), all items are hashed for fast accessibility and consequently the order of the list is lost. The **len()** will count the number of elements in any iterable, also sets. See the following outputs."
   ]
  },
  {
   "cell_type": "code",
   "execution_count": 18,
   "metadata": {
    "collapsed": false
   },
   "outputs": [
    {
     "name": "stdout",
     "output_type": "stream",
     "text": [
      "[u'Fellow', u'-', u'Citizens', u'of', u'the'] [u'writings', u'four', u'Does', u'aegis', u'hanging'] 5 9754\n"
     ]
    }
   ],
   "source": [
    "print text4.tokens[0:5], list(set(text4))[0:5], len(list(set(text4))[0:5]), len(set(text4))"
   ]
  },
  {
   "cell_type": "markdown",
   "metadata": {},
   "source": [
    "9) Review Section 1.2 on lists and strings.\n",
    "\n",
    "a) Define a string and assign it to a variable, e.g., **my_string = 'My String'** (but put something more interesting in the string). Print the contents of this variable in two ways, first by simply typing the variable name and pressing Enter, then by using the print statement."
   ]
  },
  {
   "cell_type": "code",
   "execution_count": 19,
   "metadata": {
    "collapsed": false
   },
   "outputs": [
    {
     "data": {
      "text/plain": [
       "'but put something more interesting in the string'"
      ]
     },
     "execution_count": 19,
     "metadata": {},
     "output_type": "execute_result"
    }
   ],
   "source": [
    "my_string = 'but put something more interesting in the string'\n",
    "my_string"
   ]
  },
  {
   "cell_type": "code",
   "execution_count": 20,
   "metadata": {
    "collapsed": false
   },
   "outputs": [
    {
     "name": "stdout",
     "output_type": "stream",
     "text": [
      "but put something more interesting in the string\n"
     ]
    }
   ],
   "source": [
    "print my_string"
   ]
  },
  {
   "cell_type": "markdown",
   "metadata": {},
   "source": [
    "b) Try adding the string to itself using **my_string + my_string**, or multiplying it by a number, e.g., **my_string * 3**. Notice that the strings are joined together without any spaces. How could you fix this?"
   ]
  },
  {
   "cell_type": "code",
   "execution_count": 21,
   "metadata": {
    "collapsed": false
   },
   "outputs": [
    {
     "name": "stdout",
     "output_type": "stream",
     "text": [
      "but put something more interesting in the stringbut put something more interesting in the string\n",
      "\n",
      "\n",
      "but put something more interesting in the stringbut put something more interesting in the stringbut put something more interesting in the string\n"
     ]
    }
   ],
   "source": [
    "print my_string + my_string\n",
    "print \"\\n\"\n",
    "print my_string * 3"
   ]
  },
  {
   "cell_type": "markdown",
   "metadata": {},
   "source": [
    "The are various methods to output and concatenate strings, e.g. **format()**. But also **join()** can be used or simply adding the space."
   ]
  },
  {
   "cell_type": "code",
   "execution_count": 22,
   "metadata": {
    "collapsed": false
   },
   "outputs": [
    {
     "name": "stdout",
     "output_type": "stream",
     "text": [
      "but put something more interesting in the string but put something more interesting in the string but put something more interesting in the string\n",
      "\n",
      "but put something more interesting in the string but put something more interesting in the string but put something more interesting in the string\n",
      "\n",
      "but put something more interesting in the string but put something more interesting in the string but put something more interesting in the string\n",
      "\n",
      "but put something more interesting in the string but put something more interesting in the string\n"
     ]
    }
   ],
   "source": [
    "print '{0} {0} {0}'.format(my_string)\n",
    "print '\\n%(s)s %(s)s %(s)s' % {'s': my_string}\n",
    "\n",
    "a = list()\n",
    "for i in range(3):\n",
    "    a.append(my_string)\n",
    "print \"\\n\", ' '.join(a)\n",
    "\n",
    "print \"\\n\", my_string + ' ' + my_string"
   ]
  },
  {
   "cell_type": "markdown",
   "metadata": {},
   "source": [
    "10) Define a variable my_sent to be a list of words, using the syntax **my_sent = [\"My\", \"sent\"]** (but with your own words, or a favorite saying).\n",
    "\n",
    "a) Use **' '.join(my_sent)** to convert this into a string."
   ]
  },
  {
   "cell_type": "code",
   "execution_count": 23,
   "metadata": {
    "collapsed": false
   },
   "outputs": [
    {
     "name": "stdout",
     "output_type": "stream",
     "text": [
      "but with your own words , or a favorite saying\n",
      "converted to <type 'str'> from <type 'list'>\n"
     ]
    }
   ],
   "source": [
    "my_sent = [\"but\", \"with\", \"your\", \"own\", \"words\", \",\", \"or\", \"a\", \"favorite\", \"saying\"]\n",
    "joined = ' '.join(my_sent)\n",
    "print joined\n",
    "print \"converted to\", type(joined), \"from\", type(my_sent)"
   ]
  },
  {
   "cell_type": "markdown",
   "metadata": {},
   "source": [
    "b. Use **split()** to split the string back into the list form you had to start with."
   ]
  },
  {
   "cell_type": "code",
   "execution_count": 24,
   "metadata": {
    "collapsed": false
   },
   "outputs": [
    {
     "name": "stdout",
     "output_type": "stream",
     "text": [
      "['but', 'with', 'your', 'own', 'words', ',', 'or', 'a', 'favorite', 'saying']\n",
      "['but', 'with', 'your', 'own', 'words', ',', 'or', 'a', 'favorite', 'saying']\n",
      "converted to <type 'list'> from <type 'str'>\n"
     ]
    }
   ],
   "source": [
    "splitted = joined.split()\n",
    "splitted_with_arg = joined.split(' ')\n",
    "print splitted\n",
    "print splitted_with_arg # space is the default to split on\n",
    "print \"converted to\", type(splitted), \"from\", type(joined)"
   ]
  },
  {
   "cell_type": "markdown",
   "metadata": {},
   "source": [
    "11) Define several variables containing lists of words, e.g., **phrase1, phrase2**, and so on. Join them together in various combinations (using the plus operator) to form whole sentences. What is the relationship between **len(phrase1 + phrase2**) and **len(phrase1) + len(phrase2)**?"
   ]
  },
  {
   "cell_type": "code",
   "execution_count": 25,
   "metadata": {
    "collapsed": false
   },
   "outputs": [
    {
     "name": "stdout",
     "output_type": "stream",
     "text": [
      "9\n",
      "9\n"
     ]
    }
   ],
   "source": [
    "phrase1 = [\"Jeg\", \"snakker\", \"lidt\", \"dansk\"] # 4\n",
    "phrase2 = [\"Men\", \"min\", \"engelsk\", \"er\", \"bedre\"] # 5\n",
    "\n",
    "print len(phrase1 + phrase2)\n",
    "print len(phrase1) + len(phrase2)"
   ]
  },
  {
   "cell_type": "markdown",
   "metadata": {},
   "source": [
    "* **len(phrase1 + phrase2)** both lists are merged into one and the length is taken (length of 9 elements)\n",
    "* **len(phrase1) + len(phrase2)** both lists are taken seperatly and the number of the sum of both list lengths is printed (length of 4 elements plus length of 5 elements)"
   ]
  },
  {
   "cell_type": "markdown",
   "metadata": {},
   "source": [
    "12) Consider the following two expressions, which have the same value. Which one will typically be more relevant in NLP? Why?"
   ]
  },
  {
   "cell_type": "markdown",
   "metadata": {},
   "source": [
    "a) **\"Monty Python\"[6:12]**"
   ]
  },
  {
   "cell_type": "code",
   "execution_count": 26,
   "metadata": {
    "collapsed": false
   },
   "outputs": [
    {
     "name": "stdout",
     "output_type": "stream",
     "text": [
      "Python\n"
     ]
    }
   ],
   "source": [
    "print \"Monty Python\"[6:12]"
   ]
  },
  {
   "cell_type": "markdown",
   "metadata": {},
   "source": [
    "b) **\\[\"Monty\", \"Python\"\\][1]**"
   ]
  },
  {
   "cell_type": "code",
   "execution_count": 27,
   "metadata": {
    "collapsed": false
   },
   "outputs": [
    {
     "name": "stdout",
     "output_type": "stream",
     "text": [
      "Python\n"
     ]
    }
   ],
   "source": [
    "print [\"Monty\", \"Python\"][1]"
   ]
  },
  {
   "cell_type": "markdown",
   "metadata": {},
   "source": [
    "Strings are also iterable so version a) prints the characters on the index position 6 to 12. (\"Monty \" are the characters from 0 to 5 [remember the space is also a char]). Version b) on the contrary has every word as list item and prints the second element with index 1 which makes it more relevant for NLP because only complete words that are listed are interesting."
   ]
  },
  {
   "cell_type": "markdown",
   "metadata": {},
   "source": [
    "> * Work through exercise 15, 17, 19, 22, 23, 26, 27, 28 in section 1.8\\. "
   ]
  },
  {
   "cell_type": "markdown",
   "metadata": {},
   "source": [
    "15) Review the discussion of conditionals in Section 1.4. Find all words in the Chat Corpus (**text5**) starting with the letter b. Show them in alphabetical order."
   ]
  },
  {
   "cell_type": "code",
   "execution_count": 28,
   "metadata": {
    "collapsed": false
   },
   "outputs": [
    {
     "name": "stdout",
     "output_type": "stream",
     "text": [
      "[u'b', u'b-day', u'b/c', u'b4', u'babay', u'babble', u'babblein', u'babe', u'babes', u'babi', u'babies', u'babiess', u'baby', u'babycakeses', u'bachelorette']\n"
     ]
    }
   ],
   "source": [
    "b_words = [w for w in text5 if w.startswith('b')]\n",
    "print sorted(set(b_words))[0:15] # sorting standard is alphabetical order"
   ]
  },
  {
   "cell_type": "markdown",
   "metadata": {},
   "source": [
    "17) Use **text9.index()** to find the index of the word _sunset_. You'll need to insert this word as an argument between the parentheses. By a process of trial and error, find the slice for the complete sentence that contains this word."
   ]
  },
  {
   "cell_type": "code",
   "execution_count": 29,
   "metadata": {
    "collapsed": false
   },
   "outputs": [
    {
     "name": "stdout",
     "output_type": "stream",
     "text": [
      "index of sunset: 629\n",
      "list from start dot to end dot: [u'.', u'CHAPTER', u'I', u'THE', u'TWO', u'POETS', u'OF', u'SAFFRON', u'PARK', u'THE', u'suburb', u'of', u'Saffron', u'Park', u'lay', u'on', u'the', u'sunset', u'side', u'of', u'London', u',', u'as', u'red', u'and', u'ragged', u'as', u'a', u'cloud', u'of', u'sunset', u'.']\n",
      "CHAPTER I THE TWO POETS OF SAFFRON PARK THE suburb of Saffron Park lay on the sunset side of London , as red and ragged as a cloud of sunset .\n"
     ]
    }
   ],
   "source": [
    "print \"index of sunset:\", text9.index('sunset')\n",
    "\n",
    "# try and error\n",
    "print \"list from start dot to end dot:\", text9[612:644]\n",
    "\n",
    "# or find the dot before and after the word\n",
    "sunset_idx = text9.index('sunset')\n",
    "for idx, w in enumerate(text9[sunset_idx:]):\n",
    "    if w == '.':\n",
    "        sent_end_idx = sunset_idx+idx+1 # +1 to make the dot part of the sentence\n",
    "        break\n",
    "        \n",
    "for idx, w in enumerate(reversed(text9[:sunset_idx])):\n",
    "    if w == '.':\n",
    "        sent_start_idx = sunset_idx-idx\n",
    "        break\n",
    "\n",
    "print ' '.join(text9[sent_start_idx:sent_end_idx])"
   ]
  },
  {
   "cell_type": "markdown",
   "metadata": {},
   "source": [
    "19) What is the difference between the following two lines? Which one will give a larger value? Will this be the case for other texts?\n",
    "\n",
    "    >>> sorted(set([w.lower() for w in text1]))\n",
    "    >>> sorted([w.lower() for w in set(text1)])"
   ]
  },
  {
   "cell_type": "code",
   "execution_count": 30,
   "metadata": {
    "collapsed": false
   },
   "outputs": [
    {
     "name": "stdout",
     "output_type": "stream",
     "text": [
      "[u'zephyr', u'zeuglodon', u'zig', u'zodiac', u'zogranda', u'zone', u'zoned', u'zones', u'zoology'] <type 'list'>\n",
      "['a', 'h']\n"
     ]
    }
   ],
   "source": [
    "try_this = ['H', 'A', 'H', 'a', 'h', 'a', 'a']\n",
    "\n",
    "version1 = sorted(set([w.lower() for w in text1]))[-10:-1]\n",
    "print version1, type(version1)\n",
    "print sorted(set([w.lower() for w in try_this]))"
   ]
  },
  {
   "cell_type": "code",
   "execution_count": 31,
   "metadata": {
    "collapsed": false
   },
   "outputs": [
    {
     "name": "stdout",
     "output_type": "stream",
     "text": [
      "[u'zodiac', u'zodiac', u'zogranda', u'zone', u'zoned', u'zoned', u'zones', u'zoology', u'zoology'] <type 'list'>\n",
      "['a', 'a', 'h', 'h']\n"
     ]
    }
   ],
   "source": [
    "version2 = sorted([w.lower() for w in set(text1)])[-10:-1]\n",
    "print version2, type(version2)\n",
    "print sorted([w.lower() for w in set(try_this)])"
   ]
  },
  {
   "cell_type": "markdown",
   "metadata": {},
   "source": [
    "By simply working from the functions inside the parenthesis to the outside one can conclude:\n",
    "* The first version lowercases all words in **text1**, then creates a set with the lowercased words and after sorts the set.\n",
    "* The second version immediately creates a set out of all words and then after first lowercases all elements of the list that is then sorted\n",
    "* The set in version 2 contains lowercase and uppercase words, the list with all lowercased elements has therefor double elements. This can not be seen when using only showing a few elements of the list.\n",
    "* There is a smaller example to demonstrate the behavior"
   ]
  },
  {
   "cell_type": "markdown",
   "metadata": {},
   "source": [
    "22) Find all the four-letter words in the Chat Corpus (**text5**). With the help of a frequency distribution (**FreqDist**), show these words in decreasing order of frequency."
   ]
  },
  {
   "cell_type": "code",
   "execution_count": 32,
   "metadata": {
    "collapsed": false
   },
   "outputs": [
    {
     "name": "stdout",
     "output_type": "stream",
     "text": [
      "[(u'JOIN', 1021), (u'PART', 1016), (u'that', 274), (u'what', 183), (u'here', 181), (u'....', 170), (u'have', 164), (u'like', 156), (u'with', 152), (u'chat', 142)]\n"
     ]
    }
   ],
   "source": [
    "four_letters = [w for w in text5 if len(w) == 4]\n",
    "print FreqDist(four_letters).most_common()[0:10] # decrease in frequency"
   ]
  },
  {
   "cell_type": "markdown",
   "metadata": {},
   "source": [
    "23) Review the discussion of looping with conditions in Section 1.4. Use a combination of **for** and **if** statements to loop over the words of the movie script for _Monty Python and the Holy Grail_ (**text6**) and print all the uppercase words, one per line."
   ]
  },
  {
   "cell_type": "code",
   "execution_count": 33,
   "metadata": {
    "collapsed": false,
    "scrolled": true
   },
   "outputs": [
    {
     "name": "stdout",
     "output_type": "stream",
     "text": [
      "SCENE\n",
      "KING\n",
      "ARTHUR\n",
      "SOLDIER\n",
      "ARTHUR\n",
      "I\n",
      "SOLDIER\n",
      "ARTHUR\n",
      "I\n",
      "I\n"
     ]
    }
   ],
   "source": [
    "cnt = 0\n",
    "for w in text6:\n",
    "    if w.isupper():\n",
    "        print w\n",
    "        cnt += 1 # uncomment the following lines  if you really want to print all words\n",
    "        if cnt > 9:\n",
    "            break"
   ]
  },
  {
   "cell_type": "markdown",
   "metadata": {},
   "source": [
    "26) What does the following Python code do? \n",
    "   \n",
    "    sum([len(w) for w in text1]) \n",
    "   \n",
    "Can you use it to work out the average word length of a text?"
   ]
  },
  {
   "cell_type": "code",
   "execution_count": 34,
   "metadata": {
    "collapsed": false
   },
   "outputs": [
    {
     "name": "stdout",
     "output_type": "stream",
     "text": [
      "sum over all words lengths = 999044\n",
      "average word length = 3.83041112802\n"
     ]
    }
   ],
   "source": [
    "word_lengths = [len(w) for w in text1]\n",
    "sum_word_lenghts = sum(word_lengths)\n",
    "\n",
    "print \"sum over all words lengths =\", sum_word_lenghts\n",
    "print \"average word length =\", sum_word_lenghts/len(word_lengths)"
   ]
  },
  {
   "cell_type": "markdown",
   "metadata": {},
   "source": [
    "* The expression iterates over all words in **text1**. Each words length (e.g.: 'hello' has length 5) is saved into a new list. Each number in the new list is summed which results in a single number.\n",
    "* The average in colloquial language is specified as the sum of a list of numbers divided by the number of numbers in the list ([by wikipedia](https://en.wikipedia.org/wiki/Average)). That's exactly what can be calculated in the cell above."
   ]
  },
  {
   "cell_type": "markdown",
   "metadata": {},
   "source": [
    "27) Define a function called **vocab_size(text)** that has a single parameter for the text, and which returns the vocabulary size of the text."
   ]
  },
  {
   "cell_type": "code",
   "execution_count": 35,
   "metadata": {
    "collapsed": true
   },
   "outputs": [],
   "source": [
    "def vocab_size(text):\n",
    "    # isalpha - tests if all characters are alphabetic\n",
    "    return len(set([w.lower() for w in text if w.isalpha()]))"
   ]
  },
  {
   "cell_type": "code",
   "execution_count": 36,
   "metadata": {
    "collapsed": false
   },
   "outputs": [
    {
     "name": "stdout",
     "output_type": "stream",
     "text": [
      "Vocabulary size of text1 = 16948\n"
     ]
    }
   ],
   "source": [
    "print \"Vocabulary size of text1 =\", vocab_size(text1)"
   ]
  },
  {
   "cell_type": "markdown",
   "metadata": {},
   "source": [
    "28) Define a function **percent(word, text)** that calculates how often a given word occurs in a text and expresses the result as a percentage."
   ]
  },
  {
   "cell_type": "code",
   "execution_count": 37,
   "metadata": {
    "collapsed": false
   },
   "outputs": [],
   "source": [
    "def percent(word, text):\n",
    "    return str((100 * text.count(word)) / len(text)) + '%'"
   ]
  },
  {
   "cell_type": "code",
   "execution_count": 38,
   "metadata": {
    "collapsed": false
   },
   "outputs": [
    {
     "name": "stdout",
     "output_type": "stream",
     "text": [
      "What is the percentage of 'the' appearing in text1: 5.26073637273%\n"
     ]
    }
   ],
   "source": [
    "print \"What is the percentage of 'the' appearing in text1:\", percent('the', text1)"
   ]
  },
  {
   "cell_type": "markdown",
   "metadata": {},
   "source": [
    "# Working with NLTK and other types of text\n",
    "\n",
    "So far, we've worked with text from Wikipedia. But that's not the only source of text in the universe. In fact, it's far from it. Chapter 2 in NLPP1e is all about getting access to nicely curated texts that you can find built into NLTK. \n",
    "> \n",
    "> _Reading_: NLPP1e Chapter 2.1 - 2.4\\.\n",
    "> "
   ]
  },
  {
   "cell_type": "markdown",
   "metadata": {},
   "source": [
    "> _Exercises_: NLPP1e Chapter 2\\.\n",
    "> \n",
    "> * Solve exercise 4, 8, 11, 15, 16, 17, 18 in NLPP1e, section 2.8\\. As always, I recommend you write up your solutions nicely in a `notebook`."
   ]
  },
  {
   "cell_type": "markdown",
   "metadata": {},
   "source": [
    "4) Read in the texts of the State of the Union addresses, using the **state_union** corpus reader. Count occurrences of **men**, **women**, and **people** in each document. What has happened to the usage of these words over time?"
   ]
  },
  {
   "cell_type": "code",
   "execution_count": 39,
   "metadata": {
    "collapsed": false
   },
   "outputs": [
    {
     "data": {
      "image/png": "[encoded data removed]",
      "text/plain": [
       "<matplotlib.figure.Figure at 0x7f89fc02d550>"
      ]
     },
     "metadata": {},
     "output_type": "display_data"
    }
   ],
   "source": [
    "from nltk.corpus import state_union\n",
    "\n",
    "# counts - word occurences\n",
    "# samples[:4] - for year\n",
    "cfd = nltk.ConditionalFreqDist(\n",
    "    (counts, samples[:4]) # (y, x)\n",
    "    for samples in state_union.fileids()\n",
    "    for w in state_union.words(samples)\n",
    "    for counts in ['men', 'women', 'people']\n",
    "    if w.lower().startswith(counts))\n",
    "cfd.plot()"
   ]
  },
  {
   "cell_type": "markdown",
   "metadata": {},
   "source": [
    "In the earlier years men where mentioned more often than women but starting in the 1970's the counts for men and women in the **state_union** documents evened out. Thee only relation between men and women and the people curve is that in the early years the spikes for counts appear where there is also spikes for men and women. The relational spikes also disappeared in the 1970's."
   ]
  },
  {
   "cell_type": "markdown",
   "metadata": {},
   "source": [
    "8) Define a conditional frequency distribution over the Names Corpus that allows you to see which initial letters are more frequent for males versus females (see Figure 2-7)."
   ]
  },
  {
   "cell_type": "code",
   "execution_count": 40,
   "metadata": {
    "collapsed": false
   },
   "outputs": [
    {
     "data": {
      "image/png": "[encoded data removed]",
      "text/plain": [
       "<matplotlib.figure.Figure at 0x7f89f9489c10>"
      ]
     },
     "metadata": {},
     "output_type": "display_data"
    },
    {
     "name": "stdout",
     "output_type": "stream",
     "text": [
      "male starting letter distribution: [(u'A', 213), (u'C', 166), (u'B', 173), (u'E', 119), (u'D', 146), (u'G', 156), (u'F', 87), (u'I', 45), (u'H', 163), (u'K', 70), (u'J', 144), (u'M', 200), (u'L', 113), (u'O', 52), (u'N', 77), (u'Q', 15), (u'P', 101), (u'S', 238), (u'R', 200), (u'U', 22), (u'T', 188), (u'W', 151), (u'V', 50), (u'Y', 16), (u'X', 7), (u'Z', 31)]\n",
      "female starting letter distribution: [(u'A', 443), (u'C', 469), (u'B', 246), (u'E', 251), (u'D', 308), (u'G', 213), (u'F', 144), (u'I', 83), (u'H', 124), (u'K', 276), (u'J', 293), (u'M', 484), (u'L', 332), (u'O', 66), (u'N', 158), (u'Q', 9), (u'P', 121), (u'S', 309), (u'R', 247), (u'U', 14), (u'T', 198), (u'W', 54), (u'V', 105), (u'Y', 18), (u'X', 5), (u'Z', 31)]\n"
     ]
    }
   ],
   "source": [
    "from nltk.corpus import names\n",
    "\n",
    "cfd = nltk.ConditionalFreqDist(\n",
    "    (fileid.split('.')[0], target[0]) \n",
    "    for fileid in names.fileids()\n",
    "    for target in names.words(fileid))\n",
    "cfd.plot()\n",
    "\n",
    "for key, val in cfd.iteritems():\n",
    "    print key, \"starting letter distribution:\", val.items()"
   ]
  },
  {
   "cell_type": "markdown",
   "metadata": {},
   "source": [
    "11) Investigate the table of modal distributions and look for other patterns. Try to explain them in terms of your own impressionistic understanding of the different genres. Can you find other closed classes of words that exhibit significant differences across different genres?"
   ]
  },
  {
   "cell_type": "code",
   "execution_count": 41,
   "metadata": {
    "collapsed": false
   },
   "outputs": [
    {
     "name": "stdout",
     "output_type": "stream",
     "text": [
      "                  can could   may might  must  will \n",
      "      adventure    48   154     7    59    27    51 \n",
      " belles_lettres   249   216   221   113   171   246 \n",
      "      editorial   124    57    79    39    55   235 \n",
      "        fiction    39   168    10    44    55    56 \n",
      "     government   119    38   179    13   102   244 \n",
      "        hobbies   276    59   143    22    84   269 \n",
      "          humor    17    33     8     8     9    13 \n",
      "        learned   367   159   336   128   203   340 \n",
      "           lore   170   142   170    50    96   178 \n",
      "        mystery    45   145    15    57    31    25 \n",
      "           news    94    87    93    38    53   389 \n",
      "       religion    84    59    79    12    54    72 \n",
      "        reviews    45    40    47    26    19    61 \n",
      "        romance    79   195    11    51    46    49 \n",
      "science_fiction    16    49     4    12     8    17 \n"
     ]
    }
   ],
   "source": [
    "# Table 2-1 page 43 for modals\n",
    "cfd = nltk.ConditionalFreqDist(\n",
    "    (genre, word.lower())\n",
    "    for genre in brown.categories()\n",
    "    for word in brown.words(categories=genre))\n",
    "genres = brown.categories()\n",
    "modals = ['can', 'could', 'may', 'might', 'must', 'will'] # page 43\n",
    "cfd.tabulate(conditions=genres, samples=modals)"
   ]
  },
  {
   "cell_type": "markdown",
   "metadata": {},
   "source": [
    "Compared to the example in the book all words where also lowercased, thus some different counts can appear. The genres 'belles_lettres' and 'learned' have a much higher usage of modal verbs in general:\n",
    "* 'learned' contains: Probability with Statistical Applications by Frederick Mosteller and the content is about the theroy of probability - the mathematics of uncertainty. Uncertainty is always expressed with modal verbs.\n",
    "* 'belles_lettres' contains: Coping with Runaway Technology by Kenneth Reiner which is a ethical outlook. In philosophy there is probably a high usage of modal verbs."
   ]
  },
  {
   "cell_type": "code",
   "execution_count": 42,
   "metadata": {
    "collapsed": false
   },
   "outputs": [
    {
     "name": "stdout",
     "output_type": "stream",
     "text": [
      "                  ain't  reckon    damn   jesus   bitch bastard    hell \n",
      "      adventure      21       4       6       0       4       3      18 \n",
      " belles_lettres       1       1       0       5       0       0       8 \n",
      "      editorial       0       0       0      14       0       0       1 \n",
      "        fiction       6       0       8       9       0       5      24 \n",
      "     government       0       0       0       0       0       0       0 \n",
      "        hobbies       0       1       0       0       0       0       0 \n",
      "          humor       2       0       2       0       0       0       3 \n",
      "        learned       0       0       0       0       0       0       0 \n",
      "           lore       1       0       0       0       0       0       6 \n",
      "        mystery      10       1       9       0       2       2      15 \n",
      "           news       1       0       0       1       0       0       0 \n",
      "       religion       0       0       0      33       0       0       3 \n",
      "        reviews       0       0       0       0       0       0       1 \n",
      "        romance       4       0       7       1       0       2      13 \n",
      "science_fiction       0       0       0       0       0       0       3 \n"
     ]
    }
   ],
   "source": [
    "colloquial_terms = ['ain\\'t', 'reckon', 'damn', 'jesus', 'bitch', 'bastard', 'hell']\n",
    "cfd.tabulate(conditions=genres, samples=colloquial_terms)"
   ]
  },
  {
   "cell_type": "markdown",
   "metadata": {},
   "source": [
    "It can be observed that the adventure, fiction and mystery genre is more frequently using all sorts of colloquial terms. The terms 'jesus' and 'hell' probably have a different meaning in the category religion ;-)"
   ]
  },
  {
   "cell_type": "markdown",
   "metadata": {},
   "source": [
    "15) Write a program to find all words that occur at least three times in the Brown Corpus."
   ]
  },
  {
   "cell_type": "code",
   "execution_count": 43,
   "metadata": {
    "collapsed": false
   },
   "outputs": [],
   "source": [
    "brown_words = [w.lower() for w in brown.words() if w.isalpha()]\n",
    "unique_words = set(brown_words)\n",
    "cnt = Counter(brown_words) # fastest\n",
    "\n",
    "# build list with counted words occuring three times\n",
    "occur_3times = [(w, cnt[w]) for w in unique_words if cnt[w] >= 3]"
   ]
  },
  {
   "cell_type": "code",
   "execution_count": 44,
   "metadata": {
    "collapsed": false,
    "format": "row"
   },
   "outputs": [
    {
     "name": "stdout",
     "output_type": "stream",
     "text": [
      "brown corpus number of:\n",
      "* words occuring at least three times = 18954\n",
      "* unique words = 40234\n",
      "* alphabetic words = 981716\n",
      "* total words = 1161192\n",
      "\n",
      "top 50 words that appear three times:  [(u'the', 69971), (u'of', 36412), (u'and', 28853), (u'to', 26158), (u'a', 23195), (u'in', 21337), (u'that', 10594), (u'is', 10109), (u'was', 9815), (u'he', 9548), (u'for', 9489), (u'it', 8760), (u'with', 7289), (u'as', 7253), (u'his', 6996), (u'on', 6741), (u'be', 6377), (u'at', 5372), (u'by', 5306), (u'i', 5164), (u'this', 5145), (u'had', 5133), (u'not', 4610), (u'are', 4394), (u'but', 4381), (u'from', 4370), (u'or', 4206), (u'have', 3942), (u'an', 3740), (u'they', 3620), (u'which', 3561), (u'one', 3292), (u'you', 3286), (u'were', 3284), (u'her', 3036), (u'all', 3001), (u'she', 2860), (u'there', 2728), (u'would', 2714), (u'their', 2669), (u'we', 2652), (u'him', 2619), (u'been', 2472), (u'has', 2437), (u'when', 2331), (u'who', 2252), (u'will', 2245), (u'more', 2215), (u'if', 2198), (u'no', 2139)]\n"
     ]
    }
   ],
   "source": [
    "print \"brown corpus number of:\\n* words occuring at least three times = {0}\\n* unique words = {1}\\n* alphabetic words = {2}\\n* total words = {3}\".format(\n",
    "    len(occur_3times), len(unique_words), len(brown_words), len(brown.words()))\n",
    "print \"\\ntop 50 words that appear three times: \", sorted(occur_3times, key=lambda tup: tup[1], reverse=True)[0:50]"
   ]
  },
  {
   "cell_type": "markdown",
   "metadata": {},
   "source": [
    "16) Write a program to generate a table of lexical diversity scores (i.e., token/type ratios), as we saw in Table 1-1. Include the full set of Brown Corpus genres (**nltk.corpus.brown.categories()**). Which genre has the lowest diversity (greatest number of tokens per type)? Is this what you would have expected?"
   ]
  },
  {
   "cell_type": "code",
   "execution_count": 45,
   "metadata": {
    "collapsed": false,
    "scrolled": true
   },
   "outputs": [
    {
     "name": "stdout",
     "output_type": "stream",
     "text": [
      "stats for:  adventure\n",
      "total words: 69342\n",
      "unique words: 8874\n",
      "lexical diversity: 7.81406355646 \n",
      "\n",
      "stats for:  belles_lettres\n",
      "total words: 173096\n",
      "unique words: 18421\n",
      "lexical diversity: 9.39666684762 \n",
      "\n",
      "stats for:  editorial\n",
      "total words: 61604\n",
      "unique words: 9890\n",
      "lexical diversity: 6.22891809909 \n",
      "\n",
      "stats for:  fiction\n",
      "total words: 68488\n",
      "unique words: 9302\n",
      "lexical diversity: 7.36271769512 \n",
      "\n",
      "stats for:  government\n",
      "total words: 70117\n",
      "unique words: 8181\n",
      "lexical diversity: 8.57071262682 \n",
      "\n",
      "stats for:  hobbies\n",
      "total words: 82345\n",
      "unique words: 11935\n",
      "lexical diversity: 6.89945538333 \n",
      "\n",
      "stats for:  humor\n",
      "total words: 21695\n",
      "unique words: 5017\n",
      "lexical diversity: 4.32429738888 \n",
      "\n",
      "stats for:  learned\n",
      "total words: 181888\n",
      "unique words: 16859\n",
      "lexical diversity: 10.7887775076 \n",
      "\n",
      "stats for:  lore\n",
      "total words: 110299\n",
      "unique words: 14503\n",
      "lexical diversity: 7.60525408536 \n",
      "\n",
      "stats for:  mystery\n",
      "total words: 57169\n",
      "unique words: 6982\n",
      "lexical diversity: 8.18805499857 \n",
      "\n",
      "stats for:  news\n",
      "total words: 100554\n",
      "unique words: 14394\n",
      "lexical diversity: 6.9858274281 \n",
      "\n",
      "stats for:  religion\n",
      "total words: 39399\n",
      "unique words: 6373\n",
      "lexical diversity: 6.18217479994 \n",
      "\n",
      "stats for:  reviews\n",
      "total words: 40704\n",
      "unique words: 8626\n",
      "lexical diversity: 4.71875724554 \n",
      "\n",
      "stats for:  romance\n",
      "total words: 70022\n",
      "unique words: 8452\n",
      "lexical diversity: 8.28466635116 \n",
      "\n",
      "stats for:  science_fiction\n",
      "total words: 14470\n",
      "unique words: 3233\n",
      "lexical diversity: 4.4757191463 \n",
      "\n"
     ]
    }
   ],
   "source": [
    "lds = dict()\n",
    "for cat in brown.categories():\n",
    "    lds[cat] = lexical_diversity(nltk.Text(brown.words(categories=cat), name=cat))"
   ]
  },
  {
   "cell_type": "code",
   "execution_count": 46,
   "metadata": {
    "collapsed": false
   },
   "outputs": [
    {
     "name": "stdout",
     "output_type": "stream",
     "text": [
      "category humor has lowest diversity with 4.32429738888\n"
     ]
    }
   ],
   "source": [
    "lowest_div_k = min(lds, key=lds.get)\n",
    "print \"category\", lowest_div_k, \"has lowest diversity with\", lds[lowest_div_k]"
   ]
  },
  {
   "cell_type": "markdown",
   "metadata": {},
   "source": [
    "Actually that is not what I would have expected. I thought the diversity might be higher in religion which has a comparable number of unique words (types) 5017 (humor) and 6982 (religion) but religion has almost twice as many total words (tokens) 39399 vs. 21695."
   ]
  },
  {
   "cell_type": "markdown",
   "metadata": {},
   "source": [
    "17) Write a function that finds the 50 most frequently occurring words of a text that are not stopwords."
   ]
  },
  {
   "cell_type": "code",
   "execution_count": 47,
   "metadata": {
    "collapsed": false
   },
   "outputs": [],
   "source": [
    "from nltk.corpus import nps_chat\n",
    "\n",
    "chat = [w for w in nps_chat.words() if w.isalpha() and w.lower() not in stopwords.words('english')]\n",
    "freq_dist = nltk.FreqDist(chat)"
   ]
  },
  {
   "cell_type": "code",
   "execution_count": 48,
   "metadata": {
    "collapsed": false
   },
   "outputs": [
    {
     "name": "stdout",
     "output_type": "stream",
     "text": [
      "nps_chat corpus number of:\n",
      "* total words = 45010\n",
      "* alphabetic words = 21235\n",
      "* frequent words = 5035\n",
      "\n",
      "top 50 frequent words [(u'JOIN', 1021), (u'PART', 1016), (u'lol', 704), (u'hi', 546), (u'ACTION', 346), (u'hey', 264), (u'u', 200), (u'like', 156), (u'chat', 142), (u'good', 130), (u'im', 128), (u'pm', 108), (u'lmao', 107), (u'wanna', 107), (u'Hi', 104), (u'know', 103), (u'get', 102), (u'ya', 100), (u'room', 98), (u'ok', 96), (u'wb', 91), (u'LOL', 87), (u'one', 87), (u'well', 81), (u'oh', 79), (u'hiya', 78), (u'back', 78), (u'yeah', 75), (u'dont', 75), (u'see', 75), (u'go', 73), (u'want', 71), (u'hello', 71), (u'yes', 69), (u'ty', 69), (u'got', 68), (u'everyone', 63), (u'love', 60), (u'guys', 58), (u'talk', 56), (u'right', 54), (u'think', 54), (u'would', 53), (u'nice', 52), (u'thanks', 50), (u'time', 50), (u'anyone', 50), (u'girls', 48), (u'never', 45), (u'thats', 45)]\n"
     ]
    }
   ],
   "source": [
    "print \"nps_chat corpus number of:\\n* total words = {0}\\n* alphabetic words = {1}\\n* frequent words = {2}\".format(\n",
    "    len(nps_chat.words()), len(chat), len(freq_dist))\n",
    "print \"\\ntop 50 frequent words\", freq_dist.most_common(50)"
   ]
  },
  {
   "cell_type": "markdown",
   "metadata": {},
   "source": [
    "18) Write a program to print the 50 most frequent bigrams (pairs of adjacent words) of a text, omitting bigrams that contain stopwords."
   ]
  },
  {
   "cell_type": "code",
   "execution_count": 49,
   "metadata": {
    "collapsed": false
   },
   "outputs": [
    {
     "name": "stdout",
     "output_type": "stream",
     "text": [
      "[((u'PART', u'JOIN'), 203), ((u'JOIN', u'PART'), 145), ((u'PART', u'PART'), 125), ((u'JOIN', u'JOIN'), 112), ((u'hi', u'hi'), 81), ((u'wanna', u'chat'), 58), ((u'JOIN', u'hi'), 50), ((u'lol', u'PART'), 44), ((u'lol', u'JOIN'), 44), ((u'lol', u'lol'), 42), ((u'lol', u'hi'), 41), ((u'hi', u'JOIN'), 39), ((u'PART', u'hi'), 38), ((u'PART', u'lol'), 36), ((u'JOIN', u'ACTION'), 35), ((u'hi', u'PART'), 32), ((u'JOIN', u'lol'), 29), ((u'PART', u'ACTION'), 27), ((u'PART', u'hey'), 25), ((u'JOIN', u'MODE'), 24), ((u'hi', u'lol'), 24), ((u'pm', u'u'), 23), ((u'ACTION', u'watches'), 21), ((u'JOIN', u'hey'), 20), ((u'hey', u'hi'), 20), ((u'hi', u'hey'), 20), ((u'want', u'chat'), 19), ((u'hey', u'PART'), 17), ((u'guys', u'wanna'), 17), ((u'tryin', u'chat'), 16), ((u'u', u'tryin'), 16), ((u'Hi', u'hi'), 15), ((u'chat', u'pm'), 15), ((u'lol', u'ACTION'), 14), ((u'JOIN', u'wb'), 14), ((u'hi', u'hiya'), 14), ((u'lol', u'hey'), 14), ((u'r', u'u'), 14), ((u'dont', u'know'), 14), ((u'ACTION', u'sits'), 13), ((u'hi', u'Hi'), 13), ((u'hey', u'hey'), 12), ((u'la', u'la'), 12), ((u'hi', u'wb'), 12), ((u'hi', u'everyone'), 12), ((u'hey', u'JOIN'), 12), ((u'hi', u'ACTION'), 12), ((u'see', u'ya'), 11), ((u'anyone', u'wanna'), 11), ((u'girls', u'wanna'), 11)]\n"
     ]
    }
   ],
   "source": [
    "def frequent_bigram(words, n):\n",
    "    content = [w for w in words if w.isalpha() and w.lower() not in stopwords.words('english')]\n",
    "    return nltk.FreqDist(nltk.bigrams(content)).most_common(n)\n",
    "\n",
    "print frequent_bigram(nps_chat.words(), 50)"
   ]
  },
  {
   "cell_type": "markdown",
   "metadata": {},
   "source": [
    "> * Work through exercise 2.8.23 on Zipf's law."
   ]
  },
  {
   "cell_type": "markdown",
   "metadata": {
    "collapsed": true
   },
   "source": [
    "23) **Zipf's Law**: Let $f(w)$ be the frequency of a word $w$ in free text. Suppose that all the words of a text are ranked according to their frequency, with the most frequent word first. Zipf's Law states that the frequency of a word type is inversely proportional to its rank (i.e., $f \\times r = k$, for some constant $k$). For example, the 50th most common word type should occur three times as frequently as the 150th most common word type.\n",
    "\n",
    "a) Write a function to process a large text and plot word frequency against word rank using **pylab.plot**. Do you confirm Zipf's law? (Hint: it helps to use a logarithmic scale.) What is going on at the extreme ends of the plotted line?"
   ]
  },
  {
   "cell_type": "code",
   "execution_count": 50,
   "metadata": {
    "collapsed": false,
    "scrolled": true
   },
   "outputs": [
    {
     "name": "stdout",
     "output_type": "stream",
     "text": [
      "50th and 150th most common word: (u'out', 2097) (u'states', 603)\n",
      "150th most common word type times three: 1809\n",
      "First three most frequent elements: (u'the', 69971) (u'of', 36412) (u'to', 26158)\n",
      "Last three most frequent elements: (u'jawbone', 1) (u'northerly', 1) (u'mosaics', 1)\n",
      "\n",
      "scale printed: x = log(1), y = log(69971)\n"
     ]
    },
    {
     "data": {
      "image/png": "[encoded data removed]",
      "text/plain": [
       "<matplotlib.figure.Figure at 0x7f89f2d2f310>"
      ]
     },
     "metadata": {},
     "output_type": "display_data"
    }
   ],
   "source": [
    "# function for Zipf's Law\n",
    "def f(w, title):\n",
    "    # all the words of a text are ranked according to their frequency\n",
    "    freq_dist = nltk.FreqDist(w)\n",
    "    rank = freq_dist.most_common(len(w))\n",
    "    \n",
    "    # some stats\n",
    "    print \"50th and 150th most common word:\", rank[50], rank[150]\n",
    "    print \"150th most common word type times three:\", rank[150][1]*3\n",
    "    print \"First three most frequent elements:\", rank[0], rank[1], rank[3]\n",
    "    print \"Last three most frequent elements:\", rank[-1], rank[-2], rank[-3]\n",
    "\n",
    "    ### plot\n",
    "    # x\n",
    "    rank_ord = xrange(1, len(rank)+1)\n",
    "    plt.xlabel('Rank order')\n",
    "    # y\n",
    "    freq_count = zip(*rank)[1] # only freq count\n",
    "    plt.ylabel('Frequent words (descending order)')\n",
    "    # draw\n",
    "    print \"\\nscale printed: x = log({0}), y = log({1})\".format(rank_ord[0], freq_count[0])\n",
    "    plt.loglog(rank_ord, freq_count)\n",
    "    plt.title(title)\n",
    "    plt.show()\n",
    "\n",
    "# take already cleaned brown_words\n",
    "f(brown_words, 'Zipf\\'s Law for brown corpus')"
   ]
  },
  {
   "cell_type": "markdown",
   "metadata": {},
   "source": [
    "Zipf's law can be confirmed for items apart from the low extreme end. The frequency of a word type is inversely proportional to its rank. It is also shown that the rank of the 50th most common word type ($f(w) = 2097$) is approximately three times higher than the rank ($f(w) = 603$) of the 150th most common word type ($3 \\times 603 = 1809$). For the upper end Zipf's law is true as well, the most frequent word occurs approximately twice as often as the second most frequent word and approximately three times as often as the third most frequent word.\n",
    "\n",
    "However at the low extreme end of the plotted line the graph is not inversely proportional. If that would be the case the graph would more flat at the end of the x-axis. The printed out last items show the problem. There is lots of frequent words in the end that nearly have the same rank."
   ]
  },
  {
   "cell_type": "markdown",
   "metadata": {},
   "source": [
    "b) Generate random text, e.g., using **random.choice(\"abcdefg \")**, taking care to include the space character. You will need to **import random** first. Use the string concatenation operator to accumulate characters into a (very) long string. Then tokenize this string, generate the Zipf plot as before, and compare the two plots. What do you make of Zipf’s Law in the light of this?"
   ]
  },
  {
   "cell_type": "code",
   "execution_count": 51,
   "metadata": {
    "collapsed": false,
    "scrolled": false
   },
   "outputs": [
    {
     "name": "stdout",
     "output_type": "stream",
     "text": [
      "50th and 150th most common word: ('ab', 218) ('aeg', 33)\n",
      "150th most common word type times three: 99\n",
      "First three most frequent elements: ('e', 1986) ('a', 1976) ('d', 1933)\n",
      "Last three most frequent elements: ('abagegdf', 1) ('fbdbedgabce', 1) ('feabcd', 1)\n",
      "\n",
      "scale printed: x = log(1), y = log(1986)\n"
     ]
    },
    {
     "data": {
      "image/png": "[encoded data removed]",
      "text/plain": [
       "<matplotlib.figure.Figure at 0x7f89f0475650>"
      ]
     },
     "metadata": {},
     "output_type": "display_data"
    }
   ],
   "source": [
    "long_str = ''\n",
    "for i in xrange(len(brown_words)): # same length as brown corpus\n",
    "    rand_char = random.choice('abcdefg ')\n",
    "    long_str += rand_char\n",
    "tokens = nltk.word_tokenize(long_str)\n",
    "\n",
    "f(tokens, 'Zipf\\'s Law for random tokenized letters')"
   ]
  },
  {
   "cell_type": "markdown",
   "metadata": {},
   "source": [
    "The plot with randomized letter combinations shows no correlation to Zipf's law. The short elements on the top are evenly ranked and the longer strings at the bottom that are less frequently are making up more percent of all tokenized letters than before."
   ]
  },
  {
   "cell_type": "markdown",
   "metadata": {},
   "source": [
    "[Zipf's law](https://en.wikipedia.org/wiki/Zipf%27s_law) connects to a property of the Barabasi-Albert networks. Which one?"
   ]
  },
  {
   "cell_type": "markdown",
   "metadata": {},
   "source": [
    "The property they both share is the power law according to both extreme ends. In Barabasi-Albert networks there is preferential attachment. When a new edge is created, it is more likely to connect to a vertex that already has a large number of edges. It is sort of a \"rich gets richer\" effect that is the same in Zipf's law with a highly ranked word on top.\n",
    "\n",
    "To recall Barabasi-Albert measure the degree (number of connections) of each node and compute $P(k)$, the probability that a vertex has degree $k$; then they plot $P(k)$ versus $k$ on a log-log scale. The tail of the plot fits a straight line, so they conclude that it obeys a power law; that is, as $k$ gets large, $P(k)$ is asymptotic to $k^{-\\gamma}$, where $\\gamma$ is a parameter that determines the rate of decay. Also at Zipf's law the tail more and more fits a straight line because there are many elements ranked at the bottom. [source](http://greenteapress.com/complexity/html/thinkcomplexity006.html)"
   ]
  },
  {
   "cell_type": "markdown",
   "metadata": {},
   "source": [
    "Take a look at [this article](http://www.hpl.hp.com/research/idl/papers/ranking/adamicglottometrics.pdf) and write a paragraph or two describing other important instances of power-laws found on the internet."
   ]
  },
  {
   "cell_type": "markdown",
   "metadata": {},
   "source": [
    "Apart from the internet as an example there are:\n",
    "* Gamma correction - A gamma characteristic is a power-law relationship that approximates the relationship between the encoded luma in a television system and the actual desired image luminance. [source](https://en.wikipedia.org/wiki/Gamma_correction)\n",
    "* SOA for power semiconductor devices (e.g.: MOSFET) - The safe operating area (SOA) is defined as the voltage and current conditions over which the device can be expected to operate without self-damage. [source](https://en.wikipedia.org/wiki/Safe_operating_area)\n",
    "* The 1% rule in internet culture -  States that only 1% of the users of a website actively create new content, while the other 99% of the participants only lurk. [source](https://en.wikipedia.org/wiki/1%25_rule_(Internet_culture))"
   ]
  }
 ],
 "metadata": {
  "anaconda-cloud": {},
  "kernelspec": {
   "display_name": "Python 2",
   "language": "python",
   "name": "python2"
  },
  "language_info": {
   "codemirror_mode": {
    "name": "ipython",
    "version": 2
   },
   "file_extension": ".py",
   "mimetype": "text/x-python",
   "name": "python",
   "nbconvert_exporter": "python",
   "pygments_lexer": "ipython2",
   "version": "2.7.12+"
  }
 },
 "nbformat": 4,
 "nbformat_minor": 1
}
